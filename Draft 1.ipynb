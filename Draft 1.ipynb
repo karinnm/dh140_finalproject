{
 "cells": [
  {
   "cell_type": "markdown",
   "id": "0ccb2884-91a8-4efb-96f9-aeac98c01967",
   "metadata": {},
   "source": [
    "Karinn Murdock"
   ]
  },
  {
   "cell_type": "markdown",
   "id": "752877cc-8571-4abf-ba85-81a02fbbf8ec",
   "metadata": {},
   "source": [
    "03/14/2022"
   ]
  },
  {
   "cell_type": "markdown",
   "id": "77fa2097-696f-42d1-ba02-7620bdbc312c",
   "metadata": {},
   "source": [
    "# Project Title "
   ]
  },
  {
   "cell_type": "markdown",
   "id": "e78e9be1-3c8b-48a0-82f1-29a6164fc1e2",
   "metadata": {},
   "source": [
    "## Introduction"
   ]
  },
  {
   "cell_type": "markdown",
   "id": "dec4c126-6f07-490b-889a-bd71e53b7739",
   "metadata": {},
   "source": [
    "### Research Question and Importance"
   ]
  },
  {
   "cell_type": "markdown",
   "id": "ac08635c-388f-4476-a01b-6b87f149009c",
   "metadata": {},
   "source": [
    "For my final project, I am exploring the music industry and how it has changed over the years. More specifically, I want to look at how music industry sales have changed in the past 40 years in terms of type of sales (CDs, paid subscription, etc). This topic is important in order to understand how the music industry sales have shifted and how customer preferences have changed. This topic is of interest to me as I'm extremely interested in the music industry and potentially working on the business side of the music industry after graduation. This topic is important to artists and companies within the industry as they must understand the current landscape and how to maximize sales and cater to customer's preferences. "
   ]
  },
  {
   "cell_type": "markdown",
   "id": "17a7a1b5-a70f-4f3f-9782-e2fdecf1dccd",
   "metadata": {},
   "source": [
    "### Data Source"
   ]
  },
  {
   "cell_type": "markdown",
   "id": "7d4abc2a-e7d2-4a8a-99de-7e3f21b0277a",
   "metadata": {},
   "source": [
    "The data source I will use to explore this question is a dataset on music industry sales over the past 40 years created by the Recording Industry Association of America (RIAA). According to RIAA, this is the most comprehensive data on U.S. recorded music revenues. This dataset goes all the way back to 1973 and lists format of sale, year of sale, and quantity of sale. A link to the dataset can be found here: https://data.world/makeovermonday/2020w21-visualizing-40-years-of-music-industry-sales"
   ]
  },
  {
   "cell_type": "markdown",
   "id": "ea088037-91b2-44a0-bd76-7c823fe25b76",
   "metadata": {},
   "source": [
    "### Analysis and Visualizations"
   ]
  },
  {
   "cell_type": "markdown",
   "id": "f5013cfe-7d2b-47d1-ad5f-8212c3c6d1a1",
   "metadata": {},
   "source": [
    "I chose this dataset as I intend to analyze how music industry sales have changed since 1973. I intend to analyze whether sales in general have increased or decreased as well as how the format of sales have changed between 1973 and now. For visualizations, I plan to use pie charts to show the breakdown of format of sales for each year. I also plan to create bar charts to show the number of sales each year from 1973 to now. "
   ]
  },
  {
   "cell_type": "markdown",
   "id": "7088bc65-5400-431f-b3ef-758bee12d54d",
   "metadata": {},
   "source": [
    "## Methods"
   ]
  },
  {
   "cell_type": "markdown",
   "id": "7df8f980-eaf2-43d4-a21c-85a2f23652bc",
   "metadata": {},
   "source": [
    "## Results"
   ]
  },
  {
   "cell_type": "code",
   "execution_count": 1,
   "id": "b97d3715-c5dc-40ab-9b75-ed6c879b4b18",
   "metadata": {},
   "outputs": [],
   "source": [
    "import pandas as pd \n",
    "import numpy as np\n",
    "import matplotlib.pyplot as plt\n",
    "import ipywidgets"
   ]
  },
  {
   "cell_type": "code",
   "execution_count": 2,
   "id": "0753d9cf-8245-4189-b212-ddd609062d6d",
   "metadata": {},
   "outputs": [],
   "source": [
    "df = pd.read_csv('MusicData2.csv')"
   ]
  },
  {
   "cell_type": "code",
   "execution_count": 3,
   "id": "b1eec930-fa65-41ac-910b-f4f184497d74",
   "metadata": {},
   "outputs": [
    {
     "data": {
      "text/plain": [
       "(3008, 5)"
      ]
     },
     "execution_count": 3,
     "metadata": {},
     "output_type": "execute_result"
    }
   ],
   "source": [
    "df.shape"
   ]
  },
  {
   "cell_type": "markdown",
   "id": "5aa67364-3c71-4672-a04b-0bed20c6bcd3",
   "metadata": {},
   "source": [
    "The dataset has 5 columns and 3008 rows of data."
   ]
  },
  {
   "cell_type": "code",
   "execution_count": 4,
   "id": "231b195c-3d70-4fd4-83fd-84b09a0be505",
   "metadata": {},
   "outputs": [
    {
     "data": {
      "text/plain": [
       "Index(['Format', 'Metric', 'Year', 'Number of Records', 'Value (Actual)'], dtype='object')"
      ]
     },
     "execution_count": 4,
     "metadata": {},
     "output_type": "execute_result"
    }
   ],
   "source": [
    "df.columns"
   ]
  },
  {
   "cell_type": "markdown",
   "id": "c2065bbf-de23-4ec5-872c-63cf3948799c",
   "metadata": {},
   "source": [
    "Looking at the first 5 entries:"
   ]
  },
  {
   "cell_type": "code",
   "execution_count": 5,
   "id": "202f4a38-da7a-4698-8c0d-c8ff168d2387",
   "metadata": {},
   "outputs": [
    {
     "data": {
      "text/html": [
       "<div>\n",
       "<style scoped>\n",
       "    .dataframe tbody tr th:only-of-type {\n",
       "        vertical-align: middle;\n",
       "    }\n",
       "\n",
       "    .dataframe tbody tr th {\n",
       "        vertical-align: top;\n",
       "    }\n",
       "\n",
       "    .dataframe thead th {\n",
       "        text-align: right;\n",
       "    }\n",
       "</style>\n",
       "<table border=\"1\" class=\"dataframe\">\n",
       "  <thead>\n",
       "    <tr style=\"text-align: right;\">\n",
       "      <th></th>\n",
       "      <th>Format</th>\n",
       "      <th>Metric</th>\n",
       "      <th>Year</th>\n",
       "      <th>Number of Records</th>\n",
       "      <th>Value (Actual)</th>\n",
       "    </tr>\n",
       "  </thead>\n",
       "  <tbody>\n",
       "    <tr>\n",
       "      <th>0</th>\n",
       "      <td>CD</td>\n",
       "      <td>Units</td>\n",
       "      <td>1973</td>\n",
       "      <td>1</td>\n",
       "      <td>NaN</td>\n",
       "    </tr>\n",
       "    <tr>\n",
       "      <th>1</th>\n",
       "      <td>CD</td>\n",
       "      <td>Units</td>\n",
       "      <td>1974</td>\n",
       "      <td>1</td>\n",
       "      <td>NaN</td>\n",
       "    </tr>\n",
       "    <tr>\n",
       "      <th>2</th>\n",
       "      <td>CD</td>\n",
       "      <td>Units</td>\n",
       "      <td>1975</td>\n",
       "      <td>1</td>\n",
       "      <td>NaN</td>\n",
       "    </tr>\n",
       "    <tr>\n",
       "      <th>3</th>\n",
       "      <td>CD</td>\n",
       "      <td>Units</td>\n",
       "      <td>1976</td>\n",
       "      <td>1</td>\n",
       "      <td>NaN</td>\n",
       "    </tr>\n",
       "    <tr>\n",
       "      <th>4</th>\n",
       "      <td>CD</td>\n",
       "      <td>Units</td>\n",
       "      <td>1977</td>\n",
       "      <td>1</td>\n",
       "      <td>NaN</td>\n",
       "    </tr>\n",
       "  </tbody>\n",
       "</table>\n",
       "</div>"
      ],
      "text/plain": [
       "  Format Metric  Year  Number of Records  Value (Actual)\n",
       "0     CD  Units  1973                  1             NaN\n",
       "1     CD  Units  1974                  1             NaN\n",
       "2     CD  Units  1975                  1             NaN\n",
       "3     CD  Units  1976                  1             NaN\n",
       "4     CD  Units  1977                  1             NaN"
      ]
     },
     "execution_count": 5,
     "metadata": {},
     "output_type": "execute_result"
    }
   ],
   "source": [
    "df.head()"
   ]
  },
  {
   "cell_type": "markdown",
   "id": "0e507483-d499-47a8-b93e-f4faeb2c13fa",
   "metadata": {},
   "source": [
    "Looking at the last 5 entries:"
   ]
  },
  {
   "cell_type": "code",
   "execution_count": 6,
   "id": "3cd2c8a9-bf61-43ee-8a16-139bcada377f",
   "metadata": {
    "tags": []
   },
   "outputs": [
    {
     "data": {
      "text/html": [
       "<div>\n",
       "<style scoped>\n",
       "    .dataframe tbody tr th:only-of-type {\n",
       "        vertical-align: middle;\n",
       "    }\n",
       "\n",
       "    .dataframe tbody tr th {\n",
       "        vertical-align: top;\n",
       "    }\n",
       "\n",
       "    .dataframe thead th {\n",
       "        text-align: right;\n",
       "    }\n",
       "</style>\n",
       "<table border=\"1\" class=\"dataframe\">\n",
       "  <thead>\n",
       "    <tr style=\"text-align: right;\">\n",
       "      <th></th>\n",
       "      <th>Format</th>\n",
       "      <th>Metric</th>\n",
       "      <th>Year</th>\n",
       "      <th>Number of Records</th>\n",
       "      <th>Value (Actual)</th>\n",
       "    </tr>\n",
       "  </thead>\n",
       "  <tbody>\n",
       "    <tr>\n",
       "      <th>3003</th>\n",
       "      <td>Vinyl Single</td>\n",
       "      <td>Value (Adjusted)</td>\n",
       "      <td>2015</td>\n",
       "      <td>1</td>\n",
       "      <td>6.205390</td>\n",
       "    </tr>\n",
       "    <tr>\n",
       "      <th>3004</th>\n",
       "      <td>Vinyl Single</td>\n",
       "      <td>Value (Adjusted)</td>\n",
       "      <td>2016</td>\n",
       "      <td>1</td>\n",
       "      <td>5.198931</td>\n",
       "    </tr>\n",
       "    <tr>\n",
       "      <th>3005</th>\n",
       "      <td>Vinyl Single</td>\n",
       "      <td>Value (Adjusted)</td>\n",
       "      <td>2017</td>\n",
       "      <td>1</td>\n",
       "      <td>6.339678</td>\n",
       "    </tr>\n",
       "    <tr>\n",
       "      <th>3006</th>\n",
       "      <td>Vinyl Single</td>\n",
       "      <td>Value (Adjusted)</td>\n",
       "      <td>2018</td>\n",
       "      <td>1</td>\n",
       "      <td>5.386197</td>\n",
       "    </tr>\n",
       "    <tr>\n",
       "      <th>3007</th>\n",
       "      <td>Vinyl Single</td>\n",
       "      <td>Value (Adjusted)</td>\n",
       "      <td>2019</td>\n",
       "      <td>1</td>\n",
       "      <td>6.795946</td>\n",
       "    </tr>\n",
       "  </tbody>\n",
       "</table>\n",
       "</div>"
      ],
      "text/plain": [
       "            Format            Metric  Year  Number of Records  Value (Actual)\n",
       "3003  Vinyl Single  Value (Adjusted)  2015                  1        6.205390\n",
       "3004  Vinyl Single  Value (Adjusted)  2016                  1        5.198931\n",
       "3005  Vinyl Single  Value (Adjusted)  2017                  1        6.339678\n",
       "3006  Vinyl Single  Value (Adjusted)  2018                  1        5.386197\n",
       "3007  Vinyl Single  Value (Adjusted)  2019                  1        6.795946"
      ]
     },
     "execution_count": 6,
     "metadata": {},
     "output_type": "execute_result"
    }
   ],
   "source": [
    "df.tail()"
   ]
  },
  {
   "cell_type": "code",
   "execution_count": 7,
   "id": "d2e8e309-c9eb-43a6-ba64-609e2f76856a",
   "metadata": {},
   "outputs": [
    {
     "data": {
      "text/plain": [
       "Format                object\n",
       "Metric                object\n",
       "Year                   int64\n",
       "Number of Records      int64\n",
       "Value (Actual)       float64\n",
       "dtype: object"
      ]
     },
     "execution_count": 7,
     "metadata": {},
     "output_type": "execute_result"
    }
   ],
   "source": [
    "df.dtypes"
   ]
  },
  {
   "cell_type": "markdown",
   "id": "69cdf499-6791-42ed-a70e-1fa1120ceb09",
   "metadata": {
    "tags": []
   },
   "source": [
    "Finding summary statistics:"
   ]
  },
  {
   "cell_type": "code",
   "execution_count": 8,
   "id": "044efc7b-eb68-4fb7-b1f9-516d3e21a66e",
   "metadata": {},
   "outputs": [
    {
     "data": {
      "text/html": [
       "<div>\n",
       "<style scoped>\n",
       "    .dataframe tbody tr th:only-of-type {\n",
       "        vertical-align: middle;\n",
       "    }\n",
       "\n",
       "    .dataframe tbody tr th {\n",
       "        vertical-align: top;\n",
       "    }\n",
       "\n",
       "    .dataframe thead th {\n",
       "        text-align: right;\n",
       "    }\n",
       "</style>\n",
       "<table border=\"1\" class=\"dataframe\">\n",
       "  <thead>\n",
       "    <tr style=\"text-align: right;\">\n",
       "      <th></th>\n",
       "      <th>Year</th>\n",
       "      <th>Number of Records</th>\n",
       "      <th>Value (Actual)</th>\n",
       "    </tr>\n",
       "  </thead>\n",
       "  <tbody>\n",
       "    <tr>\n",
       "      <th>count</th>\n",
       "      <td>3008.000000</td>\n",
       "      <td>3008.0</td>\n",
       "      <td>1351.000000</td>\n",
       "    </tr>\n",
       "    <tr>\n",
       "      <th>mean</th>\n",
       "      <td>1996.000000</td>\n",
       "      <td>1.0</td>\n",
       "      <td>781.291237</td>\n",
       "    </tr>\n",
       "    <tr>\n",
       "      <th>std</th>\n",
       "      <td>13.566915</td>\n",
       "      <td>0.0</td>\n",
       "      <td>2246.837672</td>\n",
       "    </tr>\n",
       "    <tr>\n",
       "      <th>min</th>\n",
       "      <td>1973.000000</td>\n",
       "      <td>1.0</td>\n",
       "      <td>-7.650944</td>\n",
       "    </tr>\n",
       "    <tr>\n",
       "      <th>25%</th>\n",
       "      <td>1984.000000</td>\n",
       "      <td>1.0</td>\n",
       "      <td>3.700228</td>\n",
       "    </tr>\n",
       "    <tr>\n",
       "      <th>50%</th>\n",
       "      <td>1996.000000</td>\n",
       "      <td>1.0</td>\n",
       "      <td>63.900000</td>\n",
       "    </tr>\n",
       "    <tr>\n",
       "      <th>75%</th>\n",
       "      <td>2008.000000</td>\n",
       "      <td>1.0</td>\n",
       "      <td>448.900000</td>\n",
       "    </tr>\n",
       "    <tr>\n",
       "      <th>max</th>\n",
       "      <td>2019.000000</td>\n",
       "      <td>1.0</td>\n",
       "      <td>19667.327790</td>\n",
       "    </tr>\n",
       "  </tbody>\n",
       "</table>\n",
       "</div>"
      ],
      "text/plain": [
       "              Year  Number of Records  Value (Actual)\n",
       "count  3008.000000             3008.0     1351.000000\n",
       "mean   1996.000000                1.0      781.291237\n",
       "std      13.566915                0.0     2246.837672\n",
       "min    1973.000000                1.0       -7.650944\n",
       "25%    1984.000000                1.0        3.700228\n",
       "50%    1996.000000                1.0       63.900000\n",
       "75%    2008.000000                1.0      448.900000\n",
       "max    2019.000000                1.0    19667.327790"
      ]
     },
     "execution_count": 8,
     "metadata": {},
     "output_type": "execute_result"
    }
   ],
   "source": [
    "df.describe()"
   ]
  },
  {
   "cell_type": "code",
   "execution_count": 9,
   "id": "c990a44a-08d5-44b8-9842-1947c8436ab5",
   "metadata": {},
   "outputs": [
    {
     "name": "stdout",
     "output_type": "stream",
     "text": [
      "<class 'pandas.core.frame.DataFrame'>\n",
      "RangeIndex: 3008 entries, 0 to 3007\n",
      "Data columns (total 5 columns):\n",
      " #   Column             Non-Null Count  Dtype  \n",
      "---  ------             --------------  -----  \n",
      " 0   Format             3008 non-null   object \n",
      " 1   Metric             3008 non-null   object \n",
      " 2   Year               3008 non-null   int64  \n",
      " 3   Number of Records  3008 non-null   int64  \n",
      " 4   Value (Actual)     1351 non-null   float64\n",
      "dtypes: float64(1), int64(2), object(2)\n",
      "memory usage: 117.6+ KB\n"
     ]
    }
   ],
   "source": [
    "df.info()"
   ]
  },
  {
   "cell_type": "code",
   "execution_count": 10,
   "id": "4c4b22f1-6a0c-4bb1-9519-609c7b3dcc83",
   "metadata": {},
   "outputs": [
    {
     "name": "stdout",
     "output_type": "stream",
     "text": [
      "            Format            Metric  Year  Number of Records  Value (Actual)\n",
      "0               CD             Units  1973                  1             NaN\n",
      "1               CD             Units  1974                  1             NaN\n",
      "2               CD             Units  1975                  1             NaN\n",
      "3               CD             Units  1976                  1             NaN\n",
      "4               CD             Units  1977                  1             NaN\n",
      "...            ...               ...   ...                ...             ...\n",
      "3003  Vinyl Single  Value (Adjusted)  2015                  1        6.205390\n",
      "3004  Vinyl Single  Value (Adjusted)  2016                  1        5.198931\n",
      "3005  Vinyl Single  Value (Adjusted)  2017                  1        6.339678\n",
      "3006  Vinyl Single  Value (Adjusted)  2018                  1        5.386197\n",
      "3007  Vinyl Single  Value (Adjusted)  2019                  1        6.795946\n",
      "\n",
      "[3008 rows x 5 columns]\n"
     ]
    }
   ],
   "source": [
    "print(df)"
   ]
  },
  {
   "cell_type": "markdown",
   "id": "e314194f-0002-47c0-970c-168dbae269fa",
   "metadata": {},
   "source": [
    "Looking at the data, the column \"Value (Actual)\" has missing information for many of the data entries. Additionally, it seems some of the data in the \"Value (Actual)\" column is measuring units sold while other entries are measuring revenue."
   ]
  },
  {
   "cell_type": "markdown",
   "id": "1a989af2-2b9f-4d0d-a4e6-8186fe531c73",
   "metadata": {},
   "source": [
    "### Cleaning the Data"
   ]
  },
  {
   "cell_type": "markdown",
   "id": "ce8dc880-12ce-4bcc-b2ac-743b17b50181",
   "metadata": {},
   "source": [
    "First, I am replacing all NaN values with a zero."
   ]
  },
  {
   "cell_type": "code",
   "execution_count": 11,
   "id": "4a0565e6-149c-40de-b862-20c3c4448a69",
   "metadata": {
    "tags": []
   },
   "outputs": [
    {
     "data": {
      "text/html": [
       "<div>\n",
       "<style scoped>\n",
       "    .dataframe tbody tr th:only-of-type {\n",
       "        vertical-align: middle;\n",
       "    }\n",
       "\n",
       "    .dataframe tbody tr th {\n",
       "        vertical-align: top;\n",
       "    }\n",
       "\n",
       "    .dataframe thead th {\n",
       "        text-align: right;\n",
       "    }\n",
       "</style>\n",
       "<table border=\"1\" class=\"dataframe\">\n",
       "  <thead>\n",
       "    <tr style=\"text-align: right;\">\n",
       "      <th></th>\n",
       "      <th>Format</th>\n",
       "      <th>Metric</th>\n",
       "      <th>Year</th>\n",
       "      <th>Number of Records</th>\n",
       "      <th>Value (Actual)</th>\n",
       "    </tr>\n",
       "  </thead>\n",
       "  <tbody>\n",
       "    <tr>\n",
       "      <th>0</th>\n",
       "      <td>CD</td>\n",
       "      <td>Units</td>\n",
       "      <td>1973</td>\n",
       "      <td>1</td>\n",
       "      <td>0.000000</td>\n",
       "    </tr>\n",
       "    <tr>\n",
       "      <th>1</th>\n",
       "      <td>CD</td>\n",
       "      <td>Units</td>\n",
       "      <td>1974</td>\n",
       "      <td>1</td>\n",
       "      <td>0.000000</td>\n",
       "    </tr>\n",
       "    <tr>\n",
       "      <th>2</th>\n",
       "      <td>CD</td>\n",
       "      <td>Units</td>\n",
       "      <td>1975</td>\n",
       "      <td>1</td>\n",
       "      <td>0.000000</td>\n",
       "    </tr>\n",
       "    <tr>\n",
       "      <th>3</th>\n",
       "      <td>CD</td>\n",
       "      <td>Units</td>\n",
       "      <td>1976</td>\n",
       "      <td>1</td>\n",
       "      <td>0.000000</td>\n",
       "    </tr>\n",
       "    <tr>\n",
       "      <th>4</th>\n",
       "      <td>CD</td>\n",
       "      <td>Units</td>\n",
       "      <td>1977</td>\n",
       "      <td>1</td>\n",
       "      <td>0.000000</td>\n",
       "    </tr>\n",
       "    <tr>\n",
       "      <th>...</th>\n",
       "      <td>...</td>\n",
       "      <td>...</td>\n",
       "      <td>...</td>\n",
       "      <td>...</td>\n",
       "      <td>...</td>\n",
       "    </tr>\n",
       "    <tr>\n",
       "      <th>3003</th>\n",
       "      <td>Vinyl Single</td>\n",
       "      <td>Value (Adjusted)</td>\n",
       "      <td>2015</td>\n",
       "      <td>1</td>\n",
       "      <td>6.205390</td>\n",
       "    </tr>\n",
       "    <tr>\n",
       "      <th>3004</th>\n",
       "      <td>Vinyl Single</td>\n",
       "      <td>Value (Adjusted)</td>\n",
       "      <td>2016</td>\n",
       "      <td>1</td>\n",
       "      <td>5.198931</td>\n",
       "    </tr>\n",
       "    <tr>\n",
       "      <th>3005</th>\n",
       "      <td>Vinyl Single</td>\n",
       "      <td>Value (Adjusted)</td>\n",
       "      <td>2017</td>\n",
       "      <td>1</td>\n",
       "      <td>6.339678</td>\n",
       "    </tr>\n",
       "    <tr>\n",
       "      <th>3006</th>\n",
       "      <td>Vinyl Single</td>\n",
       "      <td>Value (Adjusted)</td>\n",
       "      <td>2018</td>\n",
       "      <td>1</td>\n",
       "      <td>5.386197</td>\n",
       "    </tr>\n",
       "    <tr>\n",
       "      <th>3007</th>\n",
       "      <td>Vinyl Single</td>\n",
       "      <td>Value (Adjusted)</td>\n",
       "      <td>2019</td>\n",
       "      <td>1</td>\n",
       "      <td>6.795946</td>\n",
       "    </tr>\n",
       "  </tbody>\n",
       "</table>\n",
       "<p>3008 rows × 5 columns</p>\n",
       "</div>"
      ],
      "text/plain": [
       "            Format            Metric  Year  Number of Records  Value (Actual)\n",
       "0               CD             Units  1973                  1        0.000000\n",
       "1               CD             Units  1974                  1        0.000000\n",
       "2               CD             Units  1975                  1        0.000000\n",
       "3               CD             Units  1976                  1        0.000000\n",
       "4               CD             Units  1977                  1        0.000000\n",
       "...            ...               ...   ...                ...             ...\n",
       "3003  Vinyl Single  Value (Adjusted)  2015                  1        6.205390\n",
       "3004  Vinyl Single  Value (Adjusted)  2016                  1        5.198931\n",
       "3005  Vinyl Single  Value (Adjusted)  2017                  1        6.339678\n",
       "3006  Vinyl Single  Value (Adjusted)  2018                  1        5.386197\n",
       "3007  Vinyl Single  Value (Adjusted)  2019                  1        6.795946\n",
       "\n",
       "[3008 rows x 5 columns]"
      ]
     },
     "execution_count": 11,
     "metadata": {},
     "output_type": "execute_result"
    }
   ],
   "source": [
    "new_df = df.fillna(0)\n",
    "new_df"
   ]
  },
  {
   "cell_type": "markdown",
   "id": "1aff327f-d205-4aa7-921b-7abffcae4266",
   "metadata": {
    "tags": []
   },
   "source": [
    "In some of the earlier years, certain formats such as CDs hadn't been created yet. I don't want to include these sales formats in my dataset for the years when the value is 0.0 so I am creating a new dataframe with these values removed."
   ]
  },
  {
   "cell_type": "code",
   "execution_count": 12,
   "id": "e53f9770-f136-44fd-95dc-70d712e194b9",
   "metadata": {
    "tags": []
   },
   "outputs": [],
   "source": [
    "# Creating a dataframe that only has the relevant formats for each year"
   ]
  },
  {
   "cell_type": "code",
   "execution_count": 13,
   "id": "5b84f07d-150e-49ac-afb0-7c603df3c1c4",
   "metadata": {},
   "outputs": [
    {
     "data": {
      "text/html": [
       "<div>\n",
       "<style scoped>\n",
       "    .dataframe tbody tr th:only-of-type {\n",
       "        vertical-align: middle;\n",
       "    }\n",
       "\n",
       "    .dataframe tbody tr th {\n",
       "        vertical-align: top;\n",
       "    }\n",
       "\n",
       "    .dataframe thead th {\n",
       "        text-align: right;\n",
       "    }\n",
       "</style>\n",
       "<table border=\"1\" class=\"dataframe\">\n",
       "  <thead>\n",
       "    <tr style=\"text-align: right;\">\n",
       "      <th></th>\n",
       "      <th>Format</th>\n",
       "      <th>Metric</th>\n",
       "      <th>Year</th>\n",
       "      <th>Number of Records</th>\n",
       "      <th>Value (Actual)</th>\n",
       "    </tr>\n",
       "  </thead>\n",
       "  <tbody>\n",
       "    <tr>\n",
       "      <th>0</th>\n",
       "      <td>CD</td>\n",
       "      <td>Units</td>\n",
       "      <td>1983</td>\n",
       "      <td>1</td>\n",
       "      <td>0.800000</td>\n",
       "    </tr>\n",
       "    <tr>\n",
       "      <th>1</th>\n",
       "      <td>CD</td>\n",
       "      <td>Units</td>\n",
       "      <td>1984</td>\n",
       "      <td>1</td>\n",
       "      <td>5.800000</td>\n",
       "    </tr>\n",
       "    <tr>\n",
       "      <th>2</th>\n",
       "      <td>CD</td>\n",
       "      <td>Units</td>\n",
       "      <td>1985</td>\n",
       "      <td>1</td>\n",
       "      <td>22.600000</td>\n",
       "    </tr>\n",
       "    <tr>\n",
       "      <th>3</th>\n",
       "      <td>CD</td>\n",
       "      <td>Units</td>\n",
       "      <td>1986</td>\n",
       "      <td>1</td>\n",
       "      <td>53.000000</td>\n",
       "    </tr>\n",
       "    <tr>\n",
       "      <th>4</th>\n",
       "      <td>CD</td>\n",
       "      <td>Units</td>\n",
       "      <td>1987</td>\n",
       "      <td>1</td>\n",
       "      <td>102.100000</td>\n",
       "    </tr>\n",
       "    <tr>\n",
       "      <th>...</th>\n",
       "      <td>...</td>\n",
       "      <td>...</td>\n",
       "      <td>...</td>\n",
       "      <td>...</td>\n",
       "      <td>...</td>\n",
       "    </tr>\n",
       "    <tr>\n",
       "      <th>1269</th>\n",
       "      <td>Vinyl Single</td>\n",
       "      <td>Value (Adjusted)</td>\n",
       "      <td>2015</td>\n",
       "      <td>1</td>\n",
       "      <td>6.205390</td>\n",
       "    </tr>\n",
       "    <tr>\n",
       "      <th>1270</th>\n",
       "      <td>Vinyl Single</td>\n",
       "      <td>Value (Adjusted)</td>\n",
       "      <td>2016</td>\n",
       "      <td>1</td>\n",
       "      <td>5.198931</td>\n",
       "    </tr>\n",
       "    <tr>\n",
       "      <th>1271</th>\n",
       "      <td>Vinyl Single</td>\n",
       "      <td>Value (Adjusted)</td>\n",
       "      <td>2017</td>\n",
       "      <td>1</td>\n",
       "      <td>6.339678</td>\n",
       "    </tr>\n",
       "    <tr>\n",
       "      <th>1272</th>\n",
       "      <td>Vinyl Single</td>\n",
       "      <td>Value (Adjusted)</td>\n",
       "      <td>2018</td>\n",
       "      <td>1</td>\n",
       "      <td>5.386197</td>\n",
       "    </tr>\n",
       "    <tr>\n",
       "      <th>1273</th>\n",
       "      <td>Vinyl Single</td>\n",
       "      <td>Value (Adjusted)</td>\n",
       "      <td>2019</td>\n",
       "      <td>1</td>\n",
       "      <td>6.795946</td>\n",
       "    </tr>\n",
       "  </tbody>\n",
       "</table>\n",
       "<p>1274 rows × 5 columns</p>\n",
       "</div>"
      ],
      "text/plain": [
       "            Format            Metric  Year  Number of Records  Value (Actual)\n",
       "0               CD             Units  1983                  1        0.800000\n",
       "1               CD             Units  1984                  1        5.800000\n",
       "2               CD             Units  1985                  1       22.600000\n",
       "3               CD             Units  1986                  1       53.000000\n",
       "4               CD             Units  1987                  1      102.100000\n",
       "...            ...               ...   ...                ...             ...\n",
       "1269  Vinyl Single  Value (Adjusted)  2015                  1        6.205390\n",
       "1270  Vinyl Single  Value (Adjusted)  2016                  1        5.198931\n",
       "1271  Vinyl Single  Value (Adjusted)  2017                  1        6.339678\n",
       "1272  Vinyl Single  Value (Adjusted)  2018                  1        5.386197\n",
       "1273  Vinyl Single  Value (Adjusted)  2019                  1        6.795946\n",
       "\n",
       "[1274 rows x 5 columns]"
      ]
     },
     "execution_count": 13,
     "metadata": {},
     "output_type": "execute_result"
    }
   ],
   "source": [
    "new_df_no_values_0 = new_df[new_df[\"Value (Actual)\"] != 0.0].reset_index(drop=True)\n",
    "new_df_no_values_0"
   ]
  },
  {
   "cell_type": "code",
   "execution_count": 14,
   "id": "1df6d9b7-aabe-491e-87d3-50df27ee54a3",
   "metadata": {},
   "outputs": [],
   "source": [
    "# There are only 1274 rows as compared to 3008 rows before since some of the rows were irrelevant. "
   ]
  },
  {
   "cell_type": "code",
   "execution_count": 15,
   "id": "b7b532c3-6c65-4c03-afca-8433db79eb5d",
   "metadata": {
    "tags": []
   },
   "outputs": [],
   "source": [
    "# creating a dataframe that has the units sold data for each year and format"
   ]
  },
  {
   "cell_type": "code",
   "execution_count": 16,
   "id": "0294d3b8-7452-493e-9c2b-e76f9ab7d9d4",
   "metadata": {},
   "outputs": [
    {
     "data": {
      "text/html": [
       "<div>\n",
       "<style scoped>\n",
       "    .dataframe tbody tr th:only-of-type {\n",
       "        vertical-align: middle;\n",
       "    }\n",
       "\n",
       "    .dataframe tbody tr th {\n",
       "        vertical-align: top;\n",
       "    }\n",
       "\n",
       "    .dataframe thead th {\n",
       "        text-align: right;\n",
       "    }\n",
       "</style>\n",
       "<table border=\"1\" class=\"dataframe\">\n",
       "  <thead>\n",
       "    <tr style=\"text-align: right;\">\n",
       "      <th></th>\n",
       "      <th>Format</th>\n",
       "      <th>Metric</th>\n",
       "      <th>Year</th>\n",
       "      <th>Number of Records</th>\n",
       "      <th>Value (Actual)</th>\n",
       "    </tr>\n",
       "  </thead>\n",
       "  <tbody>\n",
       "    <tr>\n",
       "      <th>0</th>\n",
       "      <td>CD</td>\n",
       "      <td>Units</td>\n",
       "      <td>1983</td>\n",
       "      <td>1</td>\n",
       "      <td>0.8</td>\n",
       "    </tr>\n",
       "    <tr>\n",
       "      <th>1</th>\n",
       "      <td>CD</td>\n",
       "      <td>Units</td>\n",
       "      <td>1984</td>\n",
       "      <td>1</td>\n",
       "      <td>5.8</td>\n",
       "    </tr>\n",
       "    <tr>\n",
       "      <th>2</th>\n",
       "      <td>CD</td>\n",
       "      <td>Units</td>\n",
       "      <td>1985</td>\n",
       "      <td>1</td>\n",
       "      <td>22.6</td>\n",
       "    </tr>\n",
       "    <tr>\n",
       "      <th>3</th>\n",
       "      <td>CD</td>\n",
       "      <td>Units</td>\n",
       "      <td>1986</td>\n",
       "      <td>1</td>\n",
       "      <td>53.0</td>\n",
       "    </tr>\n",
       "    <tr>\n",
       "      <th>4</th>\n",
       "      <td>CD</td>\n",
       "      <td>Units</td>\n",
       "      <td>1987</td>\n",
       "      <td>1</td>\n",
       "      <td>102.1</td>\n",
       "    </tr>\n",
       "    <tr>\n",
       "      <th>...</th>\n",
       "      <td>...</td>\n",
       "      <td>...</td>\n",
       "      <td>...</td>\n",
       "      <td>...</td>\n",
       "      <td>...</td>\n",
       "    </tr>\n",
       "    <tr>\n",
       "      <th>397</th>\n",
       "      <td>Paid Subscriptions</td>\n",
       "      <td>Units</td>\n",
       "      <td>2014</td>\n",
       "      <td>1</td>\n",
       "      <td>7.7</td>\n",
       "    </tr>\n",
       "    <tr>\n",
       "      <th>398</th>\n",
       "      <td>Paid Subscriptions</td>\n",
       "      <td>Units</td>\n",
       "      <td>2015</td>\n",
       "      <td>1</td>\n",
       "      <td>10.8</td>\n",
       "    </tr>\n",
       "    <tr>\n",
       "      <th>399</th>\n",
       "      <td>Paid Subscriptions</td>\n",
       "      <td>Units</td>\n",
       "      <td>2016</td>\n",
       "      <td>1</td>\n",
       "      <td>22.7</td>\n",
       "    </tr>\n",
       "    <tr>\n",
       "      <th>400</th>\n",
       "      <td>Paid Subscriptions</td>\n",
       "      <td>Units</td>\n",
       "      <td>2017</td>\n",
       "      <td>1</td>\n",
       "      <td>35.3</td>\n",
       "    </tr>\n",
       "    <tr>\n",
       "      <th>401</th>\n",
       "      <td>Paid Subscriptions</td>\n",
       "      <td>Units</td>\n",
       "      <td>2018</td>\n",
       "      <td>1</td>\n",
       "      <td>50.2</td>\n",
       "    </tr>\n",
       "  </tbody>\n",
       "</table>\n",
       "<p>402 rows × 5 columns</p>\n",
       "</div>"
      ],
      "text/plain": [
       "                 Format Metric  Year  Number of Records  Value (Actual)\n",
       "0                    CD  Units  1983                  1             0.8\n",
       "1                    CD  Units  1984                  1             5.8\n",
       "2                    CD  Units  1985                  1            22.6\n",
       "3                    CD  Units  1986                  1            53.0\n",
       "4                    CD  Units  1987                  1           102.1\n",
       "..                  ...    ...   ...                ...             ...\n",
       "397  Paid Subscriptions  Units  2014                  1             7.7\n",
       "398  Paid Subscriptions  Units  2015                  1            10.8\n",
       "399  Paid Subscriptions  Units  2016                  1            22.7\n",
       "400  Paid Subscriptions  Units  2017                  1            35.3\n",
       "401  Paid Subscriptions  Units  2018                  1            50.2\n",
       "\n",
       "[402 rows x 5 columns]"
      ]
     },
     "execution_count": 16,
     "metadata": {},
     "output_type": "execute_result"
    }
   ],
   "source": [
    "units = new_df_no_values_0[new_df_no_values_0['Metric'] == 'Units']\n",
    "units"
   ]
  },
  {
   "cell_type": "code",
   "execution_count": 17,
   "id": "12b00614-76e0-4b9a-930d-7eb344737e6e",
   "metadata": {},
   "outputs": [],
   "source": [
    "# creating a dataframe that has the Present Value Revenue data for each year and format"
   ]
  },
  {
   "cell_type": "code",
   "execution_count": 18,
   "id": "f892b6a1-0566-4694-b608-8e7245c3a29a",
   "metadata": {},
   "outputs": [
    {
     "data": {
      "text/html": [
       "<div>\n",
       "<style scoped>\n",
       "    .dataframe tbody tr th:only-of-type {\n",
       "        vertical-align: middle;\n",
       "    }\n",
       "\n",
       "    .dataframe tbody tr th {\n",
       "        vertical-align: top;\n",
       "    }\n",
       "\n",
       "    .dataframe thead th {\n",
       "        text-align: right;\n",
       "    }\n",
       "</style>\n",
       "<table border=\"1\" class=\"dataframe\">\n",
       "  <thead>\n",
       "    <tr style=\"text-align: right;\">\n",
       "      <th></th>\n",
       "      <th>Format</th>\n",
       "      <th>Metric</th>\n",
       "      <th>Year</th>\n",
       "      <th>Number of Records</th>\n",
       "      <th>Value (Actual)</th>\n",
       "    </tr>\n",
       "  </thead>\n",
       "  <tbody>\n",
       "    <tr>\n",
       "      <th>0</th>\n",
       "      <td>8 - Track</td>\n",
       "      <td>Value (Adjusted)</td>\n",
       "      <td>1973</td>\n",
       "      <td>1</td>\n",
       "      <td>2815.681824</td>\n",
       "    </tr>\n",
       "    <tr>\n",
       "      <th>1</th>\n",
       "      <td>8 - Track</td>\n",
       "      <td>Value (Adjusted)</td>\n",
       "      <td>1974</td>\n",
       "      <td>1</td>\n",
       "      <td>2848.008609</td>\n",
       "    </tr>\n",
       "    <tr>\n",
       "      <th>2</th>\n",
       "      <td>8 - Track</td>\n",
       "      <td>Value (Adjusted)</td>\n",
       "      <td>1975</td>\n",
       "      <td>1</td>\n",
       "      <td>2770.409498</td>\n",
       "    </tr>\n",
       "    <tr>\n",
       "      <th>3</th>\n",
       "      <td>8 - Track</td>\n",
       "      <td>Value (Adjusted)</td>\n",
       "      <td>1976</td>\n",
       "      <td>1</td>\n",
       "      <td>3047.215772</td>\n",
       "    </tr>\n",
       "    <tr>\n",
       "      <th>4</th>\n",
       "      <td>8 - Track</td>\n",
       "      <td>Value (Adjusted)</td>\n",
       "      <td>1977</td>\n",
       "      <td>1</td>\n",
       "      <td>3421.416287</td>\n",
       "    </tr>\n",
       "    <tr>\n",
       "      <th>...</th>\n",
       "      <td>...</td>\n",
       "      <td>...</td>\n",
       "      <td>...</td>\n",
       "      <td>...</td>\n",
       "      <td>...</td>\n",
       "    </tr>\n",
       "    <tr>\n",
       "      <th>431</th>\n",
       "      <td>Vinyl Single</td>\n",
       "      <td>Value (Adjusted)</td>\n",
       "      <td>2015</td>\n",
       "      <td>1</td>\n",
       "      <td>6.205390</td>\n",
       "    </tr>\n",
       "    <tr>\n",
       "      <th>432</th>\n",
       "      <td>Vinyl Single</td>\n",
       "      <td>Value (Adjusted)</td>\n",
       "      <td>2016</td>\n",
       "      <td>1</td>\n",
       "      <td>5.198931</td>\n",
       "    </tr>\n",
       "    <tr>\n",
       "      <th>433</th>\n",
       "      <td>Vinyl Single</td>\n",
       "      <td>Value (Adjusted)</td>\n",
       "      <td>2017</td>\n",
       "      <td>1</td>\n",
       "      <td>6.339678</td>\n",
       "    </tr>\n",
       "    <tr>\n",
       "      <th>434</th>\n",
       "      <td>Vinyl Single</td>\n",
       "      <td>Value (Adjusted)</td>\n",
       "      <td>2018</td>\n",
       "      <td>1</td>\n",
       "      <td>5.386197</td>\n",
       "    </tr>\n",
       "    <tr>\n",
       "      <th>435</th>\n",
       "      <td>Vinyl Single</td>\n",
       "      <td>Value (Adjusted)</td>\n",
       "      <td>2019</td>\n",
       "      <td>1</td>\n",
       "      <td>6.795946</td>\n",
       "    </tr>\n",
       "  </tbody>\n",
       "</table>\n",
       "<p>436 rows × 5 columns</p>\n",
       "</div>"
      ],
      "text/plain": [
       "           Format            Metric  Year  Number of Records  Value (Actual)\n",
       "0       8 - Track  Value (Adjusted)  1973                  1     2815.681824\n",
       "1       8 - Track  Value (Adjusted)  1974                  1     2848.008609\n",
       "2       8 - Track  Value (Adjusted)  1975                  1     2770.409498\n",
       "3       8 - Track  Value (Adjusted)  1976                  1     3047.215772\n",
       "4       8 - Track  Value (Adjusted)  1977                  1     3421.416287\n",
       "..            ...               ...   ...                ...             ...\n",
       "431  Vinyl Single  Value (Adjusted)  2015                  1        6.205390\n",
       "432  Vinyl Single  Value (Adjusted)  2016                  1        5.198931\n",
       "433  Vinyl Single  Value (Adjusted)  2017                  1        6.339678\n",
       "434  Vinyl Single  Value (Adjusted)  2018                  1        5.386197\n",
       "435  Vinyl Single  Value (Adjusted)  2019                  1        6.795946\n",
       "\n",
       "[436 rows x 5 columns]"
      ]
     },
     "execution_count": 18,
     "metadata": {},
     "output_type": "execute_result"
    }
   ],
   "source": [
    "adjusted = new_df_no_values_0[new_df_no_values_0['Metric'] == 'Value (Adjusted)'].reset_index(drop=True)\n",
    "adjusted"
   ]
  },
  {
   "cell_type": "code",
   "execution_count": 19,
   "id": "e91233c3-1f41-41e7-ac2f-311f43581339",
   "metadata": {
    "tags": []
   },
   "outputs": [],
   "source": [
    "# creating a dataframe for Revenue at time of purchase for each year and format"
   ]
  },
  {
   "cell_type": "code",
   "execution_count": 20,
   "id": "35b87a0e-7554-4b8e-9d22-03d5a1c930e9",
   "metadata": {},
   "outputs": [
    {
     "data": {
      "text/html": [
       "<div>\n",
       "<style scoped>\n",
       "    .dataframe tbody tr th:only-of-type {\n",
       "        vertical-align: middle;\n",
       "    }\n",
       "\n",
       "    .dataframe tbody tr th {\n",
       "        vertical-align: top;\n",
       "    }\n",
       "\n",
       "    .dataframe thead th {\n",
       "        text-align: right;\n",
       "    }\n",
       "</style>\n",
       "<table border=\"1\" class=\"dataframe\">\n",
       "  <thead>\n",
       "    <tr style=\"text-align: right;\">\n",
       "      <th></th>\n",
       "      <th>Format</th>\n",
       "      <th>Metric</th>\n",
       "      <th>Year</th>\n",
       "      <th>Number of Records</th>\n",
       "      <th>Value (Actual)</th>\n",
       "    </tr>\n",
       "  </thead>\n",
       "  <tbody>\n",
       "    <tr>\n",
       "      <th>0</th>\n",
       "      <td>CD</td>\n",
       "      <td>Value</td>\n",
       "      <td>1983</td>\n",
       "      <td>1</td>\n",
       "      <td>17.200000</td>\n",
       "    </tr>\n",
       "    <tr>\n",
       "      <th>1</th>\n",
       "      <td>CD</td>\n",
       "      <td>Value</td>\n",
       "      <td>1984</td>\n",
       "      <td>1</td>\n",
       "      <td>103.300000</td>\n",
       "    </tr>\n",
       "    <tr>\n",
       "      <th>2</th>\n",
       "      <td>CD</td>\n",
       "      <td>Value</td>\n",
       "      <td>1985</td>\n",
       "      <td>1</td>\n",
       "      <td>389.500000</td>\n",
       "    </tr>\n",
       "    <tr>\n",
       "      <th>3</th>\n",
       "      <td>CD</td>\n",
       "      <td>Value</td>\n",
       "      <td>1986</td>\n",
       "      <td>1</td>\n",
       "      <td>930.100000</td>\n",
       "    </tr>\n",
       "    <tr>\n",
       "      <th>4</th>\n",
       "      <td>CD</td>\n",
       "      <td>Value</td>\n",
       "      <td>1987</td>\n",
       "      <td>1</td>\n",
       "      <td>1593.600000</td>\n",
       "    </tr>\n",
       "    <tr>\n",
       "      <th>...</th>\n",
       "      <td>...</td>\n",
       "      <td>...</td>\n",
       "      <td>...</td>\n",
       "      <td>...</td>\n",
       "      <td>...</td>\n",
       "    </tr>\n",
       "    <tr>\n",
       "      <th>431</th>\n",
       "      <td>Vinyl Single</td>\n",
       "      <td>Value</td>\n",
       "      <td>2015</td>\n",
       "      <td>1</td>\n",
       "      <td>5.752954</td>\n",
       "    </tr>\n",
       "    <tr>\n",
       "      <th>432</th>\n",
       "      <td>Vinyl Single</td>\n",
       "      <td>Value</td>\n",
       "      <td>2016</td>\n",
       "      <td>1</td>\n",
       "      <td>4.880680</td>\n",
       "    </tr>\n",
       "    <tr>\n",
       "      <th>433</th>\n",
       "      <td>Vinyl Single</td>\n",
       "      <td>Value</td>\n",
       "      <td>2017</td>\n",
       "      <td>1</td>\n",
       "      <td>6.078385</td>\n",
       "    </tr>\n",
       "    <tr>\n",
       "      <th>434</th>\n",
       "      <td>Vinyl Single</td>\n",
       "      <td>Value</td>\n",
       "      <td>2018</td>\n",
       "      <td>1</td>\n",
       "      <td>5.290337</td>\n",
       "    </tr>\n",
       "    <tr>\n",
       "      <th>435</th>\n",
       "      <td>Vinyl Single</td>\n",
       "      <td>Value</td>\n",
       "      <td>2019</td>\n",
       "      <td>1</td>\n",
       "      <td>6.795946</td>\n",
       "    </tr>\n",
       "  </tbody>\n",
       "</table>\n",
       "<p>436 rows × 5 columns</p>\n",
       "</div>"
      ],
      "text/plain": [
       "           Format Metric  Year  Number of Records  Value (Actual)\n",
       "0              CD  Value  1983                  1       17.200000\n",
       "1              CD  Value  1984                  1      103.300000\n",
       "2              CD  Value  1985                  1      389.500000\n",
       "3              CD  Value  1986                  1      930.100000\n",
       "4              CD  Value  1987                  1     1593.600000\n",
       "..            ...    ...   ...                ...             ...\n",
       "431  Vinyl Single  Value  2015                  1        5.752954\n",
       "432  Vinyl Single  Value  2016                  1        4.880680\n",
       "433  Vinyl Single  Value  2017                  1        6.078385\n",
       "434  Vinyl Single  Value  2018                  1        5.290337\n",
       "435  Vinyl Single  Value  2019                  1        6.795946\n",
       "\n",
       "[436 rows x 5 columns]"
      ]
     },
     "execution_count": 20,
     "metadata": {},
     "output_type": "execute_result"
    }
   ],
   "source": [
    "value = new_df_no_values_0[new_df_no_values_0['Metric'] == 'Value'].reset_index(drop=True)\n",
    "value"
   ]
  },
  {
   "cell_type": "markdown",
   "id": "a4dc7728-8636-4dd7-b59f-0d1e2e9007d3",
   "metadata": {},
   "source": [
    "### Exploratory Data Visualizations"
   ]
  },
  {
   "cell_type": "code",
   "execution_count": 21,
   "id": "19b2e651-d845-47ff-8c46-56a7f77b6b9a",
   "metadata": {},
   "outputs": [],
   "source": [
    "# creating dataframes with the unit sales data for each format "
   ]
  },
  {
   "cell_type": "code",
   "execution_count": 22,
   "id": "8810474e-9259-485b-bdc3-7720f53d76f6",
   "metadata": {},
   "outputs": [],
   "source": [
    "# step 1: get all unique Format types\n",
    "unit_format_types = list(set(units[\"Format\"]))\n",
    "unit_format_types\n",
    "# step 2: create an empty list to input new data_frames\n",
    "unit_format_dfs = []\n",
    "# step 3: create all the new data frames and add to list\n",
    "for i in np.arange(len(unit_format_types)):\n",
    "    unit_first_format_type = unit_format_types[i]\n",
    "    unit_format_df = units[units[\"Format\"] == unit_first_format_type]\n",
    "    unit_format_dfs.append(unit_format_df)\n",
    "    #print(format_df.head())"
   ]
  },
  {
   "cell_type": "code",
   "execution_count": 23,
   "id": "7ac584cb-101f-4b26-a9fe-8e2bcb5317bf",
   "metadata": {},
   "outputs": [],
   "source": [
    "# creating dataframes with the Adjusted Revenue sales data for each format"
   ]
  },
  {
   "cell_type": "code",
   "execution_count": 24,
   "id": "8d2742b8-997d-4889-8c41-d3d62c675c01",
   "metadata": {},
   "outputs": [],
   "source": [
    "# step 1: get all unique Format types\n",
    "format_types = list(set(adjusted[\"Format\"]))\n",
    "format_types\n",
    "# step 2: create an empty list to input new data_frames\n",
    "format_dfs = []\n",
    "# step 3: create all the new data frames and add to list\n",
    "for i in np.arange(len(format_types)):\n",
    "    first_format_type = format_types[i]\n",
    "    format_df = adjusted[adjusted[\"Format\"] == first_format_type]\n",
    "    format_dfs.append(format_df)\n",
    "    #print(format_df.head())"
   ]
  },
  {
   "cell_type": "code",
   "execution_count": 25,
   "id": "b57bcfdf-d866-4e8e-bc75-3812edb14773",
   "metadata": {},
   "outputs": [],
   "source": [
    "format_dfs[0] = adjusted[adjusted[\"Format\"] == 'Download Music Video']\n",
    "format_dfs[1] = adjusted[adjusted[\"Format\"] == 'Download Album']\n",
    "format_dfs[2] = adjusted[adjusted[\"Format\"] == 'Other Ad-Supported Streaming']\n",
    "format_dfs[3] = adjusted[adjusted[\"Format\"] == 'Paid Subscription']\n",
    "format_dfs[4] = adjusted[adjusted[\"Format\"] == 'Synchronization']\n",
    "format_dfs[5] = adjusted[adjusted[\"Format\"] == 'Cassette']\n",
    "format_dfs[6] = adjusted[adjusted[\"Format\"] == 'On-Demand Streaming (Ad-Supported)']\n",
    "format_dfs[7] = adjusted[adjusted[\"Format\"] == 'Limited Tier Paid Subscription']\n",
    "format_dfs[8] = adjusted[adjusted[\"Format\"] == 'Ringtones & Ringbacks']\n",
    "format_dfs[9] = adjusted[adjusted[\"Format\"] == '8 - Track']\n",
    "format_dfs[10] = adjusted[adjusted[\"Format\"] == 'CD']\n",
    "format_dfs[11] = adjusted[adjusted[\"Format\"] == 'Vinyl Single']\n",
    "format_dfs[12] = adjusted[adjusted[\"Format\"] == 'CD Single']\n",
    "format_dfs[13] = adjusted[adjusted[\"Format\"] == 'Kiosk']\n",
    "format_dfs[14] = adjusted[adjusted[\"Format\"] == 'DVD Audio']\n",
    "format_dfs[15] = adjusted[adjusted[\"Format\"] == 'SACD']\n",
    "format_dfs[16] = adjusted[adjusted[\"Format\"] == 'Other Digital']\n",
    "format_dfs[17] = adjusted[adjusted[\"Format\"] == 'Other Tapes']\n",
    "format_dfs[18] = adjusted[adjusted[\"Format\"] == 'SoundExchange Distribution']\n",
    "format_dfs[19] = adjusted[adjusted[\"Format\"] == 'LP/EP']\n",
    "format_dfs[20] = adjusted[adjusted[\"Format\"] == 'Download Single']\n",
    "format_dfs[21] = adjusted[adjusted[\"Format\"] == 'Cassette Single']\n",
    "format_dfs[22] = adjusted[adjusted[\"Format\"] == 'Music Video (Physical)']"
   ]
  },
  {
   "cell_type": "code",
   "execution_count": 26,
   "id": "b31f931c-e11b-43d0-b477-54a103cd36fe",
   "metadata": {},
   "outputs": [],
   "source": [
    "# could be cool to create a drop down menu with these options ....23 graphs total "
   ]
  },
  {
   "cell_type": "code",
   "execution_count": null,
   "id": "050e51b9-b0a6-475a-aa70-d7cb02bde4ad",
   "metadata": {},
   "outputs": [],
   "source": [
    "def dataset_to_df(dataset):\n",
    "    \n",
    "    all_links = document.findAll('a')\n",
    "    for link in all_links:\n",
    "        if link.has_attr('download'):\n",
    "            download_link = link['href']\n",
    "    df = pd.read_csv(html_link + download_link)\n",
    "    \n",
    "    print(df.info())\n",
    "    \n",
    "    return df\n",
    "\n",
    "w = ipywidgets.interactive(dataset_to_df,dataset=all_datasets)\n",
    "display(w)"
   ]
  },
  {
   "cell_type": "code",
   "execution_count": 27,
   "id": "3b6c3739-6c58-4fe6-890c-240e6ee40854",
   "metadata": {
    "tags": []
   },
   "outputs": [],
   "source": [
    "# plotting Download Music Video sales over the years"
   ]
  },
  {
   "cell_type": "code",
   "execution_count": 28,
   "id": "4651cde2-5ad1-4c69-a7aa-9c8f672fb338",
   "metadata": {},
   "outputs": [
    {
     "data": {
      "text/plain": [
       "<matplotlib.legend.Legend at 0x7f0dede24580>"
      ]
     },
     "execution_count": 28,
     "metadata": {},
     "output_type": "execute_result"
    },
    {
     "data": {
      "image/png": "[encoded data removed]",
      "text/plain": [
       "<Figure size 720x432 with 1 Axes>"
      ]
     },
     "metadata": {
      "needs_background": "light"
     },
     "output_type": "display_data"
    }
   ],
   "source": [
    "dmv = format_dfs[0].plot(kind='bar', x='Year', y='Value (Actual)', figsize=(10,6))\n",
    "\n",
    "dmv.set_title('Download Music Video Sales 2005-2019')\n",
    "dmv.set_xlabel('Year', fontsize=14)\n",
    "dmv.set_ylabel('Revenue (in millions)', fontsize=14)\n",
    "dmv.legend(['Revenue Adjusted to PV'])"
   ]
  },
  {
   "cell_type": "code",
   "execution_count": 29,
   "id": "37694770-cabe-4c8c-a1c6-14cc29622f32",
   "metadata": {},
   "outputs": [],
   "source": [
    "# plotting Download Album sales over the years"
   ]
  },
  {
   "cell_type": "code",
   "execution_count": 30,
   "id": "44d72876-ef51-43d6-872c-b044ea8b618e",
   "metadata": {},
   "outputs": [
    {
     "data": {
      "text/plain": [
       "<matplotlib.legend.Legend at 0x7f0d9be1f520>"
      ]
     },
     "execution_count": 30,
     "metadata": {},
     "output_type": "execute_result"
    },
    {
     "data": {
      "image/png": "[encoded data removed]",
      "text/plain": [
       "<Figure size 720x432 with 1 Axes>"
      ]
     },
     "metadata": {
      "needs_background": "light"
     },
     "output_type": "display_data"
    }
   ],
   "source": [
    "da = format_dfs[1].plot(kind='bar', x='Year', y='Value (Actual)', figsize=(10,6))\n",
    "\n",
    "da.set_title('Download Album Sales 2004-2019')\n",
    "da.set_xlabel('Year', fontsize=14)\n",
    "da.set_ylabel('Revenue (in millions)', fontsize=14)\n",
    "da.legend(['Revenue Adjusted to PV'])"
   ]
  },
  {
   "cell_type": "code",
   "execution_count": 31,
   "id": "6eacbfcc-d8d0-4bd0-b3a5-82fb07d1e76e",
   "metadata": {},
   "outputs": [],
   "source": [
    "# plotting Other Ad-Supported Streaming over the years"
   ]
  },
  {
   "cell_type": "code",
   "execution_count": 32,
   "id": "151f1fd0-a7ae-413f-8ba4-2ae94bb6574b",
   "metadata": {
    "tags": []
   },
   "outputs": [
    {
     "data": {
      "text/plain": [
       "<matplotlib.legend.Legend at 0x7f0d9be1f5e0>"
      ]
     },
     "execution_count": 32,
     "metadata": {},
     "output_type": "execute_result"
    },
    {
     "data": {
      "image/png": "[encoded data removed]",
      "text/plain": [
       "<Figure size 720x432 with 1 Axes>"
      ]
     },
     "metadata": {
      "needs_background": "light"
     },
     "output_type": "display_data"
    }
   ],
   "source": [
    "da = format_dfs[2].plot(kind='bar', x='Year', y='Value (Actual)', figsize=(10,6))\n",
    "\n",
    "da.set_title('Other Ad-Supported Streaming Sales 2016-2019')\n",
    "da.set_xlabel('Year', fontsize=14)\n",
    "da.set_ylabel('Revenue (in millions)', fontsize=14)\n",
    "da.legend(['Revenue Adjusted to PV'])"
   ]
  },
  {
   "cell_type": "code",
   "execution_count": 33,
   "id": "f5c79cb5-0d38-48a4-a2a9-a955e55b2c69",
   "metadata": {},
   "outputs": [],
   "source": [
    "# plotting Paid Subscription sales over the years"
   ]
  },
  {
   "cell_type": "code",
   "execution_count": 34,
   "id": "04adfd70-1202-4da8-a547-60908755c533",
   "metadata": {},
   "outputs": [
    {
     "data": {
      "text/plain": [
       "<matplotlib.legend.Legend at 0x7f0d9be1f760>"
      ]
     },
     "execution_count": 34,
     "metadata": {},
     "output_type": "execute_result"
    },
    {
     "data": {
      "image/png": "[encoded data removed]",
      "text/plain": [
       "<Figure size 720x432 with 1 Axes>"
      ]
     },
     "metadata": {
      "needs_background": "light"
     },
     "output_type": "display_data"
    }
   ],
   "source": [
    "ps = format_dfs[3].plot(kind='bar', x='Year', y='Value (Actual)', figsize=(10,6))\n",
    "\n",
    "ps.set_title('Paid Subscription Sales 2005-2019')\n",
    "ps.set_xlabel('Year', fontsize=14)\n",
    "ps.set_ylabel('Revenue (in millions)', fontsize=14)\n",
    "ps.legend(['Revenue Adjusted to PV'])"
   ]
  },
  {
   "cell_type": "code",
   "execution_count": 35,
   "id": "fbb0dc2c-8996-4be2-a5ae-aa59c85d7100",
   "metadata": {
    "tags": []
   },
   "outputs": [],
   "source": [
    "# plotting CD single sales over the years"
   ]
  },
  {
   "cell_type": "code",
   "execution_count": 36,
   "id": "657dda82-b4f2-4c15-ba1e-534075a5b3e4",
   "metadata": {
    "tags": []
   },
   "outputs": [
    {
     "data": {
      "text/plain": [
       "<matplotlib.legend.Legend at 0x7f0d9be22040>"
      ]
     },
     "execution_count": 36,
     "metadata": {},
     "output_type": "execute_result"
    },
    {
     "data": {
      "image/png": "[encoded data removed]",
      "text/plain": [
       "<Figure size 864x576 with 1 Axes>"
      ]
     },
     "metadata": {
      "needs_background": "light"
     },
     "output_type": "display_data"
    }
   ],
   "source": [
    "cds = format_dfs[12].plot(kind='bar', x='Year', y='Value (Actual)', figsize=(12,8))\n",
    "\n",
    "cds.set_title('CD Single Sales 1989-2019')\n",
    "cds.set_xlabel('Year', fontsize=14)\n",
    "cds.set_ylabel('Revenue (in millions)', fontsize=14)\n",
    "cds.legend(['Revenue Adjusted to PV'])"
   ]
  },
  {
   "cell_type": "code",
   "execution_count": 37,
   "id": "4ed67352-8d64-46ae-9992-c1d7925387ac",
   "metadata": {},
   "outputs": [],
   "source": [
    "# in years 2016, 2018, and 2019 the values are under 1 million and therefore very close to zero on this graph"
   ]
  },
  {
   "cell_type": "code",
   "execution_count": 38,
   "id": "4188d235-1f3c-4303-bd4f-79c845df298a",
   "metadata": {},
   "outputs": [],
   "source": [
    "# plotting Limited Tier Paid Subscription sales over the years"
   ]
  },
  {
   "cell_type": "code",
   "execution_count": 39,
   "id": "ce05e47f-11b8-46a9-9e58-5cef173ff290",
   "metadata": {},
   "outputs": [
    {
     "data": {
      "text/plain": [
       "<matplotlib.legend.Legend at 0x7f0d9be10b50>"
      ]
     },
     "execution_count": 39,
     "metadata": {},
     "output_type": "execute_result"
    },
    {
     "data": {
      "image/png": "[encoded data removed]",
      "text/plain": [
       "<Figure size 720x432 with 1 Axes>"
      ]
     },
     "metadata": {
      "needs_background": "light"
     },
     "output_type": "display_data"
    }
   ],
   "source": [
    "cds = format_dfs[7].plot(kind='bar', x='Year', y='Value (Actual)', figsize=(10,6))\n",
    "\n",
    "cds.set_title('Limited Tier Paid Subscription Sales 2016-2019')\n",
    "cds.set_xlabel('Year', fontsize=14)\n",
    "cds.set_ylabel('Revenue (in millions)', fontsize=14)\n",
    "cds.legend(['Revenue Adjusted to PV'])"
   ]
  },
  {
   "cell_type": "code",
   "execution_count": 40,
   "id": "8ec5ee92-a705-458a-89f3-38558a418aec",
   "metadata": {},
   "outputs": [],
   "source": [
    "# still need to plot for remaining formats"
   ]
  },
  {
   "cell_type": "code",
   "execution_count": 41,
   "id": "af48b4a8-e740-4f92-b1c1-c9d5c45c5162",
   "metadata": {
    "tags": []
   },
   "outputs": [],
   "source": [
    "# looking at how composition of sales changed every 15 years"
   ]
  },
  {
   "cell_type": "code",
   "execution_count": 42,
   "id": "0a712ac5-6cc2-4341-9d81-1700570c868d",
   "metadata": {},
   "outputs": [],
   "source": [
    "# looking at most popular format of sales in 1973"
   ]
  },
  {
   "cell_type": "code",
   "execution_count": 43,
   "id": "f1e987b1-b8cf-4c5a-b704-4894f0ab448a",
   "metadata": {
    "tags": []
   },
   "outputs": [],
   "source": [
    "df_1973 = adjusted[adjusted['Year'] == 1973]"
   ]
  },
  {
   "cell_type": "code",
   "execution_count": 44,
   "id": "efc51442-4be8-4083-aa61-41d1446ef8a0",
   "metadata": {},
   "outputs": [
    {
     "data": {
      "text/html": [
       "<div>\n",
       "<style scoped>\n",
       "    .dataframe tbody tr th:only-of-type {\n",
       "        vertical-align: middle;\n",
       "    }\n",
       "\n",
       "    .dataframe tbody tr th {\n",
       "        vertical-align: top;\n",
       "    }\n",
       "\n",
       "    .dataframe thead th {\n",
       "        text-align: right;\n",
       "    }\n",
       "</style>\n",
       "<table border=\"1\" class=\"dataframe\">\n",
       "  <thead>\n",
       "    <tr style=\"text-align: right;\">\n",
       "      <th></th>\n",
       "      <th>Metric</th>\n",
       "      <th>Year</th>\n",
       "      <th>Number of Records</th>\n",
       "      <th>Value (Actual)</th>\n",
       "    </tr>\n",
       "    <tr>\n",
       "      <th>Format</th>\n",
       "      <th></th>\n",
       "      <th></th>\n",
       "      <th></th>\n",
       "      <th></th>\n",
       "    </tr>\n",
       "  </thead>\n",
       "  <tbody>\n",
       "    <tr>\n",
       "      <th>8 - Track</th>\n",
       "      <td>Value (Adjusted)</td>\n",
       "      <td>1973</td>\n",
       "      <td>1</td>\n",
       "      <td>2815.681824</td>\n",
       "    </tr>\n",
       "    <tr>\n",
       "      <th>Cassette</th>\n",
       "      <td>Value (Adjusted)</td>\n",
       "      <td>1973</td>\n",
       "      <td>1</td>\n",
       "      <td>437.611081</td>\n",
       "    </tr>\n",
       "    <tr>\n",
       "      <th>LP/EP</th>\n",
       "      <td>Value (Adjusted)</td>\n",
       "      <td>1973</td>\n",
       "      <td>1</td>\n",
       "      <td>7174.518514</td>\n",
       "    </tr>\n",
       "    <tr>\n",
       "      <th>Other Tapes</th>\n",
       "      <td>Value (Adjusted)</td>\n",
       "      <td>1973</td>\n",
       "      <td>1</td>\n",
       "      <td>89.825432</td>\n",
       "    </tr>\n",
       "    <tr>\n",
       "      <th>Vinyl Single</th>\n",
       "      <td>Value (Adjusted)</td>\n",
       "      <td>1973</td>\n",
       "      <td>1</td>\n",
       "      <td>1094.027703</td>\n",
       "    </tr>\n",
       "  </tbody>\n",
       "</table>\n",
       "</div>"
      ],
      "text/plain": [
       "                        Metric  Year  Number of Records  Value (Actual)\n",
       "Format                                                                 \n",
       "8 - Track     Value (Adjusted)  1973                  1     2815.681824\n",
       "Cassette      Value (Adjusted)  1973                  1      437.611081\n",
       "LP/EP         Value (Adjusted)  1973                  1     7174.518514\n",
       "Other Tapes   Value (Adjusted)  1973                  1       89.825432\n",
       "Vinyl Single  Value (Adjusted)  1973                  1     1094.027703"
      ]
     },
     "execution_count": 44,
     "metadata": {},
     "output_type": "execute_result"
    }
   ],
   "source": [
    "df_1973_index = df_1973.set_index(\"Format\")\n",
    "df_1973_index"
   ]
  },
  {
   "cell_type": "code",
   "execution_count": 45,
   "id": "376db907-87d9-497c-8c3c-9993f65c27d5",
   "metadata": {},
   "outputs": [],
   "source": [
    "# looking at most popular format of sales in 1988"
   ]
  },
  {
   "cell_type": "code",
   "execution_count": 46,
   "id": "275ec69b-6584-4b39-a365-122419fd502a",
   "metadata": {},
   "outputs": [
    {
     "data": {
      "text/html": [
       "<div>\n",
       "<style scoped>\n",
       "    .dataframe tbody tr th:only-of-type {\n",
       "        vertical-align: middle;\n",
       "    }\n",
       "\n",
       "    .dataframe tbody tr th {\n",
       "        vertical-align: top;\n",
       "    }\n",
       "\n",
       "    .dataframe thead th {\n",
       "        text-align: right;\n",
       "    }\n",
       "</style>\n",
       "<table border=\"1\" class=\"dataframe\">\n",
       "  <thead>\n",
       "    <tr style=\"text-align: right;\">\n",
       "      <th></th>\n",
       "      <th>Metric</th>\n",
       "      <th>Year</th>\n",
       "      <th>Number of Records</th>\n",
       "      <th>Value (Actual)</th>\n",
       "    </tr>\n",
       "    <tr>\n",
       "      <th>Format</th>\n",
       "      <th></th>\n",
       "      <th></th>\n",
       "      <th></th>\n",
       "      <th></th>\n",
       "    </tr>\n",
       "  </thead>\n",
       "  <tbody>\n",
       "    <tr>\n",
       "      <th>CD</th>\n",
       "      <td>Value (Adjusted)</td>\n",
       "      <td>1988</td>\n",
       "      <td>1</td>\n",
       "      <td>4516.462927</td>\n",
       "    </tr>\n",
       "    <tr>\n",
       "      <th>CD Single</th>\n",
       "      <td>Value (Adjusted)</td>\n",
       "      <td>1988</td>\n",
       "      <td>1</td>\n",
       "      <td>21.178686</td>\n",
       "    </tr>\n",
       "    <tr>\n",
       "      <th>Cassette</th>\n",
       "      <td>Value (Adjusted)</td>\n",
       "      <td>1988</td>\n",
       "      <td>1</td>\n",
       "      <td>7315.507276</td>\n",
       "    </tr>\n",
       "    <tr>\n",
       "      <th>Cassette Single</th>\n",
       "      <td>Value (Adjusted)</td>\n",
       "      <td>1988</td>\n",
       "      <td>1</td>\n",
       "      <td>123.830483</td>\n",
       "    </tr>\n",
       "    <tr>\n",
       "      <th>LP/EP</th>\n",
       "      <td>Value (Adjusted)</td>\n",
       "      <td>1988</td>\n",
       "      <td>1</td>\n",
       "      <td>1150.132336</td>\n",
       "    </tr>\n",
       "    <tr>\n",
       "      <th>Vinyl Single</th>\n",
       "      <td>Value (Adjusted)</td>\n",
       "      <td>1988</td>\n",
       "      <td>1</td>\n",
       "      <td>389.860717</td>\n",
       "    </tr>\n",
       "  </tbody>\n",
       "</table>\n",
       "</div>"
      ],
      "text/plain": [
       "                           Metric  Year  Number of Records  Value (Actual)\n",
       "Format                                                                    \n",
       "CD               Value (Adjusted)  1988                  1     4516.462927\n",
       "CD Single        Value (Adjusted)  1988                  1       21.178686\n",
       "Cassette         Value (Adjusted)  1988                  1     7315.507276\n",
       "Cassette Single  Value (Adjusted)  1988                  1      123.830483\n",
       "LP/EP            Value (Adjusted)  1988                  1     1150.132336\n",
       "Vinyl Single     Value (Adjusted)  1988                  1      389.860717"
      ]
     },
     "execution_count": 46,
     "metadata": {},
     "output_type": "execute_result"
    }
   ],
   "source": [
    "df_1988 = adjusted[adjusted['Year'] == 1988]\n",
    "df_1988_index = df_1988.set_index(\"Format\")\n",
    "df_1988_index"
   ]
  },
  {
   "cell_type": "code",
   "execution_count": 47,
   "id": "0dc62abb-c44b-4f3b-8476-88b230cd09d6",
   "metadata": {},
   "outputs": [],
   "source": [
    "# looking at most popular format of sales in 2003"
   ]
  },
  {
   "cell_type": "code",
   "execution_count": 48,
   "id": "6bb1a24f-4c81-440a-a1b0-155d6361fa2b",
   "metadata": {
    "tags": []
   },
   "outputs": [
    {
     "data": {
      "text/html": [
       "<div>\n",
       "<style scoped>\n",
       "    .dataframe tbody tr th:only-of-type {\n",
       "        vertical-align: middle;\n",
       "    }\n",
       "\n",
       "    .dataframe tbody tr th {\n",
       "        vertical-align: top;\n",
       "    }\n",
       "\n",
       "    .dataframe thead th {\n",
       "        text-align: right;\n",
       "    }\n",
       "</style>\n",
       "<table border=\"1\" class=\"dataframe\">\n",
       "  <thead>\n",
       "    <tr style=\"text-align: right;\">\n",
       "      <th></th>\n",
       "      <th>Metric</th>\n",
       "      <th>Year</th>\n",
       "      <th>Number of Records</th>\n",
       "      <th>Value (Actual)</th>\n",
       "    </tr>\n",
       "    <tr>\n",
       "      <th>Format</th>\n",
       "      <th></th>\n",
       "      <th></th>\n",
       "      <th></th>\n",
       "      <th></th>\n",
       "    </tr>\n",
       "  </thead>\n",
       "  <tbody>\n",
       "    <tr>\n",
       "      <th>CD</th>\n",
       "      <td>Value (Adjusted)</td>\n",
       "      <td>2003</td>\n",
       "      <td>1</td>\n",
       "      <td>15607.443020</td>\n",
       "    </tr>\n",
       "    <tr>\n",
       "      <th>CD Single</th>\n",
       "      <td>Value (Adjusted)</td>\n",
       "      <td>2003</td>\n",
       "      <td>1</td>\n",
       "      <td>50.019848</td>\n",
       "    </tr>\n",
       "    <tr>\n",
       "      <th>Cassette</th>\n",
       "      <td>Value (Adjusted)</td>\n",
       "      <td>2003</td>\n",
       "      <td>1</td>\n",
       "      <td>150.198487</td>\n",
       "    </tr>\n",
       "    <tr>\n",
       "      <th>DVD Audio</th>\n",
       "      <td>Value (Adjusted)</td>\n",
       "      <td>2003</td>\n",
       "      <td>1</td>\n",
       "      <td>11.115522</td>\n",
       "    </tr>\n",
       "    <tr>\n",
       "      <th>LP/EP</th>\n",
       "      <td>Value (Adjusted)</td>\n",
       "      <td>2003</td>\n",
       "      <td>1</td>\n",
       "      <td>30.150853</td>\n",
       "    </tr>\n",
       "    <tr>\n",
       "      <th>Music Video (Physical)</th>\n",
       "      <td>Value (Adjusted)</td>\n",
       "      <td>2003</td>\n",
       "      <td>1</td>\n",
       "      <td>555.637143</td>\n",
       "    </tr>\n",
       "    <tr>\n",
       "      <th>SACD</th>\n",
       "      <td>Value (Adjusted)</td>\n",
       "      <td>2003</td>\n",
       "      <td>1</td>\n",
       "      <td>36.542278</td>\n",
       "    </tr>\n",
       "    <tr>\n",
       "      <th>Vinyl Single</th>\n",
       "      <td>Value (Adjusted)</td>\n",
       "      <td>2003</td>\n",
       "      <td>1</td>\n",
       "      <td>29.872965</td>\n",
       "    </tr>\n",
       "  </tbody>\n",
       "</table>\n",
       "</div>"
      ],
      "text/plain": [
       "                                  Metric  Year  Number of Records  \\\n",
       "Format                                                              \n",
       "CD                      Value (Adjusted)  2003                  1   \n",
       "CD Single               Value (Adjusted)  2003                  1   \n",
       "Cassette                Value (Adjusted)  2003                  1   \n",
       "DVD Audio               Value (Adjusted)  2003                  1   \n",
       "LP/EP                   Value (Adjusted)  2003                  1   \n",
       "Music Video (Physical)  Value (Adjusted)  2003                  1   \n",
       "SACD                    Value (Adjusted)  2003                  1   \n",
       "Vinyl Single            Value (Adjusted)  2003                  1   \n",
       "\n",
       "                        Value (Actual)  \n",
       "Format                                  \n",
       "CD                        15607.443020  \n",
       "CD Single                    50.019848  \n",
       "Cassette                    150.198487  \n",
       "DVD Audio                    11.115522  \n",
       "LP/EP                        30.150853  \n",
       "Music Video (Physical)      555.637143  \n",
       "SACD                         36.542278  \n",
       "Vinyl Single                 29.872965  "
      ]
     },
     "execution_count": 48,
     "metadata": {},
     "output_type": "execute_result"
    }
   ],
   "source": [
    "df_2003 = adjusted[adjusted['Year'] == 2003]\n",
    "df_2003_index = df_2003.set_index(\"Format\")\n",
    "df_2003_index"
   ]
  },
  {
   "cell_type": "code",
   "execution_count": 49,
   "id": "8c560ae6-a0fc-4fad-ba20-4b9c0d21cf98",
   "metadata": {},
   "outputs": [],
   "source": [
    "# looking at most popular format of sales in 2018"
   ]
  },
  {
   "cell_type": "code",
   "execution_count": 50,
   "id": "dea9d767-3f81-40a8-a88d-521ac2de8cc8",
   "metadata": {},
   "outputs": [
    {
     "data": {
      "text/html": [
       "<div>\n",
       "<style scoped>\n",
       "    .dataframe tbody tr th:only-of-type {\n",
       "        vertical-align: middle;\n",
       "    }\n",
       "\n",
       "    .dataframe tbody tr th {\n",
       "        vertical-align: top;\n",
       "    }\n",
       "\n",
       "    .dataframe thead th {\n",
       "        text-align: right;\n",
       "    }\n",
       "</style>\n",
       "<table border=\"1\" class=\"dataframe\">\n",
       "  <thead>\n",
       "    <tr style=\"text-align: right;\">\n",
       "      <th></th>\n",
       "      <th>Metric</th>\n",
       "      <th>Year</th>\n",
       "      <th>Number of Records</th>\n",
       "      <th>Value (Actual)</th>\n",
       "    </tr>\n",
       "    <tr>\n",
       "      <th>Format</th>\n",
       "      <th></th>\n",
       "      <th></th>\n",
       "      <th></th>\n",
       "      <th></th>\n",
       "    </tr>\n",
       "  </thead>\n",
       "  <tbody>\n",
       "    <tr>\n",
       "      <th>CD</th>\n",
       "      <td>Value (Adjusted)</td>\n",
       "      <td>2018</td>\n",
       "      <td>1</td>\n",
       "      <td>711.041239</td>\n",
       "    </tr>\n",
       "    <tr>\n",
       "      <th>CD Single</th>\n",
       "      <td>Value (Adjusted)</td>\n",
       "      <td>2018</td>\n",
       "      <td>1</td>\n",
       "      <td>0.157981</td>\n",
       "    </tr>\n",
       "    <tr>\n",
       "      <th>DVD Audio</th>\n",
       "      <td>Value (Adjusted)</td>\n",
       "      <td>2018</td>\n",
       "      <td>1</td>\n",
       "      <td>3.377494</td>\n",
       "    </tr>\n",
       "    <tr>\n",
       "      <th>Download Album</th>\n",
       "      <td>Value (Adjusted)</td>\n",
       "      <td>2018</td>\n",
       "      <td>1</td>\n",
       "      <td>508.704388</td>\n",
       "    </tr>\n",
       "    <tr>\n",
       "      <th>Download Music Video</th>\n",
       "      <td>Value (Adjusted)</td>\n",
       "      <td>2018</td>\n",
       "      <td>1</td>\n",
       "      <td>2.261051</td>\n",
       "    </tr>\n",
       "    <tr>\n",
       "      <th>Download Single</th>\n",
       "      <td>Value (Adjusted)</td>\n",
       "      <td>2018</td>\n",
       "      <td>1</td>\n",
       "      <td>499.316974</td>\n",
       "    </tr>\n",
       "    <tr>\n",
       "      <th>Kiosk</th>\n",
       "      <td>Value (Adjusted)</td>\n",
       "      <td>2018</td>\n",
       "      <td>1</td>\n",
       "      <td>2.000652</td>\n",
       "    </tr>\n",
       "    <tr>\n",
       "      <th>LP/EP</th>\n",
       "      <td>Value (Adjusted)</td>\n",
       "      <td>2018</td>\n",
       "      <td>1</td>\n",
       "      <td>426.820187</td>\n",
       "    </tr>\n",
       "    <tr>\n",
       "      <th>Limited Tier Paid Subscription</th>\n",
       "      <td>Value (Adjusted)</td>\n",
       "      <td>2018</td>\n",
       "      <td>1</td>\n",
       "      <td>760.591366</td>\n",
       "    </tr>\n",
       "    <tr>\n",
       "      <th>Music Video (Physical)</th>\n",
       "      <td>Value (Adjusted)</td>\n",
       "      <td>2018</td>\n",
       "      <td>1</td>\n",
       "      <td>28.060664</td>\n",
       "    </tr>\n",
       "    <tr>\n",
       "      <th>On-Demand Streaming (Ad-Supported)</th>\n",
       "      <td>Value (Adjusted)</td>\n",
       "      <td>2018</td>\n",
       "      <td>1</td>\n",
       "      <td>773.294917</td>\n",
       "    </tr>\n",
       "    <tr>\n",
       "      <th>Other Ad-Supported Streaming</th>\n",
       "      <td>Value (Adjusted)</td>\n",
       "      <td>2018</td>\n",
       "      <td>1</td>\n",
       "      <td>255.967444</td>\n",
       "    </tr>\n",
       "    <tr>\n",
       "      <th>Other Digital</th>\n",
       "      <td>Value (Adjusted)</td>\n",
       "      <td>2018</td>\n",
       "      <td>1</td>\n",
       "      <td>20.199063</td>\n",
       "    </tr>\n",
       "    <tr>\n",
       "      <th>Paid Subscription</th>\n",
       "      <td>Value (Adjusted)</td>\n",
       "      <td>2018</td>\n",
       "      <td>1</td>\n",
       "      <td>4740.333581</td>\n",
       "    </tr>\n",
       "    <tr>\n",
       "      <th>Ringtones &amp; Ringbacks</th>\n",
       "      <td>Value (Adjusted)</td>\n",
       "      <td>2018</td>\n",
       "      <td>1</td>\n",
       "      <td>25.410090</td>\n",
       "    </tr>\n",
       "    <tr>\n",
       "      <th>SACD</th>\n",
       "      <td>Value (Adjusted)</td>\n",
       "      <td>2018</td>\n",
       "      <td>1</td>\n",
       "      <td>0.875277</td>\n",
       "    </tr>\n",
       "    <tr>\n",
       "      <th>SoundExchange Distributions</th>\n",
       "      <td>Value (Adjusted)</td>\n",
       "      <td>2018</td>\n",
       "      <td>1</td>\n",
       "      <td>970.064513</td>\n",
       "    </tr>\n",
       "    <tr>\n",
       "      <th>Synchronization</th>\n",
       "      <td>Value (Adjusted)</td>\n",
       "      <td>2018</td>\n",
       "      <td>1</td>\n",
       "      <td>290.686929</td>\n",
       "    </tr>\n",
       "    <tr>\n",
       "      <th>Vinyl Single</th>\n",
       "      <td>Value (Adjusted)</td>\n",
       "      <td>2018</td>\n",
       "      <td>1</td>\n",
       "      <td>5.386197</td>\n",
       "    </tr>\n",
       "  </tbody>\n",
       "</table>\n",
       "</div>"
      ],
      "text/plain": [
       "                                              Metric  Year  Number of Records  \\\n",
       "Format                                                                          \n",
       "CD                                  Value (Adjusted)  2018                  1   \n",
       "CD Single                           Value (Adjusted)  2018                  1   \n",
       "DVD Audio                           Value (Adjusted)  2018                  1   \n",
       "Download Album                      Value (Adjusted)  2018                  1   \n",
       "Download Music Video                Value (Adjusted)  2018                  1   \n",
       "Download Single                     Value (Adjusted)  2018                  1   \n",
       "Kiosk                               Value (Adjusted)  2018                  1   \n",
       "LP/EP                               Value (Adjusted)  2018                  1   \n",
       "Limited Tier Paid Subscription      Value (Adjusted)  2018                  1   \n",
       "Music Video (Physical)              Value (Adjusted)  2018                  1   \n",
       "On-Demand Streaming (Ad-Supported)  Value (Adjusted)  2018                  1   \n",
       "Other Ad-Supported Streaming        Value (Adjusted)  2018                  1   \n",
       "Other Digital                       Value (Adjusted)  2018                  1   \n",
       "Paid Subscription                   Value (Adjusted)  2018                  1   \n",
       "Ringtones & Ringbacks               Value (Adjusted)  2018                  1   \n",
       "SACD                                Value (Adjusted)  2018                  1   \n",
       "SoundExchange Distributions         Value (Adjusted)  2018                  1   \n",
       "Synchronization                     Value (Adjusted)  2018                  1   \n",
       "Vinyl Single                        Value (Adjusted)  2018                  1   \n",
       "\n",
       "                                    Value (Actual)  \n",
       "Format                                              \n",
       "CD                                      711.041239  \n",
       "CD Single                                 0.157981  \n",
       "DVD Audio                                 3.377494  \n",
       "Download Album                          508.704388  \n",
       "Download Music Video                      2.261051  \n",
       "Download Single                         499.316974  \n",
       "Kiosk                                     2.000652  \n",
       "LP/EP                                   426.820187  \n",
       "Limited Tier Paid Subscription          760.591366  \n",
       "Music Video (Physical)                   28.060664  \n",
       "On-Demand Streaming (Ad-Supported)      773.294917  \n",
       "Other Ad-Supported Streaming            255.967444  \n",
       "Other Digital                            20.199063  \n",
       "Paid Subscription                      4740.333581  \n",
       "Ringtones & Ringbacks                    25.410090  \n",
       "SACD                                      0.875277  \n",
       "SoundExchange Distributions             970.064513  \n",
       "Synchronization                         290.686929  \n",
       "Vinyl Single                              5.386197  "
      ]
     },
     "execution_count": 50,
     "metadata": {},
     "output_type": "execute_result"
    }
   ],
   "source": [
    "df_2018 = adjusted[adjusted['Year'] == 2018]\n",
    "df_2018_index = df_2018.set_index(\"Format\")\n",
    "df_2018_index"
   ]
  },
  {
   "cell_type": "code",
   "execution_count": 51,
   "id": "70aeeb01-e523-4105-a420-e58154403eed",
   "metadata": {},
   "outputs": [
    {
     "data": {
      "text/plain": [
       "Text(0, 0.5, 'Revenue (in millions)')"
      ]
     },
     "execution_count": 51,
     "metadata": {},
     "output_type": "execute_result"
    },
    {
     "data": {
      "image/png": "[encoded data removed]",
      "text/plain": [
       "<Figure size 1080x432 with 1 Axes>"
      ]
     },
     "metadata": {},
     "output_type": "display_data"
    },
    {
     "data": {
      "image/png": "[encoded data removed]",
      "text/plain": [
       "<Figure size 1080x432 with 1 Axes>"
      ]
     },
     "metadata": {},
     "output_type": "display_data"
    },
    {
     "data": {
      "image/png": "[encoded data removed]",
      "text/plain": [
       "<Figure size 1080x432 with 1 Axes>"
      ]
     },
     "metadata": {},
     "output_type": "display_data"
    },
    {
     "data": {
      "image/png": "[encoded data removed]",
      "text/plain": [
       "<Figure size 1080x432 with 1 Axes>"
      ]
     },
     "metadata": {},
     "output_type": "display_data"
    }
   ],
   "source": [
    "a = df_1973_index.plot(kind='pie', y='Value (Actual)',figsize=(15,6))\n",
    "plt.legend(bbox_to_anchor=(1.0, 1.0))\n",
    "a.set_title('Music Industry Sales in 1973')\n",
    "a.set_ylabel('Revenue (in millions)')\n",
    "\n",
    "b = df_1988_index.plot(kind='pie', y='Value (Actual)',figsize=(15,6))\n",
    "plt.legend(bbox_to_anchor=(1.0, 1.0))\n",
    "b.set_title('Music Industry Sales in 1988')\n",
    "b.set_ylabel('Revenue (in millions)')\n",
    "\n",
    "c = df_2003_index.plot(kind='pie', y='Value (Actual)',figsize=(15,6))\n",
    "plt.legend(bbox_to_anchor=(1.0, 1.0))\n",
    "c.set_title('Music Industry Sales in 2003')\n",
    "c.set_ylabel('Revenue (in millions)')\n",
    "\n",
    "d = df_2018_index.plot(kind='pie', y='Value (Actual)',figsize=(15,6))\n",
    "plt.legend(bbox_to_anchor=(1.0, 1.0))\n",
    "d.set_title('Music Industry Sales in 2018')\n",
    "d.set_ylabel('Revenue (in millions)')"
   ]
  },
  {
   "cell_type": "code",
   "execution_count": 52,
   "id": "135cb578-e519-4746-afb3-09568ce02fe4",
   "metadata": {},
   "outputs": [],
   "source": [
    "# need to clean up formatting ^"
   ]
  },
  {
   "cell_type": "markdown",
   "id": "fdf45b5c-3da7-44b2-94ed-d9a8c143c9b5",
   "metadata": {},
   "source": [
    "### Looking at Correlation"
   ]
  },
  {
   "cell_type": "code",
   "execution_count": 53,
   "id": "47356e30-b746-4a33-9f22-1fa43bfe21bb",
   "metadata": {},
   "outputs": [],
   "source": [
    "# looking at the correlation between paid subscription and CDs since 2005"
   ]
  },
  {
   "cell_type": "code",
   "execution_count": 54,
   "id": "87727365-ed71-478d-9645-5c14ca97b5b0",
   "metadata": {},
   "outputs": [],
   "source": [
    "cds_2005_on = format_dfs[10][format_dfs[10]['Year']>= 2005]"
   ]
  },
  {
   "cell_type": "code",
   "execution_count": 55,
   "id": "5015c779-b275-4806-a020-7da9bd0f23b1",
   "metadata": {},
   "outputs": [
    {
     "name": "stdout",
     "output_type": "stream",
     "text": [
      "-0.5719970540170898\n"
     ]
    }
   ],
   "source": [
    "print(format_dfs[3]['Value (Actual)'].reset_index(drop=True).corr(cds_2005_on['Value (Actual)'].reset_index(drop=True)))"
   ]
  },
  {
   "cell_type": "code",
   "execution_count": 56,
   "id": "67990de4-638b-4258-9d3f-93d5d5e78a1f",
   "metadata": {
    "tags": []
   },
   "outputs": [],
   "source": [
    "# there's a negative correlation of -0.57"
   ]
  },
  {
   "cell_type": "code",
   "execution_count": 57,
   "id": "e6a8b010-5de7-4c37-992d-b7e80bd3965e",
   "metadata": {},
   "outputs": [
    {
     "data": {
      "text/plain": [
       "<AxesSubplot:xlabel='Year'>"
      ]
     },
     "execution_count": 57,
     "metadata": {},
     "output_type": "execute_result"
    },
    {
     "data": {
      "image/png": "[encoded data removed]",
      "text/plain": [
       "<Figure size 432x288 with 1 Axes>"
      ]
     },
     "metadata": {
      "needs_background": "light"
     },
     "output_type": "display_data"
    }
   ],
   "source": [
    "ax = format_dfs[3].plot(kind='line', x='Year', y='Value (Actual)')\n",
    "cds_2005_on.plot(kind='line', x='Year', y='Value (Actual)', ax=ax)"
   ]
  },
  {
   "cell_type": "code",
   "execution_count": 58,
   "id": "820e586a-54b3-4b0c-906a-40e081cffc19",
   "metadata": {},
   "outputs": [],
   "source": [
    "# looking at the correlation between on-demand streaming and CDs since 2011"
   ]
  },
  {
   "cell_type": "code",
   "execution_count": 59,
   "id": "dd8a19b5-df94-4c97-9bb8-fa18f0b03176",
   "metadata": {},
   "outputs": [],
   "source": [
    "cds_2011_on = format_dfs[10][format_dfs[10]['Year']>= 2011]"
   ]
  },
  {
   "cell_type": "code",
   "execution_count": 60,
   "id": "561ff40c-3342-445d-a0cd-917026724667",
   "metadata": {},
   "outputs": [
    {
     "name": "stdout",
     "output_type": "stream",
     "text": [
      "-0.9323705630229808\n"
     ]
    }
   ],
   "source": [
    "print(cds_2011_on['Value (Actual)'].reset_index(drop=True).corr(format_dfs[6]['Value (Actual)'].reset_index(drop=True)))"
   ]
  },
  {
   "cell_type": "code",
   "execution_count": 61,
   "id": "7bf1e959-9184-4171-9bcc-35dcde3cf946",
   "metadata": {},
   "outputs": [],
   "source": [
    "# on demand streaming and CDs are very negatively correlated with a correlation of -0.93"
   ]
  },
  {
   "cell_type": "code",
   "execution_count": 62,
   "id": "69526f78-631e-4645-b010-fd1c159f50bf",
   "metadata": {},
   "outputs": [
    {
     "data": {
      "text/plain": [
       "<AxesSubplot:xlabel='Year'>"
      ]
     },
     "execution_count": 62,
     "metadata": {},
     "output_type": "execute_result"
    },
    {
     "data": {
      "image/png": "[encoded data removed]",
      "text/plain": [
       "<Figure size 432x288 with 1 Axes>"
      ]
     },
     "metadata": {
      "needs_background": "light"
     },
     "output_type": "display_data"
    }
   ],
   "source": [
    "ax = format_dfs[6].plot(kind='line', x='Year', y='Value (Actual)')\n",
    "cds_2011_on.plot(kind='line', x='Year', y='Value (Actual)', ax=ax)"
   ]
  },
  {
   "cell_type": "code",
   "execution_count": 63,
   "id": "b1aa802a-daae-499f-a37d-b0d9bbb87464",
   "metadata": {},
   "outputs": [],
   "source": [
    "# looking at the correlation between paid subscription and cassettes since 2005"
   ]
  },
  {
   "cell_type": "code",
   "execution_count": 64,
   "id": "d4e81f09-554a-4b9e-93f8-66f0202af4dc",
   "metadata": {},
   "outputs": [],
   "source": [
    "cassette_2005_on = format_dfs[5][format_dfs[5]['Year']>=2005]"
   ]
  },
  {
   "cell_type": "code",
   "execution_count": 65,
   "id": "b1b343b7-9d3a-4a04-a139-2863905b73de",
   "metadata": {},
   "outputs": [
    {
     "name": "stdout",
     "output_type": "stream",
     "text": [
      "-0.9141174644189466\n"
     ]
    }
   ],
   "source": [
    "print(format_dfs[3]['Value (Actual)'].reset_index(drop=True).corr(cassette_2005_on['Value (Actual)'].reset_index(drop=True)))"
   ]
  },
  {
   "cell_type": "code",
   "execution_count": 66,
   "id": "6789318f-5c45-435e-9ec4-b3119f0df085",
   "metadata": {},
   "outputs": [
    {
     "data": {
      "text/plain": [
       "<AxesSubplot:xlabel='Year'>"
      ]
     },
     "execution_count": 66,
     "metadata": {},
     "output_type": "execute_result"
    },
    {
     "data": {
      "image/png": "[encoded data removed]",
      "text/plain": [
       "<Figure size 432x288 with 1 Axes>"
      ]
     },
     "metadata": {
      "needs_background": "light"
     },
     "output_type": "display_data"
    }
   ],
   "source": [
    "ax = format_dfs[3].plot(kind='line', x='Year', y='Value (Actual)')\n",
    "cassette_2005_on.plot(kind='line', x='Year', y='Value (Actual)', ax=ax)"
   ]
  },
  {
   "cell_type": "code",
   "execution_count": 67,
   "id": "15de8c71-6b1e-46a8-ac6d-f492204f552a",
   "metadata": {},
   "outputs": [],
   "source": [
    "# correlation between PS and on demand streaming"
   ]
  },
  {
   "cell_type": "code",
   "execution_count": 68,
   "id": "4d4a56a6-cbe5-4fb8-8968-f33e5f09b635",
   "metadata": {},
   "outputs": [],
   "source": [
    "ps_2011_on = format_dfs[3][format_dfs[3]['Year']>=2011]"
   ]
  },
  {
   "cell_type": "code",
   "execution_count": 69,
   "id": "aa4d8a5a-7b5f-4616-9c54-713e7b07028a",
   "metadata": {
    "tags": []
   },
   "outputs": [
    {
     "name": "stdout",
     "output_type": "stream",
     "text": [
      "0.9851826999334489\n"
     ]
    }
   ],
   "source": [
    "print(ps_2011_on['Value (Actual)'].reset_index(drop=True).corr(format_dfs[6]['Value (Actual)'].reset_index(drop=True)))"
   ]
  },
  {
   "cell_type": "code",
   "execution_count": 70,
   "id": "6b653987-442f-4a5c-bada-8163f455f4e1",
   "metadata": {},
   "outputs": [],
   "source": [
    "# paid subscription and on demand streaming are very highly correlated with a correlation of 0.98"
   ]
  },
  {
   "cell_type": "code",
   "execution_count": 71,
   "id": "9d38758d-6bfb-40fd-b620-c7248a4f70bf",
   "metadata": {
    "tags": []
   },
   "outputs": [
    {
     "data": {
      "text/plain": [
       "<AxesSubplot:xlabel='Year'>"
      ]
     },
     "execution_count": 71,
     "metadata": {},
     "output_type": "execute_result"
    },
    {
     "data": {
      "image/png": "[encoded data removed]",
      "text/plain": [
       "<Figure size 432x288 with 1 Axes>"
      ]
     },
     "metadata": {
      "needs_background": "light"
     },
     "output_type": "display_data"
    }
   ],
   "source": [
    "ax = ps_2011_on.plot(kind='line', x='Year', y='Value (Actual)')\n",
    "format_dfs[6].plot(kind='line', x='Year', y='Value (Actual)', ax=ax)"
   ]
  },
  {
   "cell_type": "code",
   "execution_count": 72,
   "id": "84adc713-6eb8-4f2a-a825-403e22eb2994",
   "metadata": {},
   "outputs": [],
   "source": [
    "# correlation between on demand streaming and other ad-supported streaming after 2016"
   ]
  },
  {
   "cell_type": "code",
   "execution_count": 73,
   "id": "1493350d-ce80-483e-a17c-e033449be4e1",
   "metadata": {},
   "outputs": [],
   "source": [
    "ods_2016_on = format_dfs[6][format_dfs[6]['Year']>=2016]"
   ]
  },
  {
   "cell_type": "code",
   "execution_count": 135,
   "id": "2f3905a7-b30d-4486-9f71-08d1e2677262",
   "metadata": {},
   "outputs": [
    {
     "name": "stdout",
     "output_type": "stream",
     "text": [
      "0.767500469481728\n"
     ]
    }
   ],
   "source": [
    "print(ods_2016_on['Value (Actual)'].reset_index(drop=True).corr(format_dfs[2]['Value (Actual)'].reset_index(drop=True)))"
   ]
  },
  {
   "cell_type": "code",
   "execution_count": 140,
   "id": "4d5996d6-7050-4ed1-a53a-bed181787480",
   "metadata": {},
   "outputs": [
    {
     "data": {
      "text/plain": [
       "<AxesSubplot:xlabel='Year'>"
      ]
     },
     "execution_count": 140,
     "metadata": {},
     "output_type": "execute_result"
    },
    {
     "data": {
      "image/png": "[encoded data removed]",
      "text/plain": [
       "<Figure size 432x288 with 1 Axes>"
      ]
     },
     "metadata": {
      "needs_background": "light"
     },
     "output_type": "display_data"
    }
   ],
   "source": [
    "ax = ods_2016_on.plot(kind='line', x='Year', y='Value (Actual)')\n",
    "format_dfs[2].plot(kind='line', x='Year', y='Value (Actual)', ax=ax)"
   ]
  },
  {
   "cell_type": "code",
   "execution_count": 139,
   "id": "07028bc2-bac6-41ac-b9fe-5c49a105ebcc",
   "metadata": {},
   "outputs": [
    {
     "data": {
      "text/html": [
       "<div>\n",
       "<style scoped>\n",
       "    .dataframe tbody tr th:only-of-type {\n",
       "        vertical-align: middle;\n",
       "    }\n",
       "\n",
       "    .dataframe tbody tr th {\n",
       "        vertical-align: top;\n",
       "    }\n",
       "\n",
       "    .dataframe thead th {\n",
       "        text-align: right;\n",
       "    }\n",
       "</style>\n",
       "<table border=\"1\" class=\"dataframe\">\n",
       "  <thead>\n",
       "    <tr style=\"text-align: right;\">\n",
       "      <th></th>\n",
       "      <th>Format</th>\n",
       "      <th>Metric</th>\n",
       "      <th>Year</th>\n",
       "      <th>Number of Records</th>\n",
       "      <th>Value (Actual)</th>\n",
       "    </tr>\n",
       "  </thead>\n",
       "  <tbody>\n",
       "    <tr>\n",
       "      <th>294</th>\n",
       "      <td>On-Demand Streaming (Ad-Supported)</td>\n",
       "      <td>Value (Adjusted)</td>\n",
       "      <td>2011</td>\n",
       "      <td>1</td>\n",
       "      <td>129.340695</td>\n",
       "    </tr>\n",
       "    <tr>\n",
       "      <th>295</th>\n",
       "      <td>On-Demand Streaming (Ad-Supported)</td>\n",
       "      <td>Value (Adjusted)</td>\n",
       "      <td>2012</td>\n",
       "      <td>1</td>\n",
       "      <td>190.339616</td>\n",
       "    </tr>\n",
       "    <tr>\n",
       "      <th>296</th>\n",
       "      <td>On-Demand Streaming (Ad-Supported)</td>\n",
       "      <td>Value (Adjusted)</td>\n",
       "      <td>2013</td>\n",
       "      <td>1</td>\n",
       "      <td>242.396098</td>\n",
       "    </tr>\n",
       "    <tr>\n",
       "      <th>297</th>\n",
       "      <td>On-Demand Streaming (Ad-Supported)</td>\n",
       "      <td>Value (Adjusted)</td>\n",
       "      <td>2014</td>\n",
       "      <td>1</td>\n",
       "      <td>306.475448</td>\n",
       "    </tr>\n",
       "    <tr>\n",
       "      <th>298</th>\n",
       "      <td>On-Demand Streaming (Ad-Supported)</td>\n",
       "      <td>Value (Adjusted)</td>\n",
       "      <td>2015</td>\n",
       "      <td>1</td>\n",
       "      <td>401.245264</td>\n",
       "    </tr>\n",
       "    <tr>\n",
       "      <th>299</th>\n",
       "      <td>On-Demand Streaming (Ad-Supported)</td>\n",
       "      <td>Value (Adjusted)</td>\n",
       "      <td>2016</td>\n",
       "      <td>1</td>\n",
       "      <td>521.288175</td>\n",
       "    </tr>\n",
       "    <tr>\n",
       "      <th>300</th>\n",
       "      <td>On-Demand Streaming (Ad-Supported)</td>\n",
       "      <td>Value (Adjusted)</td>\n",
       "      <td>2017</td>\n",
       "      <td>1</td>\n",
       "      <td>686.918081</td>\n",
       "    </tr>\n",
       "    <tr>\n",
       "      <th>301</th>\n",
       "      <td>On-Demand Streaming (Ad-Supported)</td>\n",
       "      <td>Value (Adjusted)</td>\n",
       "      <td>2018</td>\n",
       "      <td>1</td>\n",
       "      <td>773.294917</td>\n",
       "    </tr>\n",
       "    <tr>\n",
       "      <th>302</th>\n",
       "      <td>On-Demand Streaming (Ad-Supported)</td>\n",
       "      <td>Value (Adjusted)</td>\n",
       "      <td>2019</td>\n",
       "      <td>1</td>\n",
       "      <td>908.149331</td>\n",
       "    </tr>\n",
       "  </tbody>\n",
       "</table>\n",
       "</div>"
      ],
      "text/plain": [
       "                                 Format            Metric  Year  \\\n",
       "294  On-Demand Streaming (Ad-Supported)  Value (Adjusted)  2011   \n",
       "295  On-Demand Streaming (Ad-Supported)  Value (Adjusted)  2012   \n",
       "296  On-Demand Streaming (Ad-Supported)  Value (Adjusted)  2013   \n",
       "297  On-Demand Streaming (Ad-Supported)  Value (Adjusted)  2014   \n",
       "298  On-Demand Streaming (Ad-Supported)  Value (Adjusted)  2015   \n",
       "299  On-Demand Streaming (Ad-Supported)  Value (Adjusted)  2016   \n",
       "300  On-Demand Streaming (Ad-Supported)  Value (Adjusted)  2017   \n",
       "301  On-Demand Streaming (Ad-Supported)  Value (Adjusted)  2018   \n",
       "302  On-Demand Streaming (Ad-Supported)  Value (Adjusted)  2019   \n",
       "\n",
       "     Number of Records  Value (Actual)  \n",
       "294                  1      129.340695  \n",
       "295                  1      190.339616  \n",
       "296                  1      242.396098  \n",
       "297                  1      306.475448  \n",
       "298                  1      401.245264  \n",
       "299                  1      521.288175  \n",
       "300                  1      686.918081  \n",
       "301                  1      773.294917  \n",
       "302                  1      908.149331  "
      ]
     },
     "execution_count": 139,
     "metadata": {},
     "output_type": "execute_result"
    }
   ],
   "source": [
    "format_dfs[6]"
   ]
  },
  {
   "cell_type": "code",
   "execution_count": 143,
   "id": "67b015f8-a70d-434d-bdd7-05b62db609da",
   "metadata": {},
   "outputs": [],
   "source": [
    "download_album_2011_on = format_dfs[1][format_dfs[1]['Year']>=2011]"
   ]
  },
  {
   "cell_type": "code",
   "execution_count": 144,
   "id": "7b92ba5b-5fb2-4cca-925a-103c0e2be437",
   "metadata": {},
   "outputs": [
    {
     "name": "stdout",
     "output_type": "stream",
     "text": [
      "-0.9715897248193843\n"
     ]
    }
   ],
   "source": [
    "print(download_album_2011_on['Value (Actual)'].reset_index(drop=True).corr(format_dfs[6]['Value (Actual)'].reset_index(drop=True)))"
   ]
  },
  {
   "cell_type": "code",
   "execution_count": 145,
   "id": "73a6e90d-845b-4aa5-aaec-5629cc06d4b2",
   "metadata": {},
   "outputs": [],
   "source": [
    "# download album and on-demand streaming are very negatively correlated"
   ]
  },
  {
   "cell_type": "code",
   "execution_count": 146,
   "id": "9c6c206e-de32-459c-aeb4-82b0a191386e",
   "metadata": {},
   "outputs": [
    {
     "data": {
      "text/plain": [
       "<AxesSubplot:xlabel='Year'>"
      ]
     },
     "execution_count": 146,
     "metadata": {},
     "output_type": "execute_result"
    },
    {
     "data": {
      "image/png": "[encoded data removed]",
      "text/plain": [
       "<Figure size 432x288 with 1 Axes>"
      ]
     },
     "metadata": {
      "needs_background": "light"
     },
     "output_type": "display_data"
    }
   ],
   "source": [
    "ax = download_album_2011_on.plot(kind='line', x='Year', y='Value (Actual)')\n",
    "format_dfs[6].plot(kind='line', x='Year', y='Value (Actual)', ax=ax)"
   ]
  },
  {
   "cell_type": "code",
   "execution_count": 154,
   "id": "0b3179ec-ecfa-4011-896a-aecb73842ffe",
   "metadata": {},
   "outputs": [],
   "source": [
    "# correlation between downalod music video and download album"
   ]
  },
  {
   "cell_type": "code",
   "execution_count": 152,
   "id": "958694c8-00ae-47a0-a3bd-508f6a8c006e",
   "metadata": {
    "tags": []
   },
   "outputs": [
    {
     "name": "stdout",
     "output_type": "stream",
     "text": [
      "-0.07942243204594712\n"
     ]
    }
   ],
   "source": [
    "print(format_dfs[0]['Value (Actual)'].reset_index(drop=True).corr(format_dfs[1]['Value (Actual)'].reset_index(drop=True)))"
   ]
  },
  {
   "cell_type": "code",
   "execution_count": 153,
   "id": "1fdf67b2-5887-4c2a-8fb1-d4501e0d04d3",
   "metadata": {},
   "outputs": [
    {
     "data": {
      "text/plain": [
       "<AxesSubplot:xlabel='Year'>"
      ]
     },
     "execution_count": 153,
     "metadata": {},
     "output_type": "execute_result"
    },
    {
     "data": {
      "image/png": "[encoded data removed]",
      "text/plain": [
       "<Figure size 432x288 with 1 Axes>"
      ]
     },
     "metadata": {
      "needs_background": "light"
     },
     "output_type": "display_data"
    }
   ],
   "source": [
    "ax = format_dfs[0].plot(kind='line', x='Year', y='Value (Actual)')\n",
    "format_dfs[1].plot(kind='line', x='Year', y='Value (Actual)', ax=ax)"
   ]
  },
  {
   "cell_type": "code",
   "execution_count": 167,
   "id": "3b210729-2671-43c5-a1d7-628e14ed63bb",
   "metadata": {},
   "outputs": [],
   "source": [
    "# correlation between CD single and download single after 2004"
   ]
  },
  {
   "cell_type": "code",
   "execution_count": 164,
   "id": "5ca3db9e-3528-49bc-9187-2d9c67eea4eb",
   "metadata": {
    "tags": []
   },
   "outputs": [],
   "source": [
    "cd_single_2004_on = format_dfs[12][format_dfs[12]['Year']>=2004]"
   ]
  },
  {
   "cell_type": "code",
   "execution_count": 165,
   "id": "66c290a8-87aa-4b6e-bbcf-147f1faa3552",
   "metadata": {},
   "outputs": [
    {
     "name": "stdout",
     "output_type": "stream",
     "text": [
      "-0.4073087892744402\n"
     ]
    }
   ],
   "source": [
    "print(cd_single_2004_on['Value (Actual)'].reset_index(drop=True).corr(format_dfs[20]['Value (Actual)'].reset_index(drop=True)))"
   ]
  },
  {
   "cell_type": "code",
   "execution_count": 166,
   "id": "20d0ac07-63c3-46f4-8343-d2ab56e6a7df",
   "metadata": {},
   "outputs": [
    {
     "data": {
      "text/plain": [
       "<AxesSubplot:xlabel='Year'>"
      ]
     },
     "execution_count": 166,
     "metadata": {},
     "output_type": "execute_result"
    },
    {
     "data": {
      "image/png": "[encoded data removed]",
      "text/plain": [
       "<Figure size 432x288 with 1 Axes>"
      ]
     },
     "metadata": {
      "needs_background": "light"
     },
     "output_type": "display_data"
    }
   ],
   "source": [
    "ax = format_dfs[20].plot(kind='line', x='Year', y='Value (Actual)')\n",
    "cd_single_2004_on.plot(kind='line', x='Year', y='Value (Actual)', ax=ax)"
   ]
  },
  {
   "cell_type": "code",
   "execution_count": 186,
   "id": "51119bde-dcec-4082-8b38-f98a6c7d3ca1",
   "metadata": {},
   "outputs": [],
   "source": [
    "# correlation between other ad-supported streaming and limited tier paid subscription"
   ]
  },
  {
   "cell_type": "code",
   "execution_count": 187,
   "id": "5fcc9d99-949a-4951-9958-5409e125535f",
   "metadata": {},
   "outputs": [
    {
     "name": "stdout",
     "output_type": "stream",
     "text": [
      "0.8876592647894722\n"
     ]
    }
   ],
   "source": [
    "print(format_dfs[2]['Value (Actual)'].reset_index(drop=True).corr(format_dfs[7]['Value (Actual)'].reset_index(drop=True)))"
   ]
  },
  {
   "cell_type": "code",
   "execution_count": 189,
   "id": "9780f304-e6c0-4fb6-a62b-41e8fe430b21",
   "metadata": {},
   "outputs": [],
   "source": [
    "# other-ad supported streaming and limited tier paid subscription are highly correlated with a correlation of 0.89"
   ]
  },
  {
   "cell_type": "code",
   "execution_count": 188,
   "id": "0056bd6c-8449-4f04-9db4-56e27bd1b1a4",
   "metadata": {},
   "outputs": [
    {
     "data": {
      "text/plain": [
       "<AxesSubplot:xlabel='Year'>"
      ]
     },
     "execution_count": 188,
     "metadata": {},
     "output_type": "execute_result"
    },
    {
     "data": {
      "image/png": "[encoded data removed]",
      "text/plain": [
       "<Figure size 432x288 with 1 Axes>"
      ]
     },
     "metadata": {
      "needs_background": "light"
     },
     "output_type": "display_data"
    }
   ],
   "source": [
    "ax = format_dfs[2].plot(kind='line', x='Year', y='Value (Actual)')\n",
    "format_dfs[7].plot(kind='line', x='Year', y='Value (Actual)', ax=ax)"
   ]
  },
  {
   "cell_type": "markdown",
   "id": "09a812fd-0dbd-4c3a-9960-08b44ab127ad",
   "metadata": {
    "tags": []
   },
   "source": [
    "# Correlation of Everything (To Be Deleted)"
   ]
  },
  {
   "cell_type": "code",
   "execution_count": 1050,
   "id": "524ef7c2-a89a-45ef-90b7-c616697a7b7d",
   "metadata": {},
   "outputs": [],
   "source": [
    "# write code to find most negatively correlated ?"
   ]
  },
  {
   "cell_type": "code",
   "execution_count": 340,
   "id": "a04a0f56-c8c9-4d4f-9e4a-379000f9bc4a",
   "metadata": {
    "tags": []
   },
   "outputs": [],
   "source": [
    "# paid subscription and CD single"
   ]
  },
  {
   "cell_type": "code",
   "execution_count": 56,
   "id": "13678d0b-7ea6-402c-ad1c-7e9798c93ef5",
   "metadata": {
    "tags": []
   },
   "outputs": [
    {
     "name": "stdout",
     "output_type": "stream",
     "text": [
      "-0.6290250309948311\n"
     ]
    }
   ],
   "source": [
    "print(format_dfs[0]['Value (Actual)'].reset_index(drop=True).corr(format_dfs[1]['Value (Actual)'].reset_index(drop=True)))"
   ]
  },
  {
   "cell_type": "code",
   "execution_count": 342,
   "id": "4dc9495b-4f25-4ad3-a647-13ac6dd4fc6d",
   "metadata": {},
   "outputs": [],
   "source": [
    "# paid subscription and limited tier paid subscription"
   ]
  },
  {
   "cell_type": "code",
   "execution_count": 336,
   "id": "43b42063-8cb1-4916-82bd-03c52271c0f1",
   "metadata": {},
   "outputs": [
    {
     "name": "stdout",
     "output_type": "stream",
     "text": [
      "0.912909558880503\n"
     ]
    }
   ],
   "source": [
    "print(format_dfs[0]['Value (Actual)'].reset_index(drop=True).corr(format_dfs[2]['Value (Actual)'].reset_index(drop=True)))"
   ]
  },
  {
   "cell_type": "code",
   "execution_count": 343,
   "id": "a878148b-9887-4c09-8c22-8e1b964d2d92",
   "metadata": {},
   "outputs": [],
   "source": [
    "# paid subscription and other ad-supported streaming"
   ]
  },
  {
   "cell_type": "code",
   "execution_count": 337,
   "id": "5cfd656f-5919-44b2-8c78-9dfff6391c77",
   "metadata": {},
   "outputs": [
    {
     "name": "stdout",
     "output_type": "stream",
     "text": [
      "0.932571837974312\n"
     ]
    }
   ],
   "source": [
    "print(format_dfs[0]['Value (Actual)'].reset_index(drop=True).corr(format_dfs[3]['Value (Actual)'].reset_index(drop=True)))"
   ]
  },
  {
   "cell_type": "code",
   "execution_count": 344,
   "id": "c206a2ab-4bd5-4f1b-bd11-164225ce747a",
   "metadata": {},
   "outputs": [],
   "source": [
    "# paid subscription and cassette single"
   ]
  },
  {
   "cell_type": "code",
   "execution_count": 347,
   "id": "51599637-3f09-4568-a849-4a4c5baec652",
   "metadata": {},
   "outputs": [
    {
     "name": "stdout",
     "output_type": "stream",
     "text": [
      "-0.7070452842990597\n"
     ]
    }
   ],
   "source": [
    "print(format_dfs[0]['Value (Actual)'].reset_index(drop=True).corr(format_dfs[4]['Value (Actual)'].reset_index(drop=True)))"
   ]
  },
  {
   "cell_type": "code",
   "execution_count": 346,
   "id": "00db709e-aec4-4bf2-93f4-874b949eb21c",
   "metadata": {},
   "outputs": [],
   "source": [
    "# paid subscription and download single"
   ]
  },
  {
   "cell_type": "code",
   "execution_count": 348,
   "id": "d6420581-9009-48b8-b903-ca3fb1c00f78",
   "metadata": {},
   "outputs": [
    {
     "name": "stdout",
     "output_type": "stream",
     "text": [
      "-0.3268857583390543\n"
     ]
    }
   ],
   "source": [
    "print(format_dfs[0]['Value (Actual)'].reset_index(drop=True).corr(format_dfs[5]['Value (Actual)'].reset_index(drop=True)))"
   ]
  },
  {
   "cell_type": "code",
   "execution_count": 349,
   "id": "9a614c0c-791b-4d18-8124-bfaddf69fa44",
   "metadata": {},
   "outputs": [],
   "source": [
    "# paid subscription and 8-track"
   ]
  },
  {
   "cell_type": "code",
   "execution_count": 350,
   "id": "72f32f79-99c9-4e13-9c2f-0bb8b38ed97a",
   "metadata": {},
   "outputs": [
    {
     "name": "stdout",
     "output_type": "stream",
     "text": [
      "-0.9454551609004862\n"
     ]
    }
   ],
   "source": [
    "print(format_dfs[0]['Value (Actual)'].reset_index(drop=True).corr(format_dfs[6]['Value (Actual)'].reset_index(drop=True)))"
   ]
  },
  {
   "cell_type": "code",
   "execution_count": 351,
   "id": "b6204114-d95d-4720-90c7-6b1e3730c32f",
   "metadata": {},
   "outputs": [],
   "source": [
    "# paid subscription and kiosk"
   ]
  },
  {
   "cell_type": "code",
   "execution_count": 352,
   "id": "48f07104-17c9-42e5-8700-e4a151ca20d7",
   "metadata": {},
   "outputs": [
    {
     "name": "stdout",
     "output_type": "stream",
     "text": [
      "-0.441147156389329\n"
     ]
    }
   ],
   "source": [
    "print(format_dfs[0]['Value (Actual)'].reset_index(drop=True).corr(format_dfs[7]['Value (Actual)'].reset_index(drop=True)))"
   ]
  },
  {
   "cell_type": "code",
   "execution_count": 353,
   "id": "e377f65f-f9ea-4df9-a09b-2e8bb7f413e0",
   "metadata": {},
   "outputs": [],
   "source": [
    "# paid subscription and synchronization"
   ]
  },
  {
   "cell_type": "code",
   "execution_count": 354,
   "id": "c60f1719-3d15-46aa-b12f-cb3b7050246e",
   "metadata": {},
   "outputs": [
    {
     "name": "stdout",
     "output_type": "stream",
     "text": [
      "0.843880201058094\n"
     ]
    }
   ],
   "source": [
    "print(format_dfs[0]['Value (Actual)'].reset_index(drop=True).corr(format_dfs[8]['Value (Actual)'].reset_index(drop=True)))"
   ]
  },
  {
   "cell_type": "code",
   "execution_count": 355,
   "id": "6ad9d8be-6bdf-4ea7-b899-fb7c9b160cd7",
   "metadata": {},
   "outputs": [],
   "source": [
    "# paid subscription and music video (single)"
   ]
  },
  {
   "cell_type": "code",
   "execution_count": 356,
   "id": "5e947550-8419-4361-9532-44cd6e9b9e03",
   "metadata": {},
   "outputs": [
    {
     "name": "stdout",
     "output_type": "stream",
     "text": [
      "0.3257235988628691\n"
     ]
    }
   ],
   "source": [
    "print(format_dfs[0]['Value (Actual)'].reset_index(drop=True).corr(format_dfs[9]['Value (Actual)'].reset_index(drop=True)))"
   ]
  },
  {
   "cell_type": "code",
   "execution_count": 357,
   "id": "81ecc9ee-28d4-428b-a0fb-1ffd8d76e6a5",
   "metadata": {},
   "outputs": [],
   "source": [
    "# paid subscription and LP/EP"
   ]
  },
  {
   "cell_type": "code",
   "execution_count": 358,
   "id": "6a3e16bd-087a-4197-8409-383fed65e2f1",
   "metadata": {},
   "outputs": [
    {
     "name": "stdout",
     "output_type": "stream",
     "text": [
      "-0.8839985701771843\n"
     ]
    }
   ],
   "source": [
    "print(format_dfs[0]['Value (Actual)'].reset_index(drop=True).corr(format_dfs[10]['Value (Actual)'].reset_index(drop=True)))"
   ]
  },
  {
   "cell_type": "code",
   "execution_count": 360,
   "id": "cd708049-32f3-488c-85f1-4b7a52e379d1",
   "metadata": {},
   "outputs": [],
   "source": [
    "# paid subscription and vinyl single"
   ]
  },
  {
   "cell_type": "code",
   "execution_count": 361,
   "id": "152a1f3f-0ab6-41a1-9a87-56cb1efbbb27",
   "metadata": {},
   "outputs": [
    {
     "name": "stdout",
     "output_type": "stream",
     "text": [
      "-0.8133690365834714\n"
     ]
    }
   ],
   "source": [
    "print(format_dfs[0]['Value (Actual)'].reset_index(drop=True).corr(format_dfs[11]['Value (Actual)'].reset_index(drop=True)))"
   ]
  },
  {
   "cell_type": "code",
   "execution_count": 362,
   "id": "b13b033c-a556-4cf4-a125-b1c310e720af",
   "metadata": {},
   "outputs": [],
   "source": [
    "# paid subscription and other digital"
   ]
  },
  {
   "cell_type": "code",
   "execution_count": 363,
   "id": "05909a0d-e75c-4e9c-9295-69cc40736496",
   "metadata": {},
   "outputs": [
    {
     "name": "stdout",
     "output_type": "stream",
     "text": [
      "0.46713914282475255\n"
     ]
    }
   ],
   "source": [
    "print(format_dfs[0]['Value (Actual)'].reset_index(drop=True).corr(format_dfs[12]['Value (Actual)'].reset_index(drop=True)))"
   ]
  },
  {
   "cell_type": "code",
   "execution_count": 364,
   "id": "90b96f03-c018-49bc-82cf-0cefcc221531",
   "metadata": {},
   "outputs": [],
   "source": [
    "# paid subscription and ringtones and ringbacks"
   ]
  },
  {
   "cell_type": "code",
   "execution_count": 365,
   "id": "1ff16e87-e8ba-4917-bc7a-9b54749d78bf",
   "metadata": {},
   "outputs": [
    {
     "name": "stdout",
     "output_type": "stream",
     "text": [
      "-0.5703059144323466\n"
     ]
    }
   ],
   "source": [
    "print(format_dfs[0]['Value (Actual)'].reset_index(drop=True).corr(format_dfs[13]['Value (Actual)'].reset_index(drop=True)))"
   ]
  },
  {
   "cell_type": "code",
   "execution_count": 366,
   "id": "76debfb6-2787-46fb-a1e5-87e231c394aa",
   "metadata": {},
   "outputs": [],
   "source": [
    "# paid subscription and soundexchange distributions"
   ]
  },
  {
   "cell_type": "code",
   "execution_count": 367,
   "id": "57d2b37b-46c5-4190-94a1-4a3f013cd99a",
   "metadata": {},
   "outputs": [
    {
     "name": "stdout",
     "output_type": "stream",
     "text": [
      "0.7744466362621104\n"
     ]
    }
   ],
   "source": [
    "print(format_dfs[0]['Value (Actual)'].reset_index(drop=True).corr(format_dfs[14]['Value (Actual)'].reset_index(drop=True)))"
   ]
  },
  {
   "cell_type": "code",
   "execution_count": 368,
   "id": "ed68d880-e871-40be-9363-9e88eb29aa91",
   "metadata": {},
   "outputs": [],
   "source": [
    "# paid subscription and CD"
   ]
  },
  {
   "cell_type": "code",
   "execution_count": 369,
   "id": "fa0a5ef1-41c4-43ef-b8fa-88fca1f9902f",
   "metadata": {},
   "outputs": [
    {
     "name": "stdout",
     "output_type": "stream",
     "text": [
      "0.8489821440930545\n"
     ]
    }
   ],
   "source": [
    "print(format_dfs[0]['Value (Actual)'].reset_index(drop=True).corr(format_dfs[15]['Value (Actual)'].reset_index(drop=True)))"
   ]
  },
  {
   "cell_type": "code",
   "execution_count": 370,
   "id": "79d250e7-29b7-49f8-93e0-c769bdd6d600",
   "metadata": {},
   "outputs": [],
   "source": [
    "# paid subscription and cassette"
   ]
  },
  {
   "cell_type": "code",
   "execution_count": 371,
   "id": "df108dbf-211c-4954-85db-20a1cf4d3a47",
   "metadata": {},
   "outputs": [
    {
     "name": "stdout",
     "output_type": "stream",
     "text": [
      "0.8683710010126304\n"
     ]
    }
   ],
   "source": [
    "print(format_dfs[0]['Value (Actual)'].reset_index(drop=True).corr(format_dfs[16]['Value (Actual)'].reset_index(drop=True)))"
   ]
  },
  {
   "cell_type": "code",
   "execution_count": 372,
   "id": "0359adeb-190d-47b7-88c1-118b4a8d4ea4",
   "metadata": {},
   "outputs": [],
   "source": [
    "# paid subscription and other tapes"
   ]
  },
  {
   "cell_type": "code",
   "execution_count": 373,
   "id": "2c47c7ec-75db-4566-a060-e89f159a93dc",
   "metadata": {},
   "outputs": [
    {
     "name": "stdout",
     "output_type": "stream",
     "text": [
      "-0.7111568253659136\n"
     ]
    }
   ],
   "source": [
    "print(format_dfs[0]['Value (Actual)'].reset_index(drop=True).corr(format_dfs[17]['Value (Actual)'].reset_index(drop=True)))"
   ]
  },
  {
   "cell_type": "code",
   "execution_count": 374,
   "id": "35415a8c-9b4f-46a5-b7cb-39ef62e1d083",
   "metadata": {},
   "outputs": [],
   "source": [
    "# paid subscription and download album"
   ]
  },
  {
   "cell_type": "code",
   "execution_count": 375,
   "id": "26854f8b-66c5-42e8-8773-06d0b37563a9",
   "metadata": {},
   "outputs": [
    {
     "name": "stdout",
     "output_type": "stream",
     "text": [
      "-0.017241645139646534\n"
     ]
    }
   ],
   "source": [
    "print(format_dfs[0]['Value (Actual)'].reset_index(drop=True).corr(format_dfs[18]['Value (Actual)'].reset_index(drop=True)))"
   ]
  },
  {
   "cell_type": "code",
   "execution_count": 377,
   "id": "21c292ec-6879-4c75-a7ea-8a6b3c52ffad",
   "metadata": {},
   "outputs": [],
   "source": [
    "# paid subscription and on-demand streaming"
   ]
  },
  {
   "cell_type": "code",
   "execution_count": 378,
   "id": "1c839701-55a6-4bc8-b397-97f5d56dff95",
   "metadata": {},
   "outputs": [
    {
     "name": "stdout",
     "output_type": "stream",
     "text": [
      "0.7906914616750885\n"
     ]
    }
   ],
   "source": [
    "print(format_dfs[0]['Value (Actual)'].reset_index(drop=True).corr(format_dfs[19]['Value (Actual)'].reset_index(drop=True)))"
   ]
  },
  {
   "cell_type": "code",
   "execution_count": 379,
   "id": "f57aa2f6-13e0-4d44-bc7d-b49e01443a31",
   "metadata": {},
   "outputs": [],
   "source": [
    "# paid subscription and download music video"
   ]
  },
  {
   "cell_type": "code",
   "execution_count": 382,
   "id": "d4c03ce2-31b9-4ffe-b5f1-945eccda44f5",
   "metadata": {},
   "outputs": [
    {
     "name": "stdout",
     "output_type": "stream",
     "text": [
      "-0.6724654943557207\n"
     ]
    }
   ],
   "source": [
    "print(format_dfs[0]['Value (Actual)'].reset_index(drop=True).corr(format_dfs[20]['Value (Actual)'].reset_index(drop=True)))"
   ]
  },
  {
   "cell_type": "code",
   "execution_count": 383,
   "id": "6f29a606-7a1c-4aca-a75b-956d9b8fdac3",
   "metadata": {},
   "outputs": [],
   "source": [
    "# paid subscription and DVD audio"
   ]
  },
  {
   "cell_type": "code",
   "execution_count": 384,
   "id": "bdf16d63-0b83-4489-9886-b3a5da8c7675",
   "metadata": {},
   "outputs": [
    {
     "name": "stdout",
     "output_type": "stream",
     "text": [
      "-0.3488001042164376\n"
     ]
    }
   ],
   "source": [
    "print(format_dfs[0]['Value (Actual)'].reset_index(drop=True).corr(format_dfs[21]['Value (Actual)'].reset_index(drop=True)))"
   ]
  },
  {
   "cell_type": "code",
   "execution_count": 385,
   "id": "497c00e2-ecea-4338-b902-9ab458f34701",
   "metadata": {},
   "outputs": [],
   "source": [
    "# paid subscription and SACD"
   ]
  },
  {
   "cell_type": "code",
   "execution_count": 387,
   "id": "b46d83d6-d619-4b9e-a97a-416a2d4822c7",
   "metadata": {},
   "outputs": [
    {
     "name": "stdout",
     "output_type": "stream",
     "text": [
      "-0.38477093334316526\n"
     ]
    }
   ],
   "source": [
    "print(format_dfs[0]['Value (Actual)'].reset_index(drop=True).corr(format_dfs[22]['Value (Actual)'].reset_index(drop=True)))"
   ]
  },
  {
   "cell_type": "code",
   "execution_count": 389,
   "id": "930cdef3-b5db-4feb-abe5-0d9100ed0174",
   "metadata": {},
   "outputs": [],
   "source": [
    "# cd single and limited tier paid subscription"
   ]
  },
  {
   "cell_type": "code",
   "execution_count": 390,
   "id": "7636bd65-6662-4e80-81d1-011f0040d7d7",
   "metadata": {},
   "outputs": [
    {
     "name": "stdout",
     "output_type": "stream",
     "text": [
      "0.37766782540160765\n"
     ]
    }
   ],
   "source": [
    "print(format_dfs[1]['Value (Actual)'].reset_index(drop=True).corr(format_dfs[2]['Value (Actual)'].reset_index(drop=True)))"
   ]
  },
  {
   "cell_type": "code",
   "execution_count": 391,
   "id": "c39034f3-9c3e-4168-85bc-5f8cae4ed876",
   "metadata": {},
   "outputs": [],
   "source": [
    "# cd single and other-ad supported streaming"
   ]
  },
  {
   "cell_type": "code",
   "execution_count": 392,
   "id": "8ba629ea-0031-424e-a121-15f3db6351cc",
   "metadata": {},
   "outputs": [
    {
     "name": "stdout",
     "output_type": "stream",
     "text": [
      "-0.014185235194027635\n"
     ]
    }
   ],
   "source": [
    "print(format_dfs[1]['Value (Actual)'].reset_index(drop=True).corr(format_dfs[3]['Value (Actual)'].reset_index(drop=True)))"
   ]
  },
  {
   "cell_type": "code",
   "execution_count": 394,
   "id": "70119b04-ddba-48cc-afa6-f1a19a48a80d",
   "metadata": {
    "tags": []
   },
   "outputs": [],
   "source": [
    "# cd single and cassette single"
   ]
  },
  {
   "cell_type": "code",
   "execution_count": 470,
   "id": "09b86a2a-9a5b-46d5-ba8d-3fd8a2c8fc93",
   "metadata": {},
   "outputs": [
    {
     "name": "stdout",
     "output_type": "stream",
     "text": [
      "0.07555608974338195\n"
     ]
    }
   ],
   "source": [
    "print(format_dfs[1]['Value (Actual)'].reset_index(drop=True).corr(format_dfs[4]['Value (Actual)'].reset_index(drop=True)))"
   ]
  },
  {
   "cell_type": "code",
   "execution_count": 397,
   "id": "0c6d7814-7dc5-48c8-8b7a-65c525c7a97a",
   "metadata": {},
   "outputs": [],
   "source": [
    "# cd single and download single"
   ]
  },
  {
   "cell_type": "code",
   "execution_count": 465,
   "id": "922ba6b0-25ef-4962-896c-25a123d12068",
   "metadata": {},
   "outputs": [
    {
     "name": "stdout",
     "output_type": "stream",
     "text": [
      "0.7131342454500962\n"
     ]
    }
   ],
   "source": [
    "print(format_dfs[1]['Value (Actual)'].reset_index(drop=True).corr(format_dfs[5]['Value (Actual)'].reset_index(drop=True)))"
   ]
  },
  {
   "cell_type": "code",
   "execution_count": 399,
   "id": "a794d097-fe86-48fb-90b6-7ed5d685c64e",
   "metadata": {},
   "outputs": [],
   "source": [
    "# cd single and 8-track"
   ]
  },
  {
   "cell_type": "code",
   "execution_count": 463,
   "id": "f4f7d5db-e291-49b3-9785-10bb252ad7ad",
   "metadata": {},
   "outputs": [
    {
     "name": "stdout",
     "output_type": "stream",
     "text": [
      "-0.89861004438217\n"
     ]
    }
   ],
   "source": [
    "print(format_dfs[1]['Value (Actual)'].reset_index(drop=True).corr(format_dfs[6]['Value (Actual)'].reset_index(drop=True)))"
   ]
  },
  {
   "cell_type": "code",
   "execution_count": 401,
   "id": "658cae6a-6302-44bb-a038-44b88240e6f7",
   "metadata": {},
   "outputs": [],
   "source": [
    "# cd single and kiosk"
   ]
  },
  {
   "cell_type": "code",
   "execution_count": 461,
   "id": "36fe343e-56da-4f9c-869e-b84bf63cf878",
   "metadata": {},
   "outputs": [
    {
     "name": "stdout",
     "output_type": "stream",
     "text": [
      "0.13561284107984303\n"
     ]
    }
   ],
   "source": [
    "print(format_dfs[1]['Value (Actual)'].reset_index(drop=True).corr(format_dfs[7]['Value (Actual)'].reset_index(drop=True)))"
   ]
  },
  {
   "cell_type": "code",
   "execution_count": 403,
   "id": "aac821fa-6f97-4edf-8c5b-082d4bc2b332",
   "metadata": {},
   "outputs": [],
   "source": [
    "# cd single and synchronization"
   ]
  },
  {
   "cell_type": "code",
   "execution_count": 459,
   "id": "45494950-ebfe-4dc6-beb1-0360ce4c3407",
   "metadata": {},
   "outputs": [
    {
     "name": "stdout",
     "output_type": "stream",
     "text": [
      "0.8368560533605964\n"
     ]
    }
   ],
   "source": [
    "print(format_dfs[1]['Value (Actual)'].reset_index(drop=True).corr(format_dfs[8]['Value (Actual)'].reset_index(drop=True)))"
   ]
  },
  {
   "cell_type": "code",
   "execution_count": 406,
   "id": "946b0d3c-d986-47a1-9a89-c82e444e13a6",
   "metadata": {},
   "outputs": [],
   "source": [
    "# cd single and music video (physical)"
   ]
  },
  {
   "cell_type": "code",
   "execution_count": 407,
   "id": "72582a21-4cff-49b0-ab34-53ad329da478",
   "metadata": {},
   "outputs": [
    {
     "name": "stdout",
     "output_type": "stream",
     "text": [
      "0.8368560533605964\n"
     ]
    }
   ],
   "source": [
    "print(format_dfs[1]['Value (Actual)'].reset_index(drop=True).corr(format_dfs[9]['Value (Actual)'].reset_index(drop=True)))"
   ]
  },
  {
   "cell_type": "code",
   "execution_count": 471,
   "id": "ff02351e-9ecb-4bdd-b40f-7f15ca45c98c",
   "metadata": {},
   "outputs": [],
   "source": [
    "# cd single and LP/EP"
   ]
  },
  {
   "cell_type": "code",
   "execution_count": 472,
   "id": "6e4d347e-6a38-43d1-bc07-f6505de9e0f5",
   "metadata": {},
   "outputs": [
    {
     "name": "stdout",
     "output_type": "stream",
     "text": [
      "0.4214880857068687\n"
     ]
    }
   ],
   "source": [
    "print(format_dfs[1]['Value (Actual)'].reset_index(drop=True).corr(format_dfs[10]['Value (Actual)'].reset_index(drop=True)))"
   ]
  },
  {
   "cell_type": "code",
   "execution_count": 473,
   "id": "062036b3-7821-4dfe-af99-d3fe5587082e",
   "metadata": {},
   "outputs": [],
   "source": [
    "# cd single and vinyl single"
   ]
  },
  {
   "cell_type": "code",
   "execution_count": 447,
   "id": "9dab94ac-1a56-4769-acd3-6fdf7c903000",
   "metadata": {},
   "outputs": [
    {
     "name": "stdout",
     "output_type": "stream",
     "text": [
      "0.44902123061171323\n"
     ]
    }
   ],
   "source": [
    "print(format_dfs[1]['Value (Actual)'].reset_index(drop=True).corr(format_dfs[11]['Value (Actual)'].reset_index(drop=True)))"
   ]
  },
  {
   "cell_type": "code",
   "execution_count": 412,
   "id": "177b623a-08ca-4985-b420-e7374532768d",
   "metadata": {},
   "outputs": [],
   "source": [
    "# cd single and other digital"
   ]
  },
  {
   "cell_type": "code",
   "execution_count": 449,
   "id": "ff581de5-0eb4-41a9-a019-20c9a4b3dee6",
   "metadata": {},
   "outputs": [
    {
     "name": "stdout",
     "output_type": "stream",
     "text": [
      "0.8131822660205076\n"
     ]
    }
   ],
   "source": [
    "print(format_dfs[1]['Value (Actual)'].reset_index(drop=True).corr(format_dfs[12]['Value (Actual)'].reset_index(drop=True)))"
   ]
  },
  {
   "cell_type": "code",
   "execution_count": 414,
   "id": "81e7b2e7-5c73-4314-a903-14cf817ce2a3",
   "metadata": {},
   "outputs": [],
   "source": [
    "# cd single and ringtones"
   ]
  },
  {
   "cell_type": "code",
   "execution_count": 450,
   "id": "7899be0e-9571-49ce-9170-65306b8800a8",
   "metadata": {},
   "outputs": [
    {
     "name": "stdout",
     "output_type": "stream",
     "text": [
      "-0.6422271556246822\n"
     ]
    }
   ],
   "source": [
    "print(format_dfs[1]['Value (Actual)'].reset_index(drop=True).corr(format_dfs[13]['Value (Actual)'].reset_index(drop=True)))"
   ]
  },
  {
   "cell_type": "code",
   "execution_count": 417,
   "id": "dc231794-0a2c-43e8-aaed-1d87ff41cfec",
   "metadata": {},
   "outputs": [],
   "source": [
    "# cd single and soundexchange distributions"
   ]
  },
  {
   "cell_type": "code",
   "execution_count": 451,
   "id": "6f9410ba-d71b-4afa-91f0-012e96dfcb4c",
   "metadata": {},
   "outputs": [
    {
     "name": "stdout",
     "output_type": "stream",
     "text": [
      "0.5059269399520495\n"
     ]
    }
   ],
   "source": [
    "print(format_dfs[1]['Value (Actual)'].reset_index(drop=True).corr(format_dfs[14]['Value (Actual)'].reset_index(drop=True)))"
   ]
  },
  {
   "cell_type": "code",
   "execution_count": 419,
   "id": "a5d16b50-acc9-452d-85d8-45278cceea46",
   "metadata": {},
   "outputs": [],
   "source": [
    "# cd single and CD"
   ]
  },
  {
   "cell_type": "code",
   "execution_count": 452,
   "id": "92b4f38b-39e0-4d49-bdeb-dc257746b98b",
   "metadata": {},
   "outputs": [
    {
     "name": "stdout",
     "output_type": "stream",
     "text": [
      "0.12726525366151778\n"
     ]
    }
   ],
   "source": [
    "print(format_dfs[1]['Value (Actual)'].reset_index(drop=True).corr(format_dfs[15]['Value (Actual)'].reset_index(drop=True)))"
   ]
  },
  {
   "cell_type": "code",
   "execution_count": 421,
   "id": "06b89585-e6ef-4876-8f46-79a2f08b919e",
   "metadata": {},
   "outputs": [],
   "source": [
    "# cd single and cassette"
   ]
  },
  {
   "cell_type": "code",
   "execution_count": 453,
   "id": "723aed90-0e23-4746-a798-587c142b118b",
   "metadata": {},
   "outputs": [
    {
     "name": "stdout",
     "output_type": "stream",
     "text": [
      "0.22525891283499783\n"
     ]
    }
   ],
   "source": [
    "print(format_dfs[1]['Value (Actual)'].reset_index(drop=True).corr(format_dfs[16]['Value (Actual)'].reset_index(drop=True)))"
   ]
  },
  {
   "cell_type": "code",
   "execution_count": 423,
   "id": "651e27e5-5f5c-4400-8545-0da11bb66363",
   "metadata": {},
   "outputs": [],
   "source": [
    "# cd single and other tapes"
   ]
  },
  {
   "cell_type": "code",
   "execution_count": 454,
   "id": "23c03e3e-d5b8-4b32-a78a-5d3c00aaa16c",
   "metadata": {},
   "outputs": [
    {
     "name": "stdout",
     "output_type": "stream",
     "text": [
      "-0.686648642101736\n"
     ]
    }
   ],
   "source": [
    "print(format_dfs[1]['Value (Actual)'].reset_index(drop=True).corr(format_dfs[17]['Value (Actual)'].reset_index(drop=True)))"
   ]
  },
  {
   "cell_type": "code",
   "execution_count": 425,
   "id": "68a27c1c-fa23-4575-9344-6356d584149e",
   "metadata": {},
   "outputs": [],
   "source": [
    "# cd single and download album"
   ]
  },
  {
   "cell_type": "code",
   "execution_count": 455,
   "id": "b2645b8e-bd01-4ce8-bd06-c3eb3f361a41",
   "metadata": {},
   "outputs": [
    {
     "name": "stdout",
     "output_type": "stream",
     "text": [
      "0.862571567667623\n"
     ]
    }
   ],
   "source": [
    "print(format_dfs[1]['Value (Actual)'].reset_index(drop=True).corr(format_dfs[18]['Value (Actual)'].reset_index(drop=True)))"
   ]
  },
  {
   "cell_type": "code",
   "execution_count": 427,
   "id": "1b74828b-2c5c-4d4d-b267-30640784f2f6",
   "metadata": {},
   "outputs": [],
   "source": [
    "# cd single and on-demand streaming"
   ]
  },
  {
   "cell_type": "code",
   "execution_count": 444,
   "id": "89037ed0-b4b9-4ef5-a9bf-fcd329ee2116",
   "metadata": {},
   "outputs": [
    {
     "name": "stdout",
     "output_type": "stream",
     "text": [
      "0.9163630513745915\n"
     ]
    }
   ],
   "source": [
    "print(format_dfs[1]['Value (Actual)'].reset_index(drop=True).corr(format_dfs[19]['Value (Actual)'].reset_index(drop=True)))"
   ]
  },
  {
   "cell_type": "code",
   "execution_count": 429,
   "id": "05c9af7a-8884-415f-9fd9-daf22d500b93",
   "metadata": {},
   "outputs": [],
   "source": [
    "# cd single and download music video"
   ]
  },
  {
   "cell_type": "code",
   "execution_count": 441,
   "id": "e91b3542-4446-4276-a1be-14896a1a1585",
   "metadata": {},
   "outputs": [
    {
     "name": "stdout",
     "output_type": "stream",
     "text": [
      "-0.37882319816965365\n"
     ]
    }
   ],
   "source": [
    "print(format_dfs[1]['Value (Actual)'].reset_index(drop=True).corr(format_dfs[20]['Value (Actual)'].reset_index(drop=True)))"
   ]
  },
  {
   "cell_type": "code",
   "execution_count": 432,
   "id": "8d28b914-3e22-4d4f-8686-67b7f5f602a9",
   "metadata": {},
   "outputs": [],
   "source": [
    "# cd single and DVD audio"
   ]
  },
  {
   "cell_type": "code",
   "execution_count": 440,
   "id": "5d969fb1-fff0-43ee-b6ea-052f90520a63",
   "metadata": {},
   "outputs": [
    {
     "name": "stdout",
     "output_type": "stream",
     "text": [
      "-0.5515684830416114\n"
     ]
    }
   ],
   "source": [
    "print(format_dfs[1]['Value (Actual)'].reset_index(drop=True).corr(format_dfs[21]['Value (Actual)'].reset_index(drop=True)))"
   ]
  },
  {
   "cell_type": "code",
   "execution_count": 434,
   "id": "9d367e44-fa4a-47ff-bc64-432d09ec567f",
   "metadata": {},
   "outputs": [],
   "source": [
    "# cd single and SACD"
   ]
  },
  {
   "cell_type": "code",
   "execution_count": 438,
   "id": "651ed2d0-071b-4ceb-bfb9-b1e9a5fd89dd",
   "metadata": {},
   "outputs": [
    {
     "name": "stdout",
     "output_type": "stream",
     "text": [
      "-0.438710927840247\n"
     ]
    }
   ],
   "source": [
    "print(format_dfs[1]['Value (Actual)'].reset_index(drop=True).corr(format_dfs[22]['Value (Actual)'].reset_index(drop=True)))"
   ]
  },
  {
   "cell_type": "code",
   "execution_count": 474,
   "id": "eccb8e6a-bf14-4912-ac54-563fb9207f95",
   "metadata": {},
   "outputs": [],
   "source": [
    "# LTPS and other ad-support streaming"
   ]
  },
  {
   "cell_type": "code",
   "execution_count": 475,
   "id": "42e08a84-7671-45fd-b166-19626b5ea411",
   "metadata": {},
   "outputs": [
    {
     "name": "stdout",
     "output_type": "stream",
     "text": [
      "0.8876592647894722\n"
     ]
    }
   ],
   "source": [
    "print(format_dfs[2]['Value (Actual)'].reset_index(drop=True).corr(format_dfs[3]['Value (Actual)'].reset_index(drop=True)))"
   ]
  },
  {
   "cell_type": "code",
   "execution_count": 476,
   "id": "f24d4680-8635-4de9-b202-7d58095d7e67",
   "metadata": {},
   "outputs": [],
   "source": [
    "# LTPS and cassette single"
   ]
  },
  {
   "cell_type": "code",
   "execution_count": 477,
   "id": "2800d3de-06a9-40a0-a4d7-95bd73a9affc",
   "metadata": {},
   "outputs": [
    {
     "name": "stdout",
     "output_type": "stream",
     "text": [
      "0.9080924347886373\n"
     ]
    }
   ],
   "source": [
    "print(format_dfs[2]['Value (Actual)'].reset_index(drop=True).corr(format_dfs[4]['Value (Actual)'].reset_index(drop=True)))"
   ]
  },
  {
   "cell_type": "code",
   "execution_count": 478,
   "id": "0e9901b9-b07f-4e47-81e2-6931faf4c5eb",
   "metadata": {},
   "outputs": [],
   "source": [
    "# LTPS and download single"
   ]
  },
  {
   "cell_type": "code",
   "execution_count": 479,
   "id": "28e52737-a891-46b3-874a-437cf42b8f07",
   "metadata": {},
   "outputs": [
    {
     "name": "stdout",
     "output_type": "stream",
     "text": [
      "0.9535644327784109\n"
     ]
    }
   ],
   "source": [
    "print(format_dfs[2]['Value (Actual)'].reset_index(drop=True).corr(format_dfs[5]['Value (Actual)'].reset_index(drop=True)))"
   ]
  },
  {
   "cell_type": "code",
   "execution_count": 480,
   "id": "b3868865-909a-4b48-9cbf-01acbd76a2c9",
   "metadata": {},
   "outputs": [],
   "source": [
    "# LTPS and 8-track"
   ]
  },
  {
   "cell_type": "code",
   "execution_count": 481,
   "id": "d7bef2cf-a4c8-472e-b5ed-b8c2dfbbb64a",
   "metadata": {},
   "outputs": [
    {
     "name": "stdout",
     "output_type": "stream",
     "text": [
      "0.46521375620182787\n"
     ]
    }
   ],
   "source": [
    "print(format_dfs[2]['Value (Actual)'].reset_index(drop=True).corr(format_dfs[6]['Value (Actual)'].reset_index(drop=True)))"
   ]
  },
  {
   "cell_type": "code",
   "execution_count": 482,
   "id": "88e70c1c-4163-4941-8af3-be4cf4489274",
   "metadata": {},
   "outputs": [],
   "source": [
    "# LTPS and kiosk"
   ]
  },
  {
   "cell_type": "code",
   "execution_count": 483,
   "id": "4a2b8869-d04d-4e15-a35f-3cd5a463d011",
   "metadata": {},
   "outputs": [
    {
     "name": "stdout",
     "output_type": "stream",
     "text": [
      "0.9836474974530911\n"
     ]
    }
   ],
   "source": [
    "print(format_dfs[2]['Value (Actual)'].reset_index(drop=True).corr(format_dfs[7]['Value (Actual)'].reset_index(drop=True)))"
   ]
  },
  {
   "cell_type": "code",
   "execution_count": 484,
   "id": "26e4dd05-5a52-4a81-ab3b-f4fea8e116cb",
   "metadata": {},
   "outputs": [],
   "source": [
    "# LTPS and synchronization"
   ]
  },
  {
   "cell_type": "code",
   "execution_count": 485,
   "id": "2becc621-4220-4b88-9572-a697dba4ec70",
   "metadata": {},
   "outputs": [
    {
     "name": "stdout",
     "output_type": "stream",
     "text": [
      "-0.9402252696734599\n"
     ]
    }
   ],
   "source": [
    "print(format_dfs[2]['Value (Actual)'].reset_index(drop=True).corr(format_dfs[8]['Value (Actual)'].reset_index(drop=True)))"
   ]
  },
  {
   "cell_type": "code",
   "execution_count": 486,
   "id": "5a9ea3bd-55e5-458c-88f0-8776b59a5f58",
   "metadata": {},
   "outputs": [],
   "source": [
    "# LTPS and music video (physical)"
   ]
  },
  {
   "cell_type": "code",
   "execution_count": 487,
   "id": "5cb0ab33-6e52-4cfc-b304-9ad70e20fd4b",
   "metadata": {},
   "outputs": [
    {
     "name": "stdout",
     "output_type": "stream",
     "text": [
      "0.1942974743912816\n"
     ]
    }
   ],
   "source": [
    "print(format_dfs[2]['Value (Actual)'].reset_index(drop=True).corr(format_dfs[9]['Value (Actual)'].reset_index(drop=True)))"
   ]
  },
  {
   "cell_type": "code",
   "execution_count": 488,
   "id": "a92aea3f-0b3c-4389-985e-29392122c080",
   "metadata": {},
   "outputs": [],
   "source": [
    "# LTPS and LP/EP"
   ]
  },
  {
   "cell_type": "code",
   "execution_count": 489,
   "id": "60d29c37-0327-46cc-8bce-2c47bb318974",
   "metadata": {},
   "outputs": [
    {
     "name": "stdout",
     "output_type": "stream",
     "text": [
      "0.31164927550363003\n"
     ]
    }
   ],
   "source": [
    "print(format_dfs[2]['Value (Actual)'].reset_index(drop=True).corr(format_dfs[10]['Value (Actual)'].reset_index(drop=True)))"
   ]
  },
  {
   "cell_type": "code",
   "execution_count": 490,
   "id": "226223a8-c1bd-42c1-a063-1c9856053fa4",
   "metadata": {},
   "outputs": [],
   "source": [
    "# LTPS and vinyl single"
   ]
  },
  {
   "cell_type": "code",
   "execution_count": 491,
   "id": "4df90811-ff94-4bb7-9792-1ad821c8d43a",
   "metadata": {},
   "outputs": [
    {
     "name": "stdout",
     "output_type": "stream",
     "text": [
      "-0.26679947114288083\n"
     ]
    }
   ],
   "source": [
    "print(format_dfs[2]['Value (Actual)'].reset_index(drop=True).corr(format_dfs[11]['Value (Actual)'].reset_index(drop=True)))"
   ]
  },
  {
   "cell_type": "code",
   "execution_count": 492,
   "id": "7c663ef3-235b-4526-93ea-88f28bee51d2",
   "metadata": {},
   "outputs": [],
   "source": [
    "# LTPS and other digital"
   ]
  },
  {
   "cell_type": "code",
   "execution_count": 493,
   "id": "03da9cbb-88da-4362-861f-ab88bc1fc906",
   "metadata": {},
   "outputs": [
    {
     "name": "stdout",
     "output_type": "stream",
     "text": [
      "0.7228774182626434\n"
     ]
    }
   ],
   "source": [
    "print(format_dfs[2]['Value (Actual)'].reset_index(drop=True).corr(format_dfs[12]['Value (Actual)'].reset_index(drop=True)))"
   ]
  },
  {
   "cell_type": "code",
   "execution_count": 494,
   "id": "b6e8eaf0-6b8e-4949-97ac-ebd4f16bb8bf",
   "metadata": {},
   "outputs": [],
   "source": [
    "# LTPS and ringtones"
   ]
  },
  {
   "cell_type": "code",
   "execution_count": 495,
   "id": "b10267c6-b49c-4de9-bcec-c7549731077d",
   "metadata": {},
   "outputs": [
    {
     "name": "stdout",
     "output_type": "stream",
     "text": [
      "0.9567546456350894\n"
     ]
    }
   ],
   "source": [
    "print(format_dfs[2]['Value (Actual)'].reset_index(drop=True).corr(format_dfs[13]['Value (Actual)'].reset_index(drop=True)))"
   ]
  },
  {
   "cell_type": "code",
   "execution_count": 496,
   "id": "ffbb15b7-edba-4b34-af60-4cfd59cb3d5c",
   "metadata": {},
   "outputs": [],
   "source": [
    "# LTPS and soundexchange distributions"
   ]
  },
  {
   "cell_type": "code",
   "execution_count": 497,
   "id": "ac525fca-76e8-49c6-8c38-e5dad5cbb55e",
   "metadata": {},
   "outputs": [
    {
     "name": "stdout",
     "output_type": "stream",
     "text": [
      "0.9885745107020412\n"
     ]
    }
   ],
   "source": [
    "print(format_dfs[2]['Value (Actual)'].reset_index(drop=True).corr(format_dfs[14]['Value (Actual)'].reset_index(drop=True)))"
   ]
  },
  {
   "cell_type": "code",
   "execution_count": 498,
   "id": "9153992f-6eb3-434a-8834-550daf8ee79e",
   "metadata": {},
   "outputs": [],
   "source": [
    "# LTPS and CD"
   ]
  },
  {
   "cell_type": "code",
   "execution_count": 499,
   "id": "8fd136b5-1103-4fc9-990c-a8cb08f610e9",
   "metadata": {},
   "outputs": [
    {
     "name": "stdout",
     "output_type": "stream",
     "text": [
      "0.8016412481648654\n"
     ]
    }
   ],
   "source": [
    "print(format_dfs[2]['Value (Actual)'].reset_index(drop=True).corr(format_dfs[15]['Value (Actual)'].reset_index(drop=True)))"
   ]
  },
  {
   "cell_type": "code",
   "execution_count": 500,
   "id": "f161c52c-61af-430b-a90b-e13d0dc21f51",
   "metadata": {},
   "outputs": [],
   "source": [
    "# LTPS and Cassette"
   ]
  },
  {
   "cell_type": "code",
   "execution_count": 501,
   "id": "92032f17-e7ce-457e-9d60-ff8bcf915751",
   "metadata": {},
   "outputs": [
    {
     "name": "stdout",
     "output_type": "stream",
     "text": [
      "0.6636934927510973\n"
     ]
    }
   ],
   "source": [
    "print(format_dfs[2]['Value (Actual)'].reset_index(drop=True).corr(format_dfs[16]['Value (Actual)'].reset_index(drop=True)))"
   ]
  },
  {
   "cell_type": "code",
   "execution_count": 502,
   "id": "991513a5-8bf9-4a54-b708-5b74624d0d08",
   "metadata": {},
   "outputs": [],
   "source": [
    "# LTPS and other tapes"
   ]
  },
  {
   "cell_type": "code",
   "execution_count": 503,
   "id": "8f143c3f-e23c-48cb-adf9-f294b2c9e01b",
   "metadata": {},
   "outputs": [
    {
     "name": "stdout",
     "output_type": "stream",
     "text": [
      "-0.9317548180936192\n"
     ]
    }
   ],
   "source": [
    "print(format_dfs[2]['Value (Actual)'].reset_index(drop=True).corr(format_dfs[17]['Value (Actual)'].reset_index(drop=True)))"
   ]
  },
  {
   "cell_type": "code",
   "execution_count": 504,
   "id": "3cc6462a-0186-4ebe-9c55-3295e16febfb",
   "metadata": {},
   "outputs": [],
   "source": [
    "# LTPS and download album"
   ]
  },
  {
   "cell_type": "code",
   "execution_count": 505,
   "id": "e1c5770a-b683-4555-8464-2fa210a0718d",
   "metadata": {},
   "outputs": [
    {
     "name": "stdout",
     "output_type": "stream",
     "text": [
      "0.8763949933566727\n"
     ]
    }
   ],
   "source": [
    "print(format_dfs[2]['Value (Actual)'].reset_index(drop=True).corr(format_dfs[18]['Value (Actual)'].reset_index(drop=True)))"
   ]
  },
  {
   "cell_type": "code",
   "execution_count": 506,
   "id": "7d07f248-69df-4fe9-923b-f64ee8da4428",
   "metadata": {},
   "outputs": [],
   "source": [
    "# LTPS and on-demand streaming"
   ]
  },
  {
   "cell_type": "code",
   "execution_count": 507,
   "id": "4aaf93e4-508c-4b05-ba6a-19bafafb83b6",
   "metadata": {},
   "outputs": [
    {
     "name": "stdout",
     "output_type": "stream",
     "text": [
      "0.9444207379880477\n"
     ]
    }
   ],
   "source": [
    "print(format_dfs[2]['Value (Actual)'].reset_index(drop=True).corr(format_dfs[19]['Value (Actual)'].reset_index(drop=True)))"
   ]
  },
  {
   "cell_type": "code",
   "execution_count": 508,
   "id": "808d7a86-7abe-428d-bf3a-6c65573b48a3",
   "metadata": {},
   "outputs": [],
   "source": [
    "# LTPS and download music video"
   ]
  },
  {
   "cell_type": "code",
   "execution_count": 509,
   "id": "78c07095-01e8-4bb0-9f7c-09e5f09a8b8f",
   "metadata": {},
   "outputs": [
    {
     "name": "stdout",
     "output_type": "stream",
     "text": [
      "0.9729197304188533\n"
     ]
    }
   ],
   "source": [
    "print(format_dfs[2]['Value (Actual)'].reset_index(drop=True).corr(format_dfs[20]['Value (Actual)'].reset_index(drop=True)))"
   ]
  },
  {
   "cell_type": "code",
   "execution_count": 510,
   "id": "d5a462f7-7ebd-4280-9fc6-95ddf5e8800e",
   "metadata": {},
   "outputs": [],
   "source": [
    "# LTPS and DVD audio"
   ]
  },
  {
   "cell_type": "code",
   "execution_count": 511,
   "id": "192129e1-7a83-45f0-8bd7-dbbfff66cd84",
   "metadata": {},
   "outputs": [
    {
     "name": "stdout",
     "output_type": "stream",
     "text": [
      "0.2819897909245064\n"
     ]
    }
   ],
   "source": [
    "print(format_dfs[2]['Value (Actual)'].reset_index(drop=True).corr(format_dfs[21]['Value (Actual)'].reset_index(drop=True)))"
   ]
  },
  {
   "cell_type": "code",
   "execution_count": 512,
   "id": "70ed4c68-9f80-46b9-858c-ae9898b0696d",
   "metadata": {},
   "outputs": [],
   "source": [
    "# LTPS and SACD"
   ]
  },
  {
   "cell_type": "code",
   "execution_count": 514,
   "id": "3f9da5ee-613e-44bc-a4dc-b56999ddea59",
   "metadata": {},
   "outputs": [
    {
     "name": "stdout",
     "output_type": "stream",
     "text": [
      "-0.9886568629347705\n"
     ]
    }
   ],
   "source": [
    "print(format_dfs[2]['Value (Actual)'].reset_index(drop=True).corr(format_dfs[22]['Value (Actual)'].reset_index(drop=True)))"
   ]
  },
  {
   "cell_type": "code",
   "execution_count": 515,
   "id": "6affad4a-2034-4357-a4b9-56732532756f",
   "metadata": {},
   "outputs": [],
   "source": [
    "# other ad-supported streaming and cassette single"
   ]
  },
  {
   "cell_type": "code",
   "execution_count": 518,
   "id": "f95c0bb5-bcc5-42c6-b564-aeeca512419d",
   "metadata": {
    "tags": []
   },
   "outputs": [
    {
     "name": "stdout",
     "output_type": "stream",
     "text": [
      "0.6137637565634623\n"
     ]
    }
   ],
   "source": [
    "print(format_dfs[3]['Value (Actual)'].reset_index(drop=True).corr(format_dfs[4]['Value (Actual)'].reset_index(drop=True)))"
   ]
  },
  {
   "cell_type": "code",
   "execution_count": 520,
   "id": "7c1e41f0-9a72-4e0a-a01c-3e094614787c",
   "metadata": {},
   "outputs": [],
   "source": [
    "# other vs download single"
   ]
  },
  {
   "cell_type": "code",
   "execution_count": 521,
   "id": "92b50e2a-258c-4f4f-8888-494a3180ade4",
   "metadata": {},
   "outputs": [
    {
     "name": "stdout",
     "output_type": "stream",
     "text": [
      "0.7215864991701781\n"
     ]
    }
   ],
   "source": [
    "print(format_dfs[3]['Value (Actual)'].reset_index(drop=True).corr(format_dfs[5]['Value (Actual)'].reset_index(drop=True)))"
   ]
  },
  {
   "cell_type": "code",
   "execution_count": 522,
   "id": "c7ea4864-3de4-4fe1-9fd3-887d2d3a9b57",
   "metadata": {},
   "outputs": [],
   "source": [
    "# other vs 8-track"
   ]
  },
  {
   "cell_type": "code",
   "execution_count": 523,
   "id": "bbdf87ab-4358-412c-9cb9-1229f0144b78",
   "metadata": {},
   "outputs": [
    {
     "name": "stdout",
     "output_type": "stream",
     "text": [
      "0.2505402916095306\n"
     ]
    }
   ],
   "source": [
    "print(format_dfs[3]['Value (Actual)'].reset_index(drop=True).corr(format_dfs[6]['Value (Actual)'].reset_index(drop=True)))"
   ]
  },
  {
   "cell_type": "code",
   "execution_count": 524,
   "id": "d4dfb544-7be9-4acb-80b5-94b73ce8e0fe",
   "metadata": {},
   "outputs": [],
   "source": [
    "# other vs kiosk"
   ]
  },
  {
   "cell_type": "code",
   "execution_count": 525,
   "id": "a9ad9f14-d0d8-47b0-98a5-8055ced7b448",
   "metadata": {},
   "outputs": [
    {
     "name": "stdout",
     "output_type": "stream",
     "text": [
      "0.8687669294287601\n"
     ]
    }
   ],
   "source": [
    "print(format_dfs[3]['Value (Actual)'].reset_index(drop=True).corr(format_dfs[7]['Value (Actual)'].reset_index(drop=True)))"
   ]
  },
  {
   "cell_type": "code",
   "execution_count": 527,
   "id": "a66178aa-675d-49ca-b155-73d061ddbcb8",
   "metadata": {},
   "outputs": [],
   "source": [
    "# other vs synchronization"
   ]
  },
  {
   "cell_type": "code",
   "execution_count": 528,
   "id": "665a9ecd-3e2b-44df-858e-b03f3050251b",
   "metadata": {},
   "outputs": [
    {
     "name": "stdout",
     "output_type": "stream",
     "text": [
      "-0.8783189999349035\n"
     ]
    }
   ],
   "source": [
    "print(format_dfs[3]['Value (Actual)'].reset_index(drop=True).corr(format_dfs[8]['Value (Actual)'].reset_index(drop=True)))"
   ]
  },
  {
   "cell_type": "code",
   "execution_count": 529,
   "id": "0665f8e0-1157-4e52-a318-87ca7729183e",
   "metadata": {},
   "outputs": [],
   "source": [
    "# other vs music video (physical)"
   ]
  },
  {
   "cell_type": "code",
   "execution_count": 530,
   "id": "177b7bec-a92c-4e7f-9ce4-651e9e0cf7a0",
   "metadata": {},
   "outputs": [
    {
     "name": "stdout",
     "output_type": "stream",
     "text": [
      "0.48652290469116555\n"
     ]
    }
   ],
   "source": [
    "print(format_dfs[3]['Value (Actual)'].reset_index(drop=True).corr(format_dfs[9]['Value (Actual)'].reset_index(drop=True)))"
   ]
  },
  {
   "cell_type": "code",
   "execution_count": 531,
   "id": "558c1c1c-a919-4e0c-8bb9-5d2830a226cf",
   "metadata": {},
   "outputs": [],
   "source": [
    "# other vs LP/EP"
   ]
  },
  {
   "cell_type": "code",
   "execution_count": 532,
   "id": "faafb935-5695-4ca1-ab7a-25e540d16062",
   "metadata": {},
   "outputs": [
    {
     "name": "stdout",
     "output_type": "stream",
     "text": [
      "-0.046129457154961\n"
     ]
    }
   ],
   "source": [
    "print(format_dfs[3]['Value (Actual)'].reset_index(drop=True).corr(format_dfs[10]['Value (Actual)'].reset_index(drop=True)))"
   ]
  },
  {
   "cell_type": "code",
   "execution_count": 533,
   "id": "51aee703-838f-42b5-9e1f-da5e1ba46bf6",
   "metadata": {},
   "outputs": [],
   "source": [
    "# other vs vinyl single"
   ]
  },
  {
   "cell_type": "code",
   "execution_count": 534,
   "id": "e2e096e2-0113-4d3d-b23f-ac297c2c232f",
   "metadata": {},
   "outputs": [
    {
     "name": "stdout",
     "output_type": "stream",
     "text": [
      "-0.5890117431523186\n"
     ]
    }
   ],
   "source": [
    "print(format_dfs[3]['Value (Actual)'].reset_index(drop=True).corr(format_dfs[11]['Value (Actual)'].reset_index(drop=True)))"
   ]
  },
  {
   "cell_type": "code",
   "execution_count": 535,
   "id": "80070e38-74ac-4e94-b32b-2a739e5a616b",
   "metadata": {},
   "outputs": [],
   "source": [
    "# other vs other digital"
   ]
  },
  {
   "cell_type": "code",
   "execution_count": 536,
   "id": "6b441f39-2022-4ca1-bfb7-5e4f125d8402",
   "metadata": {},
   "outputs": [
    {
     "name": "stdout",
     "output_type": "stream",
     "text": [
      "0.3237916966364149\n"
     ]
    }
   ],
   "source": [
    "print(format_dfs[3]['Value (Actual)'].reset_index(drop=True).corr(format_dfs[12]['Value (Actual)'].reset_index(drop=True)))"
   ]
  },
  {
   "cell_type": "code",
   "execution_count": 537,
   "id": "03258ae1-e860-478b-912e-22207511f3ae",
   "metadata": {},
   "outputs": [],
   "source": [
    "# other vs ringtones"
   ]
  },
  {
   "cell_type": "code",
   "execution_count": 555,
   "id": "a7dc318b-30e7-4822-b9ab-1cb56e37e903",
   "metadata": {},
   "outputs": [
    {
     "name": "stdout",
     "output_type": "stream",
     "text": [
      "0.8757199720060199\n"
     ]
    }
   ],
   "source": [
    "print(format_dfs[3]['Value (Actual)'].reset_index(drop=True).corr(format_dfs[13]['Value (Actual)'].reset_index(drop=True)))"
   ]
  },
  {
   "cell_type": "code",
   "execution_count": 556,
   "id": "cc96ffac-aa25-43cc-b55f-f754f30c6f89",
   "metadata": {},
   "outputs": [],
   "source": [
    "# other vs soundexchange distributions"
   ]
  },
  {
   "cell_type": "code",
   "execution_count": 557,
   "id": "9b1309ff-f672-410e-9161-1057a3bd5473",
   "metadata": {
    "tags": []
   },
   "outputs": [
    {
     "name": "stdout",
     "output_type": "stream",
     "text": [
      "0.817507210218215\n"
     ]
    }
   ],
   "source": [
    "print(format_dfs[3]['Value (Actual)'].reset_index(drop=True).corr(format_dfs[14]['Value (Actual)'].reset_index(drop=True)))"
   ]
  },
  {
   "cell_type": "code",
   "execution_count": 558,
   "id": "d3c91818-c862-456d-8977-001a7456766f",
   "metadata": {},
   "outputs": [],
   "source": [
    "# other vs CD"
   ]
  },
  {
   "cell_type": "code",
   "execution_count": 559,
   "id": "a00c0acc-4f27-4f9d-bfe3-d7f7ee88d0ee",
   "metadata": {},
   "outputs": [
    {
     "name": "stdout",
     "output_type": "stream",
     "text": [
      "0.4772231853155079\n"
     ]
    }
   ],
   "source": [
    "print(format_dfs[3]['Value (Actual)'].reset_index(drop=True).corr(format_dfs[15]['Value (Actual)'].reset_index(drop=True)))"
   ]
  },
  {
   "cell_type": "code",
   "execution_count": 560,
   "id": "0e041af3-8123-43eb-a885-744eedebb83f",
   "metadata": {},
   "outputs": [],
   "source": [
    "# other vs cassette"
   ]
  },
  {
   "cell_type": "code",
   "execution_count": 561,
   "id": "bcb94e0b-6c8d-49d7-b4e9-748f41d76594",
   "metadata": {},
   "outputs": [
    {
     "name": "stdout",
     "output_type": "stream",
     "text": [
      "0.35884323522807654\n"
     ]
    }
   ],
   "source": [
    "print(format_dfs[3]['Value (Actual)'].reset_index(drop=True).corr(format_dfs[16]['Value (Actual)'].reset_index(drop=True)))"
   ]
  },
  {
   "cell_type": "code",
   "execution_count": 562,
   "id": "43cc3f78-0ee8-432f-b301-890037a1745d",
   "metadata": {},
   "outputs": [],
   "source": [
    "# other vs other tapes"
   ]
  },
  {
   "cell_type": "code",
   "execution_count": 563,
   "id": "433e51a1-e14f-4ea4-b4d8-076e638357f5",
   "metadata": {},
   "outputs": [
    {
     "name": "stdout",
     "output_type": "stream",
     "text": [
      "-0.6817794602442325\n"
     ]
    }
   ],
   "source": [
    "print(format_dfs[3]['Value (Actual)'].reset_index(drop=True).corr(format_dfs[17]['Value (Actual)'].reset_index(drop=True)))"
   ]
  },
  {
   "cell_type": "code",
   "execution_count": 564,
   "id": "f4deec8b-43ef-4999-9fe1-a691d48e842c",
   "metadata": {},
   "outputs": [],
   "source": [
    "# other vs download album"
   ]
  },
  {
   "cell_type": "code",
   "execution_count": 565,
   "id": "4cbae39a-fcfe-4c3e-a2eb-dff01786a2cf",
   "metadata": {},
   "outputs": [
    {
     "name": "stdout",
     "output_type": "stream",
     "text": [
      "0.5873099593893065\n"
     ]
    }
   ],
   "source": [
    "print(format_dfs[3]['Value (Actual)'].reset_index(drop=True).corr(format_dfs[18]['Value (Actual)'].reset_index(drop=True)))"
   ]
  },
  {
   "cell_type": "code",
   "execution_count": 566,
   "id": "81e69055-fb5e-4b4d-855e-6ff7d00c629e",
   "metadata": {},
   "outputs": [],
   "source": [
    "# other vs on-demand streaming"
   ]
  },
  {
   "cell_type": "code",
   "execution_count": 568,
   "id": "9381a50e-ef2a-461b-9553-2f1de6c62a9a",
   "metadata": {},
   "outputs": [
    {
     "name": "stdout",
     "output_type": "stream",
     "text": [
      "0.7085188058433939\n"
     ]
    }
   ],
   "source": [
    "print(format_dfs[3]['Value (Actual)'].reset_index(drop=True).corr(format_dfs[19]['Value (Actual)'].reset_index(drop=True)))"
   ]
  },
  {
   "cell_type": "code",
   "execution_count": 552,
   "id": "fc7d823b-e23e-40e8-bd09-711c11d30826",
   "metadata": {},
   "outputs": [],
   "source": [
    "# other vs download music video"
   ]
  },
  {
   "cell_type": "code",
   "execution_count": 569,
   "id": "e04cc28a-f0fa-48e6-a6ef-9ca71b743a59",
   "metadata": {},
   "outputs": [
    {
     "name": "stdout",
     "output_type": "stream",
     "text": [
      "0.7890807565861631\n"
     ]
    }
   ],
   "source": [
    "print(format_dfs[3]['Value (Actual)'].reset_index(drop=True).corr(format_dfs[20]['Value (Actual)'].reset_index(drop=True)))"
   ]
  },
  {
   "cell_type": "code",
   "execution_count": 570,
   "id": "b09b7630-baa3-40c7-a41d-0fb477dc7884",
   "metadata": {},
   "outputs": [],
   "source": [
    "# other vs dvd audio"
   ]
  },
  {
   "cell_type": "code",
   "execution_count": 571,
   "id": "33f734ba-f4dc-4374-8ec3-2bed2420f152",
   "metadata": {},
   "outputs": [
    {
     "name": "stdout",
     "output_type": "stream",
     "text": [
      "0.6592781246691861\n"
     ]
    }
   ],
   "source": [
    "print(format_dfs[3]['Value (Actual)'].reset_index(drop=True).corr(format_dfs[21]['Value (Actual)'].reset_index(drop=True)))"
   ]
  },
  {
   "cell_type": "code",
   "execution_count": 573,
   "id": "cb9cd67b-707e-4a41-9c0c-fd7d9421e947",
   "metadata": {},
   "outputs": [],
   "source": [
    "# other vs SACD"
   ]
  },
  {
   "cell_type": "code",
   "execution_count": 574,
   "id": "8113ddbe-ff70-4ab8-a677-6602c74625f7",
   "metadata": {
    "tags": []
   },
   "outputs": [
    {
     "name": "stdout",
     "output_type": "stream",
     "text": [
      "-0.8113049745059588\n"
     ]
    }
   ],
   "source": [
    "print(format_dfs[3]['Value (Actual)'].reset_index(drop=True).corr(format_dfs[22]['Value (Actual)'].reset_index(drop=True)))"
   ]
  },
  {
   "cell_type": "code",
   "execution_count": 575,
   "id": "4c373389-7486-4264-a44b-c0f3fe65ea0a",
   "metadata": {},
   "outputs": [],
   "source": [
    "# cassette single vs download single"
   ]
  },
  {
   "cell_type": "code",
   "execution_count": 576,
   "id": "f1718016-f2f8-4150-a1f6-f295de81e97a",
   "metadata": {},
   "outputs": [
    {
     "name": "stdout",
     "output_type": "stream",
     "text": [
      "0.6923039368328742\n"
     ]
    }
   ],
   "source": [
    "print(format_dfs[4]['Value (Actual)'].reset_index(drop=True).corr(format_dfs[5]['Value (Actual)'].reset_index(drop=True)))"
   ]
  },
  {
   "cell_type": "code",
   "execution_count": 578,
   "id": "36b9febe-825f-4e78-8dc9-67fadcec90a3",
   "metadata": {},
   "outputs": [],
   "source": [
    "# cassette single vs 8-track"
   ]
  },
  {
   "cell_type": "code",
   "execution_count": 579,
   "id": "83fb50b8-5f89-42de-8f62-34fbf2492cf9",
   "metadata": {},
   "outputs": [
    {
     "name": "stdout",
     "output_type": "stream",
     "text": [
      "0.09330314276336496\n"
     ]
    }
   ],
   "source": [
    "print(format_dfs[4]['Value (Actual)'].reset_index(drop=True).corr(format_dfs[6]['Value (Actual)'].reset_index(drop=True)))"
   ]
  },
  {
   "cell_type": "code",
   "execution_count": 580,
   "id": "950f3fe2-fc6f-4082-91a4-9c9c3e7d71f7",
   "metadata": {},
   "outputs": [],
   "source": [
    "# cassette single vs kiosk"
   ]
  },
  {
   "cell_type": "code",
   "execution_count": 581,
   "id": "d40772e9-0a19-4ed8-a65f-e2a374a96d65",
   "metadata": {},
   "outputs": [
    {
     "name": "stdout",
     "output_type": "stream",
     "text": [
      "0.6650426987283438\n"
     ]
    }
   ],
   "source": [
    "print(format_dfs[4]['Value (Actual)'].reset_index(drop=True).corr(format_dfs[7]['Value (Actual)'].reset_index(drop=True)))"
   ]
  },
  {
   "cell_type": "code",
   "execution_count": 582,
   "id": "ea8e275b-ea44-472e-9536-cb31c47e177a",
   "metadata": {},
   "outputs": [],
   "source": [
    "# cassette single vs synchronization"
   ]
  },
  {
   "cell_type": "code",
   "execution_count": 583,
   "id": "bd1ce8bc-aa46-47ce-9201-59577289089c",
   "metadata": {},
   "outputs": [
    {
     "name": "stdout",
     "output_type": "stream",
     "text": [
      "-0.45995080673435734\n"
     ]
    }
   ],
   "source": [
    "print(format_dfs[4]['Value (Actual)'].reset_index(drop=True).corr(format_dfs[8]['Value (Actual)'].reset_index(drop=True)))"
   ]
  },
  {
   "cell_type": "code",
   "execution_count": 584,
   "id": "b3bbb5c8-b4ac-48f6-8c1c-e4d731dbf96a",
   "metadata": {},
   "outputs": [],
   "source": [
    "# cassette single vs music video (physical)"
   ]
  },
  {
   "cell_type": "code",
   "execution_count": 585,
   "id": "cc1d98d3-d669-4e01-bbf1-8ebe4b1beb7f",
   "metadata": {},
   "outputs": [
    {
     "name": "stdout",
     "output_type": "stream",
     "text": [
      "-0.3105303026776877\n"
     ]
    }
   ],
   "source": [
    "print(format_dfs[4]['Value (Actual)'].reset_index(drop=True).corr(format_dfs[9]['Value (Actual)'].reset_index(drop=True)))"
   ]
  },
  {
   "cell_type": "code",
   "execution_count": 586,
   "id": "5624fad7-48a9-4ec7-9f20-f478b690b86b",
   "metadata": {},
   "outputs": [],
   "source": [
    "# cassette single and LP/EP"
   ]
  },
  {
   "cell_type": "code",
   "execution_count": 587,
   "id": "1bf05152-0374-4e7f-aff2-ae1658cdbeaa",
   "metadata": {},
   "outputs": [
    {
     "name": "stdout",
     "output_type": "stream",
     "text": [
      "0.7923662425930474\n"
     ]
    }
   ],
   "source": [
    "print(format_dfs[4]['Value (Actual)'].reset_index(drop=True).corr(format_dfs[10]['Value (Actual)'].reset_index(drop=True)))"
   ]
  },
  {
   "cell_type": "code",
   "execution_count": 588,
   "id": "9aeba987-0501-4e55-a0c1-96e1c64d8810",
   "metadata": {},
   "outputs": [],
   "source": [
    "# cassette single and vinyl single"
   ]
  },
  {
   "cell_type": "code",
   "execution_count": 589,
   "id": "bf0e2d4c-7ae9-4c34-b7f8-52922d1c444e",
   "metadata": {},
   "outputs": [
    {
     "name": "stdout",
     "output_type": "stream",
     "text": [
      "0.6532805050235251\n"
     ]
    }
   ],
   "source": [
    "print(format_dfs[4]['Value (Actual)'].reset_index(drop=True).corr(format_dfs[11]['Value (Actual)'].reset_index(drop=True)))"
   ]
  },
  {
   "cell_type": "code",
   "execution_count": 592,
   "id": "4074f0bd-1c34-4a62-819d-02a57b6df3d4",
   "metadata": {},
   "outputs": [],
   "source": [
    "# cassette single and other digital"
   ]
  },
  {
   "cell_type": "code",
   "execution_count": 593,
   "id": "ae471d9b-6428-4245-9df4-820b0cc804bb",
   "metadata": {},
   "outputs": [
    {
     "name": "stdout",
     "output_type": "stream",
     "text": [
      "0.943755339716641\n"
     ]
    }
   ],
   "source": [
    "print(format_dfs[4]['Value (Actual)'].reset_index(drop=True).corr(format_dfs[12]['Value (Actual)'].reset_index(drop=True)))"
   ]
  },
  {
   "cell_type": "code",
   "execution_count": 594,
   "id": "1f522a0e-c1b2-4132-92d6-bd5ecff14cf0",
   "metadata": {},
   "outputs": [],
   "source": [
    "# cassette single and ringtones"
   ]
  },
  {
   "cell_type": "code",
   "execution_count": 595,
   "id": "63e1e910-8d46-4078-9192-95c661c7b668",
   "metadata": {},
   "outputs": [
    {
     "name": "stdout",
     "output_type": "stream",
     "text": [
      "0.38423956218713495\n"
     ]
    }
   ],
   "source": [
    "print(format_dfs[4]['Value (Actual)'].reset_index(drop=True).corr(format_dfs[13]['Value (Actual)'].reset_index(drop=True)))"
   ]
  },
  {
   "cell_type": "code",
   "execution_count": 596,
   "id": "b3a8df70-d0c6-44b1-849d-c1f6d4cfe89a",
   "metadata": {},
   "outputs": [],
   "source": [
    "# cassette single and soundexchange distributions"
   ]
  },
  {
   "cell_type": "code",
   "execution_count": 597,
   "id": "71aeba48-6e67-4867-bf98-04f3c094e972",
   "metadata": {},
   "outputs": [
    {
     "name": "stdout",
     "output_type": "stream",
     "text": [
      "-0.5642074939857806\n"
     ]
    }
   ],
   "source": [
    "print(format_dfs[4]['Value (Actual)'].reset_index(drop=True).corr(format_dfs[14]['Value (Actual)'].reset_index(drop=True)))"
   ]
  },
  {
   "cell_type": "code",
   "execution_count": 598,
   "id": "202fe2c5-4f0e-42b4-a7e7-e611b1b42ea3",
   "metadata": {},
   "outputs": [],
   "source": [
    "# cassette single and CD"
   ]
  },
  {
   "cell_type": "code",
   "execution_count": 599,
   "id": "46d1e4e7-4308-445f-81e5-f704be25b981",
   "metadata": {},
   "outputs": [
    {
     "name": "stdout",
     "output_type": "stream",
     "text": [
      "-0.5750980436326916\n"
     ]
    }
   ],
   "source": [
    "print(format_dfs[4]['Value (Actual)'].reset_index(drop=True).corr(format_dfs[15]['Value (Actual)'].reset_index(drop=True)))"
   ]
  },
  {
   "cell_type": "code",
   "execution_count": 600,
   "id": "df5e4ffd-3d5d-4f4a-a171-0d43e915f992",
   "metadata": {},
   "outputs": [],
   "source": [
    "# cassette single and cassette"
   ]
  },
  {
   "cell_type": "code",
   "execution_count": 601,
   "id": "fd9fd333-1d1e-41c2-9320-25f431a84004",
   "metadata": {},
   "outputs": [
    {
     "name": "stdout",
     "output_type": "stream",
     "text": [
      "-0.6299400519455355\n"
     ]
    }
   ],
   "source": [
    "print(format_dfs[4]['Value (Actual)'].reset_index(drop=True).corr(format_dfs[16]['Value (Actual)'].reset_index(drop=True)))"
   ]
  },
  {
   "cell_type": "code",
   "execution_count": 602,
   "id": "1f9c5295-57ab-4a8c-8118-945a32cebd30",
   "metadata": {},
   "outputs": [],
   "source": [
    "# cassette single and other tapes"
   ]
  },
  {
   "cell_type": "code",
   "execution_count": 603,
   "id": "9a458fd4-8ed0-489f-bc36-dd1f07deddcb",
   "metadata": {},
   "outputs": [
    {
     "name": "stdout",
     "output_type": "stream",
     "text": [
      "-0.9723109356892312\n"
     ]
    }
   ],
   "source": [
    "print(format_dfs[4]['Value (Actual)'].reset_index(drop=True).corr(format_dfs[17]['Value (Actual)'].reset_index(drop=True)))"
   ]
  },
  {
   "cell_type": "code",
   "execution_count": 604,
   "id": "38cd4614-e6f8-4768-bea1-0226083735e7",
   "metadata": {},
   "outputs": [],
   "source": [
    "# cassette single and download album"
   ]
  },
  {
   "cell_type": "code",
   "execution_count": 605,
   "id": "761dc456-5dbf-4e01-9952-b66cba071000",
   "metadata": {},
   "outputs": [
    {
     "name": "stdout",
     "output_type": "stream",
     "text": [
      "0.41668201747567546\n"
     ]
    }
   ],
   "source": [
    "print(format_dfs[4]['Value (Actual)'].reset_index(drop=True).corr(format_dfs[18]['Value (Actual)'].reset_index(drop=True)))"
   ]
  },
  {
   "cell_type": "code",
   "execution_count": 606,
   "id": "84bfd7fb-4998-493a-97ee-e873fb770fdc",
   "metadata": {},
   "outputs": [],
   "source": [
    "# cassette single and on-demand streaming"
   ]
  },
  {
   "cell_type": "code",
   "execution_count": 607,
   "id": "cb3836b8-7de6-4581-aa50-5dde70b1bcb4",
   "metadata": {},
   "outputs": [
    {
     "name": "stdout",
     "output_type": "stream",
     "text": [
      "0.5929565074258405\n"
     ]
    }
   ],
   "source": [
    "print(format_dfs[4]['Value (Actual)'].reset_index(drop=True).corr(format_dfs[19]['Value (Actual)'].reset_index(drop=True)))"
   ]
  },
  {
   "cell_type": "code",
   "execution_count": 608,
   "id": "b68323fa-47d9-43ad-ac10-b9773b42cd0a",
   "metadata": {},
   "outputs": [],
   "source": [
    "# cassette single and download music video"
   ]
  },
  {
   "cell_type": "code",
   "execution_count": 609,
   "id": "b07e1f06-d7c6-4b26-8db0-68d98f9040d8",
   "metadata": {},
   "outputs": [
    {
     "name": "stdout",
     "output_type": "stream",
     "text": [
      "0.8538919715015971\n"
     ]
    }
   ],
   "source": [
    "print(format_dfs[4]['Value (Actual)'].reset_index(drop=True).corr(format_dfs[20]['Value (Actual)'].reset_index(drop=True)))"
   ]
  },
  {
   "cell_type": "code",
   "execution_count": 610,
   "id": "0f482d97-469c-41e4-be37-441e1530c6e3",
   "metadata": {},
   "outputs": [],
   "source": [
    "# cassette single and DVD audio"
   ]
  },
  {
   "cell_type": "code",
   "execution_count": 611,
   "id": "cbb8d992-b27f-479b-9cdf-42484eec63d8",
   "metadata": {},
   "outputs": [
    {
     "name": "stdout",
     "output_type": "stream",
     "text": [
      "0.1394586105460052\n"
     ]
    }
   ],
   "source": [
    "print(format_dfs[4]['Value (Actual)'].reset_index(drop=True).corr(format_dfs[21]['Value (Actual)'].reset_index(drop=True)))"
   ]
  },
  {
   "cell_type": "code",
   "execution_count": 612,
   "id": "b2119fe8-60bf-4437-98ff-140abc9e5c1e",
   "metadata": {},
   "outputs": [],
   "source": [
    "# cassette single and SACD"
   ]
  },
  {
   "cell_type": "code",
   "execution_count": 613,
   "id": "427aed24-cd6c-4742-8119-571c7a292d0c",
   "metadata": {},
   "outputs": [
    {
     "name": "stdout",
     "output_type": "stream",
     "text": [
      "-0.18590119197624022\n"
     ]
    }
   ],
   "source": [
    "print(format_dfs[4]['Value (Actual)'].reset_index(drop=True).corr(format_dfs[22]['Value (Actual)'].reset_index(drop=True)))"
   ]
  },
  {
   "cell_type": "code",
   "execution_count": 614,
   "id": "6a1da3af-7b91-416d-94c1-e3f18b0280b7",
   "metadata": {},
   "outputs": [],
   "source": [
    "# download single and 8-track"
   ]
  },
  {
   "cell_type": "code",
   "execution_count": 616,
   "id": "6b1e45ed-f0aa-4639-905a-6f97c2134cf2",
   "metadata": {},
   "outputs": [
    {
     "name": "stdout",
     "output_type": "stream",
     "text": [
      "-0.5652758596350274\n"
     ]
    }
   ],
   "source": [
    "print(format_dfs[5]['Value (Actual)'].reset_index(drop=True).corr(format_dfs[6]['Value (Actual)'].reset_index(drop=True)))"
   ]
  },
  {
   "cell_type": "code",
   "execution_count": 662,
   "id": "e9dd820e-89df-46bf-8108-8844e2a7e580",
   "metadata": {
    "tags": []
   },
   "outputs": [],
   "source": [
    "# download single and kiosk"
   ]
  },
  {
   "cell_type": "code",
   "execution_count": 663,
   "id": "2113d0d7-55f9-4b67-aa4d-ec3231f3cb06",
   "metadata": {},
   "outputs": [
    {
     "name": "stdout",
     "output_type": "stream",
     "text": [
      "0.5900232186420113\n"
     ]
    }
   ],
   "source": [
    "print(format_dfs[5]['Value (Actual)'].reset_index(drop=True).corr(format_dfs[7]['Value (Actual)'].reset_index(drop=True)))"
   ]
  },
  {
   "cell_type": "code",
   "execution_count": 664,
   "id": "b68725ca-d171-4e10-ad31-cfac8a83ee62",
   "metadata": {},
   "outputs": [],
   "source": [
    "# download single and synchronization"
   ]
  },
  {
   "cell_type": "code",
   "execution_count": 665,
   "id": "dbcb0df4-4505-49e0-a3de-a00786d90bfe",
   "metadata": {},
   "outputs": [
    {
     "name": "stdout",
     "output_type": "stream",
     "text": [
      "0.29237865529882223\n"
     ]
    }
   ],
   "source": [
    "print(format_dfs[5]['Value (Actual)'].reset_index(drop=True).corr(format_dfs[8]['Value (Actual)'].reset_index(drop=True)))"
   ]
  },
  {
   "cell_type": "code",
   "execution_count": 666,
   "id": "9489dd12-6524-4111-9cdd-cabfc529b668",
   "metadata": {},
   "outputs": [],
   "source": [
    "# download single and music video (physical)"
   ]
  },
  {
   "cell_type": "code",
   "execution_count": 667,
   "id": "47cccc06-65ba-4fc8-a074-7799d18e62c6",
   "metadata": {},
   "outputs": [
    {
     "name": "stdout",
     "output_type": "stream",
     "text": [
      "0.19050246007882607\n"
     ]
    }
   ],
   "source": [
    "print(format_dfs[5]['Value (Actual)'].reset_index(drop=True).corr(format_dfs[9]['Value (Actual)'].reset_index(drop=True)))"
   ]
  },
  {
   "cell_type": "code",
   "execution_count": 668,
   "id": "a16af0f8-a00e-420e-bd04-074946a57d2a",
   "metadata": {},
   "outputs": [],
   "source": [
    "# download single and LP/EP"
   ]
  },
  {
   "cell_type": "code",
   "execution_count": 669,
   "id": "7ba5ffb2-2172-42f9-9e0a-fe5b22e83f11",
   "metadata": {},
   "outputs": [
    {
     "name": "stdout",
     "output_type": "stream",
     "text": [
      "0.3290881708983471\n"
     ]
    }
   ],
   "source": [
    "print(format_dfs[5]['Value (Actual)'].reset_index(drop=True).corr(format_dfs[10]['Value (Actual)'].reset_index(drop=True)))"
   ]
  },
  {
   "cell_type": "code",
   "execution_count": 670,
   "id": "dc1f64a6-2285-45ba-93a3-3a244cb51c56",
   "metadata": {},
   "outputs": [],
   "source": [
    "# download single and vinyl single"
   ]
  },
  {
   "cell_type": "code",
   "execution_count": 671,
   "id": "dcc5df06-face-4b65-a6e7-764831627b38",
   "metadata": {},
   "outputs": [
    {
     "name": "stdout",
     "output_type": "stream",
     "text": [
      "0.13369022993243962\n"
     ]
    }
   ],
   "source": [
    "print(format_dfs[5]['Value (Actual)'].reset_index(drop=True).corr(format_dfs[11]['Value (Actual)'].reset_index(drop=True)))"
   ]
  },
  {
   "cell_type": "code",
   "execution_count": 672,
   "id": "bd93917d-ca2d-4b16-9285-979154c1096b",
   "metadata": {},
   "outputs": [],
   "source": [
    "# download single and other digital"
   ]
  },
  {
   "cell_type": "code",
   "execution_count": 673,
   "id": "e3e2e737-aafb-4fbe-b886-7d42ae2f08e0",
   "metadata": {},
   "outputs": [
    {
     "name": "stdout",
     "output_type": "stream",
     "text": [
      "0.8805159140787072\n"
     ]
    }
   ],
   "source": [
    "print(format_dfs[5]['Value (Actual)'].reset_index(drop=True).corr(format_dfs[12]['Value (Actual)'].reset_index(drop=True)))"
   ]
  },
  {
   "cell_type": "code",
   "execution_count": 674,
   "id": "e1ca9f30-6fd4-4aa2-8045-0dd00322cc48",
   "metadata": {},
   "outputs": [],
   "source": [
    "# download single and ringtones"
   ]
  },
  {
   "cell_type": "code",
   "execution_count": 675,
   "id": "d0e02e4c-03a1-4a85-b423-22e5de8a6b25",
   "metadata": {},
   "outputs": [
    {
     "name": "stdout",
     "output_type": "stream",
     "text": [
      "-0.3643104206474229\n"
     ]
    }
   ],
   "source": [
    "print(format_dfs[5]['Value (Actual)'].reset_index(drop=True).corr(format_dfs[13]['Value (Actual)'].reset_index(drop=True)))"
   ]
  },
  {
   "cell_type": "code",
   "execution_count": 676,
   "id": "dfb96824-7e59-43a9-905b-9099960829fb",
   "metadata": {},
   "outputs": [],
   "source": [
    "# download single and soundexchange distributions"
   ]
  },
  {
   "cell_type": "code",
   "execution_count": 677,
   "id": "614a0892-adba-4bb4-9da3-af706be780aa",
   "metadata": {},
   "outputs": [
    {
     "name": "stdout",
     "output_type": "stream",
     "text": [
      "0.06561011908735426\n"
     ]
    }
   ],
   "source": [
    "print(format_dfs[5]['Value (Actual)'].reset_index(drop=True).corr(format_dfs[14]['Value (Actual)'].reset_index(drop=True)))"
   ]
  },
  {
   "cell_type": "code",
   "execution_count": 678,
   "id": "e5c1d7a7-62b9-4a57-a518-08b43d5b241f",
   "metadata": {},
   "outputs": [],
   "source": [
    "# download single and CD"
   ]
  },
  {
   "cell_type": "code",
   "execution_count": 679,
   "id": "46a1cb63-0028-4395-acb2-546ca9696436",
   "metadata": {},
   "outputs": [
    {
     "name": "stdout",
     "output_type": "stream",
     "text": [
      "-0.007501470922553852\n"
     ]
    }
   ],
   "source": [
    "print(format_dfs[5]['Value (Actual)'].reset_index(drop=True).corr(format_dfs[15]['Value (Actual)'].reset_index(drop=True)))"
   ]
  },
  {
   "cell_type": "code",
   "execution_count": 680,
   "id": "f2ead853-2e67-4fdf-b749-caebd0285bc5",
   "metadata": {},
   "outputs": [],
   "source": [
    "# download single and cassette"
   ]
  },
  {
   "cell_type": "code",
   "execution_count": 681,
   "id": "c09c1f9e-32f4-4448-ac61-bca01fbb13fa",
   "metadata": {},
   "outputs": [
    {
     "name": "stdout",
     "output_type": "stream",
     "text": [
      "-0.07851612997572704\n"
     ]
    }
   ],
   "source": [
    "print(format_dfs[5]['Value (Actual)'].reset_index(drop=True).corr(format_dfs[16]['Value (Actual)'].reset_index(drop=True)))"
   ]
  },
  {
   "cell_type": "code",
   "execution_count": 682,
   "id": "09ad8718-e67a-4d34-8e26-d83a3384fd17",
   "metadata": {},
   "outputs": [],
   "source": [
    "# download single and other tapes"
   ]
  },
  {
   "cell_type": "code",
   "execution_count": 637,
   "id": "f1955673-21f6-4161-a02d-e557e6541f03",
   "metadata": {},
   "outputs": [
    {
     "name": "stdout",
     "output_type": "stream",
     "text": [
      "-0.9976011531325524\n"
     ]
    }
   ],
   "source": [
    "print(format_dfs[5]['Value (Actual)'].reset_index(drop=True).corr(format_dfs[17]['Value (Actual)'].reset_index(drop=True)))"
   ]
  },
  {
   "cell_type": "code",
   "execution_count": 653,
   "id": "bf501c79-147e-4e29-9102-62dcc5a9b2b0",
   "metadata": {},
   "outputs": [],
   "source": [
    "# download single and download album"
   ]
  },
  {
   "cell_type": "code",
   "execution_count": 639,
   "id": "2b76495d-d9af-45ee-bb24-c0cb602467b4",
   "metadata": {},
   "outputs": [
    {
     "name": "stdout",
     "output_type": "stream",
     "text": [
      "0.9348791128626559\n"
     ]
    }
   ],
   "source": [
    "print(format_dfs[5]['Value (Actual)'].reset_index(drop=True).corr(format_dfs[18]['Value (Actual)'].reset_index(drop=True)))"
   ]
  },
  {
   "cell_type": "code",
   "execution_count": 652,
   "id": "da031071-90d7-4fd4-bdfe-2dec92a433ba",
   "metadata": {},
   "outputs": [],
   "source": [
    "# download single and ondemand streaming"
   ]
  },
  {
   "cell_type": "code",
   "execution_count": 641,
   "id": "667ea7e0-f884-438f-b213-486a358a7276",
   "metadata": {},
   "outputs": [
    {
     "name": "stdout",
     "output_type": "stream",
     "text": [
      "0.9549133383829422\n"
     ]
    }
   ],
   "source": [
    "print(format_dfs[5]['Value (Actual)'].reset_index(drop=True).corr(format_dfs[19]['Value (Actual)'].reset_index(drop=True)))"
   ]
  },
  {
   "cell_type": "code",
   "execution_count": 649,
   "id": "ea16ce8c-4fe6-4230-8d7a-3a7b61d0471f",
   "metadata": {},
   "outputs": [],
   "source": [
    "# download single and download music video"
   ]
  },
  {
   "cell_type": "code",
   "execution_count": 643,
   "id": "2c8bcbcc-4871-4165-8179-4cef84e66ca7",
   "metadata": {},
   "outputs": [
    {
     "name": "stdout",
     "output_type": "stream",
     "text": [
      "0.24219012835232712\n"
     ]
    }
   ],
   "source": [
    "print(format_dfs[5]['Value (Actual)'].reset_index(drop=True).corr(format_dfs[20]['Value (Actual)'].reset_index(drop=True)))"
   ]
  },
  {
   "cell_type": "code",
   "execution_count": 644,
   "id": "1029bf77-1144-42fa-8826-c53934ae4736",
   "metadata": {},
   "outputs": [],
   "source": [
    "# download single and DVD audio"
   ]
  },
  {
   "cell_type": "code",
   "execution_count": 645,
   "id": "a9997170-5597-4662-bea9-542362d8e741",
   "metadata": {},
   "outputs": [
    {
     "name": "stdout",
     "output_type": "stream",
     "text": [
      "-0.46151801754232585\n"
     ]
    }
   ],
   "source": [
    "print(format_dfs[5]['Value (Actual)'].reset_index(drop=True).corr(format_dfs[21]['Value (Actual)'].reset_index(drop=True)))"
   ]
  },
  {
   "cell_type": "code",
   "execution_count": 648,
   "id": "d5bb2aec-e0fd-4a19-83ad-f4ad19f8b1de",
   "metadata": {},
   "outputs": [],
   "source": [
    "# download single and SACD"
   ]
  },
  {
   "cell_type": "code",
   "execution_count": 647,
   "id": "35c1ecdb-1301-4a7c-9364-a2672f110e69",
   "metadata": {},
   "outputs": [
    {
     "name": "stdout",
     "output_type": "stream",
     "text": [
      "-0.5755925939714931\n"
     ]
    }
   ],
   "source": [
    "print(format_dfs[5]['Value (Actual)'].reset_index(drop=True).corr(format_dfs[22]['Value (Actual)'].reset_index(drop=True)))"
   ]
  },
  {
   "cell_type": "code",
   "execution_count": 683,
   "id": "65316c72-fb47-4b2a-873f-e3d274565c4d",
   "metadata": {},
   "outputs": [],
   "source": [
    "# 8-track and kiosk"
   ]
  },
  {
   "cell_type": "code",
   "execution_count": 684,
   "id": "b66c8fcb-6960-480a-967c-0d2f8d2ae432",
   "metadata": {},
   "outputs": [
    {
     "name": "stdout",
     "output_type": "stream",
     "text": [
      "0.17337101445897166\n"
     ]
    }
   ],
   "source": [
    "print(format_dfs[6]['Value (Actual)'].reset_index(drop=True).corr(format_dfs[7]['Value (Actual)'].reset_index(drop=True)))"
   ]
  },
  {
   "cell_type": "code",
   "execution_count": 685,
   "id": "f78c89a4-c82c-4cf2-b3e1-140153369b91",
   "metadata": {},
   "outputs": [],
   "source": [
    "# 8 track and synchronization"
   ]
  },
  {
   "cell_type": "code",
   "execution_count": 705,
   "id": "66fbe600-e33b-4741-b965-bbd568cfca1f",
   "metadata": {},
   "outputs": [
    {
     "name": "stdout",
     "output_type": "stream",
     "text": [
      "-0.8806373249015987\n"
     ]
    }
   ],
   "source": [
    "print(format_dfs[6]['Value (Actual)'].reset_index(drop=True).corr(format_dfs[8]['Value (Actual)'].reset_index(drop=True)))"
   ]
  },
  {
   "cell_type": "code",
   "execution_count": 687,
   "id": "ceaa146b-7555-4d94-8c89-b529130cfd91",
   "metadata": {},
   "outputs": [],
   "source": [
    "# 8 track and music video (physical)"
   ]
  },
  {
   "cell_type": "code",
   "execution_count": 706,
   "id": "595de40b-b4ae-4d7c-a5de-32078878cd3d",
   "metadata": {},
   "outputs": [
    {
     "name": "stdout",
     "output_type": "stream",
     "text": [
      "-0.7827375038421557\n"
     ]
    }
   ],
   "source": [
    "print(format_dfs[6]['Value (Actual)'].reset_index(drop=True).corr(format_dfs[9]['Value (Actual)'].reset_index(drop=True)))"
   ]
  },
  {
   "cell_type": "code",
   "execution_count": 689,
   "id": "d5b451f4-c514-42f2-86ce-3249d5aa6f73",
   "metadata": {},
   "outputs": [],
   "source": [
    "# 8 track and LP/EP"
   ]
  },
  {
   "cell_type": "code",
   "execution_count": 707,
   "id": "8aa68744-e90e-4eab-9c56-e6fb8e49e355",
   "metadata": {},
   "outputs": [
    {
     "name": "stdout",
     "output_type": "stream",
     "text": [
      "0.8546737974264753\n"
     ]
    }
   ],
   "source": [
    "print(format_dfs[6]['Value (Actual)'].reset_index(drop=True).corr(format_dfs[10]['Value (Actual)'].reset_index(drop=True)))"
   ]
  },
  {
   "cell_type": "code",
   "execution_count": 691,
   "id": "9f7f3a54-7df4-4dcd-8198-a796c349a7fa",
   "metadata": {},
   "outputs": [],
   "source": [
    "# 8 track and vinyl single"
   ]
  },
  {
   "cell_type": "code",
   "execution_count": 708,
   "id": "f500cb26-d75f-44f9-9ff4-8d88cdc6dcce",
   "metadata": {},
   "outputs": [
    {
     "name": "stdout",
     "output_type": "stream",
     "text": [
      "0.7520854672364752\n"
     ]
    }
   ],
   "source": [
    "print(format_dfs[6]['Value (Actual)'].reset_index(drop=True).corr(format_dfs[11]['Value (Actual)'].reset_index(drop=True)))"
   ]
  },
  {
   "cell_type": "code",
   "execution_count": 695,
   "id": "b2562695-0cc0-48ff-b9ac-7fc9836a05ae",
   "metadata": {},
   "outputs": [],
   "source": [
    "# 8 track and other digital"
   ]
  },
  {
   "cell_type": "code",
   "execution_count": 709,
   "id": "e869c6af-b957-45f0-9af1-08ca3f56fc05",
   "metadata": {},
   "outputs": [
    {
     "name": "stdout",
     "output_type": "stream",
     "text": [
      "0.6048209486738318\n"
     ]
    }
   ],
   "source": [
    "print(format_dfs[6]['Value (Actual)'].reset_index(drop=True).corr(format_dfs[12]['Value (Actual)'].reset_index(drop=True)))"
   ]
  },
  {
   "cell_type": "code",
   "execution_count": 698,
   "id": "69d1d608-8ccb-4fe5-9742-687dcb73eb78",
   "metadata": {},
   "outputs": [],
   "source": [
    "# 8 track and ringtones"
   ]
  },
  {
   "cell_type": "code",
   "execution_count": 710,
   "id": "8db28333-f242-4a32-85a2-69e0a1616fe0",
   "metadata": {},
   "outputs": [
    {
     "name": "stdout",
     "output_type": "stream",
     "text": [
      "0.6926721256439665\n"
     ]
    }
   ],
   "source": [
    "print(format_dfs[6]['Value (Actual)'].reset_index(drop=True).corr(format_dfs[13]['Value (Actual)'].reset_index(drop=True)))"
   ]
  },
  {
   "cell_type": "code",
   "execution_count": 700,
   "id": "b31785b0-ca41-45a9-8fe3-100f3b08275f",
   "metadata": {},
   "outputs": [],
   "source": [
    "# 8 track and soundexchange"
   ]
  },
  {
   "cell_type": "code",
   "execution_count": 711,
   "id": "be89ac8f-9123-4dd2-9687-d5ecd12fc791",
   "metadata": {},
   "outputs": [
    {
     "name": "stdout",
     "output_type": "stream",
     "text": [
      "-0.8798648611471438\n"
     ]
    }
   ],
   "source": [
    "print(format_dfs[6]['Value (Actual)'].reset_index(drop=True).corr(format_dfs[14]['Value (Actual)'].reset_index(drop=True)))"
   ]
  },
  {
   "cell_type": "code",
   "execution_count": 702,
   "id": "2189fda3-9217-4ea1-b320-8594ce123c30",
   "metadata": {},
   "outputs": [],
   "source": [
    "# 8 track and CD"
   ]
  },
  {
   "cell_type": "code",
   "execution_count": 712,
   "id": "f15bbdf1-5ff0-41d7-89ef-cd325e33585c",
   "metadata": {},
   "outputs": [
    {
     "name": "stdout",
     "output_type": "stream",
     "text": [
      "-0.7721275708286244\n"
     ]
    }
   ],
   "source": [
    "print(format_dfs[6]['Value (Actual)'].reset_index(drop=True).corr(format_dfs[15]['Value (Actual)'].reset_index(drop=True)))"
   ]
  },
  {
   "cell_type": "code",
   "execution_count": 704,
   "id": "8a8b1c19-f7c6-44ab-82df-cb9af33d55ba",
   "metadata": {},
   "outputs": [],
   "source": [
    "# 8 track and cassette"
   ]
  },
  {
   "cell_type": "code",
   "execution_count": 715,
   "id": "68c9adab-2e10-47d2-885b-b6f02bb8990e",
   "metadata": {},
   "outputs": [
    {
     "name": "stdout",
     "output_type": "stream",
     "text": [
      "-0.8150977867674778\n"
     ]
    }
   ],
   "source": [
    "print(format_dfs[6]['Value (Actual)'].reset_index(drop=True).corr(format_dfs[16]['Value (Actual)'].reset_index(drop=True)))"
   ]
  },
  {
   "cell_type": "code",
   "execution_count": 714,
   "id": "4fb52647-32a2-4f0a-9698-cb00fcc5d205",
   "metadata": {},
   "outputs": [],
   "source": [
    "# 8 track and other tapes"
   ]
  },
  {
   "cell_type": "code",
   "execution_count": 716,
   "id": "45fbfa34-c1f2-484a-86d5-ec4d8f44592e",
   "metadata": {},
   "outputs": [
    {
     "name": "stdout",
     "output_type": "stream",
     "text": [
      "-0.690606558649025\n"
     ]
    }
   ],
   "source": [
    "print(format_dfs[6]['Value (Actual)'].reset_index(drop=True).corr(format_dfs[17]['Value (Actual)'].reset_index(drop=True)))"
   ]
  },
  {
   "cell_type": "code",
   "execution_count": 717,
   "id": "cc824a87-e9cc-472b-82d7-25d0be0bd623",
   "metadata": {},
   "outputs": [],
   "source": [
    "# 8 track and download album"
   ]
  },
  {
   "cell_type": "code",
   "execution_count": 718,
   "id": "8dfedc05-c0ae-46ba-a466-32464aadcb30",
   "metadata": {},
   "outputs": [
    {
     "name": "stdout",
     "output_type": "stream",
     "text": [
      "-0.6617733226737862\n"
     ]
    }
   ],
   "source": [
    "print(format_dfs[6]['Value (Actual)'].reset_index(drop=True).corr(format_dfs[18]['Value (Actual)'].reset_index(drop=True)))"
   ]
  },
  {
   "cell_type": "code",
   "execution_count": 719,
   "id": "23275486-4b70-442d-a579-8bfeddd08048",
   "metadata": {},
   "outputs": [],
   "source": [
    "# 8 track and on-demand streaming"
   ]
  },
  {
   "cell_type": "code",
   "execution_count": 720,
   "id": "5d55d151-4b2e-42f0-8135-e93023a4bb43",
   "metadata": {},
   "outputs": [
    {
     "name": "stdout",
     "output_type": "stream",
     "text": [
      "-0.6897770477834326\n"
     ]
    }
   ],
   "source": [
    "print(format_dfs[6]['Value (Actual)'].reset_index(drop=True).corr(format_dfs[19]['Value (Actual)'].reset_index(drop=True)))"
   ]
  },
  {
   "cell_type": "code",
   "execution_count": 721,
   "id": "ef40a200-2988-4ac9-8930-091f14bdd67f",
   "metadata": {},
   "outputs": [],
   "source": [
    "# 8 track and download music video"
   ]
  },
  {
   "cell_type": "code",
   "execution_count": 722,
   "id": "115f74ba-1b46-4566-9476-91c870d59705",
   "metadata": {},
   "outputs": [
    {
     "name": "stdout",
     "output_type": "stream",
     "text": [
      "0.6169608028841634\n"
     ]
    }
   ],
   "source": [
    "print(format_dfs[6]['Value (Actual)'].reset_index(drop=True).corr(format_dfs[20]['Value (Actual)'].reset_index(drop=True)))"
   ]
  },
  {
   "cell_type": "code",
   "execution_count": 723,
   "id": "38c31c17-60dc-4c4d-8580-232c5d866064",
   "metadata": {},
   "outputs": [],
   "source": [
    "# 8 track and DVD audio"
   ]
  },
  {
   "cell_type": "code",
   "execution_count": 724,
   "id": "31bd3ee8-b19e-4ec3-8f79-514d83c5d71c",
   "metadata": {},
   "outputs": [
    {
     "name": "stdout",
     "output_type": "stream",
     "text": [
      "0.6509393748077952\n"
     ]
    }
   ],
   "source": [
    "print(format_dfs[6]['Value (Actual)'].reset_index(drop=True).corr(format_dfs[21]['Value (Actual)'].reset_index(drop=True)))"
   ]
  },
  {
   "cell_type": "code",
   "execution_count": 725,
   "id": "4c737657-939d-49fc-99ac-3fc7d95b7481",
   "metadata": {},
   "outputs": [],
   "source": [
    "# 8 track and SACD"
   ]
  },
  {
   "cell_type": "code",
   "execution_count": 726,
   "id": "04497d72-5a9c-42ae-b441-92f23567a286",
   "metadata": {},
   "outputs": [
    {
     "name": "stdout",
     "output_type": "stream",
     "text": [
      "0.33335039755596235\n"
     ]
    }
   ],
   "source": [
    "print(format_dfs[6]['Value (Actual)'].reset_index(drop=True).corr(format_dfs[22]['Value (Actual)'].reset_index(drop=True)))"
   ]
  },
  {
   "cell_type": "code",
   "execution_count": 728,
   "id": "b89a4029-6965-4a07-ac96-2d28c6a5eba4",
   "metadata": {},
   "outputs": [],
   "source": [
    "# kiosk and synchronization"
   ]
  },
  {
   "cell_type": "code",
   "execution_count": 729,
   "id": "b8dc66e7-704c-45a9-a0e2-07988c3e5f31",
   "metadata": {},
   "outputs": [
    {
     "name": "stdout",
     "output_type": "stream",
     "text": [
      "-0.3243174008055654\n"
     ]
    }
   ],
   "source": [
    "print(format_dfs[7]['Value (Actual)'].reset_index(drop=True).corr(format_dfs[8]['Value (Actual)'].reset_index(drop=True)))"
   ]
  },
  {
   "cell_type": "code",
   "execution_count": 730,
   "id": "19673e30-53f3-4964-8e98-c1c0ad3b2e9c",
   "metadata": {},
   "outputs": [],
   "source": [
    "# kiosk and music video physial"
   ]
  },
  {
   "cell_type": "code",
   "execution_count": 731,
   "id": "ebdf7804-9af0-426c-94fb-2e7c3d6b9c4d",
   "metadata": {},
   "outputs": [
    {
     "name": "stdout",
     "output_type": "stream",
     "text": [
      "0.03758558702258822\n"
     ]
    }
   ],
   "source": [
    "print(format_dfs[7]['Value (Actual)'].reset_index(drop=True).corr(format_dfs[9]['Value (Actual)'].reset_index(drop=True)))"
   ]
  },
  {
   "cell_type": "code",
   "execution_count": 732,
   "id": "8fbdd379-acdc-4e0a-95af-c82414160ea4",
   "metadata": {},
   "outputs": [],
   "source": [
    "# kiosk and LP/EP"
   ]
  },
  {
   "cell_type": "code",
   "execution_count": 733,
   "id": "39735330-2495-414a-a224-95cbcdd00e8f",
   "metadata": {},
   "outputs": [
    {
     "name": "stdout",
     "output_type": "stream",
     "text": [
      "0.6294353836477191\n"
     ]
    }
   ],
   "source": [
    "print(format_dfs[7]['Value (Actual)'].reset_index(drop=True).corr(format_dfs[10]['Value (Actual)'].reset_index(drop=True)))"
   ]
  },
  {
   "cell_type": "code",
   "execution_count": 734,
   "id": "04023c60-44ce-44bc-9549-da5d4335bf5c",
   "metadata": {},
   "outputs": [],
   "source": [
    "# kiosk and vinyl single"
   ]
  },
  {
   "cell_type": "code",
   "execution_count": 735,
   "id": "0ff33b96-8c75-4400-8eb1-f213b220d6ee",
   "metadata": {},
   "outputs": [
    {
     "name": "stdout",
     "output_type": "stream",
     "text": [
      "0.211957943034261\n"
     ]
    }
   ],
   "source": [
    "print(format_dfs[7]['Value (Actual)'].reset_index(drop=True).corr(format_dfs[11]['Value (Actual)'].reset_index(drop=True)))"
   ]
  },
  {
   "cell_type": "code",
   "execution_count": 736,
   "id": "ff720cb6-7aa5-4b76-96cd-38495d5f3400",
   "metadata": {},
   "outputs": [],
   "source": [
    "# kiosk and other digital"
   ]
  },
  {
   "cell_type": "code",
   "execution_count": 737,
   "id": "5c8cf933-5706-43a6-87f3-d470c75647a6",
   "metadata": {},
   "outputs": [
    {
     "name": "stdout",
     "output_type": "stream",
     "text": [
      "0.7120625991122665\n"
     ]
    }
   ],
   "source": [
    "print(format_dfs[7]['Value (Actual)'].reset_index(drop=True).corr(format_dfs[12]['Value (Actual)'].reset_index(drop=True)))"
   ]
  },
  {
   "cell_type": "code",
   "execution_count": 738,
   "id": "f2d5ecb2-f586-4ab4-b873-64e788bc3b29",
   "metadata": {},
   "outputs": [],
   "source": [
    "# kiosk and ringtones"
   ]
  },
  {
   "cell_type": "code",
   "execution_count": 739,
   "id": "73b46445-f45f-408f-bd57-9797a55bb9a7",
   "metadata": {},
   "outputs": [
    {
     "name": "stdout",
     "output_type": "stream",
     "text": [
      "0.11781426520881179\n"
     ]
    }
   ],
   "source": [
    "print(format_dfs[7]['Value (Actual)'].reset_index(drop=True).corr(format_dfs[13]['Value (Actual)'].reset_index(drop=True)))"
   ]
  },
  {
   "cell_type": "code",
   "execution_count": 740,
   "id": "cf379332-31b7-4d81-82fa-7caf815b6bd5",
   "metadata": {},
   "outputs": [],
   "source": [
    "# kiosk and soundexchange"
   ]
  },
  {
   "cell_type": "code",
   "execution_count": 741,
   "id": "a1255cec-b3a2-46ef-81ac-e490ebc48311",
   "metadata": {},
   "outputs": [
    {
     "name": "stdout",
     "output_type": "stream",
     "text": [
      "-0.23590791061925445\n"
     ]
    }
   ],
   "source": [
    "print(format_dfs[7]['Value (Actual)'].reset_index(drop=True).corr(format_dfs[14]['Value (Actual)'].reset_index(drop=True)))"
   ]
  },
  {
   "cell_type": "code",
   "execution_count": 742,
   "id": "ded64a50-bae7-40c3-9615-3c80b2b61bfa",
   "metadata": {},
   "outputs": [],
   "source": [
    "# kiosk and CD"
   ]
  },
  {
   "cell_type": "code",
   "execution_count": 743,
   "id": "2795f425-d0b7-4eb2-a11b-ecba3b2f5b13",
   "metadata": {},
   "outputs": [
    {
     "name": "stdout",
     "output_type": "stream",
     "text": [
      "-0.22358625669708349\n"
     ]
    }
   ],
   "source": [
    "print(format_dfs[7]['Value (Actual)'].reset_index(drop=True).corr(format_dfs[15]['Value (Actual)'].reset_index(drop=True)))"
   ]
  },
  {
   "cell_type": "code",
   "execution_count": 744,
   "id": "01a94220-7892-4e18-9132-2b1a164151e5",
   "metadata": {},
   "outputs": [],
   "source": [
    "# kiosk and cassette"
   ]
  },
  {
   "cell_type": "code",
   "execution_count": 745,
   "id": "5c1048ff-55c2-4912-a295-326581e92f1f",
   "metadata": {},
   "outputs": [
    {
     "name": "stdout",
     "output_type": "stream",
     "text": [
      "-0.27586130999345615\n"
     ]
    }
   ],
   "source": [
    "print(format_dfs[7]['Value (Actual)'].reset_index(drop=True).corr(format_dfs[16]['Value (Actual)'].reset_index(drop=True)))"
   ]
  },
  {
   "cell_type": "code",
   "execution_count": 746,
   "id": "025f1d04-255d-4aad-8e7b-1e4448865452",
   "metadata": {},
   "outputs": [],
   "source": [
    "# kiosk and other tapes"
   ]
  },
  {
   "cell_type": "code",
   "execution_count": 747,
   "id": "b13bda13-de40-4cb6-bef7-f47d564abe75",
   "metadata": {},
   "outputs": [
    {
     "name": "stdout",
     "output_type": "stream",
     "text": [
      "-0.8872064376226882\n"
     ]
    }
   ],
   "source": [
    "print(format_dfs[7]['Value (Actual)'].reset_index(drop=True).corr(format_dfs[17]['Value (Actual)'].reset_index(drop=True)))"
   ]
  },
  {
   "cell_type": "code",
   "execution_count": 748,
   "id": "7f66b1e1-c64f-4f0e-bc66-77d6803f9f22",
   "metadata": {},
   "outputs": [],
   "source": [
    "# kiosk and download album"
   ]
  },
  {
   "cell_type": "code",
   "execution_count": 749,
   "id": "fb75d502-2293-4e92-8d0b-d02bfd2eb9de",
   "metadata": {},
   "outputs": [
    {
     "name": "stdout",
     "output_type": "stream",
     "text": [
      "0.4093751693641138\n"
     ]
    }
   ],
   "source": [
    "print(format_dfs[7]['Value (Actual)'].reset_index(drop=True).corr(format_dfs[18]['Value (Actual)'].reset_index(drop=True)))"
   ]
  },
  {
   "cell_type": "code",
   "execution_count": 750,
   "id": "207e2b5a-cc5a-43c6-849c-474c6bcfd066",
   "metadata": {},
   "outputs": [],
   "source": [
    "# kiosk and on-demand streaming"
   ]
  },
  {
   "cell_type": "code",
   "execution_count": 751,
   "id": "b792ee27-3ecc-4597-b0a6-002af290f430",
   "metadata": {},
   "outputs": [
    {
     "name": "stdout",
     "output_type": "stream",
     "text": [
      "0.5225625573130046\n"
     ]
    }
   ],
   "source": [
    "print(format_dfs[7]['Value (Actual)'].reset_index(drop=True).corr(format_dfs[19]['Value (Actual)'].reset_index(drop=True)))"
   ]
  },
  {
   "cell_type": "code",
   "execution_count": 752,
   "id": "1fcde80a-1e88-4b79-af06-e2de026f3ba0",
   "metadata": {},
   "outputs": [],
   "source": [
    "# kiosk and download music video"
   ]
  },
  {
   "cell_type": "code",
   "execution_count": 753,
   "id": "5bbfe082-9e32-4ce9-92d1-af4238f78b0a",
   "metadata": {},
   "outputs": [
    {
     "name": "stdout",
     "output_type": "stream",
     "text": [
      "0.5803004095306825\n"
     ]
    }
   ],
   "source": [
    "print(format_dfs[7]['Value (Actual)'].reset_index(drop=True).corr(format_dfs[20]['Value (Actual)'].reset_index(drop=True)))"
   ]
  },
  {
   "cell_type": "code",
   "execution_count": 754,
   "id": "80ad530a-f0d1-4576-b61e-e0769996804c",
   "metadata": {},
   "outputs": [],
   "source": [
    "# kiosk and DVD audio"
   ]
  },
  {
   "cell_type": "code",
   "execution_count": 755,
   "id": "1a46ae83-401b-4c5a-baee-a60692f877e7",
   "metadata": {},
   "outputs": [
    {
     "name": "stdout",
     "output_type": "stream",
     "text": [
      "0.0820471085904476\n"
     ]
    }
   ],
   "source": [
    "print(format_dfs[7]['Value (Actual)'].reset_index(drop=True).corr(format_dfs[21]['Value (Actual)'].reset_index(drop=True)))"
   ]
  },
  {
   "cell_type": "code",
   "execution_count": 756,
   "id": "02e571f2-1521-40e7-9e76-ef491268a7b9",
   "metadata": {},
   "outputs": [],
   "source": [
    "# kiosk and SACD"
   ]
  },
  {
   "cell_type": "code",
   "execution_count": 757,
   "id": "e8f7c8c8-cdec-4da1-b129-6ec8d7caa5df",
   "metadata": {},
   "outputs": [
    {
     "name": "stdout",
     "output_type": "stream",
     "text": [
      "-0.3280193462168987\n"
     ]
    }
   ],
   "source": [
    "print(format_dfs[7]['Value (Actual)'].reset_index(drop=True).corr(format_dfs[22]['Value (Actual)'].reset_index(drop=True)))"
   ]
  },
  {
   "cell_type": "code",
   "execution_count": 758,
   "id": "475c80c9-ff7d-4ebc-94e5-f70c23dcce4f",
   "metadata": {},
   "outputs": [],
   "source": [
    "# synch and music video physical"
   ]
  },
  {
   "cell_type": "code",
   "execution_count": 759,
   "id": "7abfa888-011f-4b07-a353-14c53473efb4",
   "metadata": {},
   "outputs": [
    {
     "name": "stdout",
     "output_type": "stream",
     "text": [
      "0.7915350955423266\n"
     ]
    }
   ],
   "source": [
    "print(format_dfs[8]['Value (Actual)'].reset_index(drop=True).corr(format_dfs[9]['Value (Actual)'].reset_index(drop=True)))"
   ]
  },
  {
   "cell_type": "code",
   "execution_count": 760,
   "id": "3b01adde-f7fa-4323-80cf-65b611c0ead1",
   "metadata": {},
   "outputs": [],
   "source": [
    "# synch and LP/EP"
   ]
  },
  {
   "cell_type": "code",
   "execution_count": 761,
   "id": "2ad843b8-6e18-47fd-95ff-d5e30e913827",
   "metadata": {},
   "outputs": [
    {
     "name": "stdout",
     "output_type": "stream",
     "text": [
      "-0.8810307127220912\n"
     ]
    }
   ],
   "source": [
    "print(format_dfs[8]['Value (Actual)'].reset_index(drop=True).corr(format_dfs[10]['Value (Actual)'].reset_index(drop=True)))"
   ]
  },
  {
   "cell_type": "code",
   "execution_count": 762,
   "id": "ee9a26f5-d07a-4574-a917-46e0651dc139",
   "metadata": {},
   "outputs": [],
   "source": [
    "# synch and vinyl single"
   ]
  },
  {
   "cell_type": "code",
   "execution_count": 763,
   "id": "58d6d968-49cf-41d2-bda8-e7f3b3494c7d",
   "metadata": {},
   "outputs": [
    {
     "name": "stdout",
     "output_type": "stream",
     "text": [
      "-0.702732012437738\n"
     ]
    }
   ],
   "source": [
    "print(format_dfs[8]['Value (Actual)'].reset_index(drop=True).corr(format_dfs[11]['Value (Actual)'].reset_index(drop=True)))"
   ]
  },
  {
   "cell_type": "code",
   "execution_count": 764,
   "id": "dd1c7814-5fba-4e6c-908d-6d68b30c1d35",
   "metadata": {},
   "outputs": [],
   "source": [
    "# synch and other digital"
   ]
  },
  {
   "cell_type": "code",
   "execution_count": 765,
   "id": "a55f5bd4-1f7b-422f-a7c7-08a1a333a21a",
   "metadata": {},
   "outputs": [
    {
     "name": "stdout",
     "output_type": "stream",
     "text": [
      "-0.6242339990458685\n"
     ]
    }
   ],
   "source": [
    "print(format_dfs[8]['Value (Actual)'].reset_index(drop=True).corr(format_dfs[12]['Value (Actual)'].reset_index(drop=True)))"
   ]
  },
  {
   "cell_type": "code",
   "execution_count": 766,
   "id": "5882fb4a-b674-4255-8ba4-582d2413865e",
   "metadata": {},
   "outputs": [],
   "source": [
    "# synch and ringtones"
   ]
  },
  {
   "cell_type": "code",
   "execution_count": 984,
   "id": "3bd2be1d-84a4-448d-95e2-e00f48d9eb8c",
   "metadata": {},
   "outputs": [
    {
     "name": "stdout",
     "output_type": "stream",
     "text": [
      "-0.6308718388775038\n"
     ]
    }
   ],
   "source": [
    "print(format_dfs[8]['Value (Actual)'].reset_index(drop=True).corr(format_dfs[13]['Value (Actual)'].reset_index(drop=True)))"
   ]
  },
  {
   "cell_type": "code",
   "execution_count": 767,
   "id": "b782beb8-cb88-45c2-9052-fa9ac40d8836",
   "metadata": {},
   "outputs": [],
   "source": [
    "# synch and soundexchange"
   ]
  },
  {
   "cell_type": "code",
   "execution_count": 768,
   "id": "2128de8f-e191-48bd-8921-f8d0a2c4cc04",
   "metadata": {},
   "outputs": [
    {
     "name": "stdout",
     "output_type": "stream",
     "text": [
      "0.8015095805867516\n"
     ]
    }
   ],
   "source": [
    "print(format_dfs[8]['Value (Actual)'].reset_index(drop=True).corr(format_dfs[14]['Value (Actual)'].reset_index(drop=True)))"
   ]
  },
  {
   "cell_type": "code",
   "execution_count": 769,
   "id": "32b06874-6043-4a4a-8b09-60f0c6ff6269",
   "metadata": {},
   "outputs": [],
   "source": [
    "# synch and CD"
   ]
  },
  {
   "cell_type": "code",
   "execution_count": 770,
   "id": "d6e99270-e9af-406c-8e82-ecf3eb9f2403",
   "metadata": {},
   "outputs": [
    {
     "name": "stdout",
     "output_type": "stream",
     "text": [
      "0.6894140117477443\n"
     ]
    }
   ],
   "source": [
    "print(format_dfs[8]['Value (Actual)'].reset_index(drop=True).corr(format_dfs[15]['Value (Actual)'].reset_index(drop=True)))"
   ]
  },
  {
   "cell_type": "code",
   "execution_count": 771,
   "id": "c041693d-d597-4987-b0ab-44f009127a53",
   "metadata": {},
   "outputs": [],
   "source": [
    "# synch and cassette"
   ]
  },
  {
   "cell_type": "code",
   "execution_count": 772,
   "id": "36941379-729a-4e9f-ada4-5bacb07e21a7",
   "metadata": {},
   "outputs": [
    {
     "name": "stdout",
     "output_type": "stream",
     "text": [
      "0.757613596442773\n"
     ]
    }
   ],
   "source": [
    "print(format_dfs[8]['Value (Actual)'].reset_index(drop=True).corr(format_dfs[16]['Value (Actual)'].reset_index(drop=True)))"
   ]
  },
  {
   "cell_type": "code",
   "execution_count": 773,
   "id": "33c609f0-ee50-4c83-906b-b263f8b8afa7",
   "metadata": {},
   "outputs": [],
   "source": [
    "# synch and other tapes"
   ]
  },
  {
   "cell_type": "code",
   "execution_count": 774,
   "id": "3aa576a3-dfdb-4f83-bbc2-ccd093764cd5",
   "metadata": {},
   "outputs": [
    {
     "name": "stdout",
     "output_type": "stream",
     "text": [
      "0.9048587549027057\n"
     ]
    }
   ],
   "source": [
    "print(format_dfs[8]['Value (Actual)'].reset_index(drop=True).corr(format_dfs[17]['Value (Actual)'].reset_index(drop=True)))"
   ]
  },
  {
   "cell_type": "code",
   "execution_count": 775,
   "id": "63e91706-31d0-4c6f-aad6-ec08223fce77",
   "metadata": {},
   "outputs": [],
   "source": [
    "# synch and download album"
   ]
  },
  {
   "cell_type": "code",
   "execution_count": 776,
   "id": "e090ba66-7e22-46c2-b57c-c0006483f96e",
   "metadata": {},
   "outputs": [
    {
     "name": "stdout",
     "output_type": "stream",
     "text": [
      "0.45720888798558607\n"
     ]
    }
   ],
   "source": [
    "print(format_dfs[8]['Value (Actual)'].reset_index(drop=True).corr(format_dfs[18]['Value (Actual)'].reset_index(drop=True)))"
   ]
  },
  {
   "cell_type": "code",
   "execution_count": 777,
   "id": "20338fb6-ec32-41b4-aa9e-e550ef765c47",
   "metadata": {},
   "outputs": [],
   "source": [
    "# synch and ondemand streaming"
   ]
  },
  {
   "cell_type": "code",
   "execution_count": 778,
   "id": "a6772b1f-789a-465c-a8b5-b8626b684bcc",
   "metadata": {},
   "outputs": [
    {
     "name": "stdout",
     "output_type": "stream",
     "text": [
      "0.19917121638461957\n"
     ]
    }
   ],
   "source": [
    "print(format_dfs[8]['Value (Actual)'].reset_index(drop=True).corr(format_dfs[19]['Value (Actual)'].reset_index(drop=True)))"
   ]
  },
  {
   "cell_type": "code",
   "execution_count": 779,
   "id": "a6395993-2406-4848-927a-8d87558d0810",
   "metadata": {},
   "outputs": [],
   "source": [
    "# synch and download music video"
   ]
  },
  {
   "cell_type": "code",
   "execution_count": 780,
   "id": "99b16550-a100-4136-bf13-3b1e52d8db4e",
   "metadata": {},
   "outputs": [
    {
     "name": "stdout",
     "output_type": "stream",
     "text": [
      "-0.7860678420725858\n"
     ]
    }
   ],
   "source": [
    "print(format_dfs[8]['Value (Actual)'].reset_index(drop=True).corr(format_dfs[20]['Value (Actual)'].reset_index(drop=True)))"
   ]
  },
  {
   "cell_type": "code",
   "execution_count": 781,
   "id": "0eeb6057-46ff-4584-b32c-3382367e50b3",
   "metadata": {},
   "outputs": [],
   "source": [
    "# synch and DVD audio"
   ]
  },
  {
   "cell_type": "code",
   "execution_count": 782,
   "id": "72fbfdeb-990b-4451-8bbe-66f036ae54c5",
   "metadata": {},
   "outputs": [
    {
     "name": "stdout",
     "output_type": "stream",
     "text": [
      "-0.5698251766745922\n"
     ]
    }
   ],
   "source": [
    "print(format_dfs[8]['Value (Actual)'].reset_index(drop=True).corr(format_dfs[21]['Value (Actual)'].reset_index(drop=True)))"
   ]
  },
  {
   "cell_type": "code",
   "execution_count": 784,
   "id": "d052c457-1a9c-468f-928c-610c0cdef144",
   "metadata": {},
   "outputs": [],
   "source": [
    "# synch and SACD"
   ]
  },
  {
   "cell_type": "code",
   "execution_count": 785,
   "id": "2e84de50-d375-43b8-ae99-f5e6bcb056da",
   "metadata": {},
   "outputs": [
    {
     "name": "stdout",
     "output_type": "stream",
     "text": [
      "-0.1390738715295929\n"
     ]
    }
   ],
   "source": [
    "print(format_dfs[8]['Value (Actual)'].reset_index(drop=True).corr(format_dfs[22]['Value (Actual)'].reset_index(drop=True)))"
   ]
  },
  {
   "cell_type": "code",
   "execution_count": 786,
   "id": "a1dc7341-7bb9-4a75-85e6-42c6567cae03",
   "metadata": {},
   "outputs": [],
   "source": [
    "# music video and LP/EP"
   ]
  },
  {
   "cell_type": "code",
   "execution_count": 788,
   "id": "caa89198-f1dd-47cf-9f30-1174e8417d98",
   "metadata": {},
   "outputs": [
    {
     "name": "stdout",
     "output_type": "stream",
     "text": [
      "0.24379547947757435\n"
     ]
    }
   ],
   "source": [
    "print(format_dfs[9]['Value (Actual)'].reset_index(drop=True).corr(format_dfs[10]['Value (Actual)'].reset_index(drop=True)))"
   ]
  },
  {
   "cell_type": "code",
   "execution_count": 789,
   "id": "19365d17-d5b0-47e7-8a9b-10ccb721c709",
   "metadata": {},
   "outputs": [],
   "source": [
    "# MV and vinyl single"
   ]
  },
  {
   "cell_type": "code",
   "execution_count": 790,
   "id": "fb0bca77-a615-4167-b716-427f74c21c5c",
   "metadata": {},
   "outputs": [
    {
     "name": "stdout",
     "output_type": "stream",
     "text": [
      "0.34165834926379324\n"
     ]
    }
   ],
   "source": [
    "print(format_dfs[9]['Value (Actual)'].reset_index(drop=True).corr(format_dfs[11]['Value (Actual)'].reset_index(drop=True)))"
   ]
  },
  {
   "cell_type": "code",
   "execution_count": 791,
   "id": "27f258da-9635-4815-bbf2-503e40a46b40",
   "metadata": {},
   "outputs": [],
   "source": [
    "# MV and other digital"
   ]
  },
  {
   "cell_type": "code",
   "execution_count": 792,
   "id": "3d066397-5278-487c-b618-2dd5d151015c",
   "metadata": {},
   "outputs": [
    {
     "name": "stdout",
     "output_type": "stream",
     "text": [
      "-0.30853162094750985\n"
     ]
    }
   ],
   "source": [
    "print(format_dfs[9]['Value (Actual)'].reset_index(drop=True).corr(format_dfs[12]['Value (Actual)'].reset_index(drop=True)))"
   ]
  },
  {
   "cell_type": "code",
   "execution_count": 793,
   "id": "74e9f4eb-867b-46f1-8895-b5816727cf1d",
   "metadata": {},
   "outputs": [],
   "source": [
    "# MV and ringtones"
   ]
  },
  {
   "cell_type": "code",
   "execution_count": 795,
   "id": "904f38ba-9d87-48cf-afdd-5ad9c9dc9016",
   "metadata": {},
   "outputs": [
    {
     "name": "stdout",
     "output_type": "stream",
     "text": [
      "-0.6883323113045611\n"
     ]
    }
   ],
   "source": [
    "print(format_dfs[9]['Value (Actual)'].reset_index(drop=True).corr(format_dfs[13]['Value (Actual)'].reset_index(drop=True)))"
   ]
  },
  {
   "cell_type": "code",
   "execution_count": 796,
   "id": "9966dcc2-de3a-4f9a-a63b-856f0498a50b",
   "metadata": {},
   "outputs": [],
   "source": [
    "# MV and soundexchange"
   ]
  },
  {
   "cell_type": "code",
   "execution_count": 797,
   "id": "bdb119cc-4d04-4fa4-bfa3-00d425970f38",
   "metadata": {},
   "outputs": [
    {
     "name": "stdout",
     "output_type": "stream",
     "text": [
      "0.7244538558702773\n"
     ]
    }
   ],
   "source": [
    "print(format_dfs[9]['Value (Actual)'].reset_index(drop=True).corr(format_dfs[14]['Value (Actual)'].reset_index(drop=True)))"
   ]
  },
  {
   "cell_type": "code",
   "execution_count": 798,
   "id": "a4ef121d-34ad-4184-8baa-77b72ea8093e",
   "metadata": {},
   "outputs": [],
   "source": [
    "# MV and CD"
   ]
  },
  {
   "cell_type": "code",
   "execution_count": 799,
   "id": "90595636-adf2-46b1-af66-aa00f7d0a1fc",
   "metadata": {},
   "outputs": [
    {
     "name": "stdout",
     "output_type": "stream",
     "text": [
      "0.5557933750297129\n"
     ]
    }
   ],
   "source": [
    "print(format_dfs[9]['Value (Actual)'].reset_index(drop=True).corr(format_dfs[15]['Value (Actual)'].reset_index(drop=True)))"
   ]
  },
  {
   "cell_type": "code",
   "execution_count": 800,
   "id": "e2817101-999a-4f8d-9b04-4c9dee36c272",
   "metadata": {},
   "outputs": [],
   "source": [
    "# MV and cassette"
   ]
  },
  {
   "cell_type": "code",
   "execution_count": 801,
   "id": "05a6037a-8c7a-4972-8d9b-c8a902346572",
   "metadata": {},
   "outputs": [
    {
     "name": "stdout",
     "output_type": "stream",
     "text": [
      "0.6670377385352959\n"
     ]
    }
   ],
   "source": [
    "print(format_dfs[9]['Value (Actual)'].reset_index(drop=True).corr(format_dfs[16]['Value (Actual)'].reset_index(drop=True)))"
   ]
  },
  {
   "cell_type": "code",
   "execution_count": 802,
   "id": "69eba958-5ab4-475f-b05a-dc7fa7ff08b8",
   "metadata": {},
   "outputs": [],
   "source": [
    "# MV and other tapes"
   ]
  },
  {
   "cell_type": "code",
   "execution_count": 803,
   "id": "5c3d3d8c-5b12-44fe-a8b1-fce43e9e81ac",
   "metadata": {},
   "outputs": [
    {
     "name": "stdout",
     "output_type": "stream",
     "text": [
      "-0.09252262950196238\n"
     ]
    }
   ],
   "source": [
    "print(format_dfs[9]['Value (Actual)'].reset_index(drop=True).corr(format_dfs[17]['Value (Actual)'].reset_index(drop=True)))"
   ]
  },
  {
   "cell_type": "code",
   "execution_count": 804,
   "id": "792165a9-616b-47ab-b8ff-007cb5b447cc",
   "metadata": {},
   "outputs": [],
   "source": [
    "# MV and download album"
   ]
  },
  {
   "cell_type": "code",
   "execution_count": 805,
   "id": "14d26421-08f4-4b8a-9046-0dc6491451be",
   "metadata": {},
   "outputs": [
    {
     "name": "stdout",
     "output_type": "stream",
     "text": [
      "0.38031991253702596\n"
     ]
    }
   ],
   "source": [
    "print(format_dfs[9]['Value (Actual)'].reset_index(drop=True).corr(format_dfs[18]['Value (Actual)'].reset_index(drop=True)))"
   ]
  },
  {
   "cell_type": "code",
   "execution_count": 806,
   "id": "eb28738a-7377-431f-9e58-3bfc56a64fce",
   "metadata": {},
   "outputs": [],
   "source": [
    "#MV and ondemand streaming"
   ]
  },
  {
   "cell_type": "code",
   "execution_count": 807,
   "id": "73912b2b-1126-4757-ae76-2083d85dc973",
   "metadata": {},
   "outputs": [
    {
     "name": "stdout",
     "output_type": "stream",
     "text": [
      "0.8471807796899037\n"
     ]
    }
   ],
   "source": [
    "print(format_dfs[9]['Value (Actual)'].reset_index(drop=True).corr(format_dfs[19]['Value (Actual)'].reset_index(drop=True)))"
   ]
  },
  {
   "cell_type": "code",
   "execution_count": 808,
   "id": "5b3296b7-096a-4f8c-936b-fc530bcdf0d6",
   "metadata": {},
   "outputs": [],
   "source": [
    "# MV and download music video"
   ]
  },
  {
   "cell_type": "code",
   "execution_count": 809,
   "id": "a72bdc3a-84ed-453b-afed-4c77628feae7",
   "metadata": {},
   "outputs": [
    {
     "name": "stdout",
     "output_type": "stream",
     "text": [
      "-0.4062246044353865\n"
     ]
    }
   ],
   "source": [
    "print(format_dfs[9]['Value (Actual)'].reset_index(drop=True).corr(format_dfs[20]['Value (Actual)'].reset_index(drop=True)))"
   ]
  },
  {
   "cell_type": "code",
   "execution_count": 811,
   "id": "527ae06e-9394-4e3a-bbdf-432651f80c2f",
   "metadata": {},
   "outputs": [],
   "source": [
    "# MV and dvd audio"
   ]
  },
  {
   "cell_type": "code",
   "execution_count": 812,
   "id": "7045da10-dcb1-4100-b7fc-394c168981a1",
   "metadata": {},
   "outputs": [
    {
     "name": "stdout",
     "output_type": "stream",
     "text": [
      "-0.5378769418633141\n"
     ]
    }
   ],
   "source": [
    "print(format_dfs[9]['Value (Actual)'].reset_index(drop=True).corr(format_dfs[21]['Value (Actual)'].reset_index(drop=True)))"
   ]
  },
  {
   "cell_type": "code",
   "execution_count": 813,
   "id": "f87db8dd-954d-4035-8344-e1866a2240a0",
   "metadata": {},
   "outputs": [],
   "source": [
    "# MV and SACD"
   ]
  },
  {
   "cell_type": "code",
   "execution_count": 814,
   "id": "3d6a22d6-457d-4819-a963-93bbe4c6f322",
   "metadata": {},
   "outputs": [
    {
     "name": "stdout",
     "output_type": "stream",
     "text": [
      "-0.5499546358448456\n"
     ]
    }
   ],
   "source": [
    "print(format_dfs[9]['Value (Actual)'].reset_index(drop=True).corr(format_dfs[22]['Value (Actual)'].reset_index(drop=True)))"
   ]
  },
  {
   "cell_type": "code",
   "execution_count": null,
   "id": "f1c83b13-332b-444b-af14-a043d1756b41",
   "metadata": {},
   "outputs": [],
   "source": [
    "# LP and vinyl single"
   ]
  },
  {
   "cell_type": "code",
   "execution_count": 815,
   "id": "26bd43b8-a21d-41c7-accc-1c1a42f11e28",
   "metadata": {},
   "outputs": [
    {
     "name": "stdout",
     "output_type": "stream",
     "text": [
      "0.9592048488317292\n"
     ]
    }
   ],
   "source": [
    "print(format_dfs[10]['Value (Actual)'].reset_index(drop=True).corr(format_dfs[11]['Value (Actual)'].reset_index(drop=True)))"
   ]
  },
  {
   "cell_type": "code",
   "execution_count": 816,
   "id": "8ef9891a-b2a6-4bb9-aa24-49bc43b31023",
   "metadata": {},
   "outputs": [],
   "source": [
    "# Lp and other digital"
   ]
  },
  {
   "cell_type": "code",
   "execution_count": 817,
   "id": "03b7cde1-e5cd-444c-bb91-1632d7a15f54",
   "metadata": {},
   "outputs": [
    {
     "name": "stdout",
     "output_type": "stream",
     "text": [
      "0.728924687789155\n"
     ]
    }
   ],
   "source": [
    "print(format_dfs[10]['Value (Actual)'].reset_index(drop=True).corr(format_dfs[12]['Value (Actual)'].reset_index(drop=True)))"
   ]
  },
  {
   "cell_type": "code",
   "execution_count": 818,
   "id": "42b13ae7-859c-4fee-a2d1-4d637104db95",
   "metadata": {},
   "outputs": [],
   "source": [
    "# LP and ringtones"
   ]
  },
  {
   "cell_type": "code",
   "execution_count": 819,
   "id": "85596a88-1c54-4109-9b48-3d82579e337f",
   "metadata": {},
   "outputs": [
    {
     "name": "stdout",
     "output_type": "stream",
     "text": [
      "0.6530698688264454\n"
     ]
    }
   ],
   "source": [
    "print(format_dfs[10]['Value (Actual)'].reset_index(drop=True).corr(format_dfs[13]['Value (Actual)'].reset_index(drop=True)))"
   ]
  },
  {
   "cell_type": "code",
   "execution_count": 820,
   "id": "2d8b3db3-c9c9-426d-8332-2d10be90dacb",
   "metadata": {},
   "outputs": [],
   "source": [
    "# lp and soundexchange"
   ]
  },
  {
   "cell_type": "code",
   "execution_count": 821,
   "id": "6835018c-d608-471d-a5c4-da6bc3f5a7ee",
   "metadata": {},
   "outputs": [
    {
     "name": "stdout",
     "output_type": "stream",
     "text": [
      "-0.8721017328449543\n"
     ]
    }
   ],
   "source": [
    "print(format_dfs[10]['Value (Actual)'].reset_index(drop=True).corr(format_dfs[14]['Value (Actual)'].reset_index(drop=True)))"
   ]
  },
  {
   "cell_type": "code",
   "execution_count": 822,
   "id": "eaf1351c-b170-4f40-8014-9a983eeac847",
   "metadata": {},
   "outputs": [],
   "source": [
    "# lp and CD"
   ]
  },
  {
   "cell_type": "code",
   "execution_count": 823,
   "id": "abbb1b08-d8a8-4b33-a3bb-4a4d0eb1efd3",
   "metadata": {},
   "outputs": [
    {
     "name": "stdout",
     "output_type": "stream",
     "text": [
      "-0.2639701566686927\n"
     ]
    }
   ],
   "source": [
    "print(format_dfs[10]['Value (Actual)'].reset_index(drop=True).corr(format_dfs[15]['Value (Actual)'].reset_index(drop=True)))"
   ]
  },
  {
   "cell_type": "code",
   "execution_count": 824,
   "id": "8a41c77b-1fbd-4213-a73a-6e99ed4b9efb",
   "metadata": {},
   "outputs": [],
   "source": [
    "# lp and cassette"
   ]
  },
  {
   "cell_type": "code",
   "execution_count": 825,
   "id": "b398a5fb-93df-4d19-9d76-a70c7d327898",
   "metadata": {},
   "outputs": [
    {
     "name": "stdout",
     "output_type": "stream",
     "text": [
      "-0.1758535128057998\n"
     ]
    }
   ],
   "source": [
    "print(format_dfs[10]['Value (Actual)'].reset_index(drop=True).corr(format_dfs[16]['Value (Actual)'].reset_index(drop=True)))"
   ]
  },
  {
   "cell_type": "code",
   "execution_count": 826,
   "id": "a7725d12-5e25-452f-9860-d26ca1474014",
   "metadata": {},
   "outputs": [],
   "source": [
    "# lp and other tapes"
   ]
  },
  {
   "cell_type": "code",
   "execution_count": 827,
   "id": "b0bd8ab6-ef79-4547-8a48-ce0c8f09b309",
   "metadata": {},
   "outputs": [
    {
     "name": "stdout",
     "output_type": "stream",
     "text": [
      "-0.6267945645478405\n"
     ]
    }
   ],
   "source": [
    "print(format_dfs[10]['Value (Actual)'].reset_index(drop=True).corr(format_dfs[17]['Value (Actual)'].reset_index(drop=True)))"
   ]
  },
  {
   "cell_type": "code",
   "execution_count": 828,
   "id": "79449b42-7147-4720-86bd-88972992572b",
   "metadata": {},
   "outputs": [],
   "source": [
    "# lp and download album"
   ]
  },
  {
   "cell_type": "code",
   "execution_count": 829,
   "id": "0d8ad220-2563-442b-9cde-e07a88f691d1",
   "metadata": {},
   "outputs": [
    {
     "name": "stdout",
     "output_type": "stream",
     "text": [
      "0.004057177499262525\n"
     ]
    }
   ],
   "source": [
    "print(format_dfs[10]['Value (Actual)'].reset_index(drop=True).corr(format_dfs[18]['Value (Actual)'].reset_index(drop=True)))"
   ]
  },
  {
   "cell_type": "code",
   "execution_count": 830,
   "id": "cf900e13-40c4-408d-a4bc-ae4e594da64f",
   "metadata": {},
   "outputs": [],
   "source": [
    "# lp and on demand streaming"
   ]
  },
  {
   "cell_type": "code",
   "execution_count": 831,
   "id": "d9be2854-b287-48d0-8624-bf74074a7030",
   "metadata": {},
   "outputs": [
    {
     "name": "stdout",
     "output_type": "stream",
     "text": [
      "-0.12920758806832822\n"
     ]
    }
   ],
   "source": [
    "print(format_dfs[10]['Value (Actual)'].reset_index(drop=True).corr(format_dfs[19]['Value (Actual)'].reset_index(drop=True)))"
   ]
  },
  {
   "cell_type": "code",
   "execution_count": 832,
   "id": "55cd4f6c-9444-4bc5-9700-502f927f1d74",
   "metadata": {},
   "outputs": [],
   "source": [
    "# lp and download music video"
   ]
  },
  {
   "cell_type": "code",
   "execution_count": 833,
   "id": "a294b2c8-9584-43c0-af75-590a460caa8d",
   "metadata": {},
   "outputs": [
    {
     "name": "stdout",
     "output_type": "stream",
     "text": [
      "0.8470728757749528\n"
     ]
    }
   ],
   "source": [
    "print(format_dfs[10]['Value (Actual)'].reset_index(drop=True).corr(format_dfs[20]['Value (Actual)'].reset_index(drop=True)))"
   ]
  },
  {
   "cell_type": "code",
   "execution_count": 834,
   "id": "ea515324-e56e-44a8-bda6-a8f4e5b425d5",
   "metadata": {},
   "outputs": [],
   "source": [
    "# lp and dvd audio"
   ]
  },
  {
   "cell_type": "code",
   "execution_count": 835,
   "id": "8226b05f-0642-442a-a68f-56631a5bc624",
   "metadata": {},
   "outputs": [
    {
     "name": "stdout",
     "output_type": "stream",
     "text": [
      "0.5104373195692085\n"
     ]
    }
   ],
   "source": [
    "print(format_dfs[10]['Value (Actual)'].reset_index(drop=True).corr(format_dfs[21]['Value (Actual)'].reset_index(drop=True)))"
   ]
  },
  {
   "cell_type": "code",
   "execution_count": 836,
   "id": "37bdcc62-127b-49e7-b697-7cc0a69a3bf0",
   "metadata": {},
   "outputs": [],
   "source": [
    "# lp and SACD"
   ]
  },
  {
   "cell_type": "code",
   "execution_count": 837,
   "id": "b5d82db3-e9c6-4500-8f92-21cc08817777",
   "metadata": {},
   "outputs": [
    {
     "name": "stdout",
     "output_type": "stream",
     "text": [
      "0.38993888031015045\n"
     ]
    }
   ],
   "source": [
    "print(format_dfs[10]['Value (Actual)'].reset_index(drop=True).corr(format_dfs[22]['Value (Actual)'].reset_index(drop=True)))"
   ]
  },
  {
   "cell_type": "code",
   "execution_count": 838,
   "id": "30c3f779-2baa-4660-baa6-7fe4ff94ec72",
   "metadata": {},
   "outputs": [],
   "source": [
    "# vinyl and other digital"
   ]
  },
  {
   "cell_type": "code",
   "execution_count": 839,
   "id": "d5acb1b6-2d67-43f8-a0bd-9b5301134655",
   "metadata": {},
   "outputs": [
    {
     "name": "stdout",
     "output_type": "stream",
     "text": [
      "0.35317040967262747\n"
     ]
    }
   ],
   "source": [
    "print(format_dfs[11]['Value (Actual)'].reset_index(drop=True).corr(format_dfs[12]['Value (Actual)'].reset_index(drop=True)))"
   ]
  },
  {
   "cell_type": "code",
   "execution_count": 840,
   "id": "7cc5387d-bb68-40d0-b66a-c09807bfd35f",
   "metadata": {},
   "outputs": [],
   "source": [
    "# vinyl and ringtones"
   ]
  },
  {
   "cell_type": "code",
   "execution_count": 842,
   "id": "cf150566-e005-4e32-9164-a940e70d9624",
   "metadata": {},
   "outputs": [
    {
     "name": "stdout",
     "output_type": "stream",
     "text": [
      "0.7110106156633463\n"
     ]
    }
   ],
   "source": [
    "print(format_dfs[11]['Value (Actual)'].reset_index(drop=True).corr(format_dfs[13]['Value (Actual)'].reset_index(drop=True)))"
   ]
  },
  {
   "cell_type": "code",
   "execution_count": 843,
   "id": "9626347c-29ba-4fbe-a6ed-90ff11cae32b",
   "metadata": {},
   "outputs": [],
   "source": [
    "# vinyl and soundexchange"
   ]
  },
  {
   "cell_type": "code",
   "execution_count": 844,
   "id": "0ba20bd6-aaf6-426a-b238-d5aae15aa548",
   "metadata": {},
   "outputs": [
    {
     "name": "stdout",
     "output_type": "stream",
     "text": [
      "-0.8627941536774432\n"
     ]
    }
   ],
   "source": [
    "print(format_dfs[11]['Value (Actual)'].reset_index(drop=True).corr(format_dfs[14]['Value (Actual)'].reset_index(drop=True)))"
   ]
  },
  {
   "cell_type": "code",
   "execution_count": 845,
   "id": "1c79b3bd-a08c-471d-9f5f-e268b366d559",
   "metadata": {},
   "outputs": [],
   "source": [
    "# vinyl and CD"
   ]
  },
  {
   "cell_type": "code",
   "execution_count": 846,
   "id": "6ccd1c2c-d7f9-4d84-b909-ad4a9c9a7df0",
   "metadata": {},
   "outputs": [
    {
     "name": "stdout",
     "output_type": "stream",
     "text": [
      "-0.1238805033095537\n"
     ]
    }
   ],
   "source": [
    "print(format_dfs[11]['Value (Actual)'].reset_index(drop=True).corr(format_dfs[15]['Value (Actual)'].reset_index(drop=True)))"
   ]
  },
  {
   "cell_type": "code",
   "execution_count": 847,
   "id": "12b6e176-83cd-4b81-af3c-1b6d0f107ee6",
   "metadata": {},
   "outputs": [],
   "source": [
    "# vinyl and cassette"
   ]
  },
  {
   "cell_type": "code",
   "execution_count": 848,
   "id": "4d136e00-4043-4e62-81d6-9fabdfa3a733",
   "metadata": {},
   "outputs": [
    {
     "name": "stdout",
     "output_type": "stream",
     "text": [
      "-0.022616265178427013\n"
     ]
    }
   ],
   "source": [
    "print(format_dfs[11]['Value (Actual)'].reset_index(drop=True).corr(format_dfs[16]['Value (Actual)'].reset_index(drop=True)))"
   ]
  },
  {
   "cell_type": "code",
   "execution_count": 849,
   "id": "5ab1641d-fc24-49f5-8d4c-ef962007b331",
   "metadata": {},
   "outputs": [],
   "source": [
    "# vinyl and other tapes"
   ]
  },
  {
   "cell_type": "code",
   "execution_count": 850,
   "id": "87d75751-b40e-40c6-89df-ec3943895288",
   "metadata": {},
   "outputs": [
    {
     "name": "stdout",
     "output_type": "stream",
     "text": [
      "-0.09807623281993298\n"
     ]
    }
   ],
   "source": [
    "print(format_dfs[11]['Value (Actual)'].reset_index(drop=True).corr(format_dfs[17]['Value (Actual)'].reset_index(drop=True)))"
   ]
  },
  {
   "cell_type": "code",
   "execution_count": 851,
   "id": "db1cc8db-a4d4-4eab-9fbd-1f0af0e1e881",
   "metadata": {},
   "outputs": [],
   "source": [
    "# vinyl and download album"
   ]
  },
  {
   "cell_type": "code",
   "execution_count": 852,
   "id": "21b13f50-2992-4862-9183-a867a3dcf964",
   "metadata": {},
   "outputs": [
    {
     "name": "stdout",
     "output_type": "stream",
     "text": [
      "-0.16188587540499533\n"
     ]
    }
   ],
   "source": [
    "print(format_dfs[11]['Value (Actual)'].reset_index(drop=True).corr(format_dfs[18]['Value (Actual)'].reset_index(drop=True)))"
   ]
  },
  {
   "cell_type": "code",
   "execution_count": 853,
   "id": "d7793b66-52af-4845-b1f8-a3dd42b9e775",
   "metadata": {},
   "outputs": [],
   "source": [
    "# vinyl and ondemand streaming"
   ]
  },
  {
   "cell_type": "code",
   "execution_count": 854,
   "id": "6e2f91bc-469b-4e38-88c2-b925c68dc651",
   "metadata": {},
   "outputs": [
    {
     "name": "stdout",
     "output_type": "stream",
     "text": [
      "-0.5311459960685557\n"
     ]
    }
   ],
   "source": [
    "print(format_dfs[11]['Value (Actual)'].reset_index(drop=True).corr(format_dfs[19]['Value (Actual)'].reset_index(drop=True)))"
   ]
  },
  {
   "cell_type": "code",
   "execution_count": 855,
   "id": "d008fa85-2304-41ce-bc6a-a4bd649ac082",
   "metadata": {},
   "outputs": [],
   "source": [
    "# vinyl and download music video"
   ]
  },
  {
   "cell_type": "code",
   "execution_count": 856,
   "id": "d68218c5-29b1-43d9-9d48-0f73f584dfbf",
   "metadata": {},
   "outputs": [
    {
     "name": "stdout",
     "output_type": "stream",
     "text": [
      "0.7501286228622724\n"
     ]
    }
   ],
   "source": [
    "print(format_dfs[11]['Value (Actual)'].reset_index(drop=True).corr(format_dfs[20]['Value (Actual)'].reset_index(drop=True)))"
   ]
  },
  {
   "cell_type": "code",
   "execution_count": 857,
   "id": "14c8c41a-9992-438f-987f-719ede664654",
   "metadata": {},
   "outputs": [],
   "source": [
    "# vinyl and dvd audio"
   ]
  },
  {
   "cell_type": "code",
   "execution_count": 858,
   "id": "3f577c23-0240-4e5c-8f89-3f573068ed7c",
   "metadata": {},
   "outputs": [
    {
     "name": "stdout",
     "output_type": "stream",
     "text": [
      "0.5057256754685687\n"
     ]
    }
   ],
   "source": [
    "print(format_dfs[11]['Value (Actual)'].reset_index(drop=True).corr(format_dfs[21]['Value (Actual)'].reset_index(drop=True)))"
   ]
  },
  {
   "cell_type": "code",
   "execution_count": 859,
   "id": "f35799e8-5599-4de0-801e-045b770439ed",
   "metadata": {},
   "outputs": [],
   "source": [
    "# vinyl and SACD"
   ]
  },
  {
   "cell_type": "code",
   "execution_count": 860,
   "id": "62d1befc-18be-41b7-b63f-33f910ee40db",
   "metadata": {},
   "outputs": [
    {
     "name": "stdout",
     "output_type": "stream",
     "text": [
      "0.5073564131524366\n"
     ]
    }
   ],
   "source": [
    "print(format_dfs[11]['Value (Actual)'].reset_index(drop=True).corr(format_dfs[22]['Value (Actual)'].reset_index(drop=True)))"
   ]
  },
  {
   "cell_type": "code",
   "execution_count": 861,
   "id": "a9e44582-b527-4187-9dc7-065085444144",
   "metadata": {},
   "outputs": [],
   "source": [
    "# other digital and ringtones"
   ]
  },
  {
   "cell_type": "code",
   "execution_count": 863,
   "id": "b0f41076-7b57-442b-b7dc-a65634640c2e",
   "metadata": {},
   "outputs": [
    {
     "name": "stdout",
     "output_type": "stream",
     "text": [
      "0.6431636704383052\n"
     ]
    }
   ],
   "source": [
    "print(format_dfs[12]['Value (Actual)'].reset_index(drop=True).corr(format_dfs[13]['Value (Actual)'].reset_index(drop=True)))"
   ]
  },
  {
   "cell_type": "code",
   "execution_count": 864,
   "id": "219c8610-6c2c-4c43-8697-2f46523c3d6c",
   "metadata": {},
   "outputs": [],
   "source": [
    "# other digital and soundexchange"
   ]
  },
  {
   "cell_type": "code",
   "execution_count": 865,
   "id": "59433d4a-3afe-4012-966d-9cca3144ee47",
   "metadata": {},
   "outputs": [
    {
     "name": "stdout",
     "output_type": "stream",
     "text": [
      "0.8022330261810902\n"
     ]
    }
   ],
   "source": [
    "print(format_dfs[12]['Value (Actual)'].reset_index(drop=True).corr(format_dfs[14]['Value (Actual)'].reset_index(drop=True)))"
   ]
  },
  {
   "cell_type": "code",
   "execution_count": 866,
   "id": "95706c16-02ec-42c1-9fe1-06aefdddc294",
   "metadata": {},
   "outputs": [],
   "source": [
    "# other digital and CD"
   ]
  },
  {
   "cell_type": "code",
   "execution_count": 867,
   "id": "6cd54b4d-6258-4ee3-a084-6242e039c50d",
   "metadata": {},
   "outputs": [
    {
     "name": "stdout",
     "output_type": "stream",
     "text": [
      "0.9404797390489577\n"
     ]
    }
   ],
   "source": [
    "print(format_dfs[12]['Value (Actual)'].reset_index(drop=True).corr(format_dfs[15]['Value (Actual)'].reset_index(drop=True)))"
   ]
  },
  {
   "cell_type": "code",
   "execution_count": 868,
   "id": "b2a1b182-c939-4c9c-a935-3ac03922f537",
   "metadata": {},
   "outputs": [],
   "source": [
    "# other digital and cassette"
   ]
  },
  {
   "cell_type": "code",
   "execution_count": 869,
   "id": "171aea9c-d653-4bb6-b57b-300f5d098881",
   "metadata": {},
   "outputs": [
    {
     "name": "stdout",
     "output_type": "stream",
     "text": [
      "0.8421522133438937\n"
     ]
    }
   ],
   "source": [
    "print(format_dfs[12]['Value (Actual)'].reset_index(drop=True).corr(format_dfs[16]['Value (Actual)'].reset_index(drop=True)))"
   ]
  },
  {
   "cell_type": "code",
   "execution_count": 870,
   "id": "56aeb562-3bdb-4104-8c4d-c5a8a3a7a106",
   "metadata": {},
   "outputs": [],
   "source": [
    "# other digital and other tapes"
   ]
  },
  {
   "cell_type": "code",
   "execution_count": 871,
   "id": "0e80b63c-1990-4b59-8cbe-05016e9ec286",
   "metadata": {},
   "outputs": [
    {
     "name": "stdout",
     "output_type": "stream",
     "text": [
      "-0.8968982275482017\n"
     ]
    }
   ],
   "source": [
    "print(format_dfs[12]['Value (Actual)'].reset_index(drop=True).corr(format_dfs[17]['Value (Actual)'].reset_index(drop=True)))"
   ]
  },
  {
   "cell_type": "code",
   "execution_count": 872,
   "id": "36419b52-b7d6-4b94-8495-5687bca5a2d4",
   "metadata": {},
   "outputs": [],
   "source": [
    "# other digital and download album"
   ]
  },
  {
   "cell_type": "code",
   "execution_count": 873,
   "id": "1d8a670e-bdba-4374-8017-f96391d36432",
   "metadata": {},
   "outputs": [
    {
     "name": "stdout",
     "output_type": "stream",
     "text": [
      "0.9268796970377652\n"
     ]
    }
   ],
   "source": [
    "print(format_dfs[12]['Value (Actual)'].reset_index(drop=True).corr(format_dfs[18]['Value (Actual)'].reset_index(drop=True)))"
   ]
  },
  {
   "cell_type": "code",
   "execution_count": 874,
   "id": "c71c8b59-54c6-4c06-9c2d-6ecb153423ab",
   "metadata": {},
   "outputs": [],
   "source": [
    "# other digital and ondemand streaming"
   ]
  },
  {
   "cell_type": "code",
   "execution_count": 875,
   "id": "5ac9fc2d-cf82-4304-a481-8db71a547dd9",
   "metadata": {},
   "outputs": [
    {
     "name": "stdout",
     "output_type": "stream",
     "text": [
      "0.8825012261478645\n"
     ]
    }
   ],
   "source": [
    "print(format_dfs[12]['Value (Actual)'].reset_index(drop=True).corr(format_dfs[19]['Value (Actual)'].reset_index(drop=True)))"
   ]
  },
  {
   "cell_type": "code",
   "execution_count": 876,
   "id": "50e02f41-dc62-4da8-abe0-7afd03eb5c92",
   "metadata": {},
   "outputs": [],
   "source": [
    "# other digital and download music video"
   ]
  },
  {
   "cell_type": "code",
   "execution_count": 877,
   "id": "387b50ae-eccb-47c5-9773-dfda325b42d0",
   "metadata": {},
   "outputs": [
    {
     "name": "stdout",
     "output_type": "stream",
     "text": [
      "0.820133215111712\n"
     ]
    }
   ],
   "source": [
    "print(format_dfs[12]['Value (Actual)'].reset_index(drop=True).corr(format_dfs[20]['Value (Actual)'].reset_index(drop=True)))"
   ]
  },
  {
   "cell_type": "code",
   "execution_count": 878,
   "id": "91ece827-518f-44d8-b4c6-fd13408f0c73",
   "metadata": {},
   "outputs": [],
   "source": [
    "# other digital and dvd audio"
   ]
  },
  {
   "cell_type": "code",
   "execution_count": 879,
   "id": "2248469a-ae3a-4e01-aaf3-037f98387b1b",
   "metadata": {},
   "outputs": [
    {
     "name": "stdout",
     "output_type": "stream",
     "text": [
      "-0.4204050190291473\n"
     ]
    }
   ],
   "source": [
    "print(format_dfs[12]['Value (Actual)'].reset_index(drop=True).corr(format_dfs[21]['Value (Actual)'].reset_index(drop=True)))"
   ]
  },
  {
   "cell_type": "code",
   "execution_count": 880,
   "id": "84e92820-044d-4075-a8cf-b460073a3f80",
   "metadata": {},
   "outputs": [],
   "source": [
    "# other digital and SACD"
   ]
  },
  {
   "cell_type": "code",
   "execution_count": 881,
   "id": "2894c033-cf8f-4fb5-b988-15499e6e7a07",
   "metadata": {},
   "outputs": [
    {
     "name": "stdout",
     "output_type": "stream",
     "text": [
      "-0.8153631008414962\n"
     ]
    }
   ],
   "source": [
    "print(format_dfs[12]['Value (Actual)'].reset_index(drop=True).corr(format_dfs[22]['Value (Actual)'].reset_index(drop=True)))"
   ]
  },
  {
   "cell_type": "code",
   "execution_count": 882,
   "id": "46e36ef4-4c9f-4395-8044-02fe6683e190",
   "metadata": {},
   "outputs": [],
   "source": [
    "# ringtones and soundexchange"
   ]
  },
  {
   "cell_type": "code",
   "execution_count": 883,
   "id": "3e6c6ce0-d655-464c-b4a9-e788f9182250",
   "metadata": {},
   "outputs": [
    {
     "name": "stdout",
     "output_type": "stream",
     "text": [
      "-0.843767678424679\n"
     ]
    }
   ],
   "source": [
    "print(format_dfs[13]['Value (Actual)'].reset_index(drop=True).corr(format_dfs[14]['Value (Actual)'].reset_index(drop=True)))"
   ]
  },
  {
   "cell_type": "code",
   "execution_count": 884,
   "id": "faba64b3-063f-4efc-8019-a97a238e17d9",
   "metadata": {},
   "outputs": [],
   "source": [
    "# ringtones and CD"
   ]
  },
  {
   "cell_type": "code",
   "execution_count": 885,
   "id": "3c03d7c1-5905-4fd4-930b-d5e82764b518",
   "metadata": {},
   "outputs": [
    {
     "name": "stdout",
     "output_type": "stream",
     "text": [
      "-0.8302741439601922\n"
     ]
    }
   ],
   "source": [
    "print(format_dfs[13]['Value (Actual)'].reset_index(drop=True).corr(format_dfs[15]['Value (Actual)'].reset_index(drop=True)))"
   ]
  },
  {
   "cell_type": "code",
   "execution_count": 887,
   "id": "e2294223-df09-49af-bddf-ea8637be45f3",
   "metadata": {},
   "outputs": [],
   "source": [
    "# ringtones and cassette"
   ]
  },
  {
   "cell_type": "code",
   "execution_count": 888,
   "id": "6e3a6353-fcc7-4390-83e2-c7a8b09a00a9",
   "metadata": {},
   "outputs": [
    {
     "name": "stdout",
     "output_type": "stream",
     "text": [
      "-0.8251497532017795\n"
     ]
    }
   ],
   "source": [
    "print(format_dfs[13]['Value (Actual)'].reset_index(drop=True).corr(format_dfs[16]['Value (Actual)'].reset_index(drop=True)))"
   ]
  },
  {
   "cell_type": "code",
   "execution_count": 889,
   "id": "cda3dca1-5fda-49f3-8234-a0d428d73013",
   "metadata": {},
   "outputs": [],
   "source": [
    "# ringtones and other tapes"
   ]
  },
  {
   "cell_type": "code",
   "execution_count": 890,
   "id": "d6231b71-f6fe-4bba-9c93-8d6613636b42",
   "metadata": {},
   "outputs": [
    {
     "name": "stdout",
     "output_type": "stream",
     "text": [
      "-0.8221079597856372\n"
     ]
    }
   ],
   "source": [
    "print(format_dfs[13]['Value (Actual)'].reset_index(drop=True).corr(format_dfs[17]['Value (Actual)'].reset_index(drop=True)))"
   ]
  },
  {
   "cell_type": "code",
   "execution_count": 891,
   "id": "8f033eb3-b3c0-4405-b14f-5325f0b8663d",
   "metadata": {},
   "outputs": [],
   "source": [
    "# ringtones and download album"
   ]
  },
  {
   "cell_type": "code",
   "execution_count": 892,
   "id": "59ebb1c6-0166-4b41-aaf5-79be0e2946e9",
   "metadata": {},
   "outputs": [
    {
     "name": "stdout",
     "output_type": "stream",
     "text": [
      "-0.6290250309948311\n"
     ]
    }
   ],
   "source": [
    "print(format_dfs[13]['Value (Actual)'].reset_index(drop=True).corr(format_dfs[18]['Value (Actual)'].reset_index(drop=True)))"
   ]
  },
  {
   "cell_type": "code",
   "execution_count": 893,
   "id": "edc77408-1ae3-4cb2-9835-8c7e66611642",
   "metadata": {},
   "outputs": [],
   "source": [
    "# ringtones and ondemand streaming"
   ]
  },
  {
   "cell_type": "code",
   "execution_count": 894,
   "id": "596232fa-ca83-4229-8316-253925673b0b",
   "metadata": {},
   "outputs": [
    {
     "name": "stdout",
     "output_type": "stream",
     "text": [
      "-0.8026660475111149\n"
     ]
    }
   ],
   "source": [
    "print(format_dfs[13]['Value (Actual)'].reset_index(drop=True).corr(format_dfs[19]['Value (Actual)'].reset_index(drop=True)))"
   ]
  },
  {
   "cell_type": "code",
   "execution_count": 895,
   "id": "ca71340b-4e10-460e-9383-062a69b81ce3",
   "metadata": {},
   "outputs": [],
   "source": [
    "# ringtones and download music video"
   ]
  },
  {
   "cell_type": "code",
   "execution_count": 896,
   "id": "5e367b8d-5e69-4e1d-b54b-a0cdabc86bb8",
   "metadata": {},
   "outputs": [
    {
     "name": "stdout",
     "output_type": "stream",
     "text": [
      "0.7255863461021289\n"
     ]
    }
   ],
   "source": [
    "print(format_dfs[13]['Value (Actual)'].reset_index(drop=True).corr(format_dfs[20]['Value (Actual)'].reset_index(drop=True)))"
   ]
  },
  {
   "cell_type": "code",
   "execution_count": 897,
   "id": "9d25fbdf-404b-4948-bcb7-d64cdd13fccf",
   "metadata": {},
   "outputs": [],
   "source": [
    "# ringtones and DVD audio"
   ]
  },
  {
   "cell_type": "code",
   "execution_count": 898,
   "id": "2ab1f793-2a37-4064-afa1-2684083948e1",
   "metadata": {},
   "outputs": [
    {
     "name": "stdout",
     "output_type": "stream",
     "text": [
      "0.8437860303449167\n"
     ]
    }
   ],
   "source": [
    "print(format_dfs[13]['Value (Actual)'].reset_index(drop=True).corr(format_dfs[21]['Value (Actual)'].reset_index(drop=True)))"
   ]
  },
  {
   "cell_type": "code",
   "execution_count": 899,
   "id": "8ed5228f-efd0-4f7a-900b-dccb0f9d6aef",
   "metadata": {},
   "outputs": [],
   "source": [
    "# ringtones and SACD"
   ]
  },
  {
   "cell_type": "code",
   "execution_count": 900,
   "id": "bdc83dde-5e1a-4a86-8ca0-6366beb60378",
   "metadata": {},
   "outputs": [
    {
     "name": "stdout",
     "output_type": "stream",
     "text": [
      "0.5149184609902626\n"
     ]
    }
   ],
   "source": [
    "print(format_dfs[13]['Value (Actual)'].reset_index(drop=True).corr(format_dfs[22]['Value (Actual)'].reset_index(drop=True)))"
   ]
  },
  {
   "cell_type": "code",
   "execution_count": 901,
   "id": "aded3de9-1f27-4f3e-8a88-4d3c649b7443",
   "metadata": {},
   "outputs": [],
   "source": [
    "# soundexchange and CD"
   ]
  },
  {
   "cell_type": "code",
   "execution_count": 902,
   "id": "19dfb667-a0e9-4633-a50b-aa41f2795044",
   "metadata": {},
   "outputs": [
    {
     "name": "stdout",
     "output_type": "stream",
     "text": [
      "0.9646601879576641\n"
     ]
    }
   ],
   "source": [
    "print(format_dfs[14]['Value (Actual)'].reset_index(drop=True).corr(format_dfs[15]['Value (Actual)'].reset_index(drop=True)))"
   ]
  },
  {
   "cell_type": "code",
   "execution_count": 903,
   "id": "f74c7b43-0b05-4226-bd56-4b48c23cd167",
   "metadata": {},
   "outputs": [],
   "source": [
    "# soundexchange and cassette"
   ]
  },
  {
   "cell_type": "code",
   "execution_count": 904,
   "id": "6d3487e2-e2dd-4900-ab63-ecb551cd6ab9",
   "metadata": {},
   "outputs": [
    {
     "name": "stdout",
     "output_type": "stream",
     "text": [
      "0.9698521497736479\n"
     ]
    }
   ],
   "source": [
    "print(format_dfs[14]['Value (Actual)'].reset_index(drop=True).corr(format_dfs[16]['Value (Actual)'].reset_index(drop=True)))"
   ]
  },
  {
   "cell_type": "code",
   "execution_count": 905,
   "id": "5741e06d-49d6-4dc3-b48b-df11950e4c15",
   "metadata": {},
   "outputs": [],
   "source": [
    "# soundexchange and other tapes"
   ]
  },
  {
   "cell_type": "code",
   "execution_count": 906,
   "id": "6a9d8b05-79a3-44d6-9193-dca98f3f891b",
   "metadata": {},
   "outputs": [
    {
     "name": "stdout",
     "output_type": "stream",
     "text": [
      "-0.9486181381540629\n"
     ]
    }
   ],
   "source": [
    "print(format_dfs[14]['Value (Actual)'].reset_index(drop=True).corr(format_dfs[17]['Value (Actual)'].reset_index(drop=True)))"
   ]
  },
  {
   "cell_type": "code",
   "execution_count": 907,
   "id": "48baf73e-f5ae-49ae-a3e5-f75673afc307",
   "metadata": {},
   "outputs": [],
   "source": [
    "# soundexchange and download album"
   ]
  },
  {
   "cell_type": "code",
   "execution_count": 908,
   "id": "7c87b901-474a-4466-a9a7-7f7c636d8688",
   "metadata": {},
   "outputs": [
    {
     "name": "stdout",
     "output_type": "stream",
     "text": [
      "0.39359293296805753\n"
     ]
    }
   ],
   "source": [
    "print(format_dfs[14]['Value (Actual)'].reset_index(drop=True).corr(format_dfs[18]['Value (Actual)'].reset_index(drop=True)))"
   ]
  },
  {
   "cell_type": "code",
   "execution_count": 909,
   "id": "a9bc2622-97e7-41f0-a9ee-d75ecb36e3f9",
   "metadata": {},
   "outputs": [],
   "source": [
    "# soundexchange and ondemand streaming"
   ]
  },
  {
   "cell_type": "code",
   "execution_count": 910,
   "id": "8ecd86e5-995e-462d-a8ee-9897c810c20e",
   "metadata": {},
   "outputs": [
    {
     "name": "stdout",
     "output_type": "stream",
     "text": [
      "0.9790833050902832\n"
     ]
    }
   ],
   "source": [
    "print(format_dfs[14]['Value (Actual)'].reset_index(drop=True).corr(format_dfs[19]['Value (Actual)'].reset_index(drop=True)))"
   ]
  },
  {
   "cell_type": "code",
   "execution_count": 911,
   "id": "0720b6ec-5e18-4b4f-a205-2794146d6d34",
   "metadata": {},
   "outputs": [],
   "source": [
    "# soundexchange and download music video"
   ]
  },
  {
   "cell_type": "code",
   "execution_count": 912,
   "id": "32302abe-be3e-40f0-b625-42b41f15f84c",
   "metadata": {},
   "outputs": [
    {
     "name": "stdout",
     "output_type": "stream",
     "text": [
      "-0.7400356530317503\n"
     ]
    }
   ],
   "source": [
    "print(format_dfs[14]['Value (Actual)'].reset_index(drop=True).corr(format_dfs[20]['Value (Actual)'].reset_index(drop=True)))"
   ]
  },
  {
   "cell_type": "code",
   "execution_count": 913,
   "id": "f015cc23-07c2-476b-b60a-45632808d622",
   "metadata": {},
   "outputs": [],
   "source": [
    "# soundexchange and dvd audio"
   ]
  },
  {
   "cell_type": "code",
   "execution_count": 914,
   "id": "d4a4869a-5361-4b86-a4ba-dd5f97288242",
   "metadata": {},
   "outputs": [
    {
     "name": "stdout",
     "output_type": "stream",
     "text": [
      "-0.7262157491481783\n"
     ]
    }
   ],
   "source": [
    "print(format_dfs[14]['Value (Actual)'].reset_index(drop=True).corr(format_dfs[21]['Value (Actual)'].reset_index(drop=True)))"
   ]
  },
  {
   "cell_type": "code",
   "execution_count": 915,
   "id": "3f08d2e8-7bc8-4069-b35d-4c5c7ddbffd4",
   "metadata": {},
   "outputs": [],
   "source": [
    "# soundexchange and SACD"
   ]
  },
  {
   "cell_type": "code",
   "execution_count": 916,
   "id": "9e1371ce-8ecb-4077-a42c-53dfb69d8dad",
   "metadata": {},
   "outputs": [
    {
     "name": "stdout",
     "output_type": "stream",
     "text": [
      "-0.6421071844776792\n"
     ]
    }
   ],
   "source": [
    "print(format_dfs[14]['Value (Actual)'].reset_index(drop=True).corr(format_dfs[22]['Value (Actual)'].reset_index(drop=True)))"
   ]
  },
  {
   "cell_type": "code",
   "execution_count": 917,
   "id": "6a4f7c06-3073-45b3-aa42-2814b45fde4b",
   "metadata": {},
   "outputs": [],
   "source": [
    "# CD and cassette"
   ]
  },
  {
   "cell_type": "code",
   "execution_count": 919,
   "id": "5ed82635-07cd-4608-b489-9c232bbfb9a6",
   "metadata": {},
   "outputs": [
    {
     "name": "stdout",
     "output_type": "stream",
     "text": [
      "0.9780708640767688\n"
     ]
    }
   ],
   "source": [
    "print(format_dfs[15]['Value (Actual)'].reset_index(drop=True).corr(format_dfs[16]['Value (Actual)'].reset_index(drop=True)))"
   ]
  },
  {
   "cell_type": "code",
   "execution_count": 920,
   "id": "66d1cb2b-6bd6-47c2-a1e5-e6f1c7ff2b40",
   "metadata": {},
   "outputs": [],
   "source": [
    "# cd and other tapes"
   ]
  },
  {
   "cell_type": "code",
   "execution_count": 923,
   "id": "9e8f36c0-84ae-49e3-88d1-03065bce033a",
   "metadata": {},
   "outputs": [
    {
     "name": "stdout",
     "output_type": "stream",
     "text": [
      "-0.9638584350887006\n"
     ]
    }
   ],
   "source": [
    "print(format_dfs[15]['Value (Actual)'].reset_index(drop=True).corr(format_dfs[17]['Value (Actual)'].reset_index(drop=True)))"
   ]
  },
  {
   "cell_type": "code",
   "execution_count": 922,
   "id": "18db3580-0c8c-4a50-9792-8ef9d4d3b38e",
   "metadata": {},
   "outputs": [],
   "source": [
    "# cd and download album"
   ]
  },
  {
   "cell_type": "code",
   "execution_count": 924,
   "id": "aa684371-a7b0-44a3-97d6-0ac027cf288a",
   "metadata": {},
   "outputs": [
    {
     "name": "stdout",
     "output_type": "stream",
     "text": [
      "0.31846012969390847\n"
     ]
    }
   ],
   "source": [
    "print(format_dfs[15]['Value (Actual)'].reset_index(drop=True).corr(format_dfs[18]['Value (Actual)'].reset_index(drop=True)))"
   ]
  },
  {
   "cell_type": "code",
   "execution_count": 932,
   "id": "36631287-0f43-43d1-9515-66dabd58223a",
   "metadata": {},
   "outputs": [],
   "source": [
    "# cd and ondemand streaming"
   ]
  },
  {
   "cell_type": "code",
   "execution_count": 933,
   "id": "e544e795-164b-4de2-8ce1-01c93b33cf4f",
   "metadata": {},
   "outputs": [
    {
     "name": "stdout",
     "output_type": "stream",
     "text": [
      "0.9905432329992337\n"
     ]
    }
   ],
   "source": [
    "print(format_dfs[15]['Value (Actual)'].reset_index(drop=True).corr(format_dfs[19]['Value (Actual)'].reset_index(drop=True)))"
   ]
  },
  {
   "cell_type": "code",
   "execution_count": 934,
   "id": "2410a50b-320d-43f3-a26f-ec445c931f4c",
   "metadata": {},
   "outputs": [],
   "source": [
    "# cd and download music video"
   ]
  },
  {
   "cell_type": "code",
   "execution_count": 935,
   "id": "b7888699-0383-47e8-aa08-f69a6371f420",
   "metadata": {},
   "outputs": [
    {
     "name": "stdout",
     "output_type": "stream",
     "text": [
      "-0.6981397319491892\n"
     ]
    }
   ],
   "source": [
    "print(format_dfs[15]['Value (Actual)'].reset_index(drop=True).corr(format_dfs[20]['Value (Actual)'].reset_index(drop=True)))"
   ]
  },
  {
   "cell_type": "code",
   "execution_count": 936,
   "id": "51dc71e8-c6c8-482c-973b-f2a2a1ed2eec",
   "metadata": {},
   "outputs": [],
   "source": [
    "# cd and dvd audio"
   ]
  },
  {
   "cell_type": "code",
   "execution_count": 937,
   "id": "1d22ee52-050a-47a3-9798-840476fa3d2f",
   "metadata": {},
   "outputs": [
    {
     "name": "stdout",
     "output_type": "stream",
     "text": [
      "-0.6633775553747846\n"
     ]
    }
   ],
   "source": [
    "print(format_dfs[15]['Value (Actual)'].reset_index(drop=True).corr(format_dfs[21]['Value (Actual)'].reset_index(drop=True)))"
   ]
  },
  {
   "cell_type": "code",
   "execution_count": 938,
   "id": "45cb9ffe-cf1a-422b-843e-20fda7759ece",
   "metadata": {},
   "outputs": [],
   "source": [
    "# cd and SACD"
   ]
  },
  {
   "cell_type": "code",
   "execution_count": 939,
   "id": "dd3a0e12-e917-499d-a9e9-36af7201d660",
   "metadata": {},
   "outputs": [
    {
     "name": "stdout",
     "output_type": "stream",
     "text": [
      "-0.6655203264396498\n"
     ]
    }
   ],
   "source": [
    "print(format_dfs[15]['Value (Actual)'].reset_index(drop=True).corr(format_dfs[22]['Value (Actual)'].reset_index(drop=True)))"
   ]
  },
  {
   "cell_type": "code",
   "execution_count": 940,
   "id": "8800383a-14dd-4b03-882d-e9299ee2b9c1",
   "metadata": {},
   "outputs": [],
   "source": [
    "# cassette and other tapes"
   ]
  },
  {
   "cell_type": "code",
   "execution_count": 942,
   "id": "acaab7c4-99b2-4b67-b60f-148b5a6bcdf2",
   "metadata": {},
   "outputs": [
    {
     "name": "stdout",
     "output_type": "stream",
     "text": [
      "-0.8761239334220549\n"
     ]
    }
   ],
   "source": [
    "print(format_dfs[16]['Value (Actual)'].reset_index(drop=True).corr(format_dfs[17]['Value (Actual)'].reset_index(drop=True)))"
   ]
  },
  {
   "cell_type": "code",
   "execution_count": 943,
   "id": "15864017-b802-4cec-b7f4-571c02843e5f",
   "metadata": {},
   "outputs": [],
   "source": [
    "# cassette and download album"
   ]
  },
  {
   "cell_type": "code",
   "execution_count": 944,
   "id": "d5c4b9f6-c17a-42e7-8b07-18f3250f17c8",
   "metadata": {},
   "outputs": [
    {
     "name": "stdout",
     "output_type": "stream",
     "text": [
      "0.24939309777894755\n"
     ]
    }
   ],
   "source": [
    "print(format_dfs[16]['Value (Actual)'].reset_index(drop=True).corr(format_dfs[18]['Value (Actual)'].reset_index(drop=True)))"
   ]
  },
  {
   "cell_type": "code",
   "execution_count": 945,
   "id": "4f22fd1a-437d-4875-9a33-45934e89efd1",
   "metadata": {},
   "outputs": [],
   "source": [
    "# cassette and ondemand streaming"
   ]
  },
  {
   "cell_type": "code",
   "execution_count": 946,
   "id": "7244c24e-02ae-436b-ba69-53ae4d13c6db",
   "metadata": {},
   "outputs": [
    {
     "name": "stdout",
     "output_type": "stream",
     "text": [
      "0.984747800109782\n"
     ]
    }
   ],
   "source": [
    "print(format_dfs[16]['Value (Actual)'].reset_index(drop=True).corr(format_dfs[19]['Value (Actual)'].reset_index(drop=True)))"
   ]
  },
  {
   "cell_type": "code",
   "execution_count": 947,
   "id": "88aa2586-3ecc-4e00-b633-5e497c70f388",
   "metadata": {},
   "outputs": [],
   "source": [
    "# cassette and download music video"
   ]
  },
  {
   "cell_type": "code",
   "execution_count": 948,
   "id": "bac2fcc3-03cf-4b2b-ad1b-f8f3cc1d3013",
   "metadata": {},
   "outputs": [
    {
     "name": "stdout",
     "output_type": "stream",
     "text": [
      "-0.7427562387855781\n"
     ]
    }
   ],
   "source": [
    "print(format_dfs[16]['Value (Actual)'].reset_index(drop=True).corr(format_dfs[20]['Value (Actual)'].reset_index(drop=True)))"
   ]
  },
  {
   "cell_type": "code",
   "execution_count": 949,
   "id": "343246dc-de59-4a16-8266-d4b8619d5b4e",
   "metadata": {},
   "outputs": [],
   "source": [
    "# cassette and dvd audio"
   ]
  },
  {
   "cell_type": "code",
   "execution_count": 950,
   "id": "84033883-6e1f-4669-b33d-d9d00a7b155f",
   "metadata": {},
   "outputs": [
    {
     "name": "stdout",
     "output_type": "stream",
     "text": [
      "-0.6543179716977732\n"
     ]
    }
   ],
   "source": [
    "print(format_dfs[16]['Value (Actual)'].reset_index(drop=True).corr(format_dfs[21]['Value (Actual)'].reset_index(drop=True)))"
   ]
  },
  {
   "cell_type": "code",
   "execution_count": 951,
   "id": "ca3c715e-93ea-4f49-bdf7-89a7fc2a1b82",
   "metadata": {},
   "outputs": [],
   "source": [
    "# cassette and SACD"
   ]
  },
  {
   "cell_type": "code",
   "execution_count": 952,
   "id": "79a431b6-0f52-4c77-9c87-c865d92b9dee",
   "metadata": {},
   "outputs": [
    {
     "name": "stdout",
     "output_type": "stream",
     "text": [
      "-0.6188775110624137\n"
     ]
    }
   ],
   "source": [
    "print(format_dfs[16]['Value (Actual)'].reset_index(drop=True).corr(format_dfs[22]['Value (Actual)'].reset_index(drop=True)))"
   ]
  },
  {
   "cell_type": "code",
   "execution_count": 953,
   "id": "069c0b7a-d3e6-41d2-b720-03b500cbefac",
   "metadata": {},
   "outputs": [],
   "source": [
    "# other tapes and download album"
   ]
  },
  {
   "cell_type": "code",
   "execution_count": 954,
   "id": "67cf4e29-bc20-43e3-90a9-186b88d9a313",
   "metadata": {},
   "outputs": [
    {
     "name": "stdout",
     "output_type": "stream",
     "text": [
      "-0.9914151004955786\n"
     ]
    }
   ],
   "source": [
    "print(format_dfs[17]['Value (Actual)'].reset_index(drop=True).corr(format_dfs[18]['Value (Actual)'].reset_index(drop=True)))"
   ]
  },
  {
   "cell_type": "code",
   "execution_count": 955,
   "id": "2b1f8946-621d-4511-b759-5b2744c346d9",
   "metadata": {},
   "outputs": [],
   "source": [
    "# other tapes and ondemand streaming"
   ]
  },
  {
   "cell_type": "code",
   "execution_count": 956,
   "id": "318df3ad-3db9-417a-bf40-15d511b32c25",
   "metadata": {},
   "outputs": [
    {
     "name": "stdout",
     "output_type": "stream",
     "text": [
      "-0.9992985373402645\n"
     ]
    }
   ],
   "source": [
    "print(format_dfs[17]['Value (Actual)'].reset_index(drop=True).corr(format_dfs[19]['Value (Actual)'].reset_index(drop=True)))"
   ]
  },
  {
   "cell_type": "code",
   "execution_count": 957,
   "id": "e70a7137-cf73-4eac-a538-37cc10a179d9",
   "metadata": {},
   "outputs": [],
   "source": [
    "# other tapes and download music video"
   ]
  },
  {
   "cell_type": "code",
   "execution_count": 958,
   "id": "f7ee06db-ed45-4f69-921a-97064ae10cdf",
   "metadata": {},
   "outputs": [
    {
     "name": "stdout",
     "output_type": "stream",
     "text": [
      "-0.9872396342107185\n"
     ]
    }
   ],
   "source": [
    "print(format_dfs[17]['Value (Actual)'].reset_index(drop=True).corr(format_dfs[20]['Value (Actual)'].reset_index(drop=True)))"
   ]
  },
  {
   "cell_type": "code",
   "execution_count": 959,
   "id": "1c8081db-ebb5-479d-82dc-2226499b621a",
   "metadata": {},
   "outputs": [],
   "source": [
    "# other tapes and dvd audio"
   ]
  },
  {
   "cell_type": "code",
   "execution_count": 960,
   "id": "7bbd1909-d0db-4a97-807a-5e4a6bbff188",
   "metadata": {},
   "outputs": [
    {
     "name": "stdout",
     "output_type": "stream",
     "text": [
      "0.08268793839112284\n"
     ]
    }
   ],
   "source": [
    "print(format_dfs[17]['Value (Actual)'].reset_index(drop=True).corr(format_dfs[21]['Value (Actual)'].reset_index(drop=True)))"
   ]
  },
  {
   "cell_type": "code",
   "execution_count": 961,
   "id": "7c3271ed-bb2c-4e91-b213-53c2dcac5e21",
   "metadata": {},
   "outputs": [],
   "source": [
    "# other tapes and SACD"
   ]
  },
  {
   "cell_type": "code",
   "execution_count": 962,
   "id": "1cdac06e-3ccc-4ecc-97d5-9ebd9142554c",
   "metadata": {},
   "outputs": [
    {
     "name": "stdout",
     "output_type": "stream",
     "text": [
      "0.9743062593828687\n"
     ]
    }
   ],
   "source": [
    "print(format_dfs[17]['Value (Actual)'].reset_index(drop=True).corr(format_dfs[22]['Value (Actual)'].reset_index(drop=True)))"
   ]
  },
  {
   "cell_type": "code",
   "execution_count": 963,
   "id": "c79cfdaa-162b-45f0-b2fc-d651429262f3",
   "metadata": {},
   "outputs": [],
   "source": [
    "# download album and ondemand streaming"
   ]
  },
  {
   "cell_type": "code",
   "execution_count": 964,
   "id": "55249e67-3fc1-471e-a847-dcf4ba016a7c",
   "metadata": {},
   "outputs": [
    {
     "name": "stdout",
     "output_type": "stream",
     "text": [
      "0.9745241161186444\n"
     ]
    }
   ],
   "source": [
    "print(format_dfs[18]['Value (Actual)'].reset_index(drop=True).corr(format_dfs[19]['Value (Actual)'].reset_index(drop=True)))"
   ]
  },
  {
   "cell_type": "code",
   "execution_count": 965,
   "id": "1ae6c1f2-6907-4fb3-9838-b7f9f04f30f7",
   "metadata": {},
   "outputs": [],
   "source": [
    "# download album and download music video"
   ]
  },
  {
   "cell_type": "code",
   "execution_count": 966,
   "id": "456de4bb-1e6b-4d05-8502-e8ec7b1c460e",
   "metadata": {},
   "outputs": [
    {
     "name": "stdout",
     "output_type": "stream",
     "text": [
      "-0.07942243204594712\n"
     ]
    }
   ],
   "source": [
    "print(format_dfs[18]['Value (Actual)'].reset_index(drop=True).corr(format_dfs[20]['Value (Actual)'].reset_index(drop=True)))"
   ]
  },
  {
   "cell_type": "code",
   "execution_count": 967,
   "id": "15dcc991-6140-416c-b292-a63bce39145f",
   "metadata": {},
   "outputs": [],
   "source": [
    "# download album and dvd audio"
   ]
  },
  {
   "cell_type": "code",
   "execution_count": 968,
   "id": "d7d24ac8-6854-48da-839e-8295f81f93cb",
   "metadata": {},
   "outputs": [
    {
     "name": "stdout",
     "output_type": "stream",
     "text": [
      "-0.6887579716102623\n"
     ]
    }
   ],
   "source": [
    "print(format_dfs[18]['Value (Actual)'].reset_index(drop=True).corr(format_dfs[21]['Value (Actual)'].reset_index(drop=True)))"
   ]
  },
  {
   "cell_type": "code",
   "execution_count": 969,
   "id": "6dff4c17-1586-409e-bb76-20849892b9bc",
   "metadata": {},
   "outputs": [],
   "source": [
    "# download album and SACD"
   ]
  },
  {
   "cell_type": "code",
   "execution_count": 970,
   "id": "a07bae24-9eb1-47aa-a0a2-6adf7f8739a8",
   "metadata": {},
   "outputs": [
    {
     "name": "stdout",
     "output_type": "stream",
     "text": [
      "-0.7124664557777377\n"
     ]
    }
   ],
   "source": [
    "print(format_dfs[18]['Value (Actual)'].reset_index(drop=True).corr(format_dfs[22]['Value (Actual)'].reset_index(drop=True)))"
   ]
  },
  {
   "cell_type": "code",
   "execution_count": 971,
   "id": "a9885649-03d6-4612-8302-175a81819e01",
   "metadata": {},
   "outputs": [],
   "source": [
    "# ondemand streaming and download music video"
   ]
  },
  {
   "cell_type": "code",
   "execution_count": 972,
   "id": "d906c585-4f8d-4748-8f3d-dbb545ec8086",
   "metadata": {},
   "outputs": [
    {
     "name": "stdout",
     "output_type": "stream",
     "text": [
      "-0.01282020700385321\n"
     ]
    }
   ],
   "source": [
    "print(format_dfs[19]['Value (Actual)'].reset_index(drop=True).corr(format_dfs[20]['Value (Actual)'].reset_index(drop=True)))"
   ]
  },
  {
   "cell_type": "code",
   "execution_count": 973,
   "id": "51ef1bfd-b1b8-4fd6-9139-e0f9ca5a8a07",
   "metadata": {},
   "outputs": [],
   "source": [
    "# ondemand streaming and dvd audio"
   ]
  },
  {
   "cell_type": "code",
   "execution_count": 974,
   "id": "a6ba45dc-1a69-4569-bd55-24cf58f4cfe0",
   "metadata": {},
   "outputs": [
    {
     "name": "stdout",
     "output_type": "stream",
     "text": [
      "-0.6887579716102623\n"
     ]
    }
   ],
   "source": [
    "print(format_dfs[19]['Value (Actual)'].reset_index(drop=True).corr(format_dfs[21]['Value (Actual)'].reset_index(drop=True)))"
   ]
  },
  {
   "cell_type": "code",
   "execution_count": 975,
   "id": "946abc9a-b251-4a37-9518-d5c9679adcd6",
   "metadata": {},
   "outputs": [],
   "source": [
    "# ondemand streaming and SACD"
   ]
  },
  {
   "cell_type": "code",
   "execution_count": 976,
   "id": "66c8b024-2e46-40fa-b102-77ea6f5b96ed",
   "metadata": {},
   "outputs": [
    {
     "name": "stdout",
     "output_type": "stream",
     "text": [
      "-0.770714327414746\n"
     ]
    }
   ],
   "source": [
    "print(format_dfs[19]['Value (Actual)'].reset_index(drop=True).corr(format_dfs[22]['Value (Actual)'].reset_index(drop=True)))"
   ]
  },
  {
   "cell_type": "code",
   "execution_count": 977,
   "id": "ff5edec7-5d0b-482f-b05e-7259b09b440c",
   "metadata": {},
   "outputs": [],
   "source": [
    "# download music video and dvd audio"
   ]
  },
  {
   "cell_type": "code",
   "execution_count": 978,
   "id": "f5857d64-8209-4f41-ab12-24478cdd2644",
   "metadata": {},
   "outputs": [
    {
     "name": "stdout",
     "output_type": "stream",
     "text": [
      "0.5517792401013992\n"
     ]
    }
   ],
   "source": [
    "print(format_dfs[20]['Value (Actual)'].reset_index(drop=True).corr(format_dfs[21]['Value (Actual)'].reset_index(drop=True)))"
   ]
  },
  {
   "cell_type": "code",
   "execution_count": 979,
   "id": "726059a8-0faf-46ad-9afb-2407c5ee2da6",
   "metadata": {},
   "outputs": [],
   "source": [
    "# download music video and SACD"
   ]
  },
  {
   "cell_type": "code",
   "execution_count": 980,
   "id": "a7a2fe3a-a349-48fb-9e12-dc3800398dbf",
   "metadata": {},
   "outputs": [
    {
     "name": "stdout",
     "output_type": "stream",
     "text": [
      "0.0048032640038822\n"
     ]
    }
   ],
   "source": [
    "print(format_dfs[20]['Value (Actual)'].reset_index(drop=True).corr(format_dfs[22]['Value (Actual)'].reset_index(drop=True)))"
   ]
  },
  {
   "cell_type": "code",
   "execution_count": 981,
   "id": "e5ba51ff-0759-45e2-9727-f12de9c0b9a4",
   "metadata": {},
   "outputs": [],
   "source": [
    "# dvd auido and SACD"
   ]
  },
  {
   "cell_type": "code",
   "execution_count": 982,
   "id": "8fc6756e-c8f6-4fdc-b642-35a79c4227c8",
   "metadata": {},
   "outputs": [
    {
     "name": "stdout",
     "output_type": "stream",
     "text": [
      "0.5847371692354519\n"
     ]
    }
   ],
   "source": [
    "print(format_dfs[21]['Value (Actual)'].reset_index(drop=True).corr(format_dfs[22]['Value (Actual)'].reset_index(drop=True)))"
   ]
  },
  {
   "cell_type": "markdown",
   "id": "c7d4db66-9105-496a-9ae4-38052039284b",
   "metadata": {},
   "source": [
    "## Analysis"
   ]
  },
  {
   "cell_type": "code",
   "execution_count": null,
   "id": "071403cf-81cd-4aa0-904d-b54b715f5143",
   "metadata": {},
   "outputs": [],
   "source": []
  },
  {
   "cell_type": "markdown",
   "id": "07c155ce-a861-406a-89e2-f1685c1c726d",
   "metadata": {},
   "source": [
    "## Discussion "
   ]
  },
  {
   "cell_type": "code",
   "execution_count": null,
   "id": "4de6dc20-0fa7-43d5-897b-087cf53f7d46",
   "metadata": {},
   "outputs": [],
   "source": []
  }
 ],
 "metadata": {
  "kernelspec": {
   "display_name": "Python 3 (ipykernel)",
   "language": "python",
   "name": "python3"
  },
  "language_info": {
   "codemirror_mode": {
    "name": "ipython",
    "version": 3
   },
   "file_extension": ".py",
   "mimetype": "text/x-python",
   "name": "python",
   "nbconvert_exporter": "python",
   "pygments_lexer": "ipython3",
   "version": "3.9.6"
  }
 },
 "nbformat": 4,
 "nbformat_minor": 5
}
