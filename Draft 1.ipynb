{
 "cells": [
  {
   "cell_type": "markdown",
   "id": "0ccb2884-91a8-4efb-96f9-aeac98c01967",
   "metadata": {},
   "source": [
    "Karinn Murdock"
   ]
  },
  {
   "cell_type": "markdown",
   "id": "752877cc-8571-4abf-ba85-81a02fbbf8ec",
   "metadata": {},
   "source": [
    "03/14/2022"
   ]
  },
  {
   "cell_type": "markdown",
   "id": "77fa2097-696f-42d1-ba02-7620bdbc312c",
   "metadata": {},
   "source": [
    "# Project Title "
   ]
  },
  {
   "cell_type": "markdown",
   "id": "e78e9be1-3c8b-48a0-82f1-29a6164fc1e2",
   "metadata": {},
   "source": [
    "## Introduction"
   ]
  },
  {
   "cell_type": "markdown",
   "id": "dec4c126-6f07-490b-889a-bd71e53b7739",
   "metadata": {},
   "source": [
    "### Research Question and Importance"
   ]
  },
  {
   "cell_type": "markdown",
   "id": "ac08635c-388f-4476-a01b-6b87f149009c",
   "metadata": {},
   "source": [
    "For my final project, I am exploring the music industry and how it has changed over the years. More specifically, I want to look at how music industry sales have changed in the past 40 years, both in terms of quantity and type of sales (CDs, paid subscription, etc). This topic is important in order to understand how the music industry sales have shifted and how customer preferences have changed. This topic is of interest to me as I'm extremely interested in the music industry and potentially working on the business side of the music industry after graduation. This topic is important to artists and companies within the industry as they must understand the current landscape and how to maximize sales and cater to customer's preferences. "
   ]
  },
  {
   "cell_type": "markdown",
   "id": "17a7a1b5-a70f-4f3f-9782-e2fdecf1dccd",
   "metadata": {},
   "source": [
    "### Data Source"
   ]
  },
  {
   "cell_type": "markdown",
   "id": "7d4abc2a-e7d2-4a8a-99de-7e3f21b0277a",
   "metadata": {},
   "source": [
    "The data source I will use to explore this question is a dataset on music industry sales over the past 40 years created by the Recording Industry Association of America (RIAA). According to RIAA, this is the most comprehensive data on U.S. recorded music revenues. This dataset goes all the way back to 1973 and lists format of sale, year of sale, and quantity of sale. A link to the dataset can be found here: https://data.world/makeovermonday/2020w21-visualizing-40-years-of-music-industry-sales"
   ]
  },
  {
   "cell_type": "markdown",
   "id": "ea088037-91b2-44a0-bd76-7c823fe25b76",
   "metadata": {},
   "source": [
    "### Analysis and Visualizations"
   ]
  },
  {
   "cell_type": "markdown",
   "id": "f5013cfe-7d2b-47d1-ad5f-8212c3c6d1a1",
   "metadata": {},
   "source": [
    "I chose this dataset as I intend to analyze how music industry sales have changed since 1973. I intend to analyze whether sales in general have increased or decreased as well as how the format of sales have changed between 1973 and now. For visualizations, I plan to use pie charts to show the breakdown of format of sales for each year. I also plan to create bar charts to show the number of sales each year from 1973 to now. "
   ]
  },
  {
   "cell_type": "markdown",
   "id": "7088bc65-5400-431f-b3ef-758bee12d54d",
   "metadata": {},
   "source": [
    "## Methods"
   ]
  },
  {
   "cell_type": "markdown",
   "id": "7df8f980-eaf2-43d4-a21c-85a2f23652bc",
   "metadata": {},
   "source": [
    "## Results"
   ]
  },
  {
   "cell_type": "code",
   "execution_count": 206,
   "id": "b97d3715-c5dc-40ab-9b75-ed6c879b4b18",
   "metadata": {},
   "outputs": [],
   "source": [
    "import pandas as pd \n",
    "import numpy as np\n",
    "import matplotlib.pyplot as plt\n",
    "import ipywidgets"
   ]
  },
  {
   "cell_type": "code",
   "execution_count": 207,
   "id": "0753d9cf-8245-4189-b212-ddd609062d6d",
   "metadata": {},
   "outputs": [],
   "source": [
    "df = pd.read_csv('MusicData2.csv')"
   ]
  },
  {
   "cell_type": "code",
   "execution_count": 208,
   "id": "b1eec930-fa65-41ac-910b-f4f184497d74",
   "metadata": {},
   "outputs": [
    {
     "data": {
      "text/plain": [
       "(3008, 5)"
      ]
     },
     "execution_count": 208,
     "metadata": {},
     "output_type": "execute_result"
    }
   ],
   "source": [
    "df.shape"
   ]
  },
  {
   "cell_type": "markdown",
   "id": "5aa67364-3c71-4672-a04b-0bed20c6bcd3",
   "metadata": {},
   "source": [
    "The dataset has 5 columns and 3008 rows of data."
   ]
  },
  {
   "cell_type": "code",
   "execution_count": 209,
   "id": "231b195c-3d70-4fd4-83fd-84b09a0be505",
   "metadata": {},
   "outputs": [
    {
     "data": {
      "text/plain": [
       "Index(['Format', 'Metric', 'Year', 'Number of Records', 'Value (Actual)'], dtype='object')"
      ]
     },
     "execution_count": 209,
     "metadata": {},
     "output_type": "execute_result"
    }
   ],
   "source": [
    "df.columns"
   ]
  },
  {
   "cell_type": "markdown",
   "id": "c2065bbf-de23-4ec5-872c-63cf3948799c",
   "metadata": {},
   "source": [
    "Looking at the first 5 entries:"
   ]
  },
  {
   "cell_type": "code",
   "execution_count": 210,
   "id": "202f4a38-da7a-4698-8c0d-c8ff168d2387",
   "metadata": {},
   "outputs": [
    {
     "data": {
      "text/html": [
       "<div>\n",
       "<style scoped>\n",
       "    .dataframe tbody tr th:only-of-type {\n",
       "        vertical-align: middle;\n",
       "    }\n",
       "\n",
       "    .dataframe tbody tr th {\n",
       "        vertical-align: top;\n",
       "    }\n",
       "\n",
       "    .dataframe thead th {\n",
       "        text-align: right;\n",
       "    }\n",
       "</style>\n",
       "<table border=\"1\" class=\"dataframe\">\n",
       "  <thead>\n",
       "    <tr style=\"text-align: right;\">\n",
       "      <th></th>\n",
       "      <th>Format</th>\n",
       "      <th>Metric</th>\n",
       "      <th>Year</th>\n",
       "      <th>Number of Records</th>\n",
       "      <th>Value (Actual)</th>\n",
       "    </tr>\n",
       "  </thead>\n",
       "  <tbody>\n",
       "    <tr>\n",
       "      <th>0</th>\n",
       "      <td>CD</td>\n",
       "      <td>Units</td>\n",
       "      <td>1973</td>\n",
       "      <td>1</td>\n",
       "      <td>NaN</td>\n",
       "    </tr>\n",
       "    <tr>\n",
       "      <th>1</th>\n",
       "      <td>CD</td>\n",
       "      <td>Units</td>\n",
       "      <td>1974</td>\n",
       "      <td>1</td>\n",
       "      <td>NaN</td>\n",
       "    </tr>\n",
       "    <tr>\n",
       "      <th>2</th>\n",
       "      <td>CD</td>\n",
       "      <td>Units</td>\n",
       "      <td>1975</td>\n",
       "      <td>1</td>\n",
       "      <td>NaN</td>\n",
       "    </tr>\n",
       "    <tr>\n",
       "      <th>3</th>\n",
       "      <td>CD</td>\n",
       "      <td>Units</td>\n",
       "      <td>1976</td>\n",
       "      <td>1</td>\n",
       "      <td>NaN</td>\n",
       "    </tr>\n",
       "    <tr>\n",
       "      <th>4</th>\n",
       "      <td>CD</td>\n",
       "      <td>Units</td>\n",
       "      <td>1977</td>\n",
       "      <td>1</td>\n",
       "      <td>NaN</td>\n",
       "    </tr>\n",
       "  </tbody>\n",
       "</table>\n",
       "</div>"
      ],
      "text/plain": [
       "  Format Metric  Year  Number of Records  Value (Actual)\n",
       "0     CD  Units  1973                  1             NaN\n",
       "1     CD  Units  1974                  1             NaN\n",
       "2     CD  Units  1975                  1             NaN\n",
       "3     CD  Units  1976                  1             NaN\n",
       "4     CD  Units  1977                  1             NaN"
      ]
     },
     "execution_count": 210,
     "metadata": {},
     "output_type": "execute_result"
    }
   ],
   "source": [
    "df.head()"
   ]
  },
  {
   "cell_type": "markdown",
   "id": "0e507483-d499-47a8-b93e-f4faeb2c13fa",
   "metadata": {},
   "source": [
    "Looking at the last 5 entries:"
   ]
  },
  {
   "cell_type": "code",
   "execution_count": 211,
   "id": "3cd2c8a9-bf61-43ee-8a16-139bcada377f",
   "metadata": {
    "tags": []
   },
   "outputs": [
    {
     "data": {
      "text/html": [
       "<div>\n",
       "<style scoped>\n",
       "    .dataframe tbody tr th:only-of-type {\n",
       "        vertical-align: middle;\n",
       "    }\n",
       "\n",
       "    .dataframe tbody tr th {\n",
       "        vertical-align: top;\n",
       "    }\n",
       "\n",
       "    .dataframe thead th {\n",
       "        text-align: right;\n",
       "    }\n",
       "</style>\n",
       "<table border=\"1\" class=\"dataframe\">\n",
       "  <thead>\n",
       "    <tr style=\"text-align: right;\">\n",
       "      <th></th>\n",
       "      <th>Format</th>\n",
       "      <th>Metric</th>\n",
       "      <th>Year</th>\n",
       "      <th>Number of Records</th>\n",
       "      <th>Value (Actual)</th>\n",
       "    </tr>\n",
       "  </thead>\n",
       "  <tbody>\n",
       "    <tr>\n",
       "      <th>3003</th>\n",
       "      <td>Vinyl Single</td>\n",
       "      <td>Value (Adjusted)</td>\n",
       "      <td>2015</td>\n",
       "      <td>1</td>\n",
       "      <td>6.205390</td>\n",
       "    </tr>\n",
       "    <tr>\n",
       "      <th>3004</th>\n",
       "      <td>Vinyl Single</td>\n",
       "      <td>Value (Adjusted)</td>\n",
       "      <td>2016</td>\n",
       "      <td>1</td>\n",
       "      <td>5.198931</td>\n",
       "    </tr>\n",
       "    <tr>\n",
       "      <th>3005</th>\n",
       "      <td>Vinyl Single</td>\n",
       "      <td>Value (Adjusted)</td>\n",
       "      <td>2017</td>\n",
       "      <td>1</td>\n",
       "      <td>6.339678</td>\n",
       "    </tr>\n",
       "    <tr>\n",
       "      <th>3006</th>\n",
       "      <td>Vinyl Single</td>\n",
       "      <td>Value (Adjusted)</td>\n",
       "      <td>2018</td>\n",
       "      <td>1</td>\n",
       "      <td>5.386197</td>\n",
       "    </tr>\n",
       "    <tr>\n",
       "      <th>3007</th>\n",
       "      <td>Vinyl Single</td>\n",
       "      <td>Value (Adjusted)</td>\n",
       "      <td>2019</td>\n",
       "      <td>1</td>\n",
       "      <td>6.795946</td>\n",
       "    </tr>\n",
       "  </tbody>\n",
       "</table>\n",
       "</div>"
      ],
      "text/plain": [
       "            Format            Metric  Year  Number of Records  Value (Actual)\n",
       "3003  Vinyl Single  Value (Adjusted)  2015                  1        6.205390\n",
       "3004  Vinyl Single  Value (Adjusted)  2016                  1        5.198931\n",
       "3005  Vinyl Single  Value (Adjusted)  2017                  1        6.339678\n",
       "3006  Vinyl Single  Value (Adjusted)  2018                  1        5.386197\n",
       "3007  Vinyl Single  Value (Adjusted)  2019                  1        6.795946"
      ]
     },
     "execution_count": 211,
     "metadata": {},
     "output_type": "execute_result"
    }
   ],
   "source": [
    "df.tail()"
   ]
  },
  {
   "cell_type": "code",
   "execution_count": 212,
   "id": "d2e8e309-c9eb-43a6-ba64-609e2f76856a",
   "metadata": {},
   "outputs": [
    {
     "data": {
      "text/plain": [
       "Format                object\n",
       "Metric                object\n",
       "Year                   int64\n",
       "Number of Records      int64\n",
       "Value (Actual)       float64\n",
       "dtype: object"
      ]
     },
     "execution_count": 212,
     "metadata": {},
     "output_type": "execute_result"
    }
   ],
   "source": [
    "df.dtypes"
   ]
  },
  {
   "cell_type": "markdown",
   "id": "69cdf499-6791-42ed-a70e-1fa1120ceb09",
   "metadata": {
    "tags": []
   },
   "source": [
    "Finding summary statistics:"
   ]
  },
  {
   "cell_type": "code",
   "execution_count": 213,
   "id": "044efc7b-eb68-4fb7-b1f9-516d3e21a66e",
   "metadata": {},
   "outputs": [
    {
     "data": {
      "text/html": [
       "<div>\n",
       "<style scoped>\n",
       "    .dataframe tbody tr th:only-of-type {\n",
       "        vertical-align: middle;\n",
       "    }\n",
       "\n",
       "    .dataframe tbody tr th {\n",
       "        vertical-align: top;\n",
       "    }\n",
       "\n",
       "    .dataframe thead th {\n",
       "        text-align: right;\n",
       "    }\n",
       "</style>\n",
       "<table border=\"1\" class=\"dataframe\">\n",
       "  <thead>\n",
       "    <tr style=\"text-align: right;\">\n",
       "      <th></th>\n",
       "      <th>Year</th>\n",
       "      <th>Number of Records</th>\n",
       "      <th>Value (Actual)</th>\n",
       "    </tr>\n",
       "  </thead>\n",
       "  <tbody>\n",
       "    <tr>\n",
       "      <th>count</th>\n",
       "      <td>3008.000000</td>\n",
       "      <td>3008.0</td>\n",
       "      <td>1351.000000</td>\n",
       "    </tr>\n",
       "    <tr>\n",
       "      <th>mean</th>\n",
       "      <td>1996.000000</td>\n",
       "      <td>1.0</td>\n",
       "      <td>781.291237</td>\n",
       "    </tr>\n",
       "    <tr>\n",
       "      <th>std</th>\n",
       "      <td>13.566915</td>\n",
       "      <td>0.0</td>\n",
       "      <td>2246.837672</td>\n",
       "    </tr>\n",
       "    <tr>\n",
       "      <th>min</th>\n",
       "      <td>1973.000000</td>\n",
       "      <td>1.0</td>\n",
       "      <td>-7.650944</td>\n",
       "    </tr>\n",
       "    <tr>\n",
       "      <th>25%</th>\n",
       "      <td>1984.000000</td>\n",
       "      <td>1.0</td>\n",
       "      <td>3.700228</td>\n",
       "    </tr>\n",
       "    <tr>\n",
       "      <th>50%</th>\n",
       "      <td>1996.000000</td>\n",
       "      <td>1.0</td>\n",
       "      <td>63.900000</td>\n",
       "    </tr>\n",
       "    <tr>\n",
       "      <th>75%</th>\n",
       "      <td>2008.000000</td>\n",
       "      <td>1.0</td>\n",
       "      <td>448.900000</td>\n",
       "    </tr>\n",
       "    <tr>\n",
       "      <th>max</th>\n",
       "      <td>2019.000000</td>\n",
       "      <td>1.0</td>\n",
       "      <td>19667.327790</td>\n",
       "    </tr>\n",
       "  </tbody>\n",
       "</table>\n",
       "</div>"
      ],
      "text/plain": [
       "              Year  Number of Records  Value (Actual)\n",
       "count  3008.000000             3008.0     1351.000000\n",
       "mean   1996.000000                1.0      781.291237\n",
       "std      13.566915                0.0     2246.837672\n",
       "min    1973.000000                1.0       -7.650944\n",
       "25%    1984.000000                1.0        3.700228\n",
       "50%    1996.000000                1.0       63.900000\n",
       "75%    2008.000000                1.0      448.900000\n",
       "max    2019.000000                1.0    19667.327790"
      ]
     },
     "execution_count": 213,
     "metadata": {},
     "output_type": "execute_result"
    }
   ],
   "source": [
    "df.describe()"
   ]
  },
  {
   "cell_type": "code",
   "execution_count": 214,
   "id": "c990a44a-08d5-44b8-9842-1947c8436ab5",
   "metadata": {},
   "outputs": [
    {
     "name": "stdout",
     "output_type": "stream",
     "text": [
      "<class 'pandas.core.frame.DataFrame'>\n",
      "RangeIndex: 3008 entries, 0 to 3007\n",
      "Data columns (total 5 columns):\n",
      " #   Column             Non-Null Count  Dtype  \n",
      "---  ------             --------------  -----  \n",
      " 0   Format             3008 non-null   object \n",
      " 1   Metric             3008 non-null   object \n",
      " 2   Year               3008 non-null   int64  \n",
      " 3   Number of Records  3008 non-null   int64  \n",
      " 4   Value (Actual)     1351 non-null   float64\n",
      "dtypes: float64(1), int64(2), object(2)\n",
      "memory usage: 117.6+ KB\n"
     ]
    }
   ],
   "source": [
    "df.info()"
   ]
  },
  {
   "cell_type": "code",
   "execution_count": 215,
   "id": "4c4b22f1-6a0c-4bb1-9519-609c7b3dcc83",
   "metadata": {},
   "outputs": [
    {
     "name": "stdout",
     "output_type": "stream",
     "text": [
      "            Format            Metric  Year  Number of Records  Value (Actual)\n",
      "0               CD             Units  1973                  1             NaN\n",
      "1               CD             Units  1974                  1             NaN\n",
      "2               CD             Units  1975                  1             NaN\n",
      "3               CD             Units  1976                  1             NaN\n",
      "4               CD             Units  1977                  1             NaN\n",
      "...            ...               ...   ...                ...             ...\n",
      "3003  Vinyl Single  Value (Adjusted)  2015                  1        6.205390\n",
      "3004  Vinyl Single  Value (Adjusted)  2016                  1        5.198931\n",
      "3005  Vinyl Single  Value (Adjusted)  2017                  1        6.339678\n",
      "3006  Vinyl Single  Value (Adjusted)  2018                  1        5.386197\n",
      "3007  Vinyl Single  Value (Adjusted)  2019                  1        6.795946\n",
      "\n",
      "[3008 rows x 5 columns]\n"
     ]
    }
   ],
   "source": [
    "print(df)"
   ]
  },
  {
   "cell_type": "markdown",
   "id": "e314194f-0002-47c0-970c-168dbae269fa",
   "metadata": {},
   "source": [
    "Looking at the data, the column \"Value (Actual)\" has missing information for many of the data entries. Additionally, it seems some of the data in the \"Value (Actual)\" column is measuring units sold while other entries are measuring revenue."
   ]
  },
  {
   "cell_type": "markdown",
   "id": "1a989af2-2b9f-4d0d-a4e6-8186fe531c73",
   "metadata": {},
   "source": [
    "### Cleaning the Data"
   ]
  },
  {
   "cell_type": "markdown",
   "id": "ce8dc880-12ce-4bcc-b2ac-743b17b50181",
   "metadata": {},
   "source": [
    "First, I am replacing all NaN values with a zero."
   ]
  },
  {
   "cell_type": "code",
   "execution_count": 216,
   "id": "4a0565e6-149c-40de-b862-20c3c4448a69",
   "metadata": {
    "tags": []
   },
   "outputs": [
    {
     "data": {
      "text/html": [
       "<div>\n",
       "<style scoped>\n",
       "    .dataframe tbody tr th:only-of-type {\n",
       "        vertical-align: middle;\n",
       "    }\n",
       "\n",
       "    .dataframe tbody tr th {\n",
       "        vertical-align: top;\n",
       "    }\n",
       "\n",
       "    .dataframe thead th {\n",
       "        text-align: right;\n",
       "    }\n",
       "</style>\n",
       "<table border=\"1\" class=\"dataframe\">\n",
       "  <thead>\n",
       "    <tr style=\"text-align: right;\">\n",
       "      <th></th>\n",
       "      <th>Format</th>\n",
       "      <th>Metric</th>\n",
       "      <th>Year</th>\n",
       "      <th>Number of Records</th>\n",
       "      <th>Value (Actual)</th>\n",
       "    </tr>\n",
       "  </thead>\n",
       "  <tbody>\n",
       "    <tr>\n",
       "      <th>0</th>\n",
       "      <td>CD</td>\n",
       "      <td>Units</td>\n",
       "      <td>1973</td>\n",
       "      <td>1</td>\n",
       "      <td>0.000000</td>\n",
       "    </tr>\n",
       "    <tr>\n",
       "      <th>1</th>\n",
       "      <td>CD</td>\n",
       "      <td>Units</td>\n",
       "      <td>1974</td>\n",
       "      <td>1</td>\n",
       "      <td>0.000000</td>\n",
       "    </tr>\n",
       "    <tr>\n",
       "      <th>2</th>\n",
       "      <td>CD</td>\n",
       "      <td>Units</td>\n",
       "      <td>1975</td>\n",
       "      <td>1</td>\n",
       "      <td>0.000000</td>\n",
       "    </tr>\n",
       "    <tr>\n",
       "      <th>3</th>\n",
       "      <td>CD</td>\n",
       "      <td>Units</td>\n",
       "      <td>1976</td>\n",
       "      <td>1</td>\n",
       "      <td>0.000000</td>\n",
       "    </tr>\n",
       "    <tr>\n",
       "      <th>4</th>\n",
       "      <td>CD</td>\n",
       "      <td>Units</td>\n",
       "      <td>1977</td>\n",
       "      <td>1</td>\n",
       "      <td>0.000000</td>\n",
       "    </tr>\n",
       "    <tr>\n",
       "      <th>...</th>\n",
       "      <td>...</td>\n",
       "      <td>...</td>\n",
       "      <td>...</td>\n",
       "      <td>...</td>\n",
       "      <td>...</td>\n",
       "    </tr>\n",
       "    <tr>\n",
       "      <th>3003</th>\n",
       "      <td>Vinyl Single</td>\n",
       "      <td>Value (Adjusted)</td>\n",
       "      <td>2015</td>\n",
       "      <td>1</td>\n",
       "      <td>6.205390</td>\n",
       "    </tr>\n",
       "    <tr>\n",
       "      <th>3004</th>\n",
       "      <td>Vinyl Single</td>\n",
       "      <td>Value (Adjusted)</td>\n",
       "      <td>2016</td>\n",
       "      <td>1</td>\n",
       "      <td>5.198931</td>\n",
       "    </tr>\n",
       "    <tr>\n",
       "      <th>3005</th>\n",
       "      <td>Vinyl Single</td>\n",
       "      <td>Value (Adjusted)</td>\n",
       "      <td>2017</td>\n",
       "      <td>1</td>\n",
       "      <td>6.339678</td>\n",
       "    </tr>\n",
       "    <tr>\n",
       "      <th>3006</th>\n",
       "      <td>Vinyl Single</td>\n",
       "      <td>Value (Adjusted)</td>\n",
       "      <td>2018</td>\n",
       "      <td>1</td>\n",
       "      <td>5.386197</td>\n",
       "    </tr>\n",
       "    <tr>\n",
       "      <th>3007</th>\n",
       "      <td>Vinyl Single</td>\n",
       "      <td>Value (Adjusted)</td>\n",
       "      <td>2019</td>\n",
       "      <td>1</td>\n",
       "      <td>6.795946</td>\n",
       "    </tr>\n",
       "  </tbody>\n",
       "</table>\n",
       "<p>3008 rows × 5 columns</p>\n",
       "</div>"
      ],
      "text/plain": [
       "            Format            Metric  Year  Number of Records  Value (Actual)\n",
       "0               CD             Units  1973                  1        0.000000\n",
       "1               CD             Units  1974                  1        0.000000\n",
       "2               CD             Units  1975                  1        0.000000\n",
       "3               CD             Units  1976                  1        0.000000\n",
       "4               CD             Units  1977                  1        0.000000\n",
       "...            ...               ...   ...                ...             ...\n",
       "3003  Vinyl Single  Value (Adjusted)  2015                  1        6.205390\n",
       "3004  Vinyl Single  Value (Adjusted)  2016                  1        5.198931\n",
       "3005  Vinyl Single  Value (Adjusted)  2017                  1        6.339678\n",
       "3006  Vinyl Single  Value (Adjusted)  2018                  1        5.386197\n",
       "3007  Vinyl Single  Value (Adjusted)  2019                  1        6.795946\n",
       "\n",
       "[3008 rows x 5 columns]"
      ]
     },
     "execution_count": 216,
     "metadata": {},
     "output_type": "execute_result"
    }
   ],
   "source": [
    "new_df = df.fillna(0)\n",
    "new_df"
   ]
  },
  {
   "cell_type": "markdown",
   "id": "1aff327f-d205-4aa7-921b-7abffcae4266",
   "metadata": {
    "tags": []
   },
   "source": [
    "In some of the earlier years, certain formats such as CDs hadn't been created yet. I don't want to include these sales formats in my dataset for the years when the value is 0.0 so I am creating a new dataframe with these values removed."
   ]
  },
  {
   "cell_type": "code",
   "execution_count": 217,
   "id": "e53f9770-f136-44fd-95dc-70d712e194b9",
   "metadata": {
    "tags": []
   },
   "outputs": [],
   "source": [
    "# Creating a dataframe that only has the relevant formats for each year"
   ]
  },
  {
   "cell_type": "code",
   "execution_count": 218,
   "id": "5b84f07d-150e-49ac-afb0-7c603df3c1c4",
   "metadata": {},
   "outputs": [
    {
     "data": {
      "text/html": [
       "<div>\n",
       "<style scoped>\n",
       "    .dataframe tbody tr th:only-of-type {\n",
       "        vertical-align: middle;\n",
       "    }\n",
       "\n",
       "    .dataframe tbody tr th {\n",
       "        vertical-align: top;\n",
       "    }\n",
       "\n",
       "    .dataframe thead th {\n",
       "        text-align: right;\n",
       "    }\n",
       "</style>\n",
       "<table border=\"1\" class=\"dataframe\">\n",
       "  <thead>\n",
       "    <tr style=\"text-align: right;\">\n",
       "      <th></th>\n",
       "      <th>Format</th>\n",
       "      <th>Metric</th>\n",
       "      <th>Year</th>\n",
       "      <th>Number of Records</th>\n",
       "      <th>Value (Actual)</th>\n",
       "    </tr>\n",
       "  </thead>\n",
       "  <tbody>\n",
       "    <tr>\n",
       "      <th>0</th>\n",
       "      <td>CD</td>\n",
       "      <td>Units</td>\n",
       "      <td>1983</td>\n",
       "      <td>1</td>\n",
       "      <td>0.800000</td>\n",
       "    </tr>\n",
       "    <tr>\n",
       "      <th>1</th>\n",
       "      <td>CD</td>\n",
       "      <td>Units</td>\n",
       "      <td>1984</td>\n",
       "      <td>1</td>\n",
       "      <td>5.800000</td>\n",
       "    </tr>\n",
       "    <tr>\n",
       "      <th>2</th>\n",
       "      <td>CD</td>\n",
       "      <td>Units</td>\n",
       "      <td>1985</td>\n",
       "      <td>1</td>\n",
       "      <td>22.600000</td>\n",
       "    </tr>\n",
       "    <tr>\n",
       "      <th>3</th>\n",
       "      <td>CD</td>\n",
       "      <td>Units</td>\n",
       "      <td>1986</td>\n",
       "      <td>1</td>\n",
       "      <td>53.000000</td>\n",
       "    </tr>\n",
       "    <tr>\n",
       "      <th>4</th>\n",
       "      <td>CD</td>\n",
       "      <td>Units</td>\n",
       "      <td>1987</td>\n",
       "      <td>1</td>\n",
       "      <td>102.100000</td>\n",
       "    </tr>\n",
       "    <tr>\n",
       "      <th>...</th>\n",
       "      <td>...</td>\n",
       "      <td>...</td>\n",
       "      <td>...</td>\n",
       "      <td>...</td>\n",
       "      <td>...</td>\n",
       "    </tr>\n",
       "    <tr>\n",
       "      <th>1269</th>\n",
       "      <td>Vinyl Single</td>\n",
       "      <td>Value (Adjusted)</td>\n",
       "      <td>2015</td>\n",
       "      <td>1</td>\n",
       "      <td>6.205390</td>\n",
       "    </tr>\n",
       "    <tr>\n",
       "      <th>1270</th>\n",
       "      <td>Vinyl Single</td>\n",
       "      <td>Value (Adjusted)</td>\n",
       "      <td>2016</td>\n",
       "      <td>1</td>\n",
       "      <td>5.198931</td>\n",
       "    </tr>\n",
       "    <tr>\n",
       "      <th>1271</th>\n",
       "      <td>Vinyl Single</td>\n",
       "      <td>Value (Adjusted)</td>\n",
       "      <td>2017</td>\n",
       "      <td>1</td>\n",
       "      <td>6.339678</td>\n",
       "    </tr>\n",
       "    <tr>\n",
       "      <th>1272</th>\n",
       "      <td>Vinyl Single</td>\n",
       "      <td>Value (Adjusted)</td>\n",
       "      <td>2018</td>\n",
       "      <td>1</td>\n",
       "      <td>5.386197</td>\n",
       "    </tr>\n",
       "    <tr>\n",
       "      <th>1273</th>\n",
       "      <td>Vinyl Single</td>\n",
       "      <td>Value (Adjusted)</td>\n",
       "      <td>2019</td>\n",
       "      <td>1</td>\n",
       "      <td>6.795946</td>\n",
       "    </tr>\n",
       "  </tbody>\n",
       "</table>\n",
       "<p>1274 rows × 5 columns</p>\n",
       "</div>"
      ],
      "text/plain": [
       "            Format            Metric  Year  Number of Records  Value (Actual)\n",
       "0               CD             Units  1983                  1        0.800000\n",
       "1               CD             Units  1984                  1        5.800000\n",
       "2               CD             Units  1985                  1       22.600000\n",
       "3               CD             Units  1986                  1       53.000000\n",
       "4               CD             Units  1987                  1      102.100000\n",
       "...            ...               ...   ...                ...             ...\n",
       "1269  Vinyl Single  Value (Adjusted)  2015                  1        6.205390\n",
       "1270  Vinyl Single  Value (Adjusted)  2016                  1        5.198931\n",
       "1271  Vinyl Single  Value (Adjusted)  2017                  1        6.339678\n",
       "1272  Vinyl Single  Value (Adjusted)  2018                  1        5.386197\n",
       "1273  Vinyl Single  Value (Adjusted)  2019                  1        6.795946\n",
       "\n",
       "[1274 rows x 5 columns]"
      ]
     },
     "execution_count": 218,
     "metadata": {},
     "output_type": "execute_result"
    }
   ],
   "source": [
    "new_df_no_values_0 = new_df[new_df[\"Value (Actual)\"] != 0.0].reset_index(drop=True)\n",
    "new_df_no_values_0"
   ]
  },
  {
   "cell_type": "code",
   "execution_count": 219,
   "id": "1df6d9b7-aabe-491e-87d3-50df27ee54a3",
   "metadata": {},
   "outputs": [],
   "source": [
    "# There are only 1274 rows as compared to 3008 rows before since some of the rows were irrelevant. "
   ]
  },
  {
   "cell_type": "code",
   "execution_count": 220,
   "id": "b7b532c3-6c65-4c03-afca-8433db79eb5d",
   "metadata": {
    "tags": []
   },
   "outputs": [],
   "source": [
    "# creating a dataframe that has the units sold data for each year and format"
   ]
  },
  {
   "cell_type": "code",
   "execution_count": 221,
   "id": "0294d3b8-7452-493e-9c2b-e76f9ab7d9d4",
   "metadata": {},
   "outputs": [
    {
     "data": {
      "text/html": [
       "<div>\n",
       "<style scoped>\n",
       "    .dataframe tbody tr th:only-of-type {\n",
       "        vertical-align: middle;\n",
       "    }\n",
       "\n",
       "    .dataframe tbody tr th {\n",
       "        vertical-align: top;\n",
       "    }\n",
       "\n",
       "    .dataframe thead th {\n",
       "        text-align: right;\n",
       "    }\n",
       "</style>\n",
       "<table border=\"1\" class=\"dataframe\">\n",
       "  <thead>\n",
       "    <tr style=\"text-align: right;\">\n",
       "      <th></th>\n",
       "      <th>Format</th>\n",
       "      <th>Metric</th>\n",
       "      <th>Year</th>\n",
       "      <th>Number of Records</th>\n",
       "      <th>Value (Actual)</th>\n",
       "    </tr>\n",
       "  </thead>\n",
       "  <tbody>\n",
       "    <tr>\n",
       "      <th>0</th>\n",
       "      <td>CD</td>\n",
       "      <td>Units</td>\n",
       "      <td>1983</td>\n",
       "      <td>1</td>\n",
       "      <td>0.8</td>\n",
       "    </tr>\n",
       "    <tr>\n",
       "      <th>1</th>\n",
       "      <td>CD</td>\n",
       "      <td>Units</td>\n",
       "      <td>1984</td>\n",
       "      <td>1</td>\n",
       "      <td>5.8</td>\n",
       "    </tr>\n",
       "    <tr>\n",
       "      <th>2</th>\n",
       "      <td>CD</td>\n",
       "      <td>Units</td>\n",
       "      <td>1985</td>\n",
       "      <td>1</td>\n",
       "      <td>22.6</td>\n",
       "    </tr>\n",
       "    <tr>\n",
       "      <th>3</th>\n",
       "      <td>CD</td>\n",
       "      <td>Units</td>\n",
       "      <td>1986</td>\n",
       "      <td>1</td>\n",
       "      <td>53.0</td>\n",
       "    </tr>\n",
       "    <tr>\n",
       "      <th>4</th>\n",
       "      <td>CD</td>\n",
       "      <td>Units</td>\n",
       "      <td>1987</td>\n",
       "      <td>1</td>\n",
       "      <td>102.1</td>\n",
       "    </tr>\n",
       "    <tr>\n",
       "      <th>...</th>\n",
       "      <td>...</td>\n",
       "      <td>...</td>\n",
       "      <td>...</td>\n",
       "      <td>...</td>\n",
       "      <td>...</td>\n",
       "    </tr>\n",
       "    <tr>\n",
       "      <th>397</th>\n",
       "      <td>Paid Subscriptions</td>\n",
       "      <td>Units</td>\n",
       "      <td>2014</td>\n",
       "      <td>1</td>\n",
       "      <td>7.7</td>\n",
       "    </tr>\n",
       "    <tr>\n",
       "      <th>398</th>\n",
       "      <td>Paid Subscriptions</td>\n",
       "      <td>Units</td>\n",
       "      <td>2015</td>\n",
       "      <td>1</td>\n",
       "      <td>10.8</td>\n",
       "    </tr>\n",
       "    <tr>\n",
       "      <th>399</th>\n",
       "      <td>Paid Subscriptions</td>\n",
       "      <td>Units</td>\n",
       "      <td>2016</td>\n",
       "      <td>1</td>\n",
       "      <td>22.7</td>\n",
       "    </tr>\n",
       "    <tr>\n",
       "      <th>400</th>\n",
       "      <td>Paid Subscriptions</td>\n",
       "      <td>Units</td>\n",
       "      <td>2017</td>\n",
       "      <td>1</td>\n",
       "      <td>35.3</td>\n",
       "    </tr>\n",
       "    <tr>\n",
       "      <th>401</th>\n",
       "      <td>Paid Subscriptions</td>\n",
       "      <td>Units</td>\n",
       "      <td>2018</td>\n",
       "      <td>1</td>\n",
       "      <td>50.2</td>\n",
       "    </tr>\n",
       "  </tbody>\n",
       "</table>\n",
       "<p>402 rows × 5 columns</p>\n",
       "</div>"
      ],
      "text/plain": [
       "                 Format Metric  Year  Number of Records  Value (Actual)\n",
       "0                    CD  Units  1983                  1             0.8\n",
       "1                    CD  Units  1984                  1             5.8\n",
       "2                    CD  Units  1985                  1            22.6\n",
       "3                    CD  Units  1986                  1            53.0\n",
       "4                    CD  Units  1987                  1           102.1\n",
       "..                  ...    ...   ...                ...             ...\n",
       "397  Paid Subscriptions  Units  2014                  1             7.7\n",
       "398  Paid Subscriptions  Units  2015                  1            10.8\n",
       "399  Paid Subscriptions  Units  2016                  1            22.7\n",
       "400  Paid Subscriptions  Units  2017                  1            35.3\n",
       "401  Paid Subscriptions  Units  2018                  1            50.2\n",
       "\n",
       "[402 rows x 5 columns]"
      ]
     },
     "execution_count": 221,
     "metadata": {},
     "output_type": "execute_result"
    }
   ],
   "source": [
    "units = new_df_no_values_0[new_df_no_values_0['Metric'] == 'Units']\n",
    "units"
   ]
  },
  {
   "cell_type": "code",
   "execution_count": 222,
   "id": "12b00614-76e0-4b9a-930d-7eb344737e6e",
   "metadata": {},
   "outputs": [],
   "source": [
    "# creating a dataframe that has the Present Value Revenue data for each year and format"
   ]
  },
  {
   "cell_type": "code",
   "execution_count": 274,
   "id": "1f2354a5-051c-4b65-82a9-bd7e51358bc8",
   "metadata": {},
   "outputs": [
    {
     "data": {
      "text/plain": [
       "Format                object\n",
       "Metric                object\n",
       "Year                   int64\n",
       "Number of Records      int64\n",
       "Value (Actual)       float64\n",
       "dtype: object"
      ]
     },
     "execution_count": 274,
     "metadata": {},
     "output_type": "execute_result"
    }
   ],
   "source": [
    "adjusted.dtypes"
   ]
  },
  {
   "cell_type": "code",
   "execution_count": 223,
   "id": "f892b6a1-0566-4694-b608-8e7245c3a29a",
   "metadata": {},
   "outputs": [
    {
     "data": {
      "text/html": [
       "<div>\n",
       "<style scoped>\n",
       "    .dataframe tbody tr th:only-of-type {\n",
       "        vertical-align: middle;\n",
       "    }\n",
       "\n",
       "    .dataframe tbody tr th {\n",
       "        vertical-align: top;\n",
       "    }\n",
       "\n",
       "    .dataframe thead th {\n",
       "        text-align: right;\n",
       "    }\n",
       "</style>\n",
       "<table border=\"1\" class=\"dataframe\">\n",
       "  <thead>\n",
       "    <tr style=\"text-align: right;\">\n",
       "      <th></th>\n",
       "      <th>Format</th>\n",
       "      <th>Metric</th>\n",
       "      <th>Year</th>\n",
       "      <th>Number of Records</th>\n",
       "      <th>Value (Actual)</th>\n",
       "    </tr>\n",
       "  </thead>\n",
       "  <tbody>\n",
       "    <tr>\n",
       "      <th>0</th>\n",
       "      <td>8 - Track</td>\n",
       "      <td>Value (Adjusted)</td>\n",
       "      <td>1973</td>\n",
       "      <td>1</td>\n",
       "      <td>2815.681824</td>\n",
       "    </tr>\n",
       "    <tr>\n",
       "      <th>1</th>\n",
       "      <td>8 - Track</td>\n",
       "      <td>Value (Adjusted)</td>\n",
       "      <td>1974</td>\n",
       "      <td>1</td>\n",
       "      <td>2848.008609</td>\n",
       "    </tr>\n",
       "    <tr>\n",
       "      <th>2</th>\n",
       "      <td>8 - Track</td>\n",
       "      <td>Value (Adjusted)</td>\n",
       "      <td>1975</td>\n",
       "      <td>1</td>\n",
       "      <td>2770.409498</td>\n",
       "    </tr>\n",
       "    <tr>\n",
       "      <th>3</th>\n",
       "      <td>8 - Track</td>\n",
       "      <td>Value (Adjusted)</td>\n",
       "      <td>1976</td>\n",
       "      <td>1</td>\n",
       "      <td>3047.215772</td>\n",
       "    </tr>\n",
       "    <tr>\n",
       "      <th>4</th>\n",
       "      <td>8 - Track</td>\n",
       "      <td>Value (Adjusted)</td>\n",
       "      <td>1977</td>\n",
       "      <td>1</td>\n",
       "      <td>3421.416287</td>\n",
       "    </tr>\n",
       "    <tr>\n",
       "      <th>...</th>\n",
       "      <td>...</td>\n",
       "      <td>...</td>\n",
       "      <td>...</td>\n",
       "      <td>...</td>\n",
       "      <td>...</td>\n",
       "    </tr>\n",
       "    <tr>\n",
       "      <th>431</th>\n",
       "      <td>Vinyl Single</td>\n",
       "      <td>Value (Adjusted)</td>\n",
       "      <td>2015</td>\n",
       "      <td>1</td>\n",
       "      <td>6.205390</td>\n",
       "    </tr>\n",
       "    <tr>\n",
       "      <th>432</th>\n",
       "      <td>Vinyl Single</td>\n",
       "      <td>Value (Adjusted)</td>\n",
       "      <td>2016</td>\n",
       "      <td>1</td>\n",
       "      <td>5.198931</td>\n",
       "    </tr>\n",
       "    <tr>\n",
       "      <th>433</th>\n",
       "      <td>Vinyl Single</td>\n",
       "      <td>Value (Adjusted)</td>\n",
       "      <td>2017</td>\n",
       "      <td>1</td>\n",
       "      <td>6.339678</td>\n",
       "    </tr>\n",
       "    <tr>\n",
       "      <th>434</th>\n",
       "      <td>Vinyl Single</td>\n",
       "      <td>Value (Adjusted)</td>\n",
       "      <td>2018</td>\n",
       "      <td>1</td>\n",
       "      <td>5.386197</td>\n",
       "    </tr>\n",
       "    <tr>\n",
       "      <th>435</th>\n",
       "      <td>Vinyl Single</td>\n",
       "      <td>Value (Adjusted)</td>\n",
       "      <td>2019</td>\n",
       "      <td>1</td>\n",
       "      <td>6.795946</td>\n",
       "    </tr>\n",
       "  </tbody>\n",
       "</table>\n",
       "<p>436 rows × 5 columns</p>\n",
       "</div>"
      ],
      "text/plain": [
       "           Format            Metric  Year  Number of Records  Value (Actual)\n",
       "0       8 - Track  Value (Adjusted)  1973                  1     2815.681824\n",
       "1       8 - Track  Value (Adjusted)  1974                  1     2848.008609\n",
       "2       8 - Track  Value (Adjusted)  1975                  1     2770.409498\n",
       "3       8 - Track  Value (Adjusted)  1976                  1     3047.215772\n",
       "4       8 - Track  Value (Adjusted)  1977                  1     3421.416287\n",
       "..            ...               ...   ...                ...             ...\n",
       "431  Vinyl Single  Value (Adjusted)  2015                  1        6.205390\n",
       "432  Vinyl Single  Value (Adjusted)  2016                  1        5.198931\n",
       "433  Vinyl Single  Value (Adjusted)  2017                  1        6.339678\n",
       "434  Vinyl Single  Value (Adjusted)  2018                  1        5.386197\n",
       "435  Vinyl Single  Value (Adjusted)  2019                  1        6.795946\n",
       "\n",
       "[436 rows x 5 columns]"
      ]
     },
     "execution_count": 223,
     "metadata": {},
     "output_type": "execute_result"
    }
   ],
   "source": [
    "adjusted = new_df_no_values_0[new_df_no_values_0['Metric'] == 'Value (Adjusted)'].reset_index(drop=True)\n",
    "adjusted"
   ]
  },
  {
   "cell_type": "code",
   "execution_count": 224,
   "id": "e91233c3-1f41-41e7-ac2f-311f43581339",
   "metadata": {
    "tags": []
   },
   "outputs": [],
   "source": [
    "# creating a dataframe for Revenue at time of purchase for each year and format"
   ]
  },
  {
   "cell_type": "code",
   "execution_count": 225,
   "id": "35b87a0e-7554-4b8e-9d22-03d5a1c930e9",
   "metadata": {},
   "outputs": [
    {
     "data": {
      "text/html": [
       "<div>\n",
       "<style scoped>\n",
       "    .dataframe tbody tr th:only-of-type {\n",
       "        vertical-align: middle;\n",
       "    }\n",
       "\n",
       "    .dataframe tbody tr th {\n",
       "        vertical-align: top;\n",
       "    }\n",
       "\n",
       "    .dataframe thead th {\n",
       "        text-align: right;\n",
       "    }\n",
       "</style>\n",
       "<table border=\"1\" class=\"dataframe\">\n",
       "  <thead>\n",
       "    <tr style=\"text-align: right;\">\n",
       "      <th></th>\n",
       "      <th>Format</th>\n",
       "      <th>Metric</th>\n",
       "      <th>Year</th>\n",
       "      <th>Number of Records</th>\n",
       "      <th>Value (Actual)</th>\n",
       "    </tr>\n",
       "  </thead>\n",
       "  <tbody>\n",
       "    <tr>\n",
       "      <th>0</th>\n",
       "      <td>CD</td>\n",
       "      <td>Value</td>\n",
       "      <td>1983</td>\n",
       "      <td>1</td>\n",
       "      <td>17.200000</td>\n",
       "    </tr>\n",
       "    <tr>\n",
       "      <th>1</th>\n",
       "      <td>CD</td>\n",
       "      <td>Value</td>\n",
       "      <td>1984</td>\n",
       "      <td>1</td>\n",
       "      <td>103.300000</td>\n",
       "    </tr>\n",
       "    <tr>\n",
       "      <th>2</th>\n",
       "      <td>CD</td>\n",
       "      <td>Value</td>\n",
       "      <td>1985</td>\n",
       "      <td>1</td>\n",
       "      <td>389.500000</td>\n",
       "    </tr>\n",
       "    <tr>\n",
       "      <th>3</th>\n",
       "      <td>CD</td>\n",
       "      <td>Value</td>\n",
       "      <td>1986</td>\n",
       "      <td>1</td>\n",
       "      <td>930.100000</td>\n",
       "    </tr>\n",
       "    <tr>\n",
       "      <th>4</th>\n",
       "      <td>CD</td>\n",
       "      <td>Value</td>\n",
       "      <td>1987</td>\n",
       "      <td>1</td>\n",
       "      <td>1593.600000</td>\n",
       "    </tr>\n",
       "    <tr>\n",
       "      <th>...</th>\n",
       "      <td>...</td>\n",
       "      <td>...</td>\n",
       "      <td>...</td>\n",
       "      <td>...</td>\n",
       "      <td>...</td>\n",
       "    </tr>\n",
       "    <tr>\n",
       "      <th>431</th>\n",
       "      <td>Vinyl Single</td>\n",
       "      <td>Value</td>\n",
       "      <td>2015</td>\n",
       "      <td>1</td>\n",
       "      <td>5.752954</td>\n",
       "    </tr>\n",
       "    <tr>\n",
       "      <th>432</th>\n",
       "      <td>Vinyl Single</td>\n",
       "      <td>Value</td>\n",
       "      <td>2016</td>\n",
       "      <td>1</td>\n",
       "      <td>4.880680</td>\n",
       "    </tr>\n",
       "    <tr>\n",
       "      <th>433</th>\n",
       "      <td>Vinyl Single</td>\n",
       "      <td>Value</td>\n",
       "      <td>2017</td>\n",
       "      <td>1</td>\n",
       "      <td>6.078385</td>\n",
       "    </tr>\n",
       "    <tr>\n",
       "      <th>434</th>\n",
       "      <td>Vinyl Single</td>\n",
       "      <td>Value</td>\n",
       "      <td>2018</td>\n",
       "      <td>1</td>\n",
       "      <td>5.290337</td>\n",
       "    </tr>\n",
       "    <tr>\n",
       "      <th>435</th>\n",
       "      <td>Vinyl Single</td>\n",
       "      <td>Value</td>\n",
       "      <td>2019</td>\n",
       "      <td>1</td>\n",
       "      <td>6.795946</td>\n",
       "    </tr>\n",
       "  </tbody>\n",
       "</table>\n",
       "<p>436 rows × 5 columns</p>\n",
       "</div>"
      ],
      "text/plain": [
       "           Format Metric  Year  Number of Records  Value (Actual)\n",
       "0              CD  Value  1983                  1       17.200000\n",
       "1              CD  Value  1984                  1      103.300000\n",
       "2              CD  Value  1985                  1      389.500000\n",
       "3              CD  Value  1986                  1      930.100000\n",
       "4              CD  Value  1987                  1     1593.600000\n",
       "..            ...    ...   ...                ...             ...\n",
       "431  Vinyl Single  Value  2015                  1        5.752954\n",
       "432  Vinyl Single  Value  2016                  1        4.880680\n",
       "433  Vinyl Single  Value  2017                  1        6.078385\n",
       "434  Vinyl Single  Value  2018                  1        5.290337\n",
       "435  Vinyl Single  Value  2019                  1        6.795946\n",
       "\n",
       "[436 rows x 5 columns]"
      ]
     },
     "execution_count": 225,
     "metadata": {},
     "output_type": "execute_result"
    }
   ],
   "source": [
    "value = new_df_no_values_0[new_df_no_values_0['Metric'] == 'Value'].reset_index(drop=True)\n",
    "value"
   ]
  },
  {
   "cell_type": "markdown",
   "id": "a4dc7728-8636-4dd7-b59f-0d1e2e9007d3",
   "metadata": {},
   "source": [
    "### Exploratory Data Visualizations"
   ]
  },
  {
   "cell_type": "code",
   "execution_count": 226,
   "id": "19b2e651-d845-47ff-8c46-56a7f77b6b9a",
   "metadata": {},
   "outputs": [],
   "source": [
    "# creating dataframes with the unit sales data for each format "
   ]
  },
  {
   "cell_type": "code",
   "execution_count": 227,
   "id": "8810474e-9259-485b-bdc3-7720f53d76f6",
   "metadata": {},
   "outputs": [],
   "source": [
    "# step 1: get all unique Format types\n",
    "unit_format_types = list(set(units[\"Format\"]))\n",
    "unit_format_types\n",
    "# step 2: create an empty list to input new data_frames\n",
    "unit_format_dfs = []\n",
    "# step 3: create all the new data frames and add to list\n",
    "for i in np.arange(len(unit_format_types)):\n",
    "    unit_first_format_type = unit_format_types[i]\n",
    "    unit_format_df = units[units[\"Format\"] == unit_first_format_type]\n",
    "    unit_format_dfs.append(unit_format_df)\n",
    "    #print(format_df.head())"
   ]
  },
  {
   "cell_type": "code",
   "execution_count": 228,
   "id": "7ac584cb-101f-4b26-a9fe-8e2bcb5317bf",
   "metadata": {},
   "outputs": [],
   "source": [
    "# creating dataframes with the Adjusted Revenue sales data for each format"
   ]
  },
  {
   "cell_type": "code",
   "execution_count": 229,
   "id": "8d2742b8-997d-4889-8c41-d3d62c675c01",
   "metadata": {},
   "outputs": [],
   "source": [
    "# step 1: get all unique Format types\n",
    "format_types = list(set(adjusted[\"Format\"]))\n",
    "format_types\n",
    "# step 2: create an empty list to input new data_frames\n",
    "format_dfs = []\n",
    "# step 3: create all the new data frames and add to list\n",
    "for i in np.arange(len(format_types)):\n",
    "    first_format_type = format_types[i]\n",
    "    format_df = adjusted[adjusted[\"Format\"] == first_format_type]\n",
    "    format_dfs.append(format_df)\n",
    "    #print(format_df.head())"
   ]
  },
  {
   "cell_type": "code",
   "execution_count": 263,
   "id": "9f7be0e1-ee70-4911-abf2-7ccceb141a3a",
   "metadata": {
    "tags": []
   },
   "outputs": [
    {
     "data": {
      "text/html": [
       "<div>\n",
       "<style scoped>\n",
       "    .dataframe tbody tr th:only-of-type {\n",
       "        vertical-align: middle;\n",
       "    }\n",
       "\n",
       "    .dataframe tbody tr th {\n",
       "        vertical-align: top;\n",
       "    }\n",
       "\n",
       "    .dataframe thead th {\n",
       "        text-align: right;\n",
       "    }\n",
       "</style>\n",
       "<table border=\"1\" class=\"dataframe\">\n",
       "  <thead>\n",
       "    <tr style=\"text-align: right;\">\n",
       "      <th></th>\n",
       "      <th>Format</th>\n",
       "      <th>Metric</th>\n",
       "      <th>Year</th>\n",
       "      <th>Number of Records</th>\n",
       "      <th>Value (Actual)</th>\n",
       "    </tr>\n",
       "  </thead>\n",
       "  <tbody>\n",
       "    <tr>\n",
       "      <th>315</th>\n",
       "      <td>Paid Subscription</td>\n",
       "      <td>Value (Adjusted)</td>\n",
       "      <td>2005</td>\n",
       "      <td>1</td>\n",
       "      <td>195.309905</td>\n",
       "    </tr>\n",
       "    <tr>\n",
       "      <th>316</th>\n",
       "      <td>Paid Subscription</td>\n",
       "      <td>Value (Adjusted)</td>\n",
       "      <td>2006</td>\n",
       "      <td>1</td>\n",
       "      <td>261.490444</td>\n",
       "    </tr>\n",
       "    <tr>\n",
       "      <th>317</th>\n",
       "      <td>Paid Subscription</td>\n",
       "      <td>Value (Adjusted)</td>\n",
       "      <td>2007</td>\n",
       "      <td>1</td>\n",
       "      <td>288.585326</td>\n",
       "    </tr>\n",
       "    <tr>\n",
       "      <th>318</th>\n",
       "      <td>Paid Subscription</td>\n",
       "      <td>Value (Adjusted)</td>\n",
       "      <td>2008</td>\n",
       "      <td>1</td>\n",
       "      <td>262.896754</td>\n",
       "    </tr>\n",
       "    <tr>\n",
       "      <th>319</th>\n",
       "      <td>Paid Subscription</td>\n",
       "      <td>Value (Adjusted)</td>\n",
       "      <td>2009</td>\n",
       "      <td>1</td>\n",
       "      <td>245.722059</td>\n",
       "    </tr>\n",
       "    <tr>\n",
       "      <th>320</th>\n",
       "      <td>Paid Subscription</td>\n",
       "      <td>Value (Adjusted)</td>\n",
       "      <td>2010</td>\n",
       "      <td>1</td>\n",
       "      <td>249.025694</td>\n",
       "    </tr>\n",
       "    <tr>\n",
       "      <th>321</th>\n",
       "      <td>Paid Subscription</td>\n",
       "      <td>Value (Adjusted)</td>\n",
       "      <td>2011</td>\n",
       "      <td>1</td>\n",
       "      <td>281.639932</td>\n",
       "    </tr>\n",
       "    <tr>\n",
       "      <th>322</th>\n",
       "      <td>Paid Subscription</td>\n",
       "      <td>Value (Adjusted)</td>\n",
       "      <td>2012</td>\n",
       "      <td>1</td>\n",
       "      <td>445.276306</td>\n",
       "    </tr>\n",
       "    <tr>\n",
       "      <th>323</th>\n",
       "      <td>Paid Subscription</td>\n",
       "      <td>Value (Adjusted)</td>\n",
       "      <td>2013</td>\n",
       "      <td>1</td>\n",
       "      <td>706.011657</td>\n",
       "    </tr>\n",
       "    <tr>\n",
       "      <th>324</th>\n",
       "      <td>Paid Subscription</td>\n",
       "      <td>Value (Adjusted)</td>\n",
       "      <td>2014</td>\n",
       "      <td>1</td>\n",
       "      <td>831.834028</td>\n",
       "    </tr>\n",
       "    <tr>\n",
       "      <th>325</th>\n",
       "      <td>Paid Subscription</td>\n",
       "      <td>Value (Adjusted)</td>\n",
       "      <td>2015</td>\n",
       "      <td>1</td>\n",
       "      <td>1247.676869</td>\n",
       "    </tr>\n",
       "    <tr>\n",
       "      <th>326</th>\n",
       "      <td>Paid Subscription</td>\n",
       "      <td>Value (Adjusted)</td>\n",
       "      <td>2016</td>\n",
       "      <td>1</td>\n",
       "      <td>2390.487545</td>\n",
       "    </tr>\n",
       "    <tr>\n",
       "      <th>327</th>\n",
       "      <td>Paid Subscription</td>\n",
       "      <td>Value (Adjusted)</td>\n",
       "      <td>2017</td>\n",
       "      <td>1</td>\n",
       "      <td>3651.028327</td>\n",
       "    </tr>\n",
       "    <tr>\n",
       "      <th>328</th>\n",
       "      <td>Paid Subscription</td>\n",
       "      <td>Value (Adjusted)</td>\n",
       "      <td>2018</td>\n",
       "      <td>1</td>\n",
       "      <td>4740.333581</td>\n",
       "    </tr>\n",
       "    <tr>\n",
       "      <th>329</th>\n",
       "      <td>Paid Subscription</td>\n",
       "      <td>Value (Adjusted)</td>\n",
       "      <td>2019</td>\n",
       "      <td>1</td>\n",
       "      <td>5934.397625</td>\n",
       "    </tr>\n",
       "  </tbody>\n",
       "</table>\n",
       "</div>"
      ],
      "text/plain": [
       "                Format            Metric  Year  Number of Records  \\\n",
       "315  Paid Subscription  Value (Adjusted)  2005                  1   \n",
       "316  Paid Subscription  Value (Adjusted)  2006                  1   \n",
       "317  Paid Subscription  Value (Adjusted)  2007                  1   \n",
       "318  Paid Subscription  Value (Adjusted)  2008                  1   \n",
       "319  Paid Subscription  Value (Adjusted)  2009                  1   \n",
       "320  Paid Subscription  Value (Adjusted)  2010                  1   \n",
       "321  Paid Subscription  Value (Adjusted)  2011                  1   \n",
       "322  Paid Subscription  Value (Adjusted)  2012                  1   \n",
       "323  Paid Subscription  Value (Adjusted)  2013                  1   \n",
       "324  Paid Subscription  Value (Adjusted)  2014                  1   \n",
       "325  Paid Subscription  Value (Adjusted)  2015                  1   \n",
       "326  Paid Subscription  Value (Adjusted)  2016                  1   \n",
       "327  Paid Subscription  Value (Adjusted)  2017                  1   \n",
       "328  Paid Subscription  Value (Adjusted)  2018                  1   \n",
       "329  Paid Subscription  Value (Adjusted)  2019                  1   \n",
       "\n",
       "     Value (Actual)  \n",
       "315      195.309905  \n",
       "316      261.490444  \n",
       "317      288.585326  \n",
       "318      262.896754  \n",
       "319      245.722059  \n",
       "320      249.025694  \n",
       "321      281.639932  \n",
       "322      445.276306  \n",
       "323      706.011657  \n",
       "324      831.834028  \n",
       "325     1247.676869  \n",
       "326     2390.487545  \n",
       "327     3651.028327  \n",
       "328     4740.333581  \n",
       "329     5934.397625  "
      ]
     },
     "execution_count": 263,
     "metadata": {},
     "output_type": "execute_result"
    }
   ],
   "source": [
    "format_dfs[0]"
   ]
  },
  {
   "cell_type": "code",
   "execution_count": 231,
   "id": "b31f931c-e11b-43d0-b477-54a103cd36fe",
   "metadata": {},
   "outputs": [],
   "source": [
    "# could be cool to create a drop down menu with these options ...."
   ]
  },
  {
   "cell_type": "code",
   "execution_count": 232,
   "id": "6d6e3575-3c23-461e-b5d0-68a2d42b1f6c",
   "metadata": {
    "tags": []
   },
   "outputs": [],
   "source": [
    "# plotting Paid Subscription sales over the years"
   ]
  },
  {
   "cell_type": "code",
   "execution_count": 233,
   "id": "04adfd70-1202-4da8-a547-60908755c533",
   "metadata": {},
   "outputs": [
    {
     "data": {
      "text/plain": [
       "<matplotlib.legend.Legend at 0x7f0ec0f4aa00>"
      ]
     },
     "execution_count": 233,
     "metadata": {},
     "output_type": "execute_result"
    },
    {
     "data": {
      "image/png": "[encoded data removed]",
      "text/plain": [
       "<Figure size 720x432 with 1 Axes>"
      ]
     },
     "metadata": {
      "needs_background": "light"
     },
     "output_type": "display_data"
    }
   ],
   "source": [
    "ps = format_dfs[0].plot(kind='bar', x='Year', y='Value (Actual)', figsize=(10,6))\n",
    "\n",
    "ps.set_title('Paid Subscription Sales 2005-2019')\n",
    "ps.set_xlabel('Year', fontsize=14)\n",
    "ps.set_ylabel('Revenue (in millions)', fontsize=14)\n",
    "ps.legend(['Revenue Adjusted to PV'])"
   ]
  },
  {
   "cell_type": "code",
   "execution_count": 234,
   "id": "fbb0dc2c-8996-4be2-a5ae-aa59c85d7100",
   "metadata": {},
   "outputs": [],
   "source": [
    "# plotting CD single sales over the years"
   ]
  },
  {
   "cell_type": "code",
   "execution_count": 235,
   "id": "657dda82-b4f2-4c15-ba1e-534075a5b3e4",
   "metadata": {
    "tags": []
   },
   "outputs": [
    {
     "data": {
      "text/plain": [
       "<matplotlib.legend.Legend at 0x7f0ebf01a0a0>"
      ]
     },
     "execution_count": 235,
     "metadata": {},
     "output_type": "execute_result"
    },
    {
     "data": {
      "image/png": "[encoded data removed]",
      "text/plain": [
       "<Figure size 864x576 with 1 Axes>"
      ]
     },
     "metadata": {
      "needs_background": "light"
     },
     "output_type": "display_data"
    }
   ],
   "source": [
    "cds = format_dfs[1].plot(kind='bar', x='Year', y='Value (Actual)', figsize=(12,8))\n",
    "\n",
    "cds.set_title('CD Single Sales 1989-2019')\n",
    "cds.set_xlabel('Year', fontsize=14)\n",
    "cds.set_ylabel('Revenue (in millions)', fontsize=14)\n",
    "cds.legend(['Revenue Adjusted to PV'])"
   ]
  },
  {
   "cell_type": "code",
   "execution_count": 236,
   "id": "4ed67352-8d64-46ae-9992-c1d7925387ac",
   "metadata": {},
   "outputs": [],
   "source": [
    "# in years 2016, 2018, and 2019 the values are under 1 million and therefore very close to zero on this graph"
   ]
  },
  {
   "cell_type": "code",
   "execution_count": 237,
   "id": "4188d235-1f3c-4303-bd4f-79c845df298a",
   "metadata": {},
   "outputs": [],
   "source": [
    "# plotting Limited Tier Paid Subscription sales over the years"
   ]
  },
  {
   "cell_type": "code",
   "execution_count": 238,
   "id": "ce05e47f-11b8-46a9-9e58-5cef173ff290",
   "metadata": {},
   "outputs": [
    {
     "data": {
      "text/plain": [
       "<matplotlib.legend.Legend at 0x7f0ebd103700>"
      ]
     },
     "execution_count": 238,
     "metadata": {},
     "output_type": "execute_result"
    },
    {
     "data": {
      "image/png": "[encoded data removed]",
      "text/plain": [
       "<Figure size 720x432 with 1 Axes>"
      ]
     },
     "metadata": {
      "needs_background": "light"
     },
     "output_type": "display_data"
    }
   ],
   "source": [
    "cds = format_dfs[2].plot(kind='bar', x='Year', y='Value (Actual)', figsize=(10,6))\n",
    "\n",
    "cds.set_title('Limited Tier Paid Subscription Sales 2016-2019')\n",
    "cds.set_xlabel('Year', fontsize=14)\n",
    "cds.set_ylabel('Revenue (in millions)', fontsize=14)\n",
    "cds.legend(['Revenue Adjusted to PV'])"
   ]
  },
  {
   "cell_type": "code",
   "execution_count": 239,
   "id": "8ec5ee92-a705-458a-89f3-38558a418aec",
   "metadata": {},
   "outputs": [],
   "source": [
    "# still need to plot for remaining formats"
   ]
  },
  {
   "cell_type": "code",
   "execution_count": 240,
   "id": "af48b4a8-e740-4f92-b1c1-c9d5c45c5162",
   "metadata": {},
   "outputs": [],
   "source": [
    "# looking at how composition of sales changed every 15 years ... could be cool to add an interactive drop down menu"
   ]
  },
  {
   "cell_type": "code",
   "execution_count": 241,
   "id": "0a712ac5-6cc2-4341-9d81-1700570c868d",
   "metadata": {},
   "outputs": [],
   "source": [
    "# looking at most popular format of sales in 1973"
   ]
  },
  {
   "cell_type": "code",
   "execution_count": 242,
   "id": "f1e987b1-b8cf-4c5a-b704-4894f0ab448a",
   "metadata": {
    "tags": []
   },
   "outputs": [],
   "source": [
    "df_1973 = adjusted[adjusted['Year'] == 1973]"
   ]
  },
  {
   "cell_type": "code",
   "execution_count": 243,
   "id": "efc51442-4be8-4083-aa61-41d1446ef8a0",
   "metadata": {},
   "outputs": [
    {
     "data": {
      "text/html": [
       "<div>\n",
       "<style scoped>\n",
       "    .dataframe tbody tr th:only-of-type {\n",
       "        vertical-align: middle;\n",
       "    }\n",
       "\n",
       "    .dataframe tbody tr th {\n",
       "        vertical-align: top;\n",
       "    }\n",
       "\n",
       "    .dataframe thead th {\n",
       "        text-align: right;\n",
       "    }\n",
       "</style>\n",
       "<table border=\"1\" class=\"dataframe\">\n",
       "  <thead>\n",
       "    <tr style=\"text-align: right;\">\n",
       "      <th></th>\n",
       "      <th>Metric</th>\n",
       "      <th>Year</th>\n",
       "      <th>Number of Records</th>\n",
       "      <th>Value (Actual)</th>\n",
       "    </tr>\n",
       "    <tr>\n",
       "      <th>Format</th>\n",
       "      <th></th>\n",
       "      <th></th>\n",
       "      <th></th>\n",
       "      <th></th>\n",
       "    </tr>\n",
       "  </thead>\n",
       "  <tbody>\n",
       "    <tr>\n",
       "      <th>8 - Track</th>\n",
       "      <td>Value (Adjusted)</td>\n",
       "      <td>1973</td>\n",
       "      <td>1</td>\n",
       "      <td>2815.681824</td>\n",
       "    </tr>\n",
       "    <tr>\n",
       "      <th>Cassette</th>\n",
       "      <td>Value (Adjusted)</td>\n",
       "      <td>1973</td>\n",
       "      <td>1</td>\n",
       "      <td>437.611081</td>\n",
       "    </tr>\n",
       "    <tr>\n",
       "      <th>LP/EP</th>\n",
       "      <td>Value (Adjusted)</td>\n",
       "      <td>1973</td>\n",
       "      <td>1</td>\n",
       "      <td>7174.518514</td>\n",
       "    </tr>\n",
       "    <tr>\n",
       "      <th>Other Tapes</th>\n",
       "      <td>Value (Adjusted)</td>\n",
       "      <td>1973</td>\n",
       "      <td>1</td>\n",
       "      <td>89.825432</td>\n",
       "    </tr>\n",
       "    <tr>\n",
       "      <th>Vinyl Single</th>\n",
       "      <td>Value (Adjusted)</td>\n",
       "      <td>1973</td>\n",
       "      <td>1</td>\n",
       "      <td>1094.027703</td>\n",
       "    </tr>\n",
       "  </tbody>\n",
       "</table>\n",
       "</div>"
      ],
      "text/plain": [
       "                        Metric  Year  Number of Records  Value (Actual)\n",
       "Format                                                                 \n",
       "8 - Track     Value (Adjusted)  1973                  1     2815.681824\n",
       "Cassette      Value (Adjusted)  1973                  1      437.611081\n",
       "LP/EP         Value (Adjusted)  1973                  1     7174.518514\n",
       "Other Tapes   Value (Adjusted)  1973                  1       89.825432\n",
       "Vinyl Single  Value (Adjusted)  1973                  1     1094.027703"
      ]
     },
     "execution_count": 243,
     "metadata": {},
     "output_type": "execute_result"
    }
   ],
   "source": [
    "df_1973_index = df_1973.set_index(\"Format\")\n",
    "df_1973_index"
   ]
  },
  {
   "cell_type": "code",
   "execution_count": 244,
   "id": "70aeeb01-e523-4105-a420-e58154403eed",
   "metadata": {},
   "outputs": [
    {
     "data": {
      "text/plain": [
       "Text(0, 0.5, 'Revenue (in millions)')"
      ]
     },
     "execution_count": 244,
     "metadata": {},
     "output_type": "execute_result"
    },
    {
     "data": {
      "image/png": "[encoded data removed]",
      "text/plain": [
       "<Figure size 1080x432 with 1 Axes>"
      ]
     },
     "metadata": {},
     "output_type": "display_data"
    }
   ],
   "source": [
    "a = df_1973_index.plot(kind='pie', y='Value (Actual)',figsize=(15,6))\n",
    "plt.legend(bbox_to_anchor=(1.0, 1.0))\n",
    "a.set_title('Music Industry Sales in 1973')\n",
    "a.set_ylabel('Revenue (in millions)')"
   ]
  },
  {
   "cell_type": "code",
   "execution_count": 245,
   "id": "d863906e-3ffb-4eb9-80c6-883b200ca375",
   "metadata": {},
   "outputs": [],
   "source": [
    "# looking at most popular format of sales in 1988"
   ]
  },
  {
   "cell_type": "code",
   "execution_count": 246,
   "id": "05a1692f-2566-4405-97f3-b7aca594f871",
   "metadata": {
    "tags": []
   },
   "outputs": [
    {
     "data": {
      "text/html": [
       "<div>\n",
       "<style scoped>\n",
       "    .dataframe tbody tr th:only-of-type {\n",
       "        vertical-align: middle;\n",
       "    }\n",
       "\n",
       "    .dataframe tbody tr th {\n",
       "        vertical-align: top;\n",
       "    }\n",
       "\n",
       "    .dataframe thead th {\n",
       "        text-align: right;\n",
       "    }\n",
       "</style>\n",
       "<table border=\"1\" class=\"dataframe\">\n",
       "  <thead>\n",
       "    <tr style=\"text-align: right;\">\n",
       "      <th></th>\n",
       "      <th>Metric</th>\n",
       "      <th>Year</th>\n",
       "      <th>Number of Records</th>\n",
       "      <th>Value (Actual)</th>\n",
       "    </tr>\n",
       "    <tr>\n",
       "      <th>Format</th>\n",
       "      <th></th>\n",
       "      <th></th>\n",
       "      <th></th>\n",
       "      <th></th>\n",
       "    </tr>\n",
       "  </thead>\n",
       "  <tbody>\n",
       "    <tr>\n",
       "      <th>CD</th>\n",
       "      <td>Value (Adjusted)</td>\n",
       "      <td>1988</td>\n",
       "      <td>1</td>\n",
       "      <td>4516.462927</td>\n",
       "    </tr>\n",
       "    <tr>\n",
       "      <th>CD Single</th>\n",
       "      <td>Value (Adjusted)</td>\n",
       "      <td>1988</td>\n",
       "      <td>1</td>\n",
       "      <td>21.178686</td>\n",
       "    </tr>\n",
       "    <tr>\n",
       "      <th>Cassette</th>\n",
       "      <td>Value (Adjusted)</td>\n",
       "      <td>1988</td>\n",
       "      <td>1</td>\n",
       "      <td>7315.507276</td>\n",
       "    </tr>\n",
       "    <tr>\n",
       "      <th>Cassette Single</th>\n",
       "      <td>Value (Adjusted)</td>\n",
       "      <td>1988</td>\n",
       "      <td>1</td>\n",
       "      <td>123.830483</td>\n",
       "    </tr>\n",
       "    <tr>\n",
       "      <th>LP/EP</th>\n",
       "      <td>Value (Adjusted)</td>\n",
       "      <td>1988</td>\n",
       "      <td>1</td>\n",
       "      <td>1150.132336</td>\n",
       "    </tr>\n",
       "    <tr>\n",
       "      <th>Vinyl Single</th>\n",
       "      <td>Value (Adjusted)</td>\n",
       "      <td>1988</td>\n",
       "      <td>1</td>\n",
       "      <td>389.860717</td>\n",
       "    </tr>\n",
       "  </tbody>\n",
       "</table>\n",
       "</div>"
      ],
      "text/plain": [
       "                           Metric  Year  Number of Records  Value (Actual)\n",
       "Format                                                                    \n",
       "CD               Value (Adjusted)  1988                  1     4516.462927\n",
       "CD Single        Value (Adjusted)  1988                  1       21.178686\n",
       "Cassette         Value (Adjusted)  1988                  1     7315.507276\n",
       "Cassette Single  Value (Adjusted)  1988                  1      123.830483\n",
       "LP/EP            Value (Adjusted)  1988                  1     1150.132336\n",
       "Vinyl Single     Value (Adjusted)  1988                  1      389.860717"
      ]
     },
     "execution_count": 246,
     "metadata": {},
     "output_type": "execute_result"
    }
   ],
   "source": [
    "df_1988 = adjusted[adjusted['Year'] == 1988]\n",
    "df_1988_index = df_1988.set_index(\"Format\")\n",
    "df_1988_index"
   ]
  },
  {
   "cell_type": "code",
   "execution_count": 247,
   "id": "a541595c-69fe-4683-bc26-1dab7a6dca08",
   "metadata": {},
   "outputs": [
    {
     "data": {
      "text/plain": [
       "Text(0, 0.5, 'Revenue (in millions)')"
      ]
     },
     "execution_count": 247,
     "metadata": {},
     "output_type": "execute_result"
    },
    {
     "data": {
      "image/png": "[encoded data removed]",
      "text/plain": [
       "<Figure size 1080x432 with 1 Axes>"
      ]
     },
     "metadata": {},
     "output_type": "display_data"
    }
   ],
   "source": [
    "b = df_1988_index.plot(kind='pie', y='Value (Actual)',figsize=(15,6))\n",
    "plt.legend(bbox_to_anchor=(1.0, 1.0))\n",
    "b.set_title('Music Industry Sales in 1988')\n",
    "b.set_ylabel('Revenue (in millions)')"
   ]
  },
  {
   "cell_type": "code",
   "execution_count": 248,
   "id": "b5b0d208-96e4-42f0-8be5-c5f5aad46649",
   "metadata": {},
   "outputs": [],
   "source": [
    "# looking at most popular format of sales in 2003"
   ]
  },
  {
   "cell_type": "code",
   "execution_count": 249,
   "id": "58d55c1f-dcf8-444c-b36d-1e10fa3856b0",
   "metadata": {},
   "outputs": [
    {
     "data": {
      "text/html": [
       "<div>\n",
       "<style scoped>\n",
       "    .dataframe tbody tr th:only-of-type {\n",
       "        vertical-align: middle;\n",
       "    }\n",
       "\n",
       "    .dataframe tbody tr th {\n",
       "        vertical-align: top;\n",
       "    }\n",
       "\n",
       "    .dataframe thead th {\n",
       "        text-align: right;\n",
       "    }\n",
       "</style>\n",
       "<table border=\"1\" class=\"dataframe\">\n",
       "  <thead>\n",
       "    <tr style=\"text-align: right;\">\n",
       "      <th></th>\n",
       "      <th>Metric</th>\n",
       "      <th>Year</th>\n",
       "      <th>Number of Records</th>\n",
       "      <th>Value (Actual)</th>\n",
       "    </tr>\n",
       "    <tr>\n",
       "      <th>Format</th>\n",
       "      <th></th>\n",
       "      <th></th>\n",
       "      <th></th>\n",
       "      <th></th>\n",
       "    </tr>\n",
       "  </thead>\n",
       "  <tbody>\n",
       "    <tr>\n",
       "      <th>CD</th>\n",
       "      <td>Value (Adjusted)</td>\n",
       "      <td>2003</td>\n",
       "      <td>1</td>\n",
       "      <td>15607.443020</td>\n",
       "    </tr>\n",
       "    <tr>\n",
       "      <th>CD Single</th>\n",
       "      <td>Value (Adjusted)</td>\n",
       "      <td>2003</td>\n",
       "      <td>1</td>\n",
       "      <td>50.019848</td>\n",
       "    </tr>\n",
       "    <tr>\n",
       "      <th>Cassette</th>\n",
       "      <td>Value (Adjusted)</td>\n",
       "      <td>2003</td>\n",
       "      <td>1</td>\n",
       "      <td>150.198487</td>\n",
       "    </tr>\n",
       "    <tr>\n",
       "      <th>DVD Audio</th>\n",
       "      <td>Value (Adjusted)</td>\n",
       "      <td>2003</td>\n",
       "      <td>1</td>\n",
       "      <td>11.115522</td>\n",
       "    </tr>\n",
       "    <tr>\n",
       "      <th>LP/EP</th>\n",
       "      <td>Value (Adjusted)</td>\n",
       "      <td>2003</td>\n",
       "      <td>1</td>\n",
       "      <td>30.150853</td>\n",
       "    </tr>\n",
       "    <tr>\n",
       "      <th>Music Video (Physical)</th>\n",
       "      <td>Value (Adjusted)</td>\n",
       "      <td>2003</td>\n",
       "      <td>1</td>\n",
       "      <td>555.637143</td>\n",
       "    </tr>\n",
       "    <tr>\n",
       "      <th>SACD</th>\n",
       "      <td>Value (Adjusted)</td>\n",
       "      <td>2003</td>\n",
       "      <td>1</td>\n",
       "      <td>36.542278</td>\n",
       "    </tr>\n",
       "    <tr>\n",
       "      <th>Vinyl Single</th>\n",
       "      <td>Value (Adjusted)</td>\n",
       "      <td>2003</td>\n",
       "      <td>1</td>\n",
       "      <td>29.872965</td>\n",
       "    </tr>\n",
       "  </tbody>\n",
       "</table>\n",
       "</div>"
      ],
      "text/plain": [
       "                                  Metric  Year  Number of Records  \\\n",
       "Format                                                              \n",
       "CD                      Value (Adjusted)  2003                  1   \n",
       "CD Single               Value (Adjusted)  2003                  1   \n",
       "Cassette                Value (Adjusted)  2003                  1   \n",
       "DVD Audio               Value (Adjusted)  2003                  1   \n",
       "LP/EP                   Value (Adjusted)  2003                  1   \n",
       "Music Video (Physical)  Value (Adjusted)  2003                  1   \n",
       "SACD                    Value (Adjusted)  2003                  1   \n",
       "Vinyl Single            Value (Adjusted)  2003                  1   \n",
       "\n",
       "                        Value (Actual)  \n",
       "Format                                  \n",
       "CD                        15607.443020  \n",
       "CD Single                    50.019848  \n",
       "Cassette                    150.198487  \n",
       "DVD Audio                    11.115522  \n",
       "LP/EP                        30.150853  \n",
       "Music Video (Physical)      555.637143  \n",
       "SACD                         36.542278  \n",
       "Vinyl Single                 29.872965  "
      ]
     },
     "execution_count": 249,
     "metadata": {},
     "output_type": "execute_result"
    }
   ],
   "source": [
    "df_2003 = adjusted[adjusted['Year'] == 2003]\n",
    "df_2003_index = df_2003.set_index(\"Format\")\n",
    "df_2003_index"
   ]
  },
  {
   "cell_type": "code",
   "execution_count": 250,
   "id": "c40dfeda-f510-40b0-bbd9-2c80490dae22",
   "metadata": {},
   "outputs": [
    {
     "data": {
      "text/plain": [
       "Text(0, 0.5, 'Revenue (in millions)')"
      ]
     },
     "execution_count": 250,
     "metadata": {},
     "output_type": "execute_result"
    },
    {
     "data": {
      "image/png": "[encoded data removed]",
      "text/plain": [
       "<Figure size 1080x432 with 1 Axes>"
      ]
     },
     "metadata": {},
     "output_type": "display_data"
    }
   ],
   "source": [
    "c = df_2003_index.plot(kind='pie', y='Value (Actual)',figsize=(15,6))\n",
    "plt.legend(bbox_to_anchor=(1.0, 1.0))\n",
    "c.set_title('Music Industry Sales in 2003')\n",
    "c.set_ylabel('Revenue (in millions)')"
   ]
  },
  {
   "cell_type": "code",
   "execution_count": 251,
   "id": "f00738f2-51bd-4b1f-b522-aff0cb9e52bc",
   "metadata": {},
   "outputs": [],
   "source": [
    "# looking at most popular format of sales in 2018"
   ]
  },
  {
   "cell_type": "code",
   "execution_count": 252,
   "id": "bed444b2-87ef-4040-9987-72d5098d128b",
   "metadata": {},
   "outputs": [
    {
     "data": {
      "text/html": [
       "<div>\n",
       "<style scoped>\n",
       "    .dataframe tbody tr th:only-of-type {\n",
       "        vertical-align: middle;\n",
       "    }\n",
       "\n",
       "    .dataframe tbody tr th {\n",
       "        vertical-align: top;\n",
       "    }\n",
       "\n",
       "    .dataframe thead th {\n",
       "        text-align: right;\n",
       "    }\n",
       "</style>\n",
       "<table border=\"1\" class=\"dataframe\">\n",
       "  <thead>\n",
       "    <tr style=\"text-align: right;\">\n",
       "      <th></th>\n",
       "      <th>Metric</th>\n",
       "      <th>Year</th>\n",
       "      <th>Number of Records</th>\n",
       "      <th>Value (Actual)</th>\n",
       "    </tr>\n",
       "    <tr>\n",
       "      <th>Format</th>\n",
       "      <th></th>\n",
       "      <th></th>\n",
       "      <th></th>\n",
       "      <th></th>\n",
       "    </tr>\n",
       "  </thead>\n",
       "  <tbody>\n",
       "    <tr>\n",
       "      <th>CD</th>\n",
       "      <td>Value (Adjusted)</td>\n",
       "      <td>2018</td>\n",
       "      <td>1</td>\n",
       "      <td>711.041239</td>\n",
       "    </tr>\n",
       "    <tr>\n",
       "      <th>CD Single</th>\n",
       "      <td>Value (Adjusted)</td>\n",
       "      <td>2018</td>\n",
       "      <td>1</td>\n",
       "      <td>0.157981</td>\n",
       "    </tr>\n",
       "    <tr>\n",
       "      <th>DVD Audio</th>\n",
       "      <td>Value (Adjusted)</td>\n",
       "      <td>2018</td>\n",
       "      <td>1</td>\n",
       "      <td>3.377494</td>\n",
       "    </tr>\n",
       "    <tr>\n",
       "      <th>Download Album</th>\n",
       "      <td>Value (Adjusted)</td>\n",
       "      <td>2018</td>\n",
       "      <td>1</td>\n",
       "      <td>508.704388</td>\n",
       "    </tr>\n",
       "    <tr>\n",
       "      <th>Download Music Video</th>\n",
       "      <td>Value (Adjusted)</td>\n",
       "      <td>2018</td>\n",
       "      <td>1</td>\n",
       "      <td>2.261051</td>\n",
       "    </tr>\n",
       "    <tr>\n",
       "      <th>Download Single</th>\n",
       "      <td>Value (Adjusted)</td>\n",
       "      <td>2018</td>\n",
       "      <td>1</td>\n",
       "      <td>499.316974</td>\n",
       "    </tr>\n",
       "    <tr>\n",
       "      <th>Kiosk</th>\n",
       "      <td>Value (Adjusted)</td>\n",
       "      <td>2018</td>\n",
       "      <td>1</td>\n",
       "      <td>2.000652</td>\n",
       "    </tr>\n",
       "    <tr>\n",
       "      <th>LP/EP</th>\n",
       "      <td>Value (Adjusted)</td>\n",
       "      <td>2018</td>\n",
       "      <td>1</td>\n",
       "      <td>426.820187</td>\n",
       "    </tr>\n",
       "    <tr>\n",
       "      <th>Limited Tier Paid Subscription</th>\n",
       "      <td>Value (Adjusted)</td>\n",
       "      <td>2018</td>\n",
       "      <td>1</td>\n",
       "      <td>760.591366</td>\n",
       "    </tr>\n",
       "    <tr>\n",
       "      <th>Music Video (Physical)</th>\n",
       "      <td>Value (Adjusted)</td>\n",
       "      <td>2018</td>\n",
       "      <td>1</td>\n",
       "      <td>28.060664</td>\n",
       "    </tr>\n",
       "    <tr>\n",
       "      <th>On-Demand Streaming (Ad-Supported)</th>\n",
       "      <td>Value (Adjusted)</td>\n",
       "      <td>2018</td>\n",
       "      <td>1</td>\n",
       "      <td>773.294917</td>\n",
       "    </tr>\n",
       "    <tr>\n",
       "      <th>Other Ad-Supported Streaming</th>\n",
       "      <td>Value (Adjusted)</td>\n",
       "      <td>2018</td>\n",
       "      <td>1</td>\n",
       "      <td>255.967444</td>\n",
       "    </tr>\n",
       "    <tr>\n",
       "      <th>Other Digital</th>\n",
       "      <td>Value (Adjusted)</td>\n",
       "      <td>2018</td>\n",
       "      <td>1</td>\n",
       "      <td>20.199063</td>\n",
       "    </tr>\n",
       "    <tr>\n",
       "      <th>Paid Subscription</th>\n",
       "      <td>Value (Adjusted)</td>\n",
       "      <td>2018</td>\n",
       "      <td>1</td>\n",
       "      <td>4740.333581</td>\n",
       "    </tr>\n",
       "    <tr>\n",
       "      <th>Ringtones &amp; Ringbacks</th>\n",
       "      <td>Value (Adjusted)</td>\n",
       "      <td>2018</td>\n",
       "      <td>1</td>\n",
       "      <td>25.410090</td>\n",
       "    </tr>\n",
       "    <tr>\n",
       "      <th>SACD</th>\n",
       "      <td>Value (Adjusted)</td>\n",
       "      <td>2018</td>\n",
       "      <td>1</td>\n",
       "      <td>0.875277</td>\n",
       "    </tr>\n",
       "    <tr>\n",
       "      <th>SoundExchange Distributions</th>\n",
       "      <td>Value (Adjusted)</td>\n",
       "      <td>2018</td>\n",
       "      <td>1</td>\n",
       "      <td>970.064513</td>\n",
       "    </tr>\n",
       "    <tr>\n",
       "      <th>Synchronization</th>\n",
       "      <td>Value (Adjusted)</td>\n",
       "      <td>2018</td>\n",
       "      <td>1</td>\n",
       "      <td>290.686929</td>\n",
       "    </tr>\n",
       "    <tr>\n",
       "      <th>Vinyl Single</th>\n",
       "      <td>Value (Adjusted)</td>\n",
       "      <td>2018</td>\n",
       "      <td>1</td>\n",
       "      <td>5.386197</td>\n",
       "    </tr>\n",
       "  </tbody>\n",
       "</table>\n",
       "</div>"
      ],
      "text/plain": [
       "                                              Metric  Year  Number of Records  \\\n",
       "Format                                                                          \n",
       "CD                                  Value (Adjusted)  2018                  1   \n",
       "CD Single                           Value (Adjusted)  2018                  1   \n",
       "DVD Audio                           Value (Adjusted)  2018                  1   \n",
       "Download Album                      Value (Adjusted)  2018                  1   \n",
       "Download Music Video                Value (Adjusted)  2018                  1   \n",
       "Download Single                     Value (Adjusted)  2018                  1   \n",
       "Kiosk                               Value (Adjusted)  2018                  1   \n",
       "LP/EP                               Value (Adjusted)  2018                  1   \n",
       "Limited Tier Paid Subscription      Value (Adjusted)  2018                  1   \n",
       "Music Video (Physical)              Value (Adjusted)  2018                  1   \n",
       "On-Demand Streaming (Ad-Supported)  Value (Adjusted)  2018                  1   \n",
       "Other Ad-Supported Streaming        Value (Adjusted)  2018                  1   \n",
       "Other Digital                       Value (Adjusted)  2018                  1   \n",
       "Paid Subscription                   Value (Adjusted)  2018                  1   \n",
       "Ringtones & Ringbacks               Value (Adjusted)  2018                  1   \n",
       "SACD                                Value (Adjusted)  2018                  1   \n",
       "SoundExchange Distributions         Value (Adjusted)  2018                  1   \n",
       "Synchronization                     Value (Adjusted)  2018                  1   \n",
       "Vinyl Single                        Value (Adjusted)  2018                  1   \n",
       "\n",
       "                                    Value (Actual)  \n",
       "Format                                              \n",
       "CD                                      711.041239  \n",
       "CD Single                                 0.157981  \n",
       "DVD Audio                                 3.377494  \n",
       "Download Album                          508.704388  \n",
       "Download Music Video                      2.261051  \n",
       "Download Single                         499.316974  \n",
       "Kiosk                                     2.000652  \n",
       "LP/EP                                   426.820187  \n",
       "Limited Tier Paid Subscription          760.591366  \n",
       "Music Video (Physical)                   28.060664  \n",
       "On-Demand Streaming (Ad-Supported)      773.294917  \n",
       "Other Ad-Supported Streaming            255.967444  \n",
       "Other Digital                            20.199063  \n",
       "Paid Subscription                      4740.333581  \n",
       "Ringtones & Ringbacks                    25.410090  \n",
       "SACD                                      0.875277  \n",
       "SoundExchange Distributions             970.064513  \n",
       "Synchronization                         290.686929  \n",
       "Vinyl Single                              5.386197  "
      ]
     },
     "execution_count": 252,
     "metadata": {},
     "output_type": "execute_result"
    }
   ],
   "source": [
    "df_2018 = adjusted[adjusted['Year'] == 2018]\n",
    "df_2018_index = df_2018.set_index(\"Format\")\n",
    "df_2018_index"
   ]
  },
  {
   "cell_type": "code",
   "execution_count": 253,
   "id": "a3848d73-00d3-4262-bd62-be4d8a17006b",
   "metadata": {},
   "outputs": [
    {
     "data": {
      "text/plain": [
       "Text(0, 0.5, 'Revenue (in millions)')"
      ]
     },
     "execution_count": 253,
     "metadata": {},
     "output_type": "execute_result"
    },
    {
     "data": {
      "image/png": "[encoded data removed]",
      "text/plain": [
       "<Figure size 1080x432 with 1 Axes>"
      ]
     },
     "metadata": {},
     "output_type": "display_data"
    }
   ],
   "source": [
    "d = df_2018_index.plot(kind='pie', y='Value (Actual)',figsize=(15,6))\n",
    "plt.legend(bbox_to_anchor=(1.0, 1.0))\n",
    "d.set_title('Music Industry Sales in 2018')\n",
    "d.set_ylabel('Revenue (in millions)')"
   ]
  },
  {
   "cell_type": "code",
   "execution_count": 254,
   "id": "135cb578-e519-4746-afb3-09568ce02fe4",
   "metadata": {},
   "outputs": [],
   "source": [
    "# need to clean up formatting ^"
   ]
  },
  {
   "cell_type": "markdown",
   "id": "fdf45b5c-3da7-44b2-94ed-d9a8c143c9b5",
   "metadata": {},
   "source": [
    "### Looking at Correlation"
   ]
  },
  {
   "cell_type": "code",
   "execution_count": 315,
   "id": "13678d0b-7ea6-402c-ad1c-7e9798c93ef5",
   "metadata": {
    "tags": []
   },
   "outputs": [
    {
     "name": "stdout",
     "output_type": "stream",
     "text": [
      "nan\n"
     ]
    }
   ],
   "source": [
    "print(format_dfs[0]['Value (Actual)'].corr(format_dfs[5]['Value (Actual)']))"
   ]
  },
  {
   "cell_type": "markdown",
   "id": "c7d4db66-9105-496a-9ae4-38052039284b",
   "metadata": {},
   "source": [
    "## Analysis"
   ]
  },
  {
   "cell_type": "code",
   "execution_count": null,
   "id": "071403cf-81cd-4aa0-904d-b54b715f5143",
   "metadata": {},
   "outputs": [],
   "source": []
  },
  {
   "cell_type": "markdown",
   "id": "07c155ce-a861-406a-89e2-f1685c1c726d",
   "metadata": {},
   "source": [
    "## Discussion "
   ]
  },
  {
   "cell_type": "code",
   "execution_count": null,
   "id": "4de6dc20-0fa7-43d5-897b-087cf53f7d46",
   "metadata": {},
   "outputs": [],
   "source": []
  }
 ],
 "metadata": {
  "kernelspec": {
   "display_name": "Python 3 (ipykernel)",
   "language": "python",
   "name": "python3"
  },
  "language_info": {
   "codemirror_mode": {
    "name": "ipython",
    "version": 3
   },
   "file_extension": ".py",
   "mimetype": "text/x-python",
   "name": "python",
   "nbconvert_exporter": "python",
   "pygments_lexer": "ipython3",
   "version": "3.9.6"
  }
 },
 "nbformat": 4,
 "nbformat_minor": 5
}
