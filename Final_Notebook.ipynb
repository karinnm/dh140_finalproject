{
 "cells": [
  {
   "cell_type": "markdown",
   "id": "0ccb2884-91a8-4efb-96f9-aeac98c01967",
   "metadata": {},
   "source": [
    "Karinn Murdock"
   ]
  },
  {
   "cell_type": "markdown",
   "id": "752877cc-8571-4abf-ba85-81a02fbbf8ec",
   "metadata": {},
   "source": [
    "03/14/2022"
   ]
  },
  {
   "cell_type": "markdown",
   "id": "77fa2097-696f-42d1-ba02-7620bdbc312c",
   "metadata": {},
   "source": [
    "# The Evolution of Music Industry Sales"
   ]
  },
  {
   "cell_type": "markdown",
   "id": "e78e9be1-3c8b-48a0-82f1-29a6164fc1e2",
   "metadata": {},
   "source": [
    "## Introduction"
   ]
  },
  {
   "cell_type": "markdown",
   "id": "ac08635c-388f-4476-a01b-6b87f149009c",
   "metadata": {},
   "source": [
    "For my final project, I am exploring the music industry and how it has changed over the years. More specifically, I want to look at how music industry sales have changed in the past 40 years in terms of types of sales (CDs, streaming, etc). In answering this overarching research question, I also want to explore (1) how the rise of new sale formats has led to the demise of others, and (2) which sales formats will be most popular moving forward."
   ]
  },
  {
   "cell_type": "markdown",
   "id": "62119aaa-416d-4eee-857d-eccfef612e61",
   "metadata": {},
   "source": [
    "The music industry has seen drastic change in recent years as a result of the Internet and music streaming platforms such as Spotify and Apple Music. Since the industry is changing so quickly, it is difficult for artists, record labels, and other companies to keep up. The topic I am researching is important to both artists and business executives in the music industry as they must understand the current sales landscape in order to maximize sales and cater to customer's preferences. By understanding which sale formats are most popular now, which ones are on the decline, and which ones will be popular in the future, artists and companies can know where to focus their marketing and distribution resources going forward. "
   ]
  },
  {
   "cell_type": "markdown",
   "id": "7c569bb4-5f91-447e-952f-446a9a892d04",
   "metadata": {},
   "source": [
    "This topic is of interest to me as I'm very passionate about music. Throughout my life, I have witnessed how drastically the way I consume music has changed. Additionally, I am extremely interested in the music industry and would love to work on the business side of the music industry after graduation. By understanding how music industry sales and consumer preferences have changed, I hope I will be able to have a better understanding of where the industry is going. "
   ]
  },
  {
   "cell_type": "markdown",
   "id": "7088bc65-5400-431f-b3ef-758bee12d54d",
   "metadata": {},
   "source": [
    "## Methods"
   ]
  },
  {
   "cell_type": "markdown",
   "id": "939c0076-9b0d-4aec-946b-f45e587fa624",
   "metadata": {},
   "source": [
    "The data source I will use to explore my research question is a dataset I found on data.world. This dataset is on music industry sales over the past 40 years and was created by the Recording Industry Association of America (RIAA). According to RIAA, this is the most comprehensive data on U.S. recorded music revenues. This dataset goes all the way back to 1973 and lists format of sale, metric of sale, year of sale, and value of sale. A link to the dataset can be found here: https://data.world/makeovermonday/2020w21-visualizing-40-years-of-music-industry-sales"
   ]
  },
  {
   "cell_type": "markdown",
   "id": "74b831ea-36c3-445f-9da5-86b77bc1a20f",
   "metadata": {},
   "source": [
    "This dataset contains data on 23 different sales formats, from cassette sales to album sales to on-demand streaming sales. For each format (except a few), the sales value is listed for each year in three different metrics: units sold, revenue at time of sale, and revenue adjusted to present value. The \"Value (Actual)\" column is displayed in millions for both unit values and revenue values. "
   ]
  },
  {
   "cell_type": "markdown",
   "id": "ef1b4085-51cf-4ab7-b98f-8635871a1498",
   "metadata": {},
   "source": [
    "As stated in my introduction, I intend to analyze how music industry sales have changed since 1973 in terms of type of sales, as well as and how new sales formats have affected older sales formats. For my analysis, I decided to only work with the revenue adjusted to present value data, as I found it to be the most insightful. I split my analysis roughly into 5 main steps. First, I am creating bar charts of every sales formats in order to understand how sales of each format have changed since 1973. Second, I am going to create pie charts at different points in time to see how the composition of music sales has changed. Third, I am going to look at the correlation of different sales formats in the 2000's to understand which formats are correlated and which are anti-correlated. To take this analysis one step further, I am going to conduct linear regression analysis. Lastly, I am going to look at the growth rates of particular sales formats in 2019 to reveal which formats are increasing in popularity. "
   ]
  },
  {
   "cell_type": "markdown",
   "id": "7df8f980-eaf2-43d4-a21c-85a2f23652bc",
   "metadata": {},
   "source": [
    "## Results"
   ]
  },
  {
   "cell_type": "code",
   "execution_count": 228,
   "id": "b97d3715-c5dc-40ab-9b75-ed6c879b4b18",
   "metadata": {},
   "outputs": [],
   "source": [
    "import pandas as pd \n",
    "import matplotlib.pyplot as plt\n",
    "from matplotlib.pyplot import figure\n",
    "import ipywidgets\n",
    "import numpy as np\n",
    "from sklearn.linear_model import LinearRegression\n",
    "from sklearn.metrics import mean_squared_error, r2_score"
   ]
  },
  {
   "cell_type": "markdown",
   "id": "67d45d95-2250-45b4-9fa9-5c114431e148",
   "metadata": {},
   "source": [
    "### Data Exploration"
   ]
  },
  {
   "cell_type": "code",
   "execution_count": 229,
   "id": "0753d9cf-8245-4189-b212-ddd609062d6d",
   "metadata": {},
   "outputs": [],
   "source": [
    "df = pd.read_csv('MusicData2.csv')"
   ]
  },
  {
   "cell_type": "code",
   "execution_count": 230,
   "id": "b1eec930-fa65-41ac-910b-f4f184497d74",
   "metadata": {},
   "outputs": [
    {
     "data": {
      "text/plain": [
       "(3008, 5)"
      ]
     },
     "execution_count": 230,
     "metadata": {},
     "output_type": "execute_result"
    }
   ],
   "source": [
    "df.shape"
   ]
  },
  {
   "cell_type": "markdown",
   "id": "5aa67364-3c71-4672-a04b-0bed20c6bcd3",
   "metadata": {},
   "source": [
    "The dataset has 5 columns and 3008 rows of data."
   ]
  },
  {
   "cell_type": "code",
   "execution_count": 231,
   "id": "231b195c-3d70-4fd4-83fd-84b09a0be505",
   "metadata": {},
   "outputs": [
    {
     "data": {
      "text/plain": [
       "Index(['Format', 'Metric', 'Year', 'Number of Records', 'Value (Actual)'], dtype='object')"
      ]
     },
     "execution_count": 231,
     "metadata": {},
     "output_type": "execute_result"
    }
   ],
   "source": [
    "df.columns"
   ]
  },
  {
   "cell_type": "markdown",
   "id": "c2065bbf-de23-4ec5-872c-63cf3948799c",
   "metadata": {},
   "source": [
    "Looking at the first 5 entries:"
   ]
  },
  {
   "cell_type": "code",
   "execution_count": 232,
   "id": "202f4a38-da7a-4698-8c0d-c8ff168d2387",
   "metadata": {},
   "outputs": [
    {
     "data": {
      "text/html": [
       "<div>\n",
       "<style scoped>\n",
       "    .dataframe tbody tr th:only-of-type {\n",
       "        vertical-align: middle;\n",
       "    }\n",
       "\n",
       "    .dataframe tbody tr th {\n",
       "        vertical-align: top;\n",
       "    }\n",
       "\n",
       "    .dataframe thead th {\n",
       "        text-align: right;\n",
       "    }\n",
       "</style>\n",
       "<table border=\"1\" class=\"dataframe\">\n",
       "  <thead>\n",
       "    <tr style=\"text-align: right;\">\n",
       "      <th></th>\n",
       "      <th>Format</th>\n",
       "      <th>Metric</th>\n",
       "      <th>Year</th>\n",
       "      <th>Number of Records</th>\n",
       "      <th>Value (Actual)</th>\n",
       "    </tr>\n",
       "  </thead>\n",
       "  <tbody>\n",
       "    <tr>\n",
       "      <th>0</th>\n",
       "      <td>CD</td>\n",
       "      <td>Units</td>\n",
       "      <td>1973</td>\n",
       "      <td>1</td>\n",
       "      <td>NaN</td>\n",
       "    </tr>\n",
       "    <tr>\n",
       "      <th>1</th>\n",
       "      <td>CD</td>\n",
       "      <td>Units</td>\n",
       "      <td>1974</td>\n",
       "      <td>1</td>\n",
       "      <td>NaN</td>\n",
       "    </tr>\n",
       "    <tr>\n",
       "      <th>2</th>\n",
       "      <td>CD</td>\n",
       "      <td>Units</td>\n",
       "      <td>1975</td>\n",
       "      <td>1</td>\n",
       "      <td>NaN</td>\n",
       "    </tr>\n",
       "    <tr>\n",
       "      <th>3</th>\n",
       "      <td>CD</td>\n",
       "      <td>Units</td>\n",
       "      <td>1976</td>\n",
       "      <td>1</td>\n",
       "      <td>NaN</td>\n",
       "    </tr>\n",
       "    <tr>\n",
       "      <th>4</th>\n",
       "      <td>CD</td>\n",
       "      <td>Units</td>\n",
       "      <td>1977</td>\n",
       "      <td>1</td>\n",
       "      <td>NaN</td>\n",
       "    </tr>\n",
       "  </tbody>\n",
       "</table>\n",
       "</div>"
      ],
      "text/plain": [
       "  Format Metric  Year  Number of Records  Value (Actual)\n",
       "0     CD  Units  1973                  1             NaN\n",
       "1     CD  Units  1974                  1             NaN\n",
       "2     CD  Units  1975                  1             NaN\n",
       "3     CD  Units  1976                  1             NaN\n",
       "4     CD  Units  1977                  1             NaN"
      ]
     },
     "execution_count": 232,
     "metadata": {},
     "output_type": "execute_result"
    }
   ],
   "source": [
    "df.head()"
   ]
  },
  {
   "cell_type": "markdown",
   "id": "0e507483-d499-47a8-b93e-f4faeb2c13fa",
   "metadata": {},
   "source": [
    "Looking at the last 5 entries:"
   ]
  },
  {
   "cell_type": "code",
   "execution_count": 233,
   "id": "3cd2c8a9-bf61-43ee-8a16-139bcada377f",
   "metadata": {
    "tags": []
   },
   "outputs": [
    {
     "data": {
      "text/html": [
       "<div>\n",
       "<style scoped>\n",
       "    .dataframe tbody tr th:only-of-type {\n",
       "        vertical-align: middle;\n",
       "    }\n",
       "\n",
       "    .dataframe tbody tr th {\n",
       "        vertical-align: top;\n",
       "    }\n",
       "\n",
       "    .dataframe thead th {\n",
       "        text-align: right;\n",
       "    }\n",
       "</style>\n",
       "<table border=\"1\" class=\"dataframe\">\n",
       "  <thead>\n",
       "    <tr style=\"text-align: right;\">\n",
       "      <th></th>\n",
       "      <th>Format</th>\n",
       "      <th>Metric</th>\n",
       "      <th>Year</th>\n",
       "      <th>Number of Records</th>\n",
       "      <th>Value (Actual)</th>\n",
       "    </tr>\n",
       "  </thead>\n",
       "  <tbody>\n",
       "    <tr>\n",
       "      <th>3003</th>\n",
       "      <td>Vinyl Single</td>\n",
       "      <td>Value (Adjusted)</td>\n",
       "      <td>2015</td>\n",
       "      <td>1</td>\n",
       "      <td>6.205390</td>\n",
       "    </tr>\n",
       "    <tr>\n",
       "      <th>3004</th>\n",
       "      <td>Vinyl Single</td>\n",
       "      <td>Value (Adjusted)</td>\n",
       "      <td>2016</td>\n",
       "      <td>1</td>\n",
       "      <td>5.198931</td>\n",
       "    </tr>\n",
       "    <tr>\n",
       "      <th>3005</th>\n",
       "      <td>Vinyl Single</td>\n",
       "      <td>Value (Adjusted)</td>\n",
       "      <td>2017</td>\n",
       "      <td>1</td>\n",
       "      <td>6.339678</td>\n",
       "    </tr>\n",
       "    <tr>\n",
       "      <th>3006</th>\n",
       "      <td>Vinyl Single</td>\n",
       "      <td>Value (Adjusted)</td>\n",
       "      <td>2018</td>\n",
       "      <td>1</td>\n",
       "      <td>5.386197</td>\n",
       "    </tr>\n",
       "    <tr>\n",
       "      <th>3007</th>\n",
       "      <td>Vinyl Single</td>\n",
       "      <td>Value (Adjusted)</td>\n",
       "      <td>2019</td>\n",
       "      <td>1</td>\n",
       "      <td>6.795946</td>\n",
       "    </tr>\n",
       "  </tbody>\n",
       "</table>\n",
       "</div>"
      ],
      "text/plain": [
       "            Format            Metric  Year  Number of Records  Value (Actual)\n",
       "3003  Vinyl Single  Value (Adjusted)  2015                  1        6.205390\n",
       "3004  Vinyl Single  Value (Adjusted)  2016                  1        5.198931\n",
       "3005  Vinyl Single  Value (Adjusted)  2017                  1        6.339678\n",
       "3006  Vinyl Single  Value (Adjusted)  2018                  1        5.386197\n",
       "3007  Vinyl Single  Value (Adjusted)  2019                  1        6.795946"
      ]
     },
     "execution_count": 233,
     "metadata": {},
     "output_type": "execute_result"
    }
   ],
   "source": [
    "df.tail()"
   ]
  },
  {
   "cell_type": "code",
   "execution_count": 234,
   "id": "d2e8e309-c9eb-43a6-ba64-609e2f76856a",
   "metadata": {},
   "outputs": [
    {
     "data": {
      "text/plain": [
       "Format                object\n",
       "Metric                object\n",
       "Year                   int64\n",
       "Number of Records      int64\n",
       "Value (Actual)       float64\n",
       "dtype: object"
      ]
     },
     "execution_count": 234,
     "metadata": {},
     "output_type": "execute_result"
    }
   ],
   "source": [
    "df.dtypes"
   ]
  },
  {
   "cell_type": "markdown",
   "id": "69cdf499-6791-42ed-a70e-1fa1120ceb09",
   "metadata": {
    "tags": []
   },
   "source": [
    "Finding summary statistics:"
   ]
  },
  {
   "cell_type": "code",
   "execution_count": 235,
   "id": "044efc7b-eb68-4fb7-b1f9-516d3e21a66e",
   "metadata": {},
   "outputs": [
    {
     "data": {
      "text/html": [
       "<div>\n",
       "<style scoped>\n",
       "    .dataframe tbody tr th:only-of-type {\n",
       "        vertical-align: middle;\n",
       "    }\n",
       "\n",
       "    .dataframe tbody tr th {\n",
       "        vertical-align: top;\n",
       "    }\n",
       "\n",
       "    .dataframe thead th {\n",
       "        text-align: right;\n",
       "    }\n",
       "</style>\n",
       "<table border=\"1\" class=\"dataframe\">\n",
       "  <thead>\n",
       "    <tr style=\"text-align: right;\">\n",
       "      <th></th>\n",
       "      <th>Year</th>\n",
       "      <th>Number of Records</th>\n",
       "      <th>Value (Actual)</th>\n",
       "    </tr>\n",
       "  </thead>\n",
       "  <tbody>\n",
       "    <tr>\n",
       "      <th>count</th>\n",
       "      <td>3008.000000</td>\n",
       "      <td>3008.0</td>\n",
       "      <td>1351.000000</td>\n",
       "    </tr>\n",
       "    <tr>\n",
       "      <th>mean</th>\n",
       "      <td>1996.000000</td>\n",
       "      <td>1.0</td>\n",
       "      <td>781.291237</td>\n",
       "    </tr>\n",
       "    <tr>\n",
       "      <th>std</th>\n",
       "      <td>13.566915</td>\n",
       "      <td>0.0</td>\n",
       "      <td>2246.837672</td>\n",
       "    </tr>\n",
       "    <tr>\n",
       "      <th>min</th>\n",
       "      <td>1973.000000</td>\n",
       "      <td>1.0</td>\n",
       "      <td>-7.650944</td>\n",
       "    </tr>\n",
       "    <tr>\n",
       "      <th>25%</th>\n",
       "      <td>1984.000000</td>\n",
       "      <td>1.0</td>\n",
       "      <td>3.700228</td>\n",
       "    </tr>\n",
       "    <tr>\n",
       "      <th>50%</th>\n",
       "      <td>1996.000000</td>\n",
       "      <td>1.0</td>\n",
       "      <td>63.900000</td>\n",
       "    </tr>\n",
       "    <tr>\n",
       "      <th>75%</th>\n",
       "      <td>2008.000000</td>\n",
       "      <td>1.0</td>\n",
       "      <td>448.900000</td>\n",
       "    </tr>\n",
       "    <tr>\n",
       "      <th>max</th>\n",
       "      <td>2019.000000</td>\n",
       "      <td>1.0</td>\n",
       "      <td>19667.327790</td>\n",
       "    </tr>\n",
       "  </tbody>\n",
       "</table>\n",
       "</div>"
      ],
      "text/plain": [
       "              Year  Number of Records  Value (Actual)\n",
       "count  3008.000000             3008.0     1351.000000\n",
       "mean   1996.000000                1.0      781.291237\n",
       "std      13.566915                0.0     2246.837672\n",
       "min    1973.000000                1.0       -7.650944\n",
       "25%    1984.000000                1.0        3.700228\n",
       "50%    1996.000000                1.0       63.900000\n",
       "75%    2008.000000                1.0      448.900000\n",
       "max    2019.000000                1.0    19667.327790"
      ]
     },
     "execution_count": 235,
     "metadata": {},
     "output_type": "execute_result"
    }
   ],
   "source": [
    "df.describe()"
   ]
  },
  {
   "cell_type": "code",
   "execution_count": 236,
   "id": "c990a44a-08d5-44b8-9842-1947c8436ab5",
   "metadata": {},
   "outputs": [
    {
     "name": "stdout",
     "output_type": "stream",
     "text": [
      "<class 'pandas.core.frame.DataFrame'>\n",
      "RangeIndex: 3008 entries, 0 to 3007\n",
      "Data columns (total 5 columns):\n",
      " #   Column             Non-Null Count  Dtype  \n",
      "---  ------             --------------  -----  \n",
      " 0   Format             3008 non-null   object \n",
      " 1   Metric             3008 non-null   object \n",
      " 2   Year               3008 non-null   int64  \n",
      " 3   Number of Records  3008 non-null   int64  \n",
      " 4   Value (Actual)     1351 non-null   float64\n",
      "dtypes: float64(1), int64(2), object(2)\n",
      "memory usage: 117.6+ KB\n"
     ]
    }
   ],
   "source": [
    "df.info()"
   ]
  },
  {
   "cell_type": "code",
   "execution_count": 237,
   "id": "4c4b22f1-6a0c-4bb1-9519-609c7b3dcc83",
   "metadata": {},
   "outputs": [
    {
     "data": {
      "text/html": [
       "<div>\n",
       "<style scoped>\n",
       "    .dataframe tbody tr th:only-of-type {\n",
       "        vertical-align: middle;\n",
       "    }\n",
       "\n",
       "    .dataframe tbody tr th {\n",
       "        vertical-align: top;\n",
       "    }\n",
       "\n",
       "    .dataframe thead th {\n",
       "        text-align: right;\n",
       "    }\n",
       "</style>\n",
       "<table border=\"1\" class=\"dataframe\">\n",
       "  <thead>\n",
       "    <tr style=\"text-align: right;\">\n",
       "      <th></th>\n",
       "      <th>Format</th>\n",
       "      <th>Metric</th>\n",
       "      <th>Year</th>\n",
       "      <th>Number of Records</th>\n",
       "      <th>Value (Actual)</th>\n",
       "    </tr>\n",
       "  </thead>\n",
       "  <tbody>\n",
       "    <tr>\n",
       "      <th>0</th>\n",
       "      <td>CD</td>\n",
       "      <td>Units</td>\n",
       "      <td>1973</td>\n",
       "      <td>1</td>\n",
       "      <td>NaN</td>\n",
       "    </tr>\n",
       "    <tr>\n",
       "      <th>1</th>\n",
       "      <td>CD</td>\n",
       "      <td>Units</td>\n",
       "      <td>1974</td>\n",
       "      <td>1</td>\n",
       "      <td>NaN</td>\n",
       "    </tr>\n",
       "    <tr>\n",
       "      <th>2</th>\n",
       "      <td>CD</td>\n",
       "      <td>Units</td>\n",
       "      <td>1975</td>\n",
       "      <td>1</td>\n",
       "      <td>NaN</td>\n",
       "    </tr>\n",
       "    <tr>\n",
       "      <th>3</th>\n",
       "      <td>CD</td>\n",
       "      <td>Units</td>\n",
       "      <td>1976</td>\n",
       "      <td>1</td>\n",
       "      <td>NaN</td>\n",
       "    </tr>\n",
       "    <tr>\n",
       "      <th>4</th>\n",
       "      <td>CD</td>\n",
       "      <td>Units</td>\n",
       "      <td>1977</td>\n",
       "      <td>1</td>\n",
       "      <td>NaN</td>\n",
       "    </tr>\n",
       "    <tr>\n",
       "      <th>...</th>\n",
       "      <td>...</td>\n",
       "      <td>...</td>\n",
       "      <td>...</td>\n",
       "      <td>...</td>\n",
       "      <td>...</td>\n",
       "    </tr>\n",
       "    <tr>\n",
       "      <th>3003</th>\n",
       "      <td>Vinyl Single</td>\n",
       "      <td>Value (Adjusted)</td>\n",
       "      <td>2015</td>\n",
       "      <td>1</td>\n",
       "      <td>6.205390</td>\n",
       "    </tr>\n",
       "    <tr>\n",
       "      <th>3004</th>\n",
       "      <td>Vinyl Single</td>\n",
       "      <td>Value (Adjusted)</td>\n",
       "      <td>2016</td>\n",
       "      <td>1</td>\n",
       "      <td>5.198931</td>\n",
       "    </tr>\n",
       "    <tr>\n",
       "      <th>3005</th>\n",
       "      <td>Vinyl Single</td>\n",
       "      <td>Value (Adjusted)</td>\n",
       "      <td>2017</td>\n",
       "      <td>1</td>\n",
       "      <td>6.339678</td>\n",
       "    </tr>\n",
       "    <tr>\n",
       "      <th>3006</th>\n",
       "      <td>Vinyl Single</td>\n",
       "      <td>Value (Adjusted)</td>\n",
       "      <td>2018</td>\n",
       "      <td>1</td>\n",
       "      <td>5.386197</td>\n",
       "    </tr>\n",
       "    <tr>\n",
       "      <th>3007</th>\n",
       "      <td>Vinyl Single</td>\n",
       "      <td>Value (Adjusted)</td>\n",
       "      <td>2019</td>\n",
       "      <td>1</td>\n",
       "      <td>6.795946</td>\n",
       "    </tr>\n",
       "  </tbody>\n",
       "</table>\n",
       "<p>3008 rows × 5 columns</p>\n",
       "</div>"
      ],
      "text/plain": [
       "            Format            Metric  Year  Number of Records  Value (Actual)\n",
       "0               CD             Units  1973                  1             NaN\n",
       "1               CD             Units  1974                  1             NaN\n",
       "2               CD             Units  1975                  1             NaN\n",
       "3               CD             Units  1976                  1             NaN\n",
       "4               CD             Units  1977                  1             NaN\n",
       "...            ...               ...   ...                ...             ...\n",
       "3003  Vinyl Single  Value (Adjusted)  2015                  1        6.205390\n",
       "3004  Vinyl Single  Value (Adjusted)  2016                  1        5.198931\n",
       "3005  Vinyl Single  Value (Adjusted)  2017                  1        6.339678\n",
       "3006  Vinyl Single  Value (Adjusted)  2018                  1        5.386197\n",
       "3007  Vinyl Single  Value (Adjusted)  2019                  1        6.795946\n",
       "\n",
       "[3008 rows x 5 columns]"
      ]
     },
     "execution_count": 237,
     "metadata": {},
     "output_type": "execute_result"
    }
   ],
   "source": [
    "df"
   ]
  },
  {
   "cell_type": "markdown",
   "id": "e314194f-0002-47c0-970c-168dbae269fa",
   "metadata": {},
   "source": [
    "Looking at the data, the column \"Value (Actual)\" has missing information for many of the data entries. Additionally, it seems some of the data in the \"Value (Actual)\" column is measuring sales based on units sold while other entries are measuring sales by revenue."
   ]
  },
  {
   "cell_type": "markdown",
   "id": "1a989af2-2b9f-4d0d-a4e6-8186fe531c73",
   "metadata": {},
   "source": [
    "### Cleaning the Data"
   ]
  },
  {
   "cell_type": "markdown",
   "id": "ce8dc880-12ce-4bcc-b2ac-743b17b50181",
   "metadata": {},
   "source": [
    "First, I am replacing all NaN values with a zero."
   ]
  },
  {
   "cell_type": "code",
   "execution_count": 238,
   "id": "4a0565e6-149c-40de-b862-20c3c4448a69",
   "metadata": {
    "tags": []
   },
   "outputs": [
    {
     "data": {
      "text/html": [
       "<div>\n",
       "<style scoped>\n",
       "    .dataframe tbody tr th:only-of-type {\n",
       "        vertical-align: middle;\n",
       "    }\n",
       "\n",
       "    .dataframe tbody tr th {\n",
       "        vertical-align: top;\n",
       "    }\n",
       "\n",
       "    .dataframe thead th {\n",
       "        text-align: right;\n",
       "    }\n",
       "</style>\n",
       "<table border=\"1\" class=\"dataframe\">\n",
       "  <thead>\n",
       "    <tr style=\"text-align: right;\">\n",
       "      <th></th>\n",
       "      <th>Format</th>\n",
       "      <th>Metric</th>\n",
       "      <th>Year</th>\n",
       "      <th>Number of Records</th>\n",
       "      <th>Value (Actual)</th>\n",
       "    </tr>\n",
       "  </thead>\n",
       "  <tbody>\n",
       "    <tr>\n",
       "      <th>0</th>\n",
       "      <td>CD</td>\n",
       "      <td>Units</td>\n",
       "      <td>1973</td>\n",
       "      <td>1</td>\n",
       "      <td>0.000000</td>\n",
       "    </tr>\n",
       "    <tr>\n",
       "      <th>1</th>\n",
       "      <td>CD</td>\n",
       "      <td>Units</td>\n",
       "      <td>1974</td>\n",
       "      <td>1</td>\n",
       "      <td>0.000000</td>\n",
       "    </tr>\n",
       "    <tr>\n",
       "      <th>2</th>\n",
       "      <td>CD</td>\n",
       "      <td>Units</td>\n",
       "      <td>1975</td>\n",
       "      <td>1</td>\n",
       "      <td>0.000000</td>\n",
       "    </tr>\n",
       "    <tr>\n",
       "      <th>3</th>\n",
       "      <td>CD</td>\n",
       "      <td>Units</td>\n",
       "      <td>1976</td>\n",
       "      <td>1</td>\n",
       "      <td>0.000000</td>\n",
       "    </tr>\n",
       "    <tr>\n",
       "      <th>4</th>\n",
       "      <td>CD</td>\n",
       "      <td>Units</td>\n",
       "      <td>1977</td>\n",
       "      <td>1</td>\n",
       "      <td>0.000000</td>\n",
       "    </tr>\n",
       "    <tr>\n",
       "      <th>...</th>\n",
       "      <td>...</td>\n",
       "      <td>...</td>\n",
       "      <td>...</td>\n",
       "      <td>...</td>\n",
       "      <td>...</td>\n",
       "    </tr>\n",
       "    <tr>\n",
       "      <th>3003</th>\n",
       "      <td>Vinyl Single</td>\n",
       "      <td>Value (Adjusted)</td>\n",
       "      <td>2015</td>\n",
       "      <td>1</td>\n",
       "      <td>6.205390</td>\n",
       "    </tr>\n",
       "    <tr>\n",
       "      <th>3004</th>\n",
       "      <td>Vinyl Single</td>\n",
       "      <td>Value (Adjusted)</td>\n",
       "      <td>2016</td>\n",
       "      <td>1</td>\n",
       "      <td>5.198931</td>\n",
       "    </tr>\n",
       "    <tr>\n",
       "      <th>3005</th>\n",
       "      <td>Vinyl Single</td>\n",
       "      <td>Value (Adjusted)</td>\n",
       "      <td>2017</td>\n",
       "      <td>1</td>\n",
       "      <td>6.339678</td>\n",
       "    </tr>\n",
       "    <tr>\n",
       "      <th>3006</th>\n",
       "      <td>Vinyl Single</td>\n",
       "      <td>Value (Adjusted)</td>\n",
       "      <td>2018</td>\n",
       "      <td>1</td>\n",
       "      <td>5.386197</td>\n",
       "    </tr>\n",
       "    <tr>\n",
       "      <th>3007</th>\n",
       "      <td>Vinyl Single</td>\n",
       "      <td>Value (Adjusted)</td>\n",
       "      <td>2019</td>\n",
       "      <td>1</td>\n",
       "      <td>6.795946</td>\n",
       "    </tr>\n",
       "  </tbody>\n",
       "</table>\n",
       "<p>3008 rows × 5 columns</p>\n",
       "</div>"
      ],
      "text/plain": [
       "            Format            Metric  Year  Number of Records  Value (Actual)\n",
       "0               CD             Units  1973                  1        0.000000\n",
       "1               CD             Units  1974                  1        0.000000\n",
       "2               CD             Units  1975                  1        0.000000\n",
       "3               CD             Units  1976                  1        0.000000\n",
       "4               CD             Units  1977                  1        0.000000\n",
       "...            ...               ...   ...                ...             ...\n",
       "3003  Vinyl Single  Value (Adjusted)  2015                  1        6.205390\n",
       "3004  Vinyl Single  Value (Adjusted)  2016                  1        5.198931\n",
       "3005  Vinyl Single  Value (Adjusted)  2017                  1        6.339678\n",
       "3006  Vinyl Single  Value (Adjusted)  2018                  1        5.386197\n",
       "3007  Vinyl Single  Value (Adjusted)  2019                  1        6.795946\n",
       "\n",
       "[3008 rows x 5 columns]"
      ]
     },
     "execution_count": 238,
     "metadata": {},
     "output_type": "execute_result"
    }
   ],
   "source": [
    "new_df = df.fillna(0)\n",
    "new_df"
   ]
  },
  {
   "cell_type": "markdown",
   "id": "1aff327f-d205-4aa7-921b-7abffcae4266",
   "metadata": {
    "tags": []
   },
   "source": [
    "In some of the earlier years, certain formats such as Ringtones hadn't been created yet. I don't want to include these sales formats in my dataset for the years when the value is 0.0, so I am creating a new dataframe with these values removed."
   ]
  },
  {
   "cell_type": "code",
   "execution_count": 239,
   "id": "5b84f07d-150e-49ac-afb0-7c603df3c1c4",
   "metadata": {},
   "outputs": [
    {
     "data": {
      "text/html": [
       "<div>\n",
       "<style scoped>\n",
       "    .dataframe tbody tr th:only-of-type {\n",
       "        vertical-align: middle;\n",
       "    }\n",
       "\n",
       "    .dataframe tbody tr th {\n",
       "        vertical-align: top;\n",
       "    }\n",
       "\n",
       "    .dataframe thead th {\n",
       "        text-align: right;\n",
       "    }\n",
       "</style>\n",
       "<table border=\"1\" class=\"dataframe\">\n",
       "  <thead>\n",
       "    <tr style=\"text-align: right;\">\n",
       "      <th></th>\n",
       "      <th>Format</th>\n",
       "      <th>Metric</th>\n",
       "      <th>Year</th>\n",
       "      <th>Number of Records</th>\n",
       "      <th>Value (Actual)</th>\n",
       "    </tr>\n",
       "  </thead>\n",
       "  <tbody>\n",
       "    <tr>\n",
       "      <th>0</th>\n",
       "      <td>CD</td>\n",
       "      <td>Units</td>\n",
       "      <td>1983</td>\n",
       "      <td>1</td>\n",
       "      <td>0.800000</td>\n",
       "    </tr>\n",
       "    <tr>\n",
       "      <th>1</th>\n",
       "      <td>CD</td>\n",
       "      <td>Units</td>\n",
       "      <td>1984</td>\n",
       "      <td>1</td>\n",
       "      <td>5.800000</td>\n",
       "    </tr>\n",
       "    <tr>\n",
       "      <th>2</th>\n",
       "      <td>CD</td>\n",
       "      <td>Units</td>\n",
       "      <td>1985</td>\n",
       "      <td>1</td>\n",
       "      <td>22.600000</td>\n",
       "    </tr>\n",
       "    <tr>\n",
       "      <th>3</th>\n",
       "      <td>CD</td>\n",
       "      <td>Units</td>\n",
       "      <td>1986</td>\n",
       "      <td>1</td>\n",
       "      <td>53.000000</td>\n",
       "    </tr>\n",
       "    <tr>\n",
       "      <th>4</th>\n",
       "      <td>CD</td>\n",
       "      <td>Units</td>\n",
       "      <td>1987</td>\n",
       "      <td>1</td>\n",
       "      <td>102.100000</td>\n",
       "    </tr>\n",
       "    <tr>\n",
       "      <th>...</th>\n",
       "      <td>...</td>\n",
       "      <td>...</td>\n",
       "      <td>...</td>\n",
       "      <td>...</td>\n",
       "      <td>...</td>\n",
       "    </tr>\n",
       "    <tr>\n",
       "      <th>1269</th>\n",
       "      <td>Vinyl Single</td>\n",
       "      <td>Value (Adjusted)</td>\n",
       "      <td>2015</td>\n",
       "      <td>1</td>\n",
       "      <td>6.205390</td>\n",
       "    </tr>\n",
       "    <tr>\n",
       "      <th>1270</th>\n",
       "      <td>Vinyl Single</td>\n",
       "      <td>Value (Adjusted)</td>\n",
       "      <td>2016</td>\n",
       "      <td>1</td>\n",
       "      <td>5.198931</td>\n",
       "    </tr>\n",
       "    <tr>\n",
       "      <th>1271</th>\n",
       "      <td>Vinyl Single</td>\n",
       "      <td>Value (Adjusted)</td>\n",
       "      <td>2017</td>\n",
       "      <td>1</td>\n",
       "      <td>6.339678</td>\n",
       "    </tr>\n",
       "    <tr>\n",
       "      <th>1272</th>\n",
       "      <td>Vinyl Single</td>\n",
       "      <td>Value (Adjusted)</td>\n",
       "      <td>2018</td>\n",
       "      <td>1</td>\n",
       "      <td>5.386197</td>\n",
       "    </tr>\n",
       "    <tr>\n",
       "      <th>1273</th>\n",
       "      <td>Vinyl Single</td>\n",
       "      <td>Value (Adjusted)</td>\n",
       "      <td>2019</td>\n",
       "      <td>1</td>\n",
       "      <td>6.795946</td>\n",
       "    </tr>\n",
       "  </tbody>\n",
       "</table>\n",
       "<p>1274 rows × 5 columns</p>\n",
       "</div>"
      ],
      "text/plain": [
       "            Format            Metric  Year  Number of Records  Value (Actual)\n",
       "0               CD             Units  1983                  1        0.800000\n",
       "1               CD             Units  1984                  1        5.800000\n",
       "2               CD             Units  1985                  1       22.600000\n",
       "3               CD             Units  1986                  1       53.000000\n",
       "4               CD             Units  1987                  1      102.100000\n",
       "...            ...               ...   ...                ...             ...\n",
       "1269  Vinyl Single  Value (Adjusted)  2015                  1        6.205390\n",
       "1270  Vinyl Single  Value (Adjusted)  2016                  1        5.198931\n",
       "1271  Vinyl Single  Value (Adjusted)  2017                  1        6.339678\n",
       "1272  Vinyl Single  Value (Adjusted)  2018                  1        5.386197\n",
       "1273  Vinyl Single  Value (Adjusted)  2019                  1        6.795946\n",
       "\n",
       "[1274 rows x 5 columns]"
      ]
     },
     "execution_count": 239,
     "metadata": {},
     "output_type": "execute_result"
    }
   ],
   "source": [
    "new_df_no_values_0 = new_df[new_df[\"Value (Actual)\"] != 0.0].reset_index(drop=True)\n",
    "new_df_no_values_0"
   ]
  },
  {
   "cell_type": "markdown",
   "id": "95bf4ad3-5958-498e-bd47-e878b8dba602",
   "metadata": {},
   "source": [
    "There are only 1274 rows now (in comparison to 3008 rows before) since some of the rows were irrelevant. "
   ]
  },
  {
   "cell_type": "markdown",
   "id": "fc8a23b0-1424-4cca-a55d-a66e467e952b",
   "metadata": {
    "tags": []
   },
   "source": [
    "Creating a dataframe that has the units sold data for each year and format:"
   ]
  },
  {
   "cell_type": "code",
   "execution_count": 240,
   "id": "0294d3b8-7452-493e-9c2b-e76f9ab7d9d4",
   "metadata": {
    "tags": []
   },
   "outputs": [
    {
     "data": {
      "text/html": [
       "<div>\n",
       "<style scoped>\n",
       "    .dataframe tbody tr th:only-of-type {\n",
       "        vertical-align: middle;\n",
       "    }\n",
       "\n",
       "    .dataframe tbody tr th {\n",
       "        vertical-align: top;\n",
       "    }\n",
       "\n",
       "    .dataframe thead th {\n",
       "        text-align: right;\n",
       "    }\n",
       "</style>\n",
       "<table border=\"1\" class=\"dataframe\">\n",
       "  <thead>\n",
       "    <tr style=\"text-align: right;\">\n",
       "      <th></th>\n",
       "      <th>Format</th>\n",
       "      <th>Metric</th>\n",
       "      <th>Year</th>\n",
       "      <th>Number of Records</th>\n",
       "      <th>Value (Actual)</th>\n",
       "    </tr>\n",
       "  </thead>\n",
       "  <tbody>\n",
       "    <tr>\n",
       "      <th>0</th>\n",
       "      <td>CD</td>\n",
       "      <td>Units</td>\n",
       "      <td>1983</td>\n",
       "      <td>1</td>\n",
       "      <td>0.8</td>\n",
       "    </tr>\n",
       "    <tr>\n",
       "      <th>1</th>\n",
       "      <td>CD</td>\n",
       "      <td>Units</td>\n",
       "      <td>1984</td>\n",
       "      <td>1</td>\n",
       "      <td>5.8</td>\n",
       "    </tr>\n",
       "    <tr>\n",
       "      <th>2</th>\n",
       "      <td>CD</td>\n",
       "      <td>Units</td>\n",
       "      <td>1985</td>\n",
       "      <td>1</td>\n",
       "      <td>22.6</td>\n",
       "    </tr>\n",
       "    <tr>\n",
       "      <th>3</th>\n",
       "      <td>CD</td>\n",
       "      <td>Units</td>\n",
       "      <td>1986</td>\n",
       "      <td>1</td>\n",
       "      <td>53.0</td>\n",
       "    </tr>\n",
       "    <tr>\n",
       "      <th>4</th>\n",
       "      <td>CD</td>\n",
       "      <td>Units</td>\n",
       "      <td>1987</td>\n",
       "      <td>1</td>\n",
       "      <td>102.1</td>\n",
       "    </tr>\n",
       "    <tr>\n",
       "      <th>...</th>\n",
       "      <td>...</td>\n",
       "      <td>...</td>\n",
       "      <td>...</td>\n",
       "      <td>...</td>\n",
       "      <td>...</td>\n",
       "    </tr>\n",
       "    <tr>\n",
       "      <th>397</th>\n",
       "      <td>Paid Subscriptions</td>\n",
       "      <td>Units</td>\n",
       "      <td>2014</td>\n",
       "      <td>1</td>\n",
       "      <td>7.7</td>\n",
       "    </tr>\n",
       "    <tr>\n",
       "      <th>398</th>\n",
       "      <td>Paid Subscriptions</td>\n",
       "      <td>Units</td>\n",
       "      <td>2015</td>\n",
       "      <td>1</td>\n",
       "      <td>10.8</td>\n",
       "    </tr>\n",
       "    <tr>\n",
       "      <th>399</th>\n",
       "      <td>Paid Subscriptions</td>\n",
       "      <td>Units</td>\n",
       "      <td>2016</td>\n",
       "      <td>1</td>\n",
       "      <td>22.7</td>\n",
       "    </tr>\n",
       "    <tr>\n",
       "      <th>400</th>\n",
       "      <td>Paid Subscriptions</td>\n",
       "      <td>Units</td>\n",
       "      <td>2017</td>\n",
       "      <td>1</td>\n",
       "      <td>35.3</td>\n",
       "    </tr>\n",
       "    <tr>\n",
       "      <th>401</th>\n",
       "      <td>Paid Subscriptions</td>\n",
       "      <td>Units</td>\n",
       "      <td>2018</td>\n",
       "      <td>1</td>\n",
       "      <td>50.2</td>\n",
       "    </tr>\n",
       "  </tbody>\n",
       "</table>\n",
       "<p>402 rows × 5 columns</p>\n",
       "</div>"
      ],
      "text/plain": [
       "                 Format Metric  Year  Number of Records  Value (Actual)\n",
       "0                    CD  Units  1983                  1             0.8\n",
       "1                    CD  Units  1984                  1             5.8\n",
       "2                    CD  Units  1985                  1            22.6\n",
       "3                    CD  Units  1986                  1            53.0\n",
       "4                    CD  Units  1987                  1           102.1\n",
       "..                  ...    ...   ...                ...             ...\n",
       "397  Paid Subscriptions  Units  2014                  1             7.7\n",
       "398  Paid Subscriptions  Units  2015                  1            10.8\n",
       "399  Paid Subscriptions  Units  2016                  1            22.7\n",
       "400  Paid Subscriptions  Units  2017                  1            35.3\n",
       "401  Paid Subscriptions  Units  2018                  1            50.2\n",
       "\n",
       "[402 rows x 5 columns]"
      ]
     },
     "execution_count": 240,
     "metadata": {},
     "output_type": "execute_result"
    }
   ],
   "source": [
    "units = new_df_no_values_0[new_df_no_values_0['Metric'] == 'Units']\n",
    "units"
   ]
  },
  {
   "cell_type": "code",
   "execution_count": 241,
   "id": "c1bcc7cb-bd79-491e-98ea-5496343398f8",
   "metadata": {},
   "outputs": [
    {
     "data": {
      "text/plain": [
       "17"
      ]
     },
     "execution_count": 241,
     "metadata": {},
     "output_type": "execute_result"
    }
   ],
   "source": [
    "len(list(set(units[\"Format\"])))"
   ]
  },
  {
   "cell_type": "markdown",
   "id": "3847b278-3798-4598-b6a1-b9e169ade65b",
   "metadata": {},
   "source": [
    "The units sold data contains data on 17 different sales formats."
   ]
  },
  {
   "cell_type": "markdown",
   "id": "438af441-0318-4397-8bcc-7f1f0d4c1a72",
   "metadata": {
    "tags": []
   },
   "source": [
    "Creating a dataframe that has the present value of revenue sales data for each year and format:"
   ]
  },
  {
   "cell_type": "code",
   "execution_count": 242,
   "id": "f892b6a1-0566-4694-b608-8e7245c3a29a",
   "metadata": {},
   "outputs": [
    {
     "data": {
      "text/html": [
       "<div>\n",
       "<style scoped>\n",
       "    .dataframe tbody tr th:only-of-type {\n",
       "        vertical-align: middle;\n",
       "    }\n",
       "\n",
       "    .dataframe tbody tr th {\n",
       "        vertical-align: top;\n",
       "    }\n",
       "\n",
       "    .dataframe thead th {\n",
       "        text-align: right;\n",
       "    }\n",
       "</style>\n",
       "<table border=\"1\" class=\"dataframe\">\n",
       "  <thead>\n",
       "    <tr style=\"text-align: right;\">\n",
       "      <th></th>\n",
       "      <th>Format</th>\n",
       "      <th>Metric</th>\n",
       "      <th>Year</th>\n",
       "      <th>Number of Records</th>\n",
       "      <th>Value (Actual)</th>\n",
       "    </tr>\n",
       "  </thead>\n",
       "  <tbody>\n",
       "    <tr>\n",
       "      <th>0</th>\n",
       "      <td>8 - Track</td>\n",
       "      <td>Value (Adjusted)</td>\n",
       "      <td>1973</td>\n",
       "      <td>1</td>\n",
       "      <td>2815.681824</td>\n",
       "    </tr>\n",
       "    <tr>\n",
       "      <th>1</th>\n",
       "      <td>8 - Track</td>\n",
       "      <td>Value (Adjusted)</td>\n",
       "      <td>1974</td>\n",
       "      <td>1</td>\n",
       "      <td>2848.008609</td>\n",
       "    </tr>\n",
       "    <tr>\n",
       "      <th>2</th>\n",
       "      <td>8 - Track</td>\n",
       "      <td>Value (Adjusted)</td>\n",
       "      <td>1975</td>\n",
       "      <td>1</td>\n",
       "      <td>2770.409498</td>\n",
       "    </tr>\n",
       "    <tr>\n",
       "      <th>3</th>\n",
       "      <td>8 - Track</td>\n",
       "      <td>Value (Adjusted)</td>\n",
       "      <td>1976</td>\n",
       "      <td>1</td>\n",
       "      <td>3047.215772</td>\n",
       "    </tr>\n",
       "    <tr>\n",
       "      <th>4</th>\n",
       "      <td>8 - Track</td>\n",
       "      <td>Value (Adjusted)</td>\n",
       "      <td>1977</td>\n",
       "      <td>1</td>\n",
       "      <td>3421.416287</td>\n",
       "    </tr>\n",
       "    <tr>\n",
       "      <th>...</th>\n",
       "      <td>...</td>\n",
       "      <td>...</td>\n",
       "      <td>...</td>\n",
       "      <td>...</td>\n",
       "      <td>...</td>\n",
       "    </tr>\n",
       "    <tr>\n",
       "      <th>431</th>\n",
       "      <td>Vinyl Single</td>\n",
       "      <td>Value (Adjusted)</td>\n",
       "      <td>2015</td>\n",
       "      <td>1</td>\n",
       "      <td>6.205390</td>\n",
       "    </tr>\n",
       "    <tr>\n",
       "      <th>432</th>\n",
       "      <td>Vinyl Single</td>\n",
       "      <td>Value (Adjusted)</td>\n",
       "      <td>2016</td>\n",
       "      <td>1</td>\n",
       "      <td>5.198931</td>\n",
       "    </tr>\n",
       "    <tr>\n",
       "      <th>433</th>\n",
       "      <td>Vinyl Single</td>\n",
       "      <td>Value (Adjusted)</td>\n",
       "      <td>2017</td>\n",
       "      <td>1</td>\n",
       "      <td>6.339678</td>\n",
       "    </tr>\n",
       "    <tr>\n",
       "      <th>434</th>\n",
       "      <td>Vinyl Single</td>\n",
       "      <td>Value (Adjusted)</td>\n",
       "      <td>2018</td>\n",
       "      <td>1</td>\n",
       "      <td>5.386197</td>\n",
       "    </tr>\n",
       "    <tr>\n",
       "      <th>435</th>\n",
       "      <td>Vinyl Single</td>\n",
       "      <td>Value (Adjusted)</td>\n",
       "      <td>2019</td>\n",
       "      <td>1</td>\n",
       "      <td>6.795946</td>\n",
       "    </tr>\n",
       "  </tbody>\n",
       "</table>\n",
       "<p>436 rows × 5 columns</p>\n",
       "</div>"
      ],
      "text/plain": [
       "           Format            Metric  Year  Number of Records  Value (Actual)\n",
       "0       8 - Track  Value (Adjusted)  1973                  1     2815.681824\n",
       "1       8 - Track  Value (Adjusted)  1974                  1     2848.008609\n",
       "2       8 - Track  Value (Adjusted)  1975                  1     2770.409498\n",
       "3       8 - Track  Value (Adjusted)  1976                  1     3047.215772\n",
       "4       8 - Track  Value (Adjusted)  1977                  1     3421.416287\n",
       "..            ...               ...   ...                ...             ...\n",
       "431  Vinyl Single  Value (Adjusted)  2015                  1        6.205390\n",
       "432  Vinyl Single  Value (Adjusted)  2016                  1        5.198931\n",
       "433  Vinyl Single  Value (Adjusted)  2017                  1        6.339678\n",
       "434  Vinyl Single  Value (Adjusted)  2018                  1        5.386197\n",
       "435  Vinyl Single  Value (Adjusted)  2019                  1        6.795946\n",
       "\n",
       "[436 rows x 5 columns]"
      ]
     },
     "execution_count": 242,
     "metadata": {},
     "output_type": "execute_result"
    }
   ],
   "source": [
    "adjusted = new_df_no_values_0[new_df_no_values_0['Metric'] == 'Value (Adjusted)'].reset_index(drop=True)\n",
    "adjusted"
   ]
  },
  {
   "cell_type": "code",
   "execution_count": 243,
   "id": "c8832046-ada6-4f62-9aaa-fdfda1bd147b",
   "metadata": {
    "tags": []
   },
   "outputs": [
    {
     "data": {
      "text/plain": [
       "23"
      ]
     },
     "execution_count": 243,
     "metadata": {},
     "output_type": "execute_result"
    }
   ],
   "source": [
    "len(list(set(adjusted[\"Format\"])))"
   ]
  },
  {
   "cell_type": "markdown",
   "id": "699049d7-911c-4ac6-bc92-5c312b6f8653",
   "metadata": {},
   "source": [
    "The value (adjusted) data contains data for 23 different sales format. This dataset is missing units sold data for some of the more recent sales format types, such as On-Demand Streaming and Limited Tier Paid Subscriptions. As a result, I am going to use the value (adjusted) data for my analysis. "
   ]
  },
  {
   "cell_type": "markdown",
   "id": "81d953bb-b654-4efb-9512-20819e858707",
   "metadata": {
    "tags": []
   },
   "source": [
    "Creating a dataframe that contains revenue sales at time of purchase for each year and format:"
   ]
  },
  {
   "cell_type": "code",
   "execution_count": 244,
   "id": "35b87a0e-7554-4b8e-9d22-03d5a1c930e9",
   "metadata": {},
   "outputs": [
    {
     "data": {
      "text/html": [
       "<div>\n",
       "<style scoped>\n",
       "    .dataframe tbody tr th:only-of-type {\n",
       "        vertical-align: middle;\n",
       "    }\n",
       "\n",
       "    .dataframe tbody tr th {\n",
       "        vertical-align: top;\n",
       "    }\n",
       "\n",
       "    .dataframe thead th {\n",
       "        text-align: right;\n",
       "    }\n",
       "</style>\n",
       "<table border=\"1\" class=\"dataframe\">\n",
       "  <thead>\n",
       "    <tr style=\"text-align: right;\">\n",
       "      <th></th>\n",
       "      <th>Format</th>\n",
       "      <th>Metric</th>\n",
       "      <th>Year</th>\n",
       "      <th>Number of Records</th>\n",
       "      <th>Value (Actual)</th>\n",
       "    </tr>\n",
       "  </thead>\n",
       "  <tbody>\n",
       "    <tr>\n",
       "      <th>0</th>\n",
       "      <td>CD</td>\n",
       "      <td>Value</td>\n",
       "      <td>1983</td>\n",
       "      <td>1</td>\n",
       "      <td>17.200000</td>\n",
       "    </tr>\n",
       "    <tr>\n",
       "      <th>1</th>\n",
       "      <td>CD</td>\n",
       "      <td>Value</td>\n",
       "      <td>1984</td>\n",
       "      <td>1</td>\n",
       "      <td>103.300000</td>\n",
       "    </tr>\n",
       "    <tr>\n",
       "      <th>2</th>\n",
       "      <td>CD</td>\n",
       "      <td>Value</td>\n",
       "      <td>1985</td>\n",
       "      <td>1</td>\n",
       "      <td>389.500000</td>\n",
       "    </tr>\n",
       "    <tr>\n",
       "      <th>3</th>\n",
       "      <td>CD</td>\n",
       "      <td>Value</td>\n",
       "      <td>1986</td>\n",
       "      <td>1</td>\n",
       "      <td>930.100000</td>\n",
       "    </tr>\n",
       "    <tr>\n",
       "      <th>4</th>\n",
       "      <td>CD</td>\n",
       "      <td>Value</td>\n",
       "      <td>1987</td>\n",
       "      <td>1</td>\n",
       "      <td>1593.600000</td>\n",
       "    </tr>\n",
       "    <tr>\n",
       "      <th>...</th>\n",
       "      <td>...</td>\n",
       "      <td>...</td>\n",
       "      <td>...</td>\n",
       "      <td>...</td>\n",
       "      <td>...</td>\n",
       "    </tr>\n",
       "    <tr>\n",
       "      <th>431</th>\n",
       "      <td>Vinyl Single</td>\n",
       "      <td>Value</td>\n",
       "      <td>2015</td>\n",
       "      <td>1</td>\n",
       "      <td>5.752954</td>\n",
       "    </tr>\n",
       "    <tr>\n",
       "      <th>432</th>\n",
       "      <td>Vinyl Single</td>\n",
       "      <td>Value</td>\n",
       "      <td>2016</td>\n",
       "      <td>1</td>\n",
       "      <td>4.880680</td>\n",
       "    </tr>\n",
       "    <tr>\n",
       "      <th>433</th>\n",
       "      <td>Vinyl Single</td>\n",
       "      <td>Value</td>\n",
       "      <td>2017</td>\n",
       "      <td>1</td>\n",
       "      <td>6.078385</td>\n",
       "    </tr>\n",
       "    <tr>\n",
       "      <th>434</th>\n",
       "      <td>Vinyl Single</td>\n",
       "      <td>Value</td>\n",
       "      <td>2018</td>\n",
       "      <td>1</td>\n",
       "      <td>5.290337</td>\n",
       "    </tr>\n",
       "    <tr>\n",
       "      <th>435</th>\n",
       "      <td>Vinyl Single</td>\n",
       "      <td>Value</td>\n",
       "      <td>2019</td>\n",
       "      <td>1</td>\n",
       "      <td>6.795946</td>\n",
       "    </tr>\n",
       "  </tbody>\n",
       "</table>\n",
       "<p>436 rows × 5 columns</p>\n",
       "</div>"
      ],
      "text/plain": [
       "           Format Metric  Year  Number of Records  Value (Actual)\n",
       "0              CD  Value  1983                  1       17.200000\n",
       "1              CD  Value  1984                  1      103.300000\n",
       "2              CD  Value  1985                  1      389.500000\n",
       "3              CD  Value  1986                  1      930.100000\n",
       "4              CD  Value  1987                  1     1593.600000\n",
       "..            ...    ...   ...                ...             ...\n",
       "431  Vinyl Single  Value  2015                  1        5.752954\n",
       "432  Vinyl Single  Value  2016                  1        4.880680\n",
       "433  Vinyl Single  Value  2017                  1        6.078385\n",
       "434  Vinyl Single  Value  2018                  1        5.290337\n",
       "435  Vinyl Single  Value  2019                  1        6.795946\n",
       "\n",
       "[436 rows x 5 columns]"
      ]
     },
     "execution_count": 244,
     "metadata": {},
     "output_type": "execute_result"
    }
   ],
   "source": [
    "value = new_df_no_values_0[new_df_no_values_0['Metric'] == 'Value'].reset_index(drop=True)\n",
    "value"
   ]
  },
  {
   "cell_type": "markdown",
   "id": "a4dc7728-8636-4dd7-b59f-0d1e2e9007d3",
   "metadata": {},
   "source": [
    "### Exploratory Data Visualizations"
   ]
  },
  {
   "cell_type": "markdown",
   "id": "5ddcc6cc-95fe-4cbe-a3d5-b7aeb294c249",
   "metadata": {},
   "source": [
    "Creating dataframes with the adjusted revenue sales data for each sales format:"
   ]
  },
  {
   "cell_type": "code",
   "execution_count": 245,
   "id": "8d2742b8-997d-4889-8c41-d3d62c675c01",
   "metadata": {},
   "outputs": [],
   "source": [
    "# step 1: get all unique Format types\n",
    "format_types = list(set(adjusted[\"Format\"]))\n",
    "format_types\n",
    "# step 2: create an empty list to input new data_frames\n",
    "format_dfs = []\n",
    "# step 3: create all the new data frames and add to list\n",
    "for i in np.arange(len(format_types)):\n",
    "    first_format_type = format_types[i]\n",
    "    format_df = adjusted[adjusted[\"Format\"] == first_format_type]\n",
    "    format_dfs.append(format_df)"
   ]
  },
  {
   "cell_type": "code",
   "execution_count": 246,
   "id": "b57bcfdf-d866-4e8e-bc75-3812edb14773",
   "metadata": {},
   "outputs": [],
   "source": [
    "format_dfs[0] = adjusted[adjusted[\"Format\"] == 'Download Music Video']\n",
    "format_dfs[1] = adjusted[adjusted[\"Format\"] == 'Download Album']\n",
    "format_dfs[2] = adjusted[adjusted[\"Format\"] == 'Other Ad-Supported Streaming']\n",
    "format_dfs[3] = adjusted[adjusted[\"Format\"] == 'Paid Subscription']\n",
    "format_dfs[4] = adjusted[adjusted[\"Format\"] == 'Synchronization']\n",
    "format_dfs[5] = adjusted[adjusted[\"Format\"] == 'Cassette']\n",
    "format_dfs[6] = adjusted[adjusted[\"Format\"] == 'On-Demand Streaming (Ad-Supported)']\n",
    "format_dfs[7] = adjusted[adjusted[\"Format\"] == 'Limited Tier Paid Subscription']\n",
    "format_dfs[8] = adjusted[adjusted[\"Format\"] == 'Ringtones & Ringbacks']\n",
    "format_dfs[9] = adjusted[adjusted[\"Format\"] == '8 - Track']\n",
    "format_dfs[10] = adjusted[adjusted[\"Format\"] == 'CD']\n",
    "format_dfs[11] = adjusted[adjusted[\"Format\"] == 'Vinyl Single']\n",
    "format_dfs[12] = adjusted[adjusted[\"Format\"] == 'CD Single']\n",
    "format_dfs[13] = adjusted[adjusted[\"Format\"] == 'Kiosk']\n",
    "format_dfs[14] = adjusted[adjusted[\"Format\"] == 'DVD Audio']\n",
    "format_dfs[15] = adjusted[adjusted[\"Format\"] == 'SACD']\n",
    "format_dfs[16] = adjusted[adjusted[\"Format\"] == 'Other Digital']\n",
    "format_dfs[17] = adjusted[adjusted[\"Format\"] == 'Other Tapes']\n",
    "format_dfs[18] = adjusted[adjusted[\"Format\"] == 'SoundExchange Distributions']\n",
    "format_dfs[19] = adjusted[adjusted[\"Format\"] == 'LP/EP']\n",
    "format_dfs[20] = adjusted[adjusted[\"Format\"] == 'Download Single']\n",
    "format_dfs[21] = adjusted[adjusted[\"Format\"] == 'Cassette Single']\n",
    "format_dfs[22] = adjusted[adjusted[\"Format\"] == 'Music Video (Physical)']"
   ]
  },
  {
   "cell_type": "markdown",
   "id": "a43424c7-da23-4b52-ad55-f121aa44142b",
   "metadata": {},
   "source": [
    "Creating dataframes containing graph titles for each sales format:"
   ]
  },
  {
   "cell_type": "code",
   "execution_count": 247,
   "id": "e2032394-e8c8-4003-ac17-4cfd5dcbb29b",
   "metadata": {
    "tags": []
   },
   "outputs": [],
   "source": [
    "name_dfs = list(set(adjusted[\"Format\"]))\n",
    "name_dfs[0] = 'Download Music Video Sales'\n",
    "name_dfs[1] = 'Download Album Sales'\n",
    "name_dfs[2] = 'Other Ad-Supported Streaming Sales'\n",
    "name_dfs[3] = 'Paid Subscription Sales'\n",
    "name_dfs[4] = 'Synchronization Sales'\n",
    "name_dfs[5] = 'Cassette Sales'\n",
    "name_dfs[6] = 'On-Demand Streaming (Ad-Supported) Sales'\n",
    "name_dfs[7] = 'Limited Tier Paid Subscription Sales'\n",
    "name_dfs[8] = 'Ringtones & Ringbacks Sales'\n",
    "name_dfs[9] = '8 - Track Sales'\n",
    "name_dfs[10] = 'CD Sales'\n",
    "name_dfs[11] = 'Vinyl Single Sales'\n",
    "name_dfs[12] = 'CD Single Sales'\n",
    "name_dfs[13] = 'Kiosk Sales'\n",
    "name_dfs[14] = 'DVD Audio Sales'\n",
    "name_dfs[15] = 'SACD Sales'\n",
    "name_dfs[16] = 'Other Digital Sales'\n",
    "name_dfs[17] = 'Other Tapes Sales'\n",
    "name_dfs[18] = 'SoundExchange Distributions Sales'\n",
    "name_dfs[19] = 'LP/EP Sales'\n",
    "name_dfs[20] = 'Download Single Sales'\n",
    "name_dfs[21] = 'Cassette Single Sales'\n",
    "name_dfs[22] = 'Music Video (Physical) Sales'"
   ]
  },
  {
   "cell_type": "code",
   "execution_count": 248,
   "id": "eb5891d3-289a-4504-8ee2-44333aaa16b5",
   "metadata": {
    "tags": []
   },
   "outputs": [
    {
     "data": {
      "application/vnd.jupyter.widget-view+json": {
       "model_id": "1a35197ae0f644e99f0ad2960d1bb826",
       "version_major": 2,
       "version_minor": 0
      },
      "text/plain": [
       "interactive(children=(IntSlider(value=11, description='x', max=22), Output()), _dom_classes=('widget-interact'…"
      ]
     },
     "metadata": {},
     "output_type": "display_data"
    }
   ],
   "source": [
    "def widgetplot(x):\n",
    "    p = format_dfs[x].plot(kind='bar', x='Year', y='Value (Actual)', figsize=(10,6))\n",
    "\n",
    "    p.set_title(name_dfs[x], fontsize=14)\n",
    "    p.set_xlabel('Year', fontsize=13)\n",
    "    p.set_ylabel('Revenue ($ in millions)', fontsize=13)\n",
    "    p.legend(['Revenue (in millions, adjusted to PV)'])\n",
    "    plt.show()\n",
    "ipywidgets.interactive(widgetplot, x=(0,22))"
   ]
  },
  {
   "cell_type": "markdown",
   "id": "d44116ec-457e-4249-ab49-bfc18722c01f",
   "metadata": {},
   "source": [
    "Starting with **Download Music Video sales** (x=0), Download Music Video sales began in 2005 and peaked in 2008/2009, before significantly declining. In 2019, Download Music Video sales were just under $2 million. \n",
    "\n",
    "**Download Album sales** (x=1) began in 2004, peaked in 2013, and have been declining since. However, it still remains a popular format as sales in 2019 were over $394 million. \n",
    "\n",
    "**Other Ad-Supported Streaming sales** (x=2) weren't introduced until 2016. Sales were highest in 2017 and have declined slightly since but still remain a popular format, accounting for over $251 million in sales in 2019.\n",
    "\n",
    "**Paid Subscription sales** (x=3), which became available in 2005, have significantly increased in recent years. Paid Subscription sales were highest in 2019, making up over $5.9 billion in sales.\n",
    "\n",
    "**Synchronization sales** (x=4) started in 2009 and have been relatively constant since with a slight increase in the last few years. In 2019, Synchronization sales were around $276 million.\n",
    "\n",
    "**Cassette sales** (x=5) peaked in 1988 and have decreased significantly since. Data on Cassette sales is not reported after 2008, as cassettes lost popularity. \n",
    "\n",
    "**On-Demand Streaming (Ad-Supported) sales** (x=6) began in 2011 and have been increasing every year since. In 2019, On-Demand Streaming sales exceeded $908 million.\n",
    "\n",
    "**Limited Tier Paid Subscription sales** (x=7) began in 2016 and have also been increasing every year since. Limited Tier Paid Subscription sales were over $829 mil in 2019.\n",
    "\n",
    "**Ringtones and Ringbacks** (x=8) were introduced in 2005. Sales peaked shortly after in 2007 and have decreased significantly since. In 2019, Ringtones and Ringbacks sales were around $21 million. \n",
    "\n",
    "**8-Track sales** (x=9) peaked in 1978 before decreasing. Data for 8-Tracks sales stopped after 1982, as this format lost popularity. \n",
    "\n",
    "**CD sales** (x=10) began in 1983 and peaked in 1999/2000. CD sales have decreased significantly since yet remain a popular sales format, with over $614 million in sales in 2019. \n",
    "\n",
    "**Vinyl Single sales** (x=11) peaked in 1979 and have decreased significantly since, but still remain a used sales format. Vinyl Single sales is one of the sales formats that has been around the longest in the industry. In 2019, sales of Vinyl Singles were around $6.8 million.\n",
    "\n",
    "**CD Single sales** (x=12) data begins in 1988 and peaked in 1997. CD Single sales declined significantly after 1997. In 2018 and 2019, CD Single sales have been under $1 million.  \n",
    "\n",
    "**Kiosk sales** (x=13) began in 2005 and peaked in 2009/2010 before declining. There was a resurgence of Kiosk sales in 2013 followed by another decline. In 2019, Kiosk sales were around $1.5 million.\n",
    "\n",
    "**DVD Audio sales** (x=14) started in 2001 and peaked in 2005. Sales dropped significantly between 2011-2013 and have increased slightly since. In 2019, DVD Audio sales totaled just over $1 million.\n",
    "\n",
    "**SACD sales** (x=15) became available in 2003 and also peaked in 2003. Since 2003, SACD sales have dropped sharply, accounting for less than half a million in sales in 2019.\n",
    "\n",
    "**Other Digital sales** (x=16) were introduced in 2016 and have been increasing slightly since. In 2019, sales were around $21.5 million.\n",
    "\n",
    "**Other Tapes sales** (x=17) began in 1973 and only lasted until 1976. Other Tapes sales peaked in 1973.\n",
    "\n",
    "**SoundExchange Distributions sales** (x=18) began in 2004 and have been increasing for the most part since. In 2019, SoundExchange Distributions sales were over $908 million.\n",
    "\n",
    "**LP/EP sales** (x=19) peaked in 1978 before declining sharply. Around 2008 LP/EP sales began to slowly climb again, yet sales still remain much lower than seen in the 1970s. In 2019, LP/EP sales were over $497 million. \n",
    "\n",
    "**Download Single sales** (x=20) were introduced in 2004 and peaked in 2012. Since 2012, Download Single sales have been declining but still remain a popular format, accounting for over $414 million in sales in 2019.\n",
    "\n",
    "**Cassette Single sales** (x=21) began in 1987 and peaked in 1992. Data on Cassette Single sales ends in 2002, as sales sharply declined to below $1 million.\n",
    "\n",
    "**Music Video (Physical) sales** (x=22) became available in 1989 and saw peak sales in 1998 and 2004. Sales have steadily declined since, with 2019 sales around $27 million."
   ]
  },
  {
   "cell_type": "markdown",
   "id": "a29df542-c017-47ee-b2b1-2147242c9a6b",
   "metadata": {},
   "source": [
    "By analyzing these bar charts, we can see which sales formats have seen increased sales in recent years and which ones have seen declining sales. Formats that have seen increased sales recently include Synchronization, Paid Subscriptions, On-Demand Streaming (Ad-Supported), Limited Tier Paid Subscriptions, Other Digital, SoundExchange Distributions, and LP/EP. \n",
    "\n",
    "Formats that have seen a decline in sales recently include Download Music Video, Download Album, Other Ad-Supported Streaming, Ringtones and Ringbacks, CDs, Vinyl Singles, CD Singles, Kiosks, DVD Audios, SACDs, Download Single, and Music Video (Physical)."
   ]
  },
  {
   "cell_type": "markdown",
   "id": "330e930f-4655-42f9-9aa7-aa3c303d8b56",
   "metadata": {
    "tags": []
   },
   "source": [
    "Next, I want to look at how the composition of music industry sales changed from 1973 to 2019. To do this, I am going to look at four different points in time, each 15 years apart."
   ]
  },
  {
   "cell_type": "markdown",
   "id": "b6d7c9d2-ec00-4e8e-8d96-a66baa0594a4",
   "metadata": {},
   "source": [
    "Looking at the most popular sales formats in 1973:"
   ]
  },
  {
   "cell_type": "code",
   "execution_count": 24,
   "id": "f1e987b1-b8cf-4c5a-b704-4894f0ab448a",
   "metadata": {
    "tags": []
   },
   "outputs": [],
   "source": [
    "df_1973 = adjusted[adjusted['Year'] == 1973]"
   ]
  },
  {
   "cell_type": "code",
   "execution_count": 25,
   "id": "efc51442-4be8-4083-aa61-41d1446ef8a0",
   "metadata": {},
   "outputs": [
    {
     "data": {
      "text/html": [
       "<div>\n",
       "<style scoped>\n",
       "    .dataframe tbody tr th:only-of-type {\n",
       "        vertical-align: middle;\n",
       "    }\n",
       "\n",
       "    .dataframe tbody tr th {\n",
       "        vertical-align: top;\n",
       "    }\n",
       "\n",
       "    .dataframe thead th {\n",
       "        text-align: right;\n",
       "    }\n",
       "</style>\n",
       "<table border=\"1\" class=\"dataframe\">\n",
       "  <thead>\n",
       "    <tr style=\"text-align: right;\">\n",
       "      <th></th>\n",
       "      <th>Metric</th>\n",
       "      <th>Year</th>\n",
       "      <th>Number of Records</th>\n",
       "      <th>Value (Actual)</th>\n",
       "    </tr>\n",
       "    <tr>\n",
       "      <th>Format</th>\n",
       "      <th></th>\n",
       "      <th></th>\n",
       "      <th></th>\n",
       "      <th></th>\n",
       "    </tr>\n",
       "  </thead>\n",
       "  <tbody>\n",
       "    <tr>\n",
       "      <th>8 - Track</th>\n",
       "      <td>Value (Adjusted)</td>\n",
       "      <td>1973</td>\n",
       "      <td>1</td>\n",
       "      <td>2815.681824</td>\n",
       "    </tr>\n",
       "    <tr>\n",
       "      <th>Cassette</th>\n",
       "      <td>Value (Adjusted)</td>\n",
       "      <td>1973</td>\n",
       "      <td>1</td>\n",
       "      <td>437.611081</td>\n",
       "    </tr>\n",
       "    <tr>\n",
       "      <th>LP/EP</th>\n",
       "      <td>Value (Adjusted)</td>\n",
       "      <td>1973</td>\n",
       "      <td>1</td>\n",
       "      <td>7174.518514</td>\n",
       "    </tr>\n",
       "    <tr>\n",
       "      <th>Other Tapes</th>\n",
       "      <td>Value (Adjusted)</td>\n",
       "      <td>1973</td>\n",
       "      <td>1</td>\n",
       "      <td>89.825432</td>\n",
       "    </tr>\n",
       "    <tr>\n",
       "      <th>Vinyl Single</th>\n",
       "      <td>Value (Adjusted)</td>\n",
       "      <td>1973</td>\n",
       "      <td>1</td>\n",
       "      <td>1094.027703</td>\n",
       "    </tr>\n",
       "  </tbody>\n",
       "</table>\n",
       "</div>"
      ],
      "text/plain": [
       "                        Metric  Year  Number of Records  Value (Actual)\n",
       "Format                                                                 \n",
       "8 - Track     Value (Adjusted)  1973                  1     2815.681824\n",
       "Cassette      Value (Adjusted)  1973                  1      437.611081\n",
       "LP/EP         Value (Adjusted)  1973                  1     7174.518514\n",
       "Other Tapes   Value (Adjusted)  1973                  1       89.825432\n",
       "Vinyl Single  Value (Adjusted)  1973                  1     1094.027703"
      ]
     },
     "execution_count": 25,
     "metadata": {},
     "output_type": "execute_result"
    }
   ],
   "source": [
    "df_1973_index = df_1973.set_index(\"Format\")\n",
    "df_1973_index"
   ]
  },
  {
   "cell_type": "markdown",
   "id": "9499f2c6-6a73-48d6-9d41-77b585c6f31e",
   "metadata": {},
   "source": [
    "Looking at the most popular sales formats in 1988:"
   ]
  },
  {
   "cell_type": "code",
   "execution_count": 26,
   "id": "275ec69b-6584-4b39-a365-122419fd502a",
   "metadata": {},
   "outputs": [
    {
     "data": {
      "text/html": [
       "<div>\n",
       "<style scoped>\n",
       "    .dataframe tbody tr th:only-of-type {\n",
       "        vertical-align: middle;\n",
       "    }\n",
       "\n",
       "    .dataframe tbody tr th {\n",
       "        vertical-align: top;\n",
       "    }\n",
       "\n",
       "    .dataframe thead th {\n",
       "        text-align: right;\n",
       "    }\n",
       "</style>\n",
       "<table border=\"1\" class=\"dataframe\">\n",
       "  <thead>\n",
       "    <tr style=\"text-align: right;\">\n",
       "      <th></th>\n",
       "      <th>Metric</th>\n",
       "      <th>Year</th>\n",
       "      <th>Number of Records</th>\n",
       "      <th>Value (Actual)</th>\n",
       "    </tr>\n",
       "    <tr>\n",
       "      <th>Format</th>\n",
       "      <th></th>\n",
       "      <th></th>\n",
       "      <th></th>\n",
       "      <th></th>\n",
       "    </tr>\n",
       "  </thead>\n",
       "  <tbody>\n",
       "    <tr>\n",
       "      <th>CD</th>\n",
       "      <td>Value (Adjusted)</td>\n",
       "      <td>1988</td>\n",
       "      <td>1</td>\n",
       "      <td>4516.462927</td>\n",
       "    </tr>\n",
       "    <tr>\n",
       "      <th>CD Single</th>\n",
       "      <td>Value (Adjusted)</td>\n",
       "      <td>1988</td>\n",
       "      <td>1</td>\n",
       "      <td>21.178686</td>\n",
       "    </tr>\n",
       "    <tr>\n",
       "      <th>Cassette</th>\n",
       "      <td>Value (Adjusted)</td>\n",
       "      <td>1988</td>\n",
       "      <td>1</td>\n",
       "      <td>7315.507276</td>\n",
       "    </tr>\n",
       "    <tr>\n",
       "      <th>Cassette Single</th>\n",
       "      <td>Value (Adjusted)</td>\n",
       "      <td>1988</td>\n",
       "      <td>1</td>\n",
       "      <td>123.830483</td>\n",
       "    </tr>\n",
       "    <tr>\n",
       "      <th>LP/EP</th>\n",
       "      <td>Value (Adjusted)</td>\n",
       "      <td>1988</td>\n",
       "      <td>1</td>\n",
       "      <td>1150.132336</td>\n",
       "    </tr>\n",
       "    <tr>\n",
       "      <th>Vinyl Single</th>\n",
       "      <td>Value (Adjusted)</td>\n",
       "      <td>1988</td>\n",
       "      <td>1</td>\n",
       "      <td>389.860717</td>\n",
       "    </tr>\n",
       "  </tbody>\n",
       "</table>\n",
       "</div>"
      ],
      "text/plain": [
       "                           Metric  Year  Number of Records  Value (Actual)\n",
       "Format                                                                    \n",
       "CD               Value (Adjusted)  1988                  1     4516.462927\n",
       "CD Single        Value (Adjusted)  1988                  1       21.178686\n",
       "Cassette         Value (Adjusted)  1988                  1     7315.507276\n",
       "Cassette Single  Value (Adjusted)  1988                  1      123.830483\n",
       "LP/EP            Value (Adjusted)  1988                  1     1150.132336\n",
       "Vinyl Single     Value (Adjusted)  1988                  1      389.860717"
      ]
     },
     "execution_count": 26,
     "metadata": {},
     "output_type": "execute_result"
    }
   ],
   "source": [
    "df_1988 = adjusted[adjusted['Year'] == 1988]\n",
    "df_1988_index = df_1988.set_index(\"Format\")\n",
    "df_1988_index"
   ]
  },
  {
   "cell_type": "markdown",
   "id": "eeae7bf4-c41e-4649-8e56-f05b038076d5",
   "metadata": {},
   "source": [
    "Looking at the most popular sales formats in 2003:"
   ]
  },
  {
   "cell_type": "code",
   "execution_count": 257,
   "id": "6bb1a24f-4c81-440a-a1b0-155d6361fa2b",
   "metadata": {
    "tags": []
   },
   "outputs": [
    {
     "data": {
      "text/html": [
       "<div>\n",
       "<style scoped>\n",
       "    .dataframe tbody tr th:only-of-type {\n",
       "        vertical-align: middle;\n",
       "    }\n",
       "\n",
       "    .dataframe tbody tr th {\n",
       "        vertical-align: top;\n",
       "    }\n",
       "\n",
       "    .dataframe thead th {\n",
       "        text-align: right;\n",
       "    }\n",
       "</style>\n",
       "<table border=\"1\" class=\"dataframe\">\n",
       "  <thead>\n",
       "    <tr style=\"text-align: right;\">\n",
       "      <th></th>\n",
       "      <th>Metric</th>\n",
       "      <th>Year</th>\n",
       "      <th>Number of Records</th>\n",
       "      <th>Value (Actual)</th>\n",
       "    </tr>\n",
       "    <tr>\n",
       "      <th>Format</th>\n",
       "      <th></th>\n",
       "      <th></th>\n",
       "      <th></th>\n",
       "      <th></th>\n",
       "    </tr>\n",
       "  </thead>\n",
       "  <tbody>\n",
       "    <tr>\n",
       "      <th>CD</th>\n",
       "      <td>Value (Adjusted)</td>\n",
       "      <td>2003</td>\n",
       "      <td>1</td>\n",
       "      <td>15607.443020</td>\n",
       "    </tr>\n",
       "    <tr>\n",
       "      <th>CD Single</th>\n",
       "      <td>Value (Adjusted)</td>\n",
       "      <td>2003</td>\n",
       "      <td>1</td>\n",
       "      <td>50.019848</td>\n",
       "    </tr>\n",
       "    <tr>\n",
       "      <th>Cassette</th>\n",
       "      <td>Value (Adjusted)</td>\n",
       "      <td>2003</td>\n",
       "      <td>1</td>\n",
       "      <td>150.198487</td>\n",
       "    </tr>\n",
       "    <tr>\n",
       "      <th>DVD Audio</th>\n",
       "      <td>Value (Adjusted)</td>\n",
       "      <td>2003</td>\n",
       "      <td>1</td>\n",
       "      <td>11.115522</td>\n",
       "    </tr>\n",
       "    <tr>\n",
       "      <th>LP/EP</th>\n",
       "      <td>Value (Adjusted)</td>\n",
       "      <td>2003</td>\n",
       "      <td>1</td>\n",
       "      <td>30.150853</td>\n",
       "    </tr>\n",
       "    <tr>\n",
       "      <th>Music Video (Physical)</th>\n",
       "      <td>Value (Adjusted)</td>\n",
       "      <td>2003</td>\n",
       "      <td>1</td>\n",
       "      <td>555.637143</td>\n",
       "    </tr>\n",
       "    <tr>\n",
       "      <th>SACD</th>\n",
       "      <td>Value (Adjusted)</td>\n",
       "      <td>2003</td>\n",
       "      <td>1</td>\n",
       "      <td>36.542278</td>\n",
       "    </tr>\n",
       "    <tr>\n",
       "      <th>Vinyl Single</th>\n",
       "      <td>Value (Adjusted)</td>\n",
       "      <td>2003</td>\n",
       "      <td>1</td>\n",
       "      <td>29.872965</td>\n",
       "    </tr>\n",
       "  </tbody>\n",
       "</table>\n",
       "</div>"
      ],
      "text/plain": [
       "                                  Metric  Year  Number of Records  \\\n",
       "Format                                                              \n",
       "CD                      Value (Adjusted)  2003                  1   \n",
       "CD Single               Value (Adjusted)  2003                  1   \n",
       "Cassette                Value (Adjusted)  2003                  1   \n",
       "DVD Audio               Value (Adjusted)  2003                  1   \n",
       "LP/EP                   Value (Adjusted)  2003                  1   \n",
       "Music Video (Physical)  Value (Adjusted)  2003                  1   \n",
       "SACD                    Value (Adjusted)  2003                  1   \n",
       "Vinyl Single            Value (Adjusted)  2003                  1   \n",
       "\n",
       "                        Value (Actual)  \n",
       "Format                                  \n",
       "CD                        15607.443020  \n",
       "CD Single                    50.019848  \n",
       "Cassette                    150.198487  \n",
       "DVD Audio                    11.115522  \n",
       "LP/EP                        30.150853  \n",
       "Music Video (Physical)      555.637143  \n",
       "SACD                         36.542278  \n",
       "Vinyl Single                 29.872965  "
      ]
     },
     "execution_count": 257,
     "metadata": {},
     "output_type": "execute_result"
    }
   ],
   "source": [
    "df_2003 = adjusted[adjusted['Year'] == 2003]\n",
    "df_2003_index = df_2003.set_index(\"Format\")\n",
    "df_2003_index"
   ]
  },
  {
   "cell_type": "markdown",
   "id": "f824b1fd-b9c6-4cb2-8ead-bce9c42ee0ee",
   "metadata": {},
   "source": [
    "Looking at the most popular sales formats in 2018:"
   ]
  },
  {
   "cell_type": "code",
   "execution_count": 28,
   "id": "dea9d767-3f81-40a8-a88d-521ac2de8cc8",
   "metadata": {},
   "outputs": [
    {
     "data": {
      "text/html": [
       "<div>\n",
       "<style scoped>\n",
       "    .dataframe tbody tr th:only-of-type {\n",
       "        vertical-align: middle;\n",
       "    }\n",
       "\n",
       "    .dataframe tbody tr th {\n",
       "        vertical-align: top;\n",
       "    }\n",
       "\n",
       "    .dataframe thead th {\n",
       "        text-align: right;\n",
       "    }\n",
       "</style>\n",
       "<table border=\"1\" class=\"dataframe\">\n",
       "  <thead>\n",
       "    <tr style=\"text-align: right;\">\n",
       "      <th></th>\n",
       "      <th>Metric</th>\n",
       "      <th>Year</th>\n",
       "      <th>Number of Records</th>\n",
       "      <th>Value (Actual)</th>\n",
       "    </tr>\n",
       "    <tr>\n",
       "      <th>Format</th>\n",
       "      <th></th>\n",
       "      <th></th>\n",
       "      <th></th>\n",
       "      <th></th>\n",
       "    </tr>\n",
       "  </thead>\n",
       "  <tbody>\n",
       "    <tr>\n",
       "      <th>CD</th>\n",
       "      <td>Value (Adjusted)</td>\n",
       "      <td>2018</td>\n",
       "      <td>1</td>\n",
       "      <td>711.041239</td>\n",
       "    </tr>\n",
       "    <tr>\n",
       "      <th>CD Single</th>\n",
       "      <td>Value (Adjusted)</td>\n",
       "      <td>2018</td>\n",
       "      <td>1</td>\n",
       "      <td>0.157981</td>\n",
       "    </tr>\n",
       "    <tr>\n",
       "      <th>DVD Audio</th>\n",
       "      <td>Value (Adjusted)</td>\n",
       "      <td>2018</td>\n",
       "      <td>1</td>\n",
       "      <td>3.377494</td>\n",
       "    </tr>\n",
       "    <tr>\n",
       "      <th>Download Album</th>\n",
       "      <td>Value (Adjusted)</td>\n",
       "      <td>2018</td>\n",
       "      <td>1</td>\n",
       "      <td>508.704388</td>\n",
       "    </tr>\n",
       "    <tr>\n",
       "      <th>Download Music Video</th>\n",
       "      <td>Value (Adjusted)</td>\n",
       "      <td>2018</td>\n",
       "      <td>1</td>\n",
       "      <td>2.261051</td>\n",
       "    </tr>\n",
       "    <tr>\n",
       "      <th>Download Single</th>\n",
       "      <td>Value (Adjusted)</td>\n",
       "      <td>2018</td>\n",
       "      <td>1</td>\n",
       "      <td>499.316974</td>\n",
       "    </tr>\n",
       "    <tr>\n",
       "      <th>Kiosk</th>\n",
       "      <td>Value (Adjusted)</td>\n",
       "      <td>2018</td>\n",
       "      <td>1</td>\n",
       "      <td>2.000652</td>\n",
       "    </tr>\n",
       "    <tr>\n",
       "      <th>LP/EP</th>\n",
       "      <td>Value (Adjusted)</td>\n",
       "      <td>2018</td>\n",
       "      <td>1</td>\n",
       "      <td>426.820187</td>\n",
       "    </tr>\n",
       "    <tr>\n",
       "      <th>Limited Tier Paid Subscription</th>\n",
       "      <td>Value (Adjusted)</td>\n",
       "      <td>2018</td>\n",
       "      <td>1</td>\n",
       "      <td>760.591366</td>\n",
       "    </tr>\n",
       "    <tr>\n",
       "      <th>Music Video (Physical)</th>\n",
       "      <td>Value (Adjusted)</td>\n",
       "      <td>2018</td>\n",
       "      <td>1</td>\n",
       "      <td>28.060664</td>\n",
       "    </tr>\n",
       "    <tr>\n",
       "      <th>On-Demand Streaming (Ad-Supported)</th>\n",
       "      <td>Value (Adjusted)</td>\n",
       "      <td>2018</td>\n",
       "      <td>1</td>\n",
       "      <td>773.294917</td>\n",
       "    </tr>\n",
       "    <tr>\n",
       "      <th>Other Ad-Supported Streaming</th>\n",
       "      <td>Value (Adjusted)</td>\n",
       "      <td>2018</td>\n",
       "      <td>1</td>\n",
       "      <td>255.967444</td>\n",
       "    </tr>\n",
       "    <tr>\n",
       "      <th>Other Digital</th>\n",
       "      <td>Value (Adjusted)</td>\n",
       "      <td>2018</td>\n",
       "      <td>1</td>\n",
       "      <td>20.199063</td>\n",
       "    </tr>\n",
       "    <tr>\n",
       "      <th>Paid Subscription</th>\n",
       "      <td>Value (Adjusted)</td>\n",
       "      <td>2018</td>\n",
       "      <td>1</td>\n",
       "      <td>4740.333581</td>\n",
       "    </tr>\n",
       "    <tr>\n",
       "      <th>Ringtones &amp; Ringbacks</th>\n",
       "      <td>Value (Adjusted)</td>\n",
       "      <td>2018</td>\n",
       "      <td>1</td>\n",
       "      <td>25.410090</td>\n",
       "    </tr>\n",
       "    <tr>\n",
       "      <th>SACD</th>\n",
       "      <td>Value (Adjusted)</td>\n",
       "      <td>2018</td>\n",
       "      <td>1</td>\n",
       "      <td>0.875277</td>\n",
       "    </tr>\n",
       "    <tr>\n",
       "      <th>SoundExchange Distributions</th>\n",
       "      <td>Value (Adjusted)</td>\n",
       "      <td>2018</td>\n",
       "      <td>1</td>\n",
       "      <td>970.064513</td>\n",
       "    </tr>\n",
       "    <tr>\n",
       "      <th>Synchronization</th>\n",
       "      <td>Value (Adjusted)</td>\n",
       "      <td>2018</td>\n",
       "      <td>1</td>\n",
       "      <td>290.686929</td>\n",
       "    </tr>\n",
       "    <tr>\n",
       "      <th>Vinyl Single</th>\n",
       "      <td>Value (Adjusted)</td>\n",
       "      <td>2018</td>\n",
       "      <td>1</td>\n",
       "      <td>5.386197</td>\n",
       "    </tr>\n",
       "  </tbody>\n",
       "</table>\n",
       "</div>"
      ],
      "text/plain": [
       "                                              Metric  Year  Number of Records  \\\n",
       "Format                                                                          \n",
       "CD                                  Value (Adjusted)  2018                  1   \n",
       "CD Single                           Value (Adjusted)  2018                  1   \n",
       "DVD Audio                           Value (Adjusted)  2018                  1   \n",
       "Download Album                      Value (Adjusted)  2018                  1   \n",
       "Download Music Video                Value (Adjusted)  2018                  1   \n",
       "Download Single                     Value (Adjusted)  2018                  1   \n",
       "Kiosk                               Value (Adjusted)  2018                  1   \n",
       "LP/EP                               Value (Adjusted)  2018                  1   \n",
       "Limited Tier Paid Subscription      Value (Adjusted)  2018                  1   \n",
       "Music Video (Physical)              Value (Adjusted)  2018                  1   \n",
       "On-Demand Streaming (Ad-Supported)  Value (Adjusted)  2018                  1   \n",
       "Other Ad-Supported Streaming        Value (Adjusted)  2018                  1   \n",
       "Other Digital                       Value (Adjusted)  2018                  1   \n",
       "Paid Subscription                   Value (Adjusted)  2018                  1   \n",
       "Ringtones & Ringbacks               Value (Adjusted)  2018                  1   \n",
       "SACD                                Value (Adjusted)  2018                  1   \n",
       "SoundExchange Distributions         Value (Adjusted)  2018                  1   \n",
       "Synchronization                     Value (Adjusted)  2018                  1   \n",
       "Vinyl Single                        Value (Adjusted)  2018                  1   \n",
       "\n",
       "                                    Value (Actual)  \n",
       "Format                                              \n",
       "CD                                      711.041239  \n",
       "CD Single                                 0.157981  \n",
       "DVD Audio                                 3.377494  \n",
       "Download Album                          508.704388  \n",
       "Download Music Video                      2.261051  \n",
       "Download Single                         499.316974  \n",
       "Kiosk                                     2.000652  \n",
       "LP/EP                                   426.820187  \n",
       "Limited Tier Paid Subscription          760.591366  \n",
       "Music Video (Physical)                   28.060664  \n",
       "On-Demand Streaming (Ad-Supported)      773.294917  \n",
       "Other Ad-Supported Streaming            255.967444  \n",
       "Other Digital                            20.199063  \n",
       "Paid Subscription                      4740.333581  \n",
       "Ringtones & Ringbacks                    25.410090  \n",
       "SACD                                      0.875277  \n",
       "SoundExchange Distributions             970.064513  \n",
       "Synchronization                         290.686929  \n",
       "Vinyl Single                              5.386197  "
      ]
     },
     "execution_count": 28,
     "metadata": {},
     "output_type": "execute_result"
    }
   ],
   "source": [
    "df_2018 = adjusted[adjusted['Year'] == 2018]\n",
    "df_2018_index = df_2018.set_index(\"Format\")\n",
    "df_2018_index"
   ]
  },
  {
   "cell_type": "markdown",
   "id": "2c8ae81a-f68d-41dd-8748-30631a051fb9",
   "metadata": {},
   "source": [
    "Plotting the sales data from 1973, 1988, 2003, and 2018:"
   ]
  },
  {
   "cell_type": "code",
   "execution_count": 279,
   "id": "70aeeb01-e523-4105-a420-e58154403eed",
   "metadata": {
    "tags": []
   },
   "outputs": [
    {
     "data": {
      "text/plain": [
       "Text(0.5, 1.0, 'Music Industry Sales in 2018')"
      ]
     },
     "execution_count": 279,
     "metadata": {},
     "output_type": "execute_result"
    },
    {
     "data": {
      "image/png": "[encoded data removed]",
      "text/plain": [
       "<Figure size 1224x576 with 1 Axes>"
      ]
     },
     "metadata": {},
     "output_type": "display_data"
    },
    {
     "data": {
      "image/png": "[encoded data removed]",
      "text/plain": [
       "<Figure size 1224x576 with 1 Axes>"
      ]
     },
     "metadata": {},
     "output_type": "display_data"
    },
    {
     "data": {
      "image/png": "[encoded data removed]",
      "text/plain": [
       "<Figure size 1224x576 with 1 Axes>"
      ]
     },
     "metadata": {},
     "output_type": "display_data"
    },
    {
     "data": {
      "image/png": "[encoded data removed]",
      "text/plain": [
       "<Figure size 1368x648 with 1 Axes>"
      ]
     },
     "metadata": {},
     "output_type": "display_data"
    }
   ],
   "source": [
    "a = df_1973_index.plot(kind='pie', y='Value (Actual)',figsize=(17,8))\n",
    "plt.legend(bbox_to_anchor=(1.0, 1.0))\n",
    "a.set_title('Music Industry Sales in 1973', fontsize=14)\n",
    "\n",
    "b = df_1988_index.plot(kind='pie', y='Value (Actual)',figsize=(17,8))\n",
    "plt.legend(bbox_to_anchor=(1.0, 1.0))\n",
    "b.set_title('Music Industry Sales in 1988', fontsize=14)\n",
    "\n",
    "c = df_2003_index.plot(kind='pie', y='Value (Actual)',figsize=(17,8))\n",
    "plt.legend(bbox_to_anchor=(1.0, 1.0))\n",
    "c.set_title('Music Industry Sales in 2003', fontsize=14)\n",
    "\n",
    "d = df_2018_index.plot(kind='pie', y='Value (Actual)',figsize=(19,9))\n",
    "plt.legend(bbox_to_anchor=(1.6, 1.0))\n",
    "d.set_title('Music Industry Sales in 2018', fontsize=14)"
   ]
  },
  {
   "cell_type": "markdown",
   "id": "e4f335a5-3806-41f7-838b-ef6d1b45bc84",
   "metadata": {},
   "source": [
    "Looking at the above pie charts provides insight into the most commonly used sales formats during these four points in time as well as how music industry sales have changed between 1973 and 2018. **In 1973**, the most common music sales format was an LP or EP album, accounting for almost 2/3rds of sales. Other popular sales formats in 1973 included 8-tracks, vinyl singles, cassettes, and other tapes. **In 1988**, the most common music sales format was cassettes, followed by CDs. Cassettes accounted for over half of music sales in 1988. Other common sales formats included LP/EP albums, vinyl singles, cassette singles, and CD singles. 15 years later **in 2003**, the most popular music sales format was by far the CD, making up over 80% of music sales. Other sales formats included physical music videos, cassettes, CD singles, LP/EP albums, super audio CDs, vinyl singles, and dvd audios. \n",
    "\n",
    "Most recently, **in 2018**, the most common music sales format was a paid subscription, accounting for a little under half of music sales. Other popular music formats include soundexchange distributions, CDs, on-demand streaming (ad-supported), limited tier paid subscriptions, single downloads, album downloads, LP/EP albums, synchronization, and other ad-supported streaming. Less popular but still used sales formats in 2018 included CD singles, DVD audios, downloading music videos, kiosks, physical music videos, other digital, ringtones and ringbacks, and vinyl singles.\n",
    "\n",
    "As shown by the charts above, the number of sales formats available to purchase music increased dramatically between 2003 and 2018. In those 15 years, sales of CDs and other physical formats dropped significantly while sales shifted more towards technology-based formats. "
   ]
  },
  {
   "cell_type": "markdown",
   "id": "fdf45b5c-3da7-44b2-94ed-d9a8c143c9b5",
   "metadata": {},
   "source": [
    "### Correlation Analysis"
   ]
  },
  {
   "cell_type": "markdown",
   "id": "69a0543c-46d0-423d-a7bc-de356ed18df0",
   "metadata": {},
   "source": [
    "To begin my analysis, I am going to look at the correlation between different sales formats throughout the 2000's."
   ]
  },
  {
   "cell_type": "markdown",
   "id": "945f26d9-780f-4a36-bb5b-9c4d76f97185",
   "metadata": {},
   "source": [
    "Looking at the correlation between **Paid Subscription sales and CD sales** since 2005:"
   ]
  },
  {
   "cell_type": "code",
   "execution_count": 32,
   "id": "fbd522cc-f010-4a44-9f10-b9710f306950",
   "metadata": {},
   "outputs": [
    {
     "data": {
      "text/html": [
       "<div>\n",
       "<style scoped>\n",
       "    .dataframe tbody tr th:only-of-type {\n",
       "        vertical-align: middle;\n",
       "    }\n",
       "\n",
       "    .dataframe tbody tr th {\n",
       "        vertical-align: top;\n",
       "    }\n",
       "\n",
       "    .dataframe thead th {\n",
       "        text-align: right;\n",
       "    }\n",
       "</style>\n",
       "<table border=\"1\" class=\"dataframe\">\n",
       "  <thead>\n",
       "    <tr style=\"text-align: right;\">\n",
       "      <th></th>\n",
       "      <th>Format</th>\n",
       "      <th>Metric</th>\n",
       "      <th>Year</th>\n",
       "      <th>Number of Records</th>\n",
       "      <th>Value (Actual)</th>\n",
       "    </tr>\n",
       "  </thead>\n",
       "  <tbody>\n",
       "    <tr>\n",
       "      <th>315</th>\n",
       "      <td>Paid Subscription</td>\n",
       "      <td>Value (Adjusted)</td>\n",
       "      <td>2005</td>\n",
       "      <td>1</td>\n",
       "      <td>195.309905</td>\n",
       "    </tr>\n",
       "    <tr>\n",
       "      <th>316</th>\n",
       "      <td>Paid Subscription</td>\n",
       "      <td>Value (Adjusted)</td>\n",
       "      <td>2006</td>\n",
       "      <td>1</td>\n",
       "      <td>261.490444</td>\n",
       "    </tr>\n",
       "    <tr>\n",
       "      <th>317</th>\n",
       "      <td>Paid Subscription</td>\n",
       "      <td>Value (Adjusted)</td>\n",
       "      <td>2007</td>\n",
       "      <td>1</td>\n",
       "      <td>288.585326</td>\n",
       "    </tr>\n",
       "    <tr>\n",
       "      <th>318</th>\n",
       "      <td>Paid Subscription</td>\n",
       "      <td>Value (Adjusted)</td>\n",
       "      <td>2008</td>\n",
       "      <td>1</td>\n",
       "      <td>262.896754</td>\n",
       "    </tr>\n",
       "    <tr>\n",
       "      <th>319</th>\n",
       "      <td>Paid Subscription</td>\n",
       "      <td>Value (Adjusted)</td>\n",
       "      <td>2009</td>\n",
       "      <td>1</td>\n",
       "      <td>245.722059</td>\n",
       "    </tr>\n",
       "    <tr>\n",
       "      <th>320</th>\n",
       "      <td>Paid Subscription</td>\n",
       "      <td>Value (Adjusted)</td>\n",
       "      <td>2010</td>\n",
       "      <td>1</td>\n",
       "      <td>249.025694</td>\n",
       "    </tr>\n",
       "    <tr>\n",
       "      <th>321</th>\n",
       "      <td>Paid Subscription</td>\n",
       "      <td>Value (Adjusted)</td>\n",
       "      <td>2011</td>\n",
       "      <td>1</td>\n",
       "      <td>281.639932</td>\n",
       "    </tr>\n",
       "    <tr>\n",
       "      <th>322</th>\n",
       "      <td>Paid Subscription</td>\n",
       "      <td>Value (Adjusted)</td>\n",
       "      <td>2012</td>\n",
       "      <td>1</td>\n",
       "      <td>445.276306</td>\n",
       "    </tr>\n",
       "    <tr>\n",
       "      <th>323</th>\n",
       "      <td>Paid Subscription</td>\n",
       "      <td>Value (Adjusted)</td>\n",
       "      <td>2013</td>\n",
       "      <td>1</td>\n",
       "      <td>706.011657</td>\n",
       "    </tr>\n",
       "    <tr>\n",
       "      <th>324</th>\n",
       "      <td>Paid Subscription</td>\n",
       "      <td>Value (Adjusted)</td>\n",
       "      <td>2014</td>\n",
       "      <td>1</td>\n",
       "      <td>831.834028</td>\n",
       "    </tr>\n",
       "    <tr>\n",
       "      <th>325</th>\n",
       "      <td>Paid Subscription</td>\n",
       "      <td>Value (Adjusted)</td>\n",
       "      <td>2015</td>\n",
       "      <td>1</td>\n",
       "      <td>1247.676869</td>\n",
       "    </tr>\n",
       "    <tr>\n",
       "      <th>326</th>\n",
       "      <td>Paid Subscription</td>\n",
       "      <td>Value (Adjusted)</td>\n",
       "      <td>2016</td>\n",
       "      <td>1</td>\n",
       "      <td>2390.487545</td>\n",
       "    </tr>\n",
       "    <tr>\n",
       "      <th>327</th>\n",
       "      <td>Paid Subscription</td>\n",
       "      <td>Value (Adjusted)</td>\n",
       "      <td>2017</td>\n",
       "      <td>1</td>\n",
       "      <td>3651.028327</td>\n",
       "    </tr>\n",
       "    <tr>\n",
       "      <th>328</th>\n",
       "      <td>Paid Subscription</td>\n",
       "      <td>Value (Adjusted)</td>\n",
       "      <td>2018</td>\n",
       "      <td>1</td>\n",
       "      <td>4740.333581</td>\n",
       "    </tr>\n",
       "    <tr>\n",
       "      <th>329</th>\n",
       "      <td>Paid Subscription</td>\n",
       "      <td>Value (Adjusted)</td>\n",
       "      <td>2019</td>\n",
       "      <td>1</td>\n",
       "      <td>5934.397625</td>\n",
       "    </tr>\n",
       "  </tbody>\n",
       "</table>\n",
       "</div>"
      ],
      "text/plain": [
       "                Format            Metric  Year  Number of Records  \\\n",
       "315  Paid Subscription  Value (Adjusted)  2005                  1   \n",
       "316  Paid Subscription  Value (Adjusted)  2006                  1   \n",
       "317  Paid Subscription  Value (Adjusted)  2007                  1   \n",
       "318  Paid Subscription  Value (Adjusted)  2008                  1   \n",
       "319  Paid Subscription  Value (Adjusted)  2009                  1   \n",
       "320  Paid Subscription  Value (Adjusted)  2010                  1   \n",
       "321  Paid Subscription  Value (Adjusted)  2011                  1   \n",
       "322  Paid Subscription  Value (Adjusted)  2012                  1   \n",
       "323  Paid Subscription  Value (Adjusted)  2013                  1   \n",
       "324  Paid Subscription  Value (Adjusted)  2014                  1   \n",
       "325  Paid Subscription  Value (Adjusted)  2015                  1   \n",
       "326  Paid Subscription  Value (Adjusted)  2016                  1   \n",
       "327  Paid Subscription  Value (Adjusted)  2017                  1   \n",
       "328  Paid Subscription  Value (Adjusted)  2018                  1   \n",
       "329  Paid Subscription  Value (Adjusted)  2019                  1   \n",
       "\n",
       "     Value (Actual)  \n",
       "315      195.309905  \n",
       "316      261.490444  \n",
       "317      288.585326  \n",
       "318      262.896754  \n",
       "319      245.722059  \n",
       "320      249.025694  \n",
       "321      281.639932  \n",
       "322      445.276306  \n",
       "323      706.011657  \n",
       "324      831.834028  \n",
       "325     1247.676869  \n",
       "326     2390.487545  \n",
       "327     3651.028327  \n",
       "328     4740.333581  \n",
       "329     5934.397625  "
      ]
     },
     "execution_count": 32,
     "metadata": {},
     "output_type": "execute_result"
    }
   ],
   "source": [
    "format_dfs[3]"
   ]
  },
  {
   "cell_type": "code",
   "execution_count": 33,
   "id": "87727365-ed71-478d-9645-5c14ca97b5b0",
   "metadata": {
    "tags": []
   },
   "outputs": [],
   "source": [
    "# finding CD sales from 2005 and onwards, since paid subscription sales don't arise until 2005\n",
    "cds_2005_on = format_dfs[10][format_dfs[10]['Year']>= 2005]"
   ]
  },
  {
   "cell_type": "code",
   "execution_count": 34,
   "id": "5015c779-b275-4806-a020-7da9bd0f23b1",
   "metadata": {},
   "outputs": [
    {
     "name": "stdout",
     "output_type": "stream",
     "text": [
      "-0.5719970540170898\n"
     ]
    }
   ],
   "source": [
    "print(format_dfs[3]['Value (Actual)'].reset_index(drop=True).corr(cds_2005_on['Value (Actual)'].reset_index(drop=True)))"
   ]
  },
  {
   "cell_type": "markdown",
   "id": "1c6f6234-87a6-44aa-ad3e-d3877e4927b7",
   "metadata": {
    "tags": []
   },
   "source": [
    "Since 2005, **Paid Subscription sales and CD sales have been negatively correlated**, with a correlation of **-0.57**"
   ]
  },
  {
   "cell_type": "code",
   "execution_count": 35,
   "id": "e6a8b010-5de7-4c37-992d-b7e80bd3965e",
   "metadata": {
    "tags": []
   },
   "outputs": [
    {
     "data": {
      "text/plain": [
       "<matplotlib.legend.Legend at 0x7f45e82eb190>"
      ]
     },
     "execution_count": 35,
     "metadata": {},
     "output_type": "execute_result"
    },
    {
     "data": {
      "image/png": "[encoded data removed]",
      "text/plain": [
       "<Figure size 648x432 with 1 Axes>"
      ]
     },
     "metadata": {
      "needs_background": "light"
     },
     "output_type": "display_data"
    }
   ],
   "source": [
    "ax = format_dfs[3].plot(kind='line', x='Year', y='Value (Actual)', figsize=(9,6))\n",
    "cds_2005_on.plot(kind='line', x='Year', y='Value (Actual)', ax=ax)\n",
    "ax.set_title('Paid Subscription vs CD Sales')\n",
    "ax.legend(['Paid Subscription Sales', 'CD Sales'])"
   ]
  },
  {
   "cell_type": "markdown",
   "id": "d7197094-2f7a-42cb-baae-ed8d1100b3c8",
   "metadata": {},
   "source": [
    "Since Paid Subscriptions became available in 2005, Paid Subscription sales have been increasing, while CD sales have been decreasing. This makes sense as the two formats are negatively correlated. Prior to 2015, CD sales were higher than Paid Subscription sales. However, since 2015 it appears that Paid Subscription sales have surpassed CD sales."
   ]
  },
  {
   "cell_type": "markdown",
   "id": "ec2b0e3c-4daf-4a8d-9f66-42d20f3b15c9",
   "metadata": {},
   "source": [
    "Looking at the correlation between **On-Demand Streaming sales and CD sales** since 2011:"
   ]
  },
  {
   "cell_type": "code",
   "execution_count": 36,
   "id": "a18065d1-0135-4d48-8c28-7b22afaed60b",
   "metadata": {},
   "outputs": [
    {
     "data": {
      "text/html": [
       "<div>\n",
       "<style scoped>\n",
       "    .dataframe tbody tr th:only-of-type {\n",
       "        vertical-align: middle;\n",
       "    }\n",
       "\n",
       "    .dataframe tbody tr th {\n",
       "        vertical-align: top;\n",
       "    }\n",
       "\n",
       "    .dataframe thead th {\n",
       "        text-align: right;\n",
       "    }\n",
       "</style>\n",
       "<table border=\"1\" class=\"dataframe\">\n",
       "  <thead>\n",
       "    <tr style=\"text-align: right;\">\n",
       "      <th></th>\n",
       "      <th>Format</th>\n",
       "      <th>Metric</th>\n",
       "      <th>Year</th>\n",
       "      <th>Number of Records</th>\n",
       "      <th>Value (Actual)</th>\n",
       "    </tr>\n",
       "  </thead>\n",
       "  <tbody>\n",
       "    <tr>\n",
       "      <th>294</th>\n",
       "      <td>On-Demand Streaming (Ad-Supported)</td>\n",
       "      <td>Value (Adjusted)</td>\n",
       "      <td>2011</td>\n",
       "      <td>1</td>\n",
       "      <td>129.340695</td>\n",
       "    </tr>\n",
       "    <tr>\n",
       "      <th>295</th>\n",
       "      <td>On-Demand Streaming (Ad-Supported)</td>\n",
       "      <td>Value (Adjusted)</td>\n",
       "      <td>2012</td>\n",
       "      <td>1</td>\n",
       "      <td>190.339616</td>\n",
       "    </tr>\n",
       "    <tr>\n",
       "      <th>296</th>\n",
       "      <td>On-Demand Streaming (Ad-Supported)</td>\n",
       "      <td>Value (Adjusted)</td>\n",
       "      <td>2013</td>\n",
       "      <td>1</td>\n",
       "      <td>242.396098</td>\n",
       "    </tr>\n",
       "    <tr>\n",
       "      <th>297</th>\n",
       "      <td>On-Demand Streaming (Ad-Supported)</td>\n",
       "      <td>Value (Adjusted)</td>\n",
       "      <td>2014</td>\n",
       "      <td>1</td>\n",
       "      <td>306.475448</td>\n",
       "    </tr>\n",
       "    <tr>\n",
       "      <th>298</th>\n",
       "      <td>On-Demand Streaming (Ad-Supported)</td>\n",
       "      <td>Value (Adjusted)</td>\n",
       "      <td>2015</td>\n",
       "      <td>1</td>\n",
       "      <td>401.245264</td>\n",
       "    </tr>\n",
       "    <tr>\n",
       "      <th>299</th>\n",
       "      <td>On-Demand Streaming (Ad-Supported)</td>\n",
       "      <td>Value (Adjusted)</td>\n",
       "      <td>2016</td>\n",
       "      <td>1</td>\n",
       "      <td>521.288175</td>\n",
       "    </tr>\n",
       "    <tr>\n",
       "      <th>300</th>\n",
       "      <td>On-Demand Streaming (Ad-Supported)</td>\n",
       "      <td>Value (Adjusted)</td>\n",
       "      <td>2017</td>\n",
       "      <td>1</td>\n",
       "      <td>686.918081</td>\n",
       "    </tr>\n",
       "    <tr>\n",
       "      <th>301</th>\n",
       "      <td>On-Demand Streaming (Ad-Supported)</td>\n",
       "      <td>Value (Adjusted)</td>\n",
       "      <td>2018</td>\n",
       "      <td>1</td>\n",
       "      <td>773.294917</td>\n",
       "    </tr>\n",
       "    <tr>\n",
       "      <th>302</th>\n",
       "      <td>On-Demand Streaming (Ad-Supported)</td>\n",
       "      <td>Value (Adjusted)</td>\n",
       "      <td>2019</td>\n",
       "      <td>1</td>\n",
       "      <td>908.149331</td>\n",
       "    </tr>\n",
       "  </tbody>\n",
       "</table>\n",
       "</div>"
      ],
      "text/plain": [
       "                                 Format            Metric  Year  \\\n",
       "294  On-Demand Streaming (Ad-Supported)  Value (Adjusted)  2011   \n",
       "295  On-Demand Streaming (Ad-Supported)  Value (Adjusted)  2012   \n",
       "296  On-Demand Streaming (Ad-Supported)  Value (Adjusted)  2013   \n",
       "297  On-Demand Streaming (Ad-Supported)  Value (Adjusted)  2014   \n",
       "298  On-Demand Streaming (Ad-Supported)  Value (Adjusted)  2015   \n",
       "299  On-Demand Streaming (Ad-Supported)  Value (Adjusted)  2016   \n",
       "300  On-Demand Streaming (Ad-Supported)  Value (Adjusted)  2017   \n",
       "301  On-Demand Streaming (Ad-Supported)  Value (Adjusted)  2018   \n",
       "302  On-Demand Streaming (Ad-Supported)  Value (Adjusted)  2019   \n",
       "\n",
       "     Number of Records  Value (Actual)  \n",
       "294                  1      129.340695  \n",
       "295                  1      190.339616  \n",
       "296                  1      242.396098  \n",
       "297                  1      306.475448  \n",
       "298                  1      401.245264  \n",
       "299                  1      521.288175  \n",
       "300                  1      686.918081  \n",
       "301                  1      773.294917  \n",
       "302                  1      908.149331  "
      ]
     },
     "execution_count": 36,
     "metadata": {},
     "output_type": "execute_result"
    }
   ],
   "source": [
    "format_dfs[6]"
   ]
  },
  {
   "cell_type": "code",
   "execution_count": 37,
   "id": "dd8a19b5-df94-4c97-9bb8-fa18f0b03176",
   "metadata": {},
   "outputs": [],
   "source": [
    "# finding CD sales from 2011 and onwards, since on-demand streaming sales didn't arise until 2011\n",
    "cds_2011_on = format_dfs[10][format_dfs[10]['Year']>= 2011]"
   ]
  },
  {
   "cell_type": "code",
   "execution_count": 38,
   "id": "561ff40c-3342-445d-a0cd-917026724667",
   "metadata": {},
   "outputs": [
    {
     "name": "stdout",
     "output_type": "stream",
     "text": [
      "-0.9323705630229808\n"
     ]
    }
   ],
   "source": [
    "print(cds_2011_on['Value (Actual)'].reset_index(drop=True).corr(format_dfs[6]['Value (Actual)'].reset_index(drop=True)))"
   ]
  },
  {
   "cell_type": "markdown",
   "id": "7dc974f2-206c-4bdc-9352-e7927b45ed40",
   "metadata": {},
   "source": [
    "Since 2011, **On-Demand Streaming (Ad-Supported) sales and CD sales have been very negatively correlated**, with a correlation of **-0.93**"
   ]
  },
  {
   "cell_type": "code",
   "execution_count": 39,
   "id": "69526f78-631e-4645-b010-fd1c159f50bf",
   "metadata": {},
   "outputs": [
    {
     "data": {
      "text/plain": [
       "<matplotlib.legend.Legend at 0x7f45e68b8d30>"
      ]
     },
     "execution_count": 39,
     "metadata": {},
     "output_type": "execute_result"
    },
    {
     "data": {
      "image/png": "[encoded data removed]",
      "text/plain": [
       "<Figure size 648x432 with 1 Axes>"
      ]
     },
     "metadata": {
      "needs_background": "light"
     },
     "output_type": "display_data"
    }
   ],
   "source": [
    "ax = format_dfs[6].plot(kind='line', x='Year', y='Value (Actual)', figsize=(9,6))\n",
    "cds_2011_on.plot(kind='line', x='Year', y='Value (Actual)', ax=ax)\n",
    "ax.set_title('On-Demand Streaming vs CD Sales')\n",
    "ax.legend(['On-Demand Streaming Sales', 'CD Sales'])"
   ]
  },
  {
   "cell_type": "markdown",
   "id": "90652be4-d932-44ca-8963-58ba47e23faa",
   "metadata": {},
   "source": [
    "Since On-Demand Streaming arose in 2011, On-Demand Streaming sales have been increasing, while CD sales have been decreasing. This is consistent with the results of the correlation analysis. Prior to 2018, CD sales were higher than On-Demand Streaming sales. However, since roughly 2018, On-Demand Streaming sales have surpassed CD sales."
   ]
  },
  {
   "cell_type": "markdown",
   "id": "f809822f-19a8-440d-8882-f5cf8345c6cc",
   "metadata": {},
   "source": [
    "Looking at the correlation between **Paid Subscription sales and Cassette sales** between 2005 and 2008:"
   ]
  },
  {
   "cell_type": "code",
   "execution_count": 40,
   "id": "430c684a-377c-4dcf-8acc-79cc9174a626",
   "metadata": {},
   "outputs": [],
   "source": [
    "# finding paid subscription sales from 2008 and before since the Cassette sales data ends in 2008\n",
    "ps_before_2008 = format_dfs[3][format_dfs[3]['Year']<=2008]"
   ]
  },
  {
   "cell_type": "code",
   "execution_count": 41,
   "id": "d4e81f09-554a-4b9e-93f8-66f0202af4dc",
   "metadata": {},
   "outputs": [],
   "source": [
    "# finding cassette sales from 2005 and on, since paid subscriptions aren't available until 2005\n",
    "cassette_2005_on = format_dfs[5][format_dfs[5]['Year']>=2005]"
   ]
  },
  {
   "cell_type": "code",
   "execution_count": 42,
   "id": "b1b343b7-9d3a-4a04-a139-2863905b73de",
   "metadata": {},
   "outputs": [
    {
     "name": "stdout",
     "output_type": "stream",
     "text": [
      "-0.9141174644189466\n"
     ]
    }
   ],
   "source": [
    "print(ps_before_2008['Value (Actual)'].reset_index(drop=True).corr(cassette_2005_on['Value (Actual)'].reset_index(drop=True)))"
   ]
  },
  {
   "cell_type": "markdown",
   "id": "5d7a020d-b6ff-44d7-b2b3-85a280b35ec9",
   "metadata": {},
   "source": [
    "Between 2005 and 2008, **Paid Subscription sales and Cassette sales were very negatively correlated**, with a correlation of **-0.91**"
   ]
  },
  {
   "cell_type": "code",
   "execution_count": 43,
   "id": "6789318f-5c45-435e-9ec4-b3119f0df085",
   "metadata": {},
   "outputs": [
    {
     "data": {
      "text/plain": [
       "<matplotlib.legend.Legend at 0x7f45e687bfd0>"
      ]
     },
     "execution_count": 43,
     "metadata": {},
     "output_type": "execute_result"
    },
    {
     "data": {
      "image/png": "[encoded data removed]",
      "text/plain": [
       "<Figure size 648x432 with 1 Axes>"
      ]
     },
     "metadata": {
      "needs_background": "light"
     },
     "output_type": "display_data"
    }
   ],
   "source": [
    "ax = ps_before_2008.plot(kind='line', x='Year', y='Value (Actual)', figsize=(9,6))\n",
    "cassette_2005_on.plot(kind='line', x='Year', y='Value (Actual)', ax=ax)\n",
    "ax.set_title('Paid Subscription vs Cassette Sales')\n",
    "ax.legend(['Paid Subscription Sales', 'Cassette Sales'])"
   ]
  },
  {
   "cell_type": "markdown",
   "id": "e9435aa3-25bd-4bed-8a02-af3907c1e6be",
   "metadata": {},
   "source": [
    "Between 2005 and 2008 (when Paid Subscription and Cassette sales overlapped as sales formats) Paid Subscription sales were significantly higher than Cassette sales. Additionally, Paid Subscription sales increased between 2005 and 2008 while Cassette sales decreased."
   ]
  },
  {
   "cell_type": "markdown",
   "id": "bb0a8bda-989b-453e-8045-22523e0bc7d0",
   "metadata": {},
   "source": [
    "Looking at correlation between **Paid Subscription Sales and On-Demand Streaming sales** after 2011: "
   ]
  },
  {
   "cell_type": "code",
   "execution_count": 44,
   "id": "8eda4858-50d1-476f-9a8a-e3360c917e29",
   "metadata": {},
   "outputs": [
    {
     "data": {
      "text/html": [
       "<div>\n",
       "<style scoped>\n",
       "    .dataframe tbody tr th:only-of-type {\n",
       "        vertical-align: middle;\n",
       "    }\n",
       "\n",
       "    .dataframe tbody tr th {\n",
       "        vertical-align: top;\n",
       "    }\n",
       "\n",
       "    .dataframe thead th {\n",
       "        text-align: right;\n",
       "    }\n",
       "</style>\n",
       "<table border=\"1\" class=\"dataframe\">\n",
       "  <thead>\n",
       "    <tr style=\"text-align: right;\">\n",
       "      <th></th>\n",
       "      <th>Format</th>\n",
       "      <th>Metric</th>\n",
       "      <th>Year</th>\n",
       "      <th>Number of Records</th>\n",
       "      <th>Value (Actual)</th>\n",
       "    </tr>\n",
       "  </thead>\n",
       "  <tbody>\n",
       "    <tr>\n",
       "      <th>294</th>\n",
       "      <td>On-Demand Streaming (Ad-Supported)</td>\n",
       "      <td>Value (Adjusted)</td>\n",
       "      <td>2011</td>\n",
       "      <td>1</td>\n",
       "      <td>129.340695</td>\n",
       "    </tr>\n",
       "    <tr>\n",
       "      <th>295</th>\n",
       "      <td>On-Demand Streaming (Ad-Supported)</td>\n",
       "      <td>Value (Adjusted)</td>\n",
       "      <td>2012</td>\n",
       "      <td>1</td>\n",
       "      <td>190.339616</td>\n",
       "    </tr>\n",
       "    <tr>\n",
       "      <th>296</th>\n",
       "      <td>On-Demand Streaming (Ad-Supported)</td>\n",
       "      <td>Value (Adjusted)</td>\n",
       "      <td>2013</td>\n",
       "      <td>1</td>\n",
       "      <td>242.396098</td>\n",
       "    </tr>\n",
       "    <tr>\n",
       "      <th>297</th>\n",
       "      <td>On-Demand Streaming (Ad-Supported)</td>\n",
       "      <td>Value (Adjusted)</td>\n",
       "      <td>2014</td>\n",
       "      <td>1</td>\n",
       "      <td>306.475448</td>\n",
       "    </tr>\n",
       "    <tr>\n",
       "      <th>298</th>\n",
       "      <td>On-Demand Streaming (Ad-Supported)</td>\n",
       "      <td>Value (Adjusted)</td>\n",
       "      <td>2015</td>\n",
       "      <td>1</td>\n",
       "      <td>401.245264</td>\n",
       "    </tr>\n",
       "    <tr>\n",
       "      <th>299</th>\n",
       "      <td>On-Demand Streaming (Ad-Supported)</td>\n",
       "      <td>Value (Adjusted)</td>\n",
       "      <td>2016</td>\n",
       "      <td>1</td>\n",
       "      <td>521.288175</td>\n",
       "    </tr>\n",
       "    <tr>\n",
       "      <th>300</th>\n",
       "      <td>On-Demand Streaming (Ad-Supported)</td>\n",
       "      <td>Value (Adjusted)</td>\n",
       "      <td>2017</td>\n",
       "      <td>1</td>\n",
       "      <td>686.918081</td>\n",
       "    </tr>\n",
       "    <tr>\n",
       "      <th>301</th>\n",
       "      <td>On-Demand Streaming (Ad-Supported)</td>\n",
       "      <td>Value (Adjusted)</td>\n",
       "      <td>2018</td>\n",
       "      <td>1</td>\n",
       "      <td>773.294917</td>\n",
       "    </tr>\n",
       "    <tr>\n",
       "      <th>302</th>\n",
       "      <td>On-Demand Streaming (Ad-Supported)</td>\n",
       "      <td>Value (Adjusted)</td>\n",
       "      <td>2019</td>\n",
       "      <td>1</td>\n",
       "      <td>908.149331</td>\n",
       "    </tr>\n",
       "  </tbody>\n",
       "</table>\n",
       "</div>"
      ],
      "text/plain": [
       "                                 Format            Metric  Year  \\\n",
       "294  On-Demand Streaming (Ad-Supported)  Value (Adjusted)  2011   \n",
       "295  On-Demand Streaming (Ad-Supported)  Value (Adjusted)  2012   \n",
       "296  On-Demand Streaming (Ad-Supported)  Value (Adjusted)  2013   \n",
       "297  On-Demand Streaming (Ad-Supported)  Value (Adjusted)  2014   \n",
       "298  On-Demand Streaming (Ad-Supported)  Value (Adjusted)  2015   \n",
       "299  On-Demand Streaming (Ad-Supported)  Value (Adjusted)  2016   \n",
       "300  On-Demand Streaming (Ad-Supported)  Value (Adjusted)  2017   \n",
       "301  On-Demand Streaming (Ad-Supported)  Value (Adjusted)  2018   \n",
       "302  On-Demand Streaming (Ad-Supported)  Value (Adjusted)  2019   \n",
       "\n",
       "     Number of Records  Value (Actual)  \n",
       "294                  1      129.340695  \n",
       "295                  1      190.339616  \n",
       "296                  1      242.396098  \n",
       "297                  1      306.475448  \n",
       "298                  1      401.245264  \n",
       "299                  1      521.288175  \n",
       "300                  1      686.918081  \n",
       "301                  1      773.294917  \n",
       "302                  1      908.149331  "
      ]
     },
     "execution_count": 44,
     "metadata": {},
     "output_type": "execute_result"
    }
   ],
   "source": [
    "format_dfs[6]"
   ]
  },
  {
   "cell_type": "code",
   "execution_count": 45,
   "id": "4d4a56a6-cbe5-4fb8-8968-f33e5f09b635",
   "metadata": {},
   "outputs": [],
   "source": [
    "# finding paid subscription sales from 2011 and on, as on-demand streaming begins in 2011\n",
    "ps_2011_on = format_dfs[3][format_dfs[3]['Year']>=2011]"
   ]
  },
  {
   "cell_type": "code",
   "execution_count": 46,
   "id": "aa4d8a5a-7b5f-4616-9c54-713e7b07028a",
   "metadata": {
    "tags": []
   },
   "outputs": [
    {
     "name": "stdout",
     "output_type": "stream",
     "text": [
      "0.9851826999334489\n"
     ]
    }
   ],
   "source": [
    "print(ps_2011_on['Value (Actual)'].reset_index(drop=True).corr(format_dfs[6]['Value (Actual)'].reset_index(drop=True)))"
   ]
  },
  {
   "cell_type": "markdown",
   "id": "cd8310cb-8c6d-41f8-9fb1-7d95d7ea800a",
   "metadata": {},
   "source": [
    "Since 2011, **Paid Subscription sales and On-Demand Streaming sales** have been very highly correlated, with a correlation of **0.98**"
   ]
  },
  {
   "cell_type": "code",
   "execution_count": 47,
   "id": "9d38758d-6bfb-40fd-b620-c7248a4f70bf",
   "metadata": {
    "tags": []
   },
   "outputs": [
    {
     "data": {
      "text/plain": [
       "<matplotlib.legend.Legend at 0x7f45e67ea370>"
      ]
     },
     "execution_count": 47,
     "metadata": {},
     "output_type": "execute_result"
    },
    {
     "data": {
      "image/png": "[encoded data removed]",
      "text/plain": [
       "<Figure size 648x432 with 1 Axes>"
      ]
     },
     "metadata": {
      "needs_background": "light"
     },
     "output_type": "display_data"
    }
   ],
   "source": [
    "ax = ps_2011_on.plot(kind='line', x='Year', y='Value (Actual)', figsize=(9,6))\n",
    "format_dfs[6].plot(kind='line', x='Year', y='Value (Actual)', ax=ax)\n",
    "ax.set_title('Paid Subscription vs On-Demand Streaming Sales')\n",
    "ax.legend(['Paid Subscription Sales', 'On-Demand Streaming Sales'])"
   ]
  },
  {
   "cell_type": "markdown",
   "id": "9bc7d5da-acbe-48b5-b16c-f30dc032f4b9",
   "metadata": {},
   "source": [
    "Since 2011, both Paid Subscription sales as well as On-Demand Streaming sales have increased, which makes sense since they are highly correlated. However, Paid Subscription sales increased at a higher rate than On-Demand Streaming sales."
   ]
  },
  {
   "cell_type": "markdown",
   "id": "14840f95-6a57-4c74-9db9-8b121f2899f0",
   "metadata": {},
   "source": [
    "Looking at the correlation between **On-Demand Streaming (Ad-Supported) sales and Other Ad-Supported Streaming sales** after 2016:"
   ]
  },
  {
   "cell_type": "code",
   "execution_count": 48,
   "id": "ff58ccd6-ef34-4f8d-b96a-b3c17ec0eb4d",
   "metadata": {},
   "outputs": [
    {
     "data": {
      "text/html": [
       "<div>\n",
       "<style scoped>\n",
       "    .dataframe tbody tr th:only-of-type {\n",
       "        vertical-align: middle;\n",
       "    }\n",
       "\n",
       "    .dataframe tbody tr th {\n",
       "        vertical-align: top;\n",
       "    }\n",
       "\n",
       "    .dataframe thead th {\n",
       "        text-align: right;\n",
       "    }\n",
       "</style>\n",
       "<table border=\"1\" class=\"dataframe\">\n",
       "  <thead>\n",
       "    <tr style=\"text-align: right;\">\n",
       "      <th></th>\n",
       "      <th>Format</th>\n",
       "      <th>Metric</th>\n",
       "      <th>Year</th>\n",
       "      <th>Number of Records</th>\n",
       "      <th>Value (Actual)</th>\n",
       "    </tr>\n",
       "  </thead>\n",
       "  <tbody>\n",
       "    <tr>\n",
       "      <th>303</th>\n",
       "      <td>Other Ad-Supported Streaming</td>\n",
       "      <td>Value (Adjusted)</td>\n",
       "      <td>2016</td>\n",
       "      <td>1</td>\n",
       "      <td>86.559597</td>\n",
       "    </tr>\n",
       "    <tr>\n",
       "      <th>304</th>\n",
       "      <td>Other Ad-Supported Streaming</td>\n",
       "      <td>Value (Adjusted)</td>\n",
       "      <td>2017</td>\n",
       "      <td>1</td>\n",
       "      <td>273.040319</td>\n",
       "    </tr>\n",
       "    <tr>\n",
       "      <th>305</th>\n",
       "      <td>Other Ad-Supported Streaming</td>\n",
       "      <td>Value (Adjusted)</td>\n",
       "      <td>2018</td>\n",
       "      <td>1</td>\n",
       "      <td>255.967444</td>\n",
       "    </tr>\n",
       "    <tr>\n",
       "      <th>306</th>\n",
       "      <td>Other Ad-Supported Streaming</td>\n",
       "      <td>Value (Adjusted)</td>\n",
       "      <td>2019</td>\n",
       "      <td>1</td>\n",
       "      <td>251.064710</td>\n",
       "    </tr>\n",
       "  </tbody>\n",
       "</table>\n",
       "</div>"
      ],
      "text/plain": [
       "                           Format            Metric  Year  Number of Records  \\\n",
       "303  Other Ad-Supported Streaming  Value (Adjusted)  2016                  1   \n",
       "304  Other Ad-Supported Streaming  Value (Adjusted)  2017                  1   \n",
       "305  Other Ad-Supported Streaming  Value (Adjusted)  2018                  1   \n",
       "306  Other Ad-Supported Streaming  Value (Adjusted)  2019                  1   \n",
       "\n",
       "     Value (Actual)  \n",
       "303       86.559597  \n",
       "304      273.040319  \n",
       "305      255.967444  \n",
       "306      251.064710  "
      ]
     },
     "execution_count": 48,
     "metadata": {},
     "output_type": "execute_result"
    }
   ],
   "source": [
    "format_dfs[2]"
   ]
  },
  {
   "cell_type": "code",
   "execution_count": 49,
   "id": "1493350d-ce80-483e-a17c-e033449be4e1",
   "metadata": {},
   "outputs": [],
   "source": [
    "# finding on-demand streaming sales since 2016\n",
    "ods_2016_on = format_dfs[6][format_dfs[6]['Year']>=2016]"
   ]
  },
  {
   "cell_type": "code",
   "execution_count": 50,
   "id": "2f3905a7-b30d-4486-9f71-08d1e2677262",
   "metadata": {},
   "outputs": [
    {
     "name": "stdout",
     "output_type": "stream",
     "text": [
      "0.767500469481728\n"
     ]
    }
   ],
   "source": [
    "print(ods_2016_on['Value (Actual)'].reset_index(drop=True).corr(format_dfs[2]['Value (Actual)'].reset_index(drop=True)))"
   ]
  },
  {
   "cell_type": "markdown",
   "id": "e44eca42-1dd0-4f6a-97b0-6973189e8c6c",
   "metadata": {},
   "source": [
    "Since 2016, when Other Ad-Supported Streaming became an option, **Other Ad-Supported Streaming sales and On-Demand Streaming (Ad-Supported) have been highly correlated**, with a correlation of **0.77**"
   ]
  },
  {
   "cell_type": "code",
   "execution_count": 51,
   "id": "4d5996d6-7050-4ed1-a53a-bed181787480",
   "metadata": {},
   "outputs": [
    {
     "data": {
      "text/plain": [
       "<matplotlib.legend.Legend at 0x7f45e67d0ee0>"
      ]
     },
     "execution_count": 51,
     "metadata": {},
     "output_type": "execute_result"
    },
    {
     "data": {
      "image/png": "[encoded data removed]",
      "text/plain": [
       "<Figure size 648x432 with 1 Axes>"
      ]
     },
     "metadata": {
      "needs_background": "light"
     },
     "output_type": "display_data"
    }
   ],
   "source": [
    "ax = ods_2016_on.plot(kind='line', x='Year', y='Value (Actual)', figsize=(9,6))\n",
    "format_dfs[2].plot(kind='line', x='Year', y='Value (Actual)', ax=ax)\n",
    "ax.set_title('On-Demand Streaming vs Other Ad-Supported Streaming Sales')\n",
    "ax.legend(['On-Demand Streaming Sales', 'Other Ad-Supported Streaming Sales'])"
   ]
  },
  {
   "cell_type": "markdown",
   "id": "9f44e212-e34c-47fc-8ac5-9d25186eec77",
   "metadata": {},
   "source": [
    "Since 2016, both On-Demand Streaming (Ad-Supported) sales and Other Ad-Supported Streaming sales have increased, which is consistent with the correlation results. Despite both sales formats increasing, On-Demand Streaming (Ad-Supported) sales were higher than Other Ad-Supported Streaming sales between 2016 and 2019. "
   ]
  },
  {
   "cell_type": "markdown",
   "id": "819a5350-f7f7-47ec-a285-a865bf8a4b0e",
   "metadata": {
    "tags": []
   },
   "source": [
    "Looking at the correlation between **On-Demand Streaming (Ad-Supported) Sales and Download Album sales** since 2011:"
   ]
  },
  {
   "cell_type": "code",
   "execution_count": 52,
   "id": "07028bc2-bac6-41ac-b9fe-5c49a105ebcc",
   "metadata": {
    "tags": []
   },
   "outputs": [
    {
     "data": {
      "text/html": [
       "<div>\n",
       "<style scoped>\n",
       "    .dataframe tbody tr th:only-of-type {\n",
       "        vertical-align: middle;\n",
       "    }\n",
       "\n",
       "    .dataframe tbody tr th {\n",
       "        vertical-align: top;\n",
       "    }\n",
       "\n",
       "    .dataframe thead th {\n",
       "        text-align: right;\n",
       "    }\n",
       "</style>\n",
       "<table border=\"1\" class=\"dataframe\">\n",
       "  <thead>\n",
       "    <tr style=\"text-align: right;\">\n",
       "      <th></th>\n",
       "      <th>Format</th>\n",
       "      <th>Metric</th>\n",
       "      <th>Year</th>\n",
       "      <th>Number of Records</th>\n",
       "      <th>Value (Actual)</th>\n",
       "    </tr>\n",
       "  </thead>\n",
       "  <tbody>\n",
       "    <tr>\n",
       "      <th>294</th>\n",
       "      <td>On-Demand Streaming (Ad-Supported)</td>\n",
       "      <td>Value (Adjusted)</td>\n",
       "      <td>2011</td>\n",
       "      <td>1</td>\n",
       "      <td>129.340695</td>\n",
       "    </tr>\n",
       "    <tr>\n",
       "      <th>295</th>\n",
       "      <td>On-Demand Streaming (Ad-Supported)</td>\n",
       "      <td>Value (Adjusted)</td>\n",
       "      <td>2012</td>\n",
       "      <td>1</td>\n",
       "      <td>190.339616</td>\n",
       "    </tr>\n",
       "    <tr>\n",
       "      <th>296</th>\n",
       "      <td>On-Demand Streaming (Ad-Supported)</td>\n",
       "      <td>Value (Adjusted)</td>\n",
       "      <td>2013</td>\n",
       "      <td>1</td>\n",
       "      <td>242.396098</td>\n",
       "    </tr>\n",
       "    <tr>\n",
       "      <th>297</th>\n",
       "      <td>On-Demand Streaming (Ad-Supported)</td>\n",
       "      <td>Value (Adjusted)</td>\n",
       "      <td>2014</td>\n",
       "      <td>1</td>\n",
       "      <td>306.475448</td>\n",
       "    </tr>\n",
       "    <tr>\n",
       "      <th>298</th>\n",
       "      <td>On-Demand Streaming (Ad-Supported)</td>\n",
       "      <td>Value (Adjusted)</td>\n",
       "      <td>2015</td>\n",
       "      <td>1</td>\n",
       "      <td>401.245264</td>\n",
       "    </tr>\n",
       "    <tr>\n",
       "      <th>299</th>\n",
       "      <td>On-Demand Streaming (Ad-Supported)</td>\n",
       "      <td>Value (Adjusted)</td>\n",
       "      <td>2016</td>\n",
       "      <td>1</td>\n",
       "      <td>521.288175</td>\n",
       "    </tr>\n",
       "    <tr>\n",
       "      <th>300</th>\n",
       "      <td>On-Demand Streaming (Ad-Supported)</td>\n",
       "      <td>Value (Adjusted)</td>\n",
       "      <td>2017</td>\n",
       "      <td>1</td>\n",
       "      <td>686.918081</td>\n",
       "    </tr>\n",
       "    <tr>\n",
       "      <th>301</th>\n",
       "      <td>On-Demand Streaming (Ad-Supported)</td>\n",
       "      <td>Value (Adjusted)</td>\n",
       "      <td>2018</td>\n",
       "      <td>1</td>\n",
       "      <td>773.294917</td>\n",
       "    </tr>\n",
       "    <tr>\n",
       "      <th>302</th>\n",
       "      <td>On-Demand Streaming (Ad-Supported)</td>\n",
       "      <td>Value (Adjusted)</td>\n",
       "      <td>2019</td>\n",
       "      <td>1</td>\n",
       "      <td>908.149331</td>\n",
       "    </tr>\n",
       "  </tbody>\n",
       "</table>\n",
       "</div>"
      ],
      "text/plain": [
       "                                 Format            Metric  Year  \\\n",
       "294  On-Demand Streaming (Ad-Supported)  Value (Adjusted)  2011   \n",
       "295  On-Demand Streaming (Ad-Supported)  Value (Adjusted)  2012   \n",
       "296  On-Demand Streaming (Ad-Supported)  Value (Adjusted)  2013   \n",
       "297  On-Demand Streaming (Ad-Supported)  Value (Adjusted)  2014   \n",
       "298  On-Demand Streaming (Ad-Supported)  Value (Adjusted)  2015   \n",
       "299  On-Demand Streaming (Ad-Supported)  Value (Adjusted)  2016   \n",
       "300  On-Demand Streaming (Ad-Supported)  Value (Adjusted)  2017   \n",
       "301  On-Demand Streaming (Ad-Supported)  Value (Adjusted)  2018   \n",
       "302  On-Demand Streaming (Ad-Supported)  Value (Adjusted)  2019   \n",
       "\n",
       "     Number of Records  Value (Actual)  \n",
       "294                  1      129.340695  \n",
       "295                  1      190.339616  \n",
       "296                  1      242.396098  \n",
       "297                  1      306.475448  \n",
       "298                  1      401.245264  \n",
       "299                  1      521.288175  \n",
       "300                  1      686.918081  \n",
       "301                  1      773.294917  \n",
       "302                  1      908.149331  "
      ]
     },
     "execution_count": 52,
     "metadata": {},
     "output_type": "execute_result"
    }
   ],
   "source": [
    "format_dfs[6]"
   ]
  },
  {
   "cell_type": "code",
   "execution_count": 53,
   "id": "67b015f8-a70d-434d-bdd7-05b62db609da",
   "metadata": {},
   "outputs": [],
   "source": [
    "# finding download album sales since 2011 (when On-Demand Streaming became an option)\n",
    "download_album_2011_on = format_dfs[1][format_dfs[1]['Year']>=2011]"
   ]
  },
  {
   "cell_type": "code",
   "execution_count": 54,
   "id": "7b92ba5b-5fb2-4cca-925a-103c0e2be437",
   "metadata": {},
   "outputs": [
    {
     "name": "stdout",
     "output_type": "stream",
     "text": [
      "-0.9715897248193843\n"
     ]
    }
   ],
   "source": [
    "print(download_album_2011_on['Value (Actual)'].reset_index(drop=True).corr(format_dfs[6]['Value (Actual)'].reset_index(drop=True)))"
   ]
  },
  {
   "cell_type": "markdown",
   "id": "d4b8783a-5513-4e5b-851f-31916ff31a40",
   "metadata": {},
   "source": [
    "Since 2011, **Download Album sales and On-Demand Streaming (Ad-Supported) sales have been very negatively correlated**, with a correlation of **-0.97**"
   ]
  },
  {
   "cell_type": "code",
   "execution_count": 55,
   "id": "9c6c206e-de32-459c-aeb4-82b0a191386e",
   "metadata": {},
   "outputs": [
    {
     "data": {
      "text/plain": [
       "<matplotlib.legend.Legend at 0x7f45e66f4a60>"
      ]
     },
     "execution_count": 55,
     "metadata": {},
     "output_type": "execute_result"
    },
    {
     "data": {
      "image/png": "[encoded data removed]",
      "text/plain": [
       "<Figure size 648x432 with 1 Axes>"
      ]
     },
     "metadata": {
      "needs_background": "light"
     },
     "output_type": "display_data"
    }
   ],
   "source": [
    "ax = download_album_2011_on.plot(kind='line', x='Year', y='Value (Actual)', figsize=(9,6))\n",
    "format_dfs[6].plot(kind='line', x='Year', y='Value (Actual)', ax=ax)\n",
    "ax.set_title('Download Album vs On-Demand Streaming Sales')\n",
    "ax.legend(['Download Album Sales', 'On-Demand Streaming Sales'])"
   ]
  },
  {
   "cell_type": "markdown",
   "id": "139ef75d-727a-4c91-b818-a93748d9a2dc",
   "metadata": {},
   "source": [
    "Since 2011, On-Demand Streaming sales have been increasing, while Download Album sales have been decreasing. This makes sense since the two formats are negatively correlated. Prior to 2017, Download Album sales were higher than On-Demand Streaming sales. However, after 2017 On-Demand Streaming sales surpassed Download Album sales."
   ]
  },
  {
   "cell_type": "markdown",
   "id": "36df35ce-a771-4cbf-a7ac-9c21467eca68",
   "metadata": {},
   "source": [
    "Looking at the correlation between **Download Music Video sales and Download Album sales**:"
   ]
  },
  {
   "cell_type": "code",
   "execution_count": 56,
   "id": "958694c8-00ae-47a0-a3bd-508f6a8c006e",
   "metadata": {
    "tags": []
   },
   "outputs": [
    {
     "name": "stdout",
     "output_type": "stream",
     "text": [
      "-0.07942243204594712\n"
     ]
    }
   ],
   "source": [
    "print(format_dfs[0]['Value (Actual)'].reset_index(drop=True).corr(format_dfs[1]['Value (Actual)'].reset_index(drop=True)))"
   ]
  },
  {
   "cell_type": "markdown",
   "id": "75fa9a4e-86ab-43e6-8aec-094dd686b258",
   "metadata": {},
   "source": [
    "I assumed **Download Music Video sales and Download Album sales** would be positivley correlated as they are both sales formats that involve downloading. However they are **barely correlated**, with a slight negative correlation of **-0.08**"
   ]
  },
  {
   "cell_type": "code",
   "execution_count": 57,
   "id": "1fdf67b2-5887-4c2a-8fb1-d4501e0d04d3",
   "metadata": {},
   "outputs": [
    {
     "data": {
      "text/plain": [
       "<matplotlib.legend.Legend at 0x7f45f05012b0>"
      ]
     },
     "execution_count": 57,
     "metadata": {},
     "output_type": "execute_result"
    },
    {
     "data": {
      "image/png": "[encoded data removed]",
      "text/plain": [
       "<Figure size 648x432 with 1 Axes>"
      ]
     },
     "metadata": {
      "needs_background": "light"
     },
     "output_type": "display_data"
    }
   ],
   "source": [
    "ax = format_dfs[0].plot(kind='line', x='Year', y='Value (Actual)', figsize=(9,6))\n",
    "format_dfs[1].plot(kind='line', x='Year', y='Value (Actual)', ax=ax)\n",
    "ax.set_title('Download Music Video vs Download Album Sales')\n",
    "plt.legend(['Download Music Video Sales', 'Download Album Sales'], bbox_to_anchor=(0.38, 1.0),)"
   ]
  },
  {
   "cell_type": "markdown",
   "id": "cc96245f-6557-4c18-a8ad-a95dd854b138",
   "metadata": {},
   "source": [
    "Since 2004, Download Album sales have been higher than Download Music Video sales. Between 2004 and now, Download Music Video Sales slightly decreased, while Download Album sales increased until roughly 2013, and have been decreasing ever since."
   ]
  },
  {
   "cell_type": "markdown",
   "id": "9cc79447-fc20-4699-947b-b03db8f9f5a3",
   "metadata": {},
   "source": [
    "Looking at the correlation between **CD Single sales and Download Single sales** after 2004:"
   ]
  },
  {
   "cell_type": "code",
   "execution_count": 58,
   "id": "5ca3db9e-3528-49bc-9187-2d9c67eea4eb",
   "metadata": {
    "tags": []
   },
   "outputs": [],
   "source": [
    "# finding CD single sales since 2004 (when download singles became available)\n",
    "cd_single_2004_on = format_dfs[12][format_dfs[12]['Year']>=2004]"
   ]
  },
  {
   "cell_type": "code",
   "execution_count": 59,
   "id": "66c290a8-87aa-4b6e-bbcf-147f1faa3552",
   "metadata": {},
   "outputs": [
    {
     "name": "stdout",
     "output_type": "stream",
     "text": [
      "-0.4073087892744402\n"
     ]
    }
   ],
   "source": [
    "print(cd_single_2004_on['Value (Actual)'].reset_index(drop=True).corr(format_dfs[20]['Value (Actual)'].reset_index(drop=True)))"
   ]
  },
  {
   "cell_type": "markdown",
   "id": "77a8f212-1e03-440b-9195-c890b1220b0b",
   "metadata": {},
   "source": [
    "Since 2004, **CD Single sales and Download Single sales have been negatively correlated**, with a correlation of **-0.4**"
   ]
  },
  {
   "cell_type": "code",
   "execution_count": 60,
   "id": "20d0ac07-63c3-46f4-8343-d2ab56e6a7df",
   "metadata": {},
   "outputs": [
    {
     "data": {
      "text/plain": [
       "<matplotlib.legend.Legend at 0x7f45e664ab80>"
      ]
     },
     "execution_count": 60,
     "metadata": {},
     "output_type": "execute_result"
    },
    {
     "data": {
      "image/png": "[encoded data removed]",
      "text/plain": [
       "<Figure size 648x432 with 1 Axes>"
      ]
     },
     "metadata": {
      "needs_background": "light"
     },
     "output_type": "display_data"
    }
   ],
   "source": [
    "ax = format_dfs[20].plot(kind='line', x='Year', y='Value (Actual)', figsize=(9,6))\n",
    "cd_single_2004_on.plot(kind='line', x='Year', y='Value (Actual)', ax=ax)\n",
    "ax.set_title('Download Single vs CD Single Sales')\n",
    "ax.legend(['Download Single Sales', 'CD Single Sales'])"
   ]
  },
  {
   "cell_type": "markdown",
   "id": "b7d47a78-dde6-4fac-b989-7391f332c41f",
   "metadata": {},
   "source": [
    "Since 2004, Download Single sales have been higher than CD Single sales. Between 2004 and now, CD Single Sales slightly decreased, while Download Single sales increased until roughly 2012, and have been decreasing ever since."
   ]
  },
  {
   "cell_type": "markdown",
   "id": "dedc319b-3fb8-4b0d-9ffb-5f3d5b9b2cb2",
   "metadata": {},
   "source": [
    "Looking at the correlation between **Other Ad-Supported Streaming sales and Limited Tier Paid Subscription sales**:"
   ]
  },
  {
   "cell_type": "code",
   "execution_count": 61,
   "id": "66a62891-bb09-4e53-b4fa-d5a4cdd65d1d",
   "metadata": {},
   "outputs": [
    {
     "data": {
      "text/html": [
       "<div>\n",
       "<style scoped>\n",
       "    .dataframe tbody tr th:only-of-type {\n",
       "        vertical-align: middle;\n",
       "    }\n",
       "\n",
       "    .dataframe tbody tr th {\n",
       "        vertical-align: top;\n",
       "    }\n",
       "\n",
       "    .dataframe thead th {\n",
       "        text-align: right;\n",
       "    }\n",
       "</style>\n",
       "<table border=\"1\" class=\"dataframe\">\n",
       "  <thead>\n",
       "    <tr style=\"text-align: right;\">\n",
       "      <th></th>\n",
       "      <th>Format</th>\n",
       "      <th>Metric</th>\n",
       "      <th>Year</th>\n",
       "      <th>Number of Records</th>\n",
       "      <th>Value (Actual)</th>\n",
       "    </tr>\n",
       "  </thead>\n",
       "  <tbody>\n",
       "    <tr>\n",
       "      <th>303</th>\n",
       "      <td>Other Ad-Supported Streaming</td>\n",
       "      <td>Value (Adjusted)</td>\n",
       "      <td>2016</td>\n",
       "      <td>1</td>\n",
       "      <td>86.559597</td>\n",
       "    </tr>\n",
       "    <tr>\n",
       "      <th>304</th>\n",
       "      <td>Other Ad-Supported Streaming</td>\n",
       "      <td>Value (Adjusted)</td>\n",
       "      <td>2017</td>\n",
       "      <td>1</td>\n",
       "      <td>273.040319</td>\n",
       "    </tr>\n",
       "    <tr>\n",
       "      <th>305</th>\n",
       "      <td>Other Ad-Supported Streaming</td>\n",
       "      <td>Value (Adjusted)</td>\n",
       "      <td>2018</td>\n",
       "      <td>1</td>\n",
       "      <td>255.967444</td>\n",
       "    </tr>\n",
       "    <tr>\n",
       "      <th>306</th>\n",
       "      <td>Other Ad-Supported Streaming</td>\n",
       "      <td>Value (Adjusted)</td>\n",
       "      <td>2019</td>\n",
       "      <td>1</td>\n",
       "      <td>251.064710</td>\n",
       "    </tr>\n",
       "  </tbody>\n",
       "</table>\n",
       "</div>"
      ],
      "text/plain": [
       "                           Format            Metric  Year  Number of Records  \\\n",
       "303  Other Ad-Supported Streaming  Value (Adjusted)  2016                  1   \n",
       "304  Other Ad-Supported Streaming  Value (Adjusted)  2017                  1   \n",
       "305  Other Ad-Supported Streaming  Value (Adjusted)  2018                  1   \n",
       "306  Other Ad-Supported Streaming  Value (Adjusted)  2019                  1   \n",
       "\n",
       "     Value (Actual)  \n",
       "303       86.559597  \n",
       "304      273.040319  \n",
       "305      255.967444  \n",
       "306      251.064710  "
      ]
     },
     "execution_count": 61,
     "metadata": {},
     "output_type": "execute_result"
    }
   ],
   "source": [
    "format_dfs[2]"
   ]
  },
  {
   "cell_type": "code",
   "execution_count": 62,
   "id": "5fcc9d99-949a-4951-9958-5409e125535f",
   "metadata": {},
   "outputs": [
    {
     "name": "stdout",
     "output_type": "stream",
     "text": [
      "0.8876592647894722\n"
     ]
    }
   ],
   "source": [
    "print(format_dfs[2]['Value (Actual)'].reset_index(drop=True).corr(format_dfs[7]['Value (Actual)'].reset_index(drop=True)))"
   ]
  },
  {
   "cell_type": "markdown",
   "id": "5e05df03-46f1-4b88-8a8f-86917bc7cbe2",
   "metadata": {},
   "source": [
    "Since 2016, **Other Ad-Supported Streaming sales and Limited Tier Paid Subscription sales have been highly correlated**, with a correlation of **0.89**"
   ]
  },
  {
   "cell_type": "code",
   "execution_count": 63,
   "id": "0056bd6c-8449-4f04-9db4-56e27bd1b1a4",
   "metadata": {},
   "outputs": [
    {
     "data": {
      "text/plain": [
       "<matplotlib.legend.Legend at 0x7f45f0501760>"
      ]
     },
     "execution_count": 63,
     "metadata": {},
     "output_type": "execute_result"
    },
    {
     "data": {
      "image/png": "[encoded data removed]",
      "text/plain": [
       "<Figure size 648x432 with 1 Axes>"
      ]
     },
     "metadata": {
      "needs_background": "light"
     },
     "output_type": "display_data"
    }
   ],
   "source": [
    "ax = format_dfs[2].plot(kind='line', x='Year', y='Value (Actual)', figsize=(9,6))\n",
    "format_dfs[7].plot(kind='line', x='Year', y='Value (Actual)', ax=ax)\n",
    "ax.set_title('Other Ad-Supported Streaming vs Limited Tier Paid Subscription Sales')\n",
    "ax.legend(['Other Ad-Supported Streaming Sales', 'Limited Tier Paid Subscription Sales'])"
   ]
  },
  {
   "cell_type": "markdown",
   "id": "a02b2ca3-a89b-404f-95fe-c2bba1ed62e1",
   "metadata": {},
   "source": [
    "Since both Other Ad-Supported Streaming and Limited Tier Paid Subscriptions became available in 2016, both of these sale formats have increased. However, Limited Tier Paid Subscriptions sales have been higher than Other Ad-Supported Streaming sales and also seem to be increasing at a higher rate."
   ]
  },
  {
   "cell_type": "markdown",
   "id": "8b948e17-11af-496f-8028-182f58ec5fa2",
   "metadata": {},
   "source": [
    "Looking at the correlation between **Paid Subscription sales and SoundExchange Distributions sales**:"
   ]
  },
  {
   "cell_type": "code",
   "execution_count": 64,
   "id": "e88aaca8-9d26-4615-81f7-c692bcf02eff",
   "metadata": {},
   "outputs": [
    {
     "name": "stdout",
     "output_type": "stream",
     "text": [
      "0.7744466362621104\n"
     ]
    }
   ],
   "source": [
    "print(format_dfs[3]['Value (Actual)'].reset_index(drop=True).corr(format_dfs[18]['Value (Actual)'].reset_index(drop=True)))"
   ]
  },
  {
   "cell_type": "markdown",
   "id": "cfe6b323-afae-411c-9d04-b1e96b8842dd",
   "metadata": {},
   "source": [
    "Since 2005, **Paid Subscription sales and SoundExchange Distrubtions sales have been highly correlated**, with a correlation of **0.77**"
   ]
  },
  {
   "cell_type": "code",
   "execution_count": 65,
   "id": "f03c2289-cc82-43ad-b8d5-3f281fa47453",
   "metadata": {},
   "outputs": [
    {
     "data": {
      "text/plain": [
       "<matplotlib.legend.Legend at 0x7f45f04f9cd0>"
      ]
     },
     "execution_count": 65,
     "metadata": {},
     "output_type": "execute_result"
    },
    {
     "data": {
      "image/png": "[encoded data removed]",
      "text/plain": [
       "<Figure size 648x432 with 1 Axes>"
      ]
     },
     "metadata": {
      "needs_background": "light"
     },
     "output_type": "display_data"
    }
   ],
   "source": [
    "ax = format_dfs[3].plot(kind='line', x='Year', y='Value (Actual)', figsize=(9,6))\n",
    "format_dfs[18].plot(kind='line', x='Year', y='Value (Actual)', ax=ax)\n",
    "ax.set_title('Paid Subscription vs SoundExchange Distributions Sales')\n",
    "ax.legend(['Paid Subscription Sales', 'SoundExchange Distributions Sales'])"
   ]
  },
  {
   "cell_type": "markdown",
   "id": "a57c776c-7e79-42a7-8311-939784600aa5",
   "metadata": {},
   "source": [
    "Since 2005, both Paid Subscription sales and SoundExchange Distribution sales have increased. However, Paid Subscription sales have increased at a higher rate."
   ]
  },
  {
   "cell_type": "markdown",
   "id": "6f3b9b91-eb9b-48e5-80f3-c321eb888877",
   "metadata": {},
   "source": [
    "Looking at the correlation between **Download Album sales and Download Single sales**:"
   ]
  },
  {
   "cell_type": "code",
   "execution_count": 66,
   "id": "9366e6be-ae73-4c4f-bf5d-9834ee9baccd",
   "metadata": {},
   "outputs": [
    {
     "name": "stdout",
     "output_type": "stream",
     "text": [
      "0.934879112862656\n"
     ]
    }
   ],
   "source": [
    "print(format_dfs[1]['Value (Actual)'].reset_index(drop=True).corr(format_dfs[20]['Value (Actual)'].reset_index(drop=True)))"
   ]
  },
  {
   "cell_type": "markdown",
   "id": "66fef165-8a3d-410e-a709-48b718cefe0a",
   "metadata": {},
   "source": [
    "Since 2004, **Download Album sales and Download Single sales have been highly correlated**, with a correlation of **0.93**"
   ]
  },
  {
   "cell_type": "code",
   "execution_count": 67,
   "id": "3d74d86c-df83-465c-8f3d-a02b1e53093e",
   "metadata": {},
   "outputs": [
    {
     "data": {
      "text/plain": [
       "<matplotlib.legend.Legend at 0x7f45e64b1940>"
      ]
     },
     "execution_count": 67,
     "metadata": {},
     "output_type": "execute_result"
    },
    {
     "data": {
      "image/png": "[encoded data removed]",
      "text/plain": [
       "<Figure size 648x432 with 1 Axes>"
      ]
     },
     "metadata": {
      "needs_background": "light"
     },
     "output_type": "display_data"
    }
   ],
   "source": [
    "ax = format_dfs[1].plot(kind='line', x='Year', y='Value (Actual)', figsize=(9,6))\n",
    "format_dfs[20].plot(kind='line', x='Year', y='Value (Actual)', ax=ax)\n",
    "ax.set_title('Download Album vs Download Single Sales')\n",
    "ax.legend(['Download Album Sales', 'Download Single Sales'])"
   ]
  },
  {
   "cell_type": "markdown",
   "id": "4089ffa7-1673-4930-be61-fd01c5c8c44f",
   "metadata": {},
   "source": [
    "Since 2004, Download Album sales and Download Single sales have been very similar. Both sales formats increased until roughly 2012, when they both reached their peak sales and began decreasing. Prior to roughly 2016, Download Single sales were higher than Download Album sales, but since 2016 they have been almost the same.  "
   ]
  },
  {
   "cell_type": "markdown",
   "id": "4c46c0f2-66fc-466a-935a-a2c8e433a513",
   "metadata": {},
   "source": [
    "Based on the above correlation analysis, sales formats that have been highly correlated in the 2000's include:\n",
    "\n",
    "(1) Other Ad-Supported Streaming and Limited Tier Paid Subscription sales (r = 0.89)\n",
    "\n",
    "(2) Paid Subscription and On-Demand Streaming (Ad-Supported) sales (r = 0.98)\n",
    "\n",
    "(3) On-Demand Streaming (Ad-Supported) and Other Ad-Supported Streaming sales (r = 0.77)\n",
    "\n",
    "(4) Paid Subscription and SoundExchange Distributions sales (r = 0.77)\n",
    " \n",
    "(5) Download Album and Download Single sales (r = 0.93)\n",
    "\n",
    "Since these formats have been highly correlated throughout the 2000's, when one of the sales formats has increased, so has the other correlated format. Similarly, if one of the sales formats decreased, the correlated sales format also decreased. "
   ]
  },
  {
   "cell_type": "markdown",
   "id": "0f96f1f5-1741-432e-8ae5-6aa68b5d7e4b",
   "metadata": {},
   "source": [
    "Sales formats that have been negatively correlated in the 2000's include: \n",
    "\n",
    "(1) Paid Subscription and CD sales (r = -0.57)\n",
    "\n",
    "(2) On-Demand Streaming (Ad-Supported) and CD sales (r = -0.93)\n",
    "\n",
    "(3) Paid Subscription and Cassette sales (r = -0.91)\n",
    "\n",
    "(4) On-Demand Streaming (Ad-Supported) and Download Album sales (r = -0.97)\n",
    "\n",
    "(5) CD Single and Download Single sales (r = -0.4)\n",
    "\n",
    "Since these formats have been negatively correlated or anti-correlated throughout the 2000's, when one of the sales formats increases, the other sales format decreases. For example, while Paid Subscription sales increased in the 2000's, CD sales decreased in the 2000's. Based on the above correlations, it appears that the newer streaming formats are negatively correlated with some of the older sales formats. As these streaming options increase in sales, their counterparts see decreased sales."
   ]
  },
  {
   "cell_type": "markdown",
   "id": "2c8a4905-369e-4103-b651-e4cee6cf8d3a",
   "metadata": {},
   "source": [
    "### Linear Regression Analysis"
   ]
  },
  {
   "cell_type": "markdown",
   "id": "ed745f7a-cc6a-48be-80d1-a5756c3b4cbc",
   "metadata": {},
   "source": [
    "To see how well sales of one format can predict sales of another, correlated format, I am plotting the linear regression of **highly correlated** sales formats. "
   ]
  },
  {
   "cell_type": "markdown",
   "id": "c390fc13-c53b-46f8-a676-ca45e9339125",
   "metadata": {},
   "source": [
    "Since Other Ad-Supported Streaming and Limited Tier Paid Subscription sales are highly correlated (r=0.89), we might be able to use linear regression to predict Limited Tier Paid Subscription sales from Other Ad-Supported Streaming sales."
   ]
  },
  {
   "cell_type": "code",
   "execution_count": 68,
   "id": "e59ed872-0681-4e7f-94c8-a8f18ed486f7",
   "metadata": {
    "tags": []
   },
   "outputs": [
    {
     "name": "stdout",
     "output_type": "stream",
     "text": [
      "     Value (Actual)\n",
      "303       86.559597\n",
      "304      273.040319\n",
      "305      255.967444\n",
      "306      251.064710\n",
      "     Value (Actual)\n",
      "259      280.536691\n",
      "260      617.032318\n",
      "261      760.591366\n",
      "262      829.498740\n"
     ]
    }
   ],
   "source": [
    "X = adjusted[adjusted[\"Format\"] == 'Other Ad-Supported Streaming'][['Value (Actual)']]\n",
    "Y = adjusted[adjusted[\"Format\"] == 'Limited Tier Paid Subscription'][['Value (Actual)']]\n",
    "print (X)\n",
    "print (Y)"
   ]
  },
  {
   "cell_type": "code",
   "execution_count": 69,
   "id": "04bb168c-8375-4c69-bd2f-e96129371ece",
   "metadata": {},
   "outputs": [],
   "source": [
    "reg = LinearRegression().fit(X, Y)"
   ]
  },
  {
   "cell_type": "code",
   "execution_count": 70,
   "id": "96f489a0-6ec4-4ce8-85ec-7347ec81da1c",
   "metadata": {},
   "outputs": [
    {
     "data": {
      "text/plain": [
       "array([[2.48454051]])"
      ]
     },
     "execution_count": 70,
     "metadata": {},
     "output_type": "execute_result"
    }
   ],
   "source": [
    "reg.coef_"
   ]
  },
  {
   "cell_type": "code",
   "execution_count": 71,
   "id": "2c7ee2fc-67e4-4002-a6c8-fa4a71955188",
   "metadata": {},
   "outputs": [
    {
     "data": {
      "text/plain": [
       "array([83.61915699])"
      ]
     },
     "execution_count": 71,
     "metadata": {},
     "output_type": "execute_result"
    }
   ],
   "source": [
    "reg.intercept_"
   ]
  },
  {
   "cell_type": "code",
   "execution_count": 72,
   "id": "d8aa48e4-563a-4431-8860-8ae5e9ae0815",
   "metadata": {},
   "outputs": [],
   "source": [
    "ytrain = reg.intercept_ + reg.coef_ * X"
   ]
  },
  {
   "cell_type": "code",
   "execution_count": 73,
   "id": "ed757b3a-4b5a-4e77-b18e-e2125098e5fc",
   "metadata": {},
   "outputs": [
    {
     "data": {
      "text/plain": [
       "Text(0, 0.5, 'Limited Tier Paid Subscription Sales')"
      ]
     },
     "execution_count": 73,
     "metadata": {},
     "output_type": "execute_result"
    },
    {
     "data": {
      "image/png": "[encoded data removed]",
      "text/plain": [
       "<Figure size 648x360 with 1 Axes>"
      ]
     },
     "metadata": {
      "needs_background": "light"
     },
     "output_type": "display_data"
    }
   ],
   "source": [
    "figure(figsize=(9, 5))\n",
    "plt.plot(X,Y,'ro',X,ytrain,'b-')\n",
    "\n",
    "plt.title(\"Other Ad-Supported Streaming vs Limited Tier Paid Subscription\")\n",
    "plt.xlabel(\"Other Ad-Supported Streaming Sales\")\n",
    "plt.ylabel(\"Limited Tier Paid Subscription Sales\")"
   ]
  },
  {
   "cell_type": "markdown",
   "id": "3ff1a668-0cf4-4afd-b99a-32e7e2313610",
   "metadata": {},
   "source": [
    "To test how well the model fits the data, I am calculating the mean squared error and R-squared value."
   ]
  },
  {
   "cell_type": "code",
   "execution_count": 74,
   "id": "65c9ea6a-2315-4b7a-b3b5-b6ecf2adae08",
   "metadata": {},
   "outputs": [
    {
     "data": {
      "text/plain": [
       "9483.641410110005"
      ]
     },
     "execution_count": 74,
     "metadata": {},
     "output_type": "execute_result"
    }
   ],
   "source": [
    "mean_squared_error(Y, ytrain)"
   ]
  },
  {
   "cell_type": "code",
   "execution_count": 75,
   "id": "d124e6bc-e8d2-4f4b-90fa-d4b85a36fb8f",
   "metadata": {},
   "outputs": [
    {
     "data": {
      "text/plain": [
       "0.787938970366586"
      ]
     },
     "execution_count": 75,
     "metadata": {},
     "output_type": "execute_result"
    }
   ],
   "source": [
    "r2_score(Y, ytrain)"
   ]
  },
  {
   "cell_type": "markdown",
   "id": "8cd8d88b-4d50-4014-a84a-d86cff9a53fc",
   "metadata": {},
   "source": [
    "Based on the R-squared value of 0.79, the model fits the data decently well. As a result, it seems **Other Ad-Supported Streaming sales can be used to predict Limited Tier Paid Subscription sales**. However, since data is only available for 2016-2019 for these sales formats, there might not be enough data to make this assumption "
   ]
  },
  {
   "cell_type": "markdown",
   "id": "57e80adc-038a-45a6-ab30-c060531126c7",
   "metadata": {},
   "source": [
    "Since Paid Subscription and On-Demand Streaming (Ad-Supported) sales have been highly correlated (r=0.985) since 2011, we may be able to use linear regression to predict On-Demand Streaming sales using Paid Subscription sales. "
   ]
  },
  {
   "cell_type": "code",
   "execution_count": 76,
   "id": "2036f6eb-0e2a-46e2-9d52-9a667b176d94",
   "metadata": {
    "tags": []
   },
   "outputs": [],
   "source": [
    "# creating a new dataframe with the adjusted data from 2011 and after \n",
    "adjusted_2011_on = adjusted[adjusted['Year']>=2011]"
   ]
  },
  {
   "cell_type": "code",
   "execution_count": 77,
   "id": "852319cc-7dee-4a93-abfb-c54be37a90cd",
   "metadata": {},
   "outputs": [
    {
     "name": "stdout",
     "output_type": "stream",
     "text": [
      "     Value (Actual)\n",
      "321      281.639932\n",
      "322      445.276306\n",
      "323      706.011657\n",
      "324      831.834028\n",
      "325     1247.676869\n",
      "326     2390.487545\n",
      "327     3651.028327\n",
      "328     4740.333581\n",
      "329     5934.397625\n",
      "     Value (Actual)\n",
      "294      129.340695\n",
      "295      190.339616\n",
      "296      242.396098\n",
      "297      306.475448\n",
      "298      401.245264\n",
      "299      521.288175\n",
      "300      686.918081\n",
      "301      773.294917\n",
      "302      908.149331\n"
     ]
    }
   ],
   "source": [
    "PS = adjusted_2011_on[adjusted_2011_on[\"Format\"] == 'Paid Subscription'][['Value (Actual)']]\n",
    "OD = adjusted_2011_on[adjusted_2011_on[\"Format\"] == 'On-Demand Streaming (Ad-Supported)'][['Value (Actual)']]\n",
    "print (PS)\n",
    "print (OD)"
   ]
  },
  {
   "cell_type": "code",
   "execution_count": 78,
   "id": "0953a0c9-3766-4e5e-aea3-2f92e38bc7f2",
   "metadata": {},
   "outputs": [],
   "source": [
    "reg = LinearRegression().fit(PS, OD)"
   ]
  },
  {
   "cell_type": "code",
   "execution_count": 79,
   "id": "7d2491df-21ba-49a9-8d20-ceb59798788f",
   "metadata": {},
   "outputs": [
    {
     "data": {
      "text/plain": [
       "array([[0.13146726]])"
      ]
     },
     "execution_count": 79,
     "metadata": {},
     "output_type": "execute_result"
    }
   ],
   "source": [
    "reg.coef_"
   ]
  },
  {
   "cell_type": "code",
   "execution_count": 80,
   "id": "ed288062-db2d-4ff4-a4ae-f8d360b53a58",
   "metadata": {},
   "outputs": [
    {
     "data": {
      "text/plain": [
       "array([166.67085972])"
      ]
     },
     "execution_count": 80,
     "metadata": {},
     "output_type": "execute_result"
    }
   ],
   "source": [
    "reg.intercept_"
   ]
  },
  {
   "cell_type": "code",
   "execution_count": 81,
   "id": "75f5f5ff-273e-46b5-a24f-ddea301186f0",
   "metadata": {},
   "outputs": [],
   "source": [
    "ytrain = reg.intercept_ + reg.coef_ * PS"
   ]
  },
  {
   "cell_type": "code",
   "execution_count": 82,
   "id": "10ffcfe6-bc04-4855-a483-b4db671c028e",
   "metadata": {},
   "outputs": [
    {
     "data": {
      "text/plain": [
       "Text(0, 0.5, 'On-Demand Streaming (Ad-Supported) Sales')"
      ]
     },
     "execution_count": 82,
     "metadata": {},
     "output_type": "execute_result"
    },
    {
     "data": {
      "image/png": "[encoded data removed]",
      "text/plain": [
       "<Figure size 648x360 with 1 Axes>"
      ]
     },
     "metadata": {
      "needs_background": "light"
     },
     "output_type": "display_data"
    }
   ],
   "source": [
    "figure(figsize=(9, 5))\n",
    "plt.plot(PS, OD,'ro',PS,ytrain,'b-')\n",
    "\n",
    "plt.title(\"Paid Subscription vs On-Demand Streaming\")\n",
    "plt.xlabel(\"Paid Subscription Sales\")\n",
    "plt.ylabel(\"On-Demand Streaming (Ad-Supported) Sales\")"
   ]
  },
  {
   "cell_type": "code",
   "execution_count": 83,
   "id": "2b729e64-62bc-40b8-b346-be5ed9500643",
   "metadata": {},
   "outputs": [
    {
     "data": {
      "text/plain": [
       "1995.723477381923"
      ]
     },
     "execution_count": 83,
     "metadata": {},
     "output_type": "execute_result"
    }
   ],
   "source": [
    "mean_squared_error(OD, ytrain)"
   ]
  },
  {
   "cell_type": "code",
   "execution_count": 84,
   "id": "562f028f-f1a9-4048-8b81-880a457bebe2",
   "metadata": {},
   "outputs": [
    {
     "data": {
      "text/plain": [
       "0.9705849522481601"
      ]
     },
     "execution_count": 84,
     "metadata": {},
     "output_type": "execute_result"
    }
   ],
   "source": [
    "r2_score(OD, ytrain)"
   ]
  },
  {
   "cell_type": "markdown",
   "id": "c09884c7-f53a-4855-95bb-70f77a1d6065",
   "metadata": {},
   "source": [
    "The high R-squared value of 0.97 indicates that the regression line is a good fit for the data. As a result, **Paid Subscription sales can be used to predict On-Demand Streaming sales**.   "
   ]
  },
  {
   "cell_type": "markdown",
   "id": "3c147d90-9670-468b-8b91-549c0a25ced3",
   "metadata": {},
   "source": [
    "On-Demand Streaming (Ad-Supported) and Other-Ad Supported Streaming sales also have a high correlation (r=0.77). Thus, we might be able to predict Other Ad-Supported Streaming sales using On-Demand Streaming sales by finding the linear regression. "
   ]
  },
  {
   "cell_type": "code",
   "execution_count": 85,
   "id": "c9ac0028-4c1b-4946-8619-6421f37fd23a",
   "metadata": {},
   "outputs": [],
   "source": [
    "# creating a dataframe with the adjusted data from 2016-2019\n",
    "adjusted_2016_on = adjusted[adjusted['Year']>=2016]"
   ]
  },
  {
   "cell_type": "code",
   "execution_count": 86,
   "id": "50616d48-221a-4390-8156-eb5d249ee7ca",
   "metadata": {},
   "outputs": [
    {
     "name": "stdout",
     "output_type": "stream",
     "text": [
      "     Value (Actual)\n",
      "299      521.288175\n",
      "300      686.918081\n",
      "301      773.294917\n",
      "302      908.149331\n",
      "     Value (Actual)\n",
      "303       86.559597\n",
      "304      273.040319\n",
      "305      255.967444\n",
      "306      251.064710\n"
     ]
    }
   ],
   "source": [
    "DS = adjusted_2016_on[adjusted_2016_on[\"Format\"] == 'On-Demand Streaming (Ad-Supported)'][['Value (Actual)']]\n",
    "AS = adjusted_2016_on[adjusted_2016_on[\"Format\"] == 'Other Ad-Supported Streaming'][['Value (Actual)']]\n",
    "print (DS)\n",
    "print (AS)"
   ]
  },
  {
   "cell_type": "code",
   "execution_count": 87,
   "id": "27107c78-2bcd-4729-8466-647f3a04e644",
   "metadata": {},
   "outputs": [],
   "source": [
    "reg = LinearRegression().fit(DS, AS)"
   ]
  },
  {
   "cell_type": "code",
   "execution_count": 88,
   "id": "cfee8f9a-0cdf-4568-badf-c41c0e91ce4f",
   "metadata": {},
   "outputs": [
    {
     "data": {
      "text/plain": [
       "array([[0.4131505]])"
      ]
     },
     "execution_count": 88,
     "metadata": {},
     "output_type": "execute_result"
    }
   ],
   "source": [
    "reg.coef_"
   ]
  },
  {
   "cell_type": "code",
   "execution_count": 89,
   "id": "554c54fc-5d96-4c72-b282-35ae2cf00c50",
   "metadata": {},
   "outputs": [
    {
     "data": {
      "text/plain": [
       "array([-81.80711775])"
      ]
     },
     "execution_count": 89,
     "metadata": {},
     "output_type": "execute_result"
    }
   ],
   "source": [
    "reg.intercept_"
   ]
  },
  {
   "cell_type": "code",
   "execution_count": 90,
   "id": "4c06d3fa-6004-4106-91de-917e9867ce94",
   "metadata": {},
   "outputs": [],
   "source": [
    "ytrain = reg.intercept_ + reg.coef_ * DS"
   ]
  },
  {
   "cell_type": "code",
   "execution_count": 91,
   "id": "7ca3c933-6c9a-44d5-ad74-da4804497757",
   "metadata": {},
   "outputs": [
    {
     "data": {
      "text/plain": [
       "Text(0, 0.5, 'Other Ad-Supported Streaming Sales')"
      ]
     },
     "execution_count": 91,
     "metadata": {},
     "output_type": "execute_result"
    },
    {
     "data": {
      "image/png": "[encoded data removed]",
      "text/plain": [
       "<Figure size 648x360 with 1 Axes>"
      ]
     },
     "metadata": {
      "needs_background": "light"
     },
     "output_type": "display_data"
    }
   ],
   "source": [
    "figure(figsize=(9, 5))\n",
    "plt.plot(DS, AS,'ro',DS,ytrain,'b-')\n",
    "\n",
    "plt.title(\"On-Demand Streaming vs Other Ad-Supported Streaming\")\n",
    "plt.xlabel(\"On-Demand Streaming (Ad-Supported) Sales\")\n",
    "plt.ylabel(\"Other Ad-Supported Streaming Sales\")"
   ]
  },
  {
   "cell_type": "code",
   "execution_count": 92,
   "id": "58ed9bf8-6d07-4d07-924b-5ff9185c3a65",
   "metadata": {},
   "outputs": [
    {
     "data": {
      "text/plain": [
       "2345.82868062942"
      ]
     },
     "execution_count": 92,
     "metadata": {},
     "output_type": "execute_result"
    }
   ],
   "source": [
    "mean_squared_error(AS, ytrain)"
   ]
  },
  {
   "cell_type": "code",
   "execution_count": 93,
   "id": "d61a9a6e-05b3-4e64-92b0-1f8114091eb7",
   "metadata": {},
   "outputs": [
    {
     "data": {
      "text/plain": [
       "0.5890569706546729"
      ]
     },
     "execution_count": 93,
     "metadata": {},
     "output_type": "execute_result"
    }
   ],
   "source": [
    "r2_score(AS, ytrain)"
   ]
  },
  {
   "cell_type": "markdown",
   "id": "64b39e3f-cef0-4903-b3f4-ec4c5e2a50a7",
   "metadata": {},
   "source": [
    "The R-squared value of 0.59 indicates that the regression line is not a good fit for the data. As a result, **we cannot use On-Demand Streaming sales to predict Other Ad-Supported Streaming sales**. "
   ]
  },
  {
   "cell_type": "markdown",
   "id": "59fb056c-6824-4917-8200-29e37801c9a9",
   "metadata": {},
   "source": [
    "Paid Subscription and SoundExchange Distributions sales have a strong correlation (r=0.77). By finding the linear regression, we can can predict future SoundExchange Distributions sales using Paid Subscription sales."
   ]
  },
  {
   "cell_type": "code",
   "execution_count": 94,
   "id": "5bc2e254-db4d-4b8e-882b-b73b8ef42ae6",
   "metadata": {
    "tags": []
   },
   "outputs": [],
   "source": [
    "# creating a dataframe with the adjusted data for sales since 2005\n",
    "adjusted_2005_on = adjusted[adjusted['Year']>=2005]"
   ]
  },
  {
   "cell_type": "code",
   "execution_count": 95,
   "id": "205d718c-0a9c-46f1-bfcf-a410f785e807",
   "metadata": {
    "tags": []
   },
   "outputs": [
    {
     "name": "stdout",
     "output_type": "stream",
     "text": [
      "     Value (Actual)\n",
      "315      195.309905\n",
      "316      261.490444\n",
      "317      288.585326\n",
      "318      262.896754\n",
      "319      245.722059\n",
      "320      249.025694\n",
      "321      281.639932\n",
      "322      445.276306\n",
      "323      706.011657\n",
      "324      831.834028\n",
      "325     1247.676869\n",
      "326     2390.487545\n",
      "327     3651.028327\n",
      "328     4740.333581\n",
      "329     5934.397625\n",
      "     Value (Actual)\n",
      "363       26.704571\n",
      "364       41.594988\n",
      "365       44.644397\n",
      "366      118.742888\n",
      "367      185.304463\n",
      "368      292.171389\n",
      "369      331.875949\n",
      "370      514.445212\n",
      "371      647.930274\n",
      "372      835.213587\n",
      "373      865.719793\n",
      "374      941.535965\n",
      "375      680.027595\n",
      "376      970.064513\n",
      "377      908.200000\n"
     ]
    }
   ],
   "source": [
    "PS2 = adjusted_2005_on[adjusted_2005_on[\"Format\"] == 'Paid Subscription'][['Value (Actual)']]\n",
    "SD = adjusted_2005_on[adjusted_2005_on[\"Format\"] == 'SoundExchange Distributions'][['Value (Actual)']]\n",
    "print (PS2)\n",
    "print (SD)"
   ]
  },
  {
   "cell_type": "code",
   "execution_count": 96,
   "id": "36fd02d8-e35d-49e5-b124-d3ec252e853b",
   "metadata": {},
   "outputs": [],
   "source": [
    "reg = LinearRegression().fit(PS2, SD)"
   ]
  },
  {
   "cell_type": "code",
   "execution_count": 97,
   "id": "fd7309b6-d6f5-4cf4-9c3b-d2a50bc63ef2",
   "metadata": {},
   "outputs": [
    {
     "data": {
      "text/plain": [
       "array([[0.13828152]])"
      ]
     },
     "execution_count": 97,
     "metadata": {},
     "output_type": "execute_result"
    }
   ],
   "source": [
    "reg.coef_"
   ]
  },
  {
   "cell_type": "code",
   "execution_count": 98,
   "id": "0d658bc9-6346-45b0-984b-25ef5daa0434",
   "metadata": {},
   "outputs": [
    {
     "data": {
      "text/plain": [
       "array([293.27206305])"
      ]
     },
     "execution_count": 98,
     "metadata": {},
     "output_type": "execute_result"
    }
   ],
   "source": [
    "reg.intercept_"
   ]
  },
  {
   "cell_type": "code",
   "execution_count": 99,
   "id": "74b7ba9b-594d-40cb-a10b-a6d8de552c59",
   "metadata": {},
   "outputs": [],
   "source": [
    "ytrain = reg.intercept_ + reg.coef_ * PS2"
   ]
  },
  {
   "cell_type": "code",
   "execution_count": 100,
   "id": "700653a8-23fc-4923-83ce-aac85b2f1cdd",
   "metadata": {},
   "outputs": [
    {
     "data": {
      "text/plain": [
       "Text(0, 0.5, 'SoundExchange Distributions Sales')"
      ]
     },
     "execution_count": 100,
     "metadata": {},
     "output_type": "execute_result"
    },
    {
     "data": {
      "image/png": "[encoded data removed]",
      "text/plain": [
       "<Figure size 648x360 with 1 Axes>"
      ]
     },
     "metadata": {
      "needs_background": "light"
     },
     "output_type": "display_data"
    }
   ],
   "source": [
    "figure(figsize=(9, 5))\n",
    "plt.plot(PS2, SD,'ro',PS2,ytrain,'b-')\n",
    "\n",
    "plt.title(\"Paid Subscription vs SoundExchange Distributions\")\n",
    "plt.xlabel(\"Paid Subscription Sales\")\n",
    "plt.ylabel(\"SoundExchange Distributions Sales\")"
   ]
  },
  {
   "cell_type": "code",
   "execution_count": 101,
   "id": "844bfe8a-7c98-4251-910d-43476ab09799",
   "metadata": {},
   "outputs": [
    {
     "data": {
      "text/plain": [
       "60636.34678105076"
      ]
     },
     "execution_count": 101,
     "metadata": {},
     "output_type": "execute_result"
    }
   ],
   "source": [
    "mean_squared_error(SD, ytrain)"
   ]
  },
  {
   "cell_type": "code",
   "execution_count": 102,
   "id": "32bfc20c-5289-4bcb-b462-ec113af019e3",
   "metadata": {},
   "outputs": [
    {
     "data": {
      "text/plain": [
       "0.5056529285525253"
      ]
     },
     "execution_count": 102,
     "metadata": {},
     "output_type": "execute_result"
    }
   ],
   "source": [
    "r2_score(SD, ytrain)"
   ]
  },
  {
   "cell_type": "markdown",
   "id": "e1f00793-c6eb-45e4-a558-4ab697d75d80",
   "metadata": {},
   "source": [
    "As with the previous regression, the regression line does not fit the data, as indicated by the R-squared value of 0.5. Consequently, **Paid Subscription sales cannot be used to predict SoundExchange Distribution sales**."
   ]
  },
  {
   "cell_type": "markdown",
   "id": "e220b9d9-bb1a-499c-8e17-d20bf0dc4632",
   "metadata": {},
   "source": [
    "The last formats I found to be highly correlated are Download Album and Download Single sales (r=0.93). We can predict future Download Album sales using Download Single sales by finding the linear regression."
   ]
  },
  {
   "cell_type": "code",
   "execution_count": 103,
   "id": "e9f0258d-c473-4f0d-a151-b8cce8ecca3b",
   "metadata": {},
   "outputs": [],
   "source": [
    "# creating a dataframe with the adjusted data since 2004\n",
    "adjusted_2004_on = adjusted[adjusted['Year']>=2004]"
   ]
  },
  {
   "cell_type": "code",
   "execution_count": 104,
   "id": "f1491f8b-8534-46bd-8437-5a2bd11f76e1",
   "metadata": {
    "tags": []
   },
   "outputs": [
    {
     "name": "stdout",
     "output_type": "stream",
     "text": [
      "     Value (Actual)\n",
      "181      186.769010\n",
      "182      475.577000\n",
      "183      736.282015\n",
      "184     1000.182475\n",
      "185     1225.664089\n",
      "186     1396.635564\n",
      "187     1566.845282\n",
      "188     1730.301179\n",
      "189     1831.258646\n",
      "190     1726.739156\n",
      "191     1463.655387\n",
      "192     1278.449595\n",
      "193      958.879103\n",
      "194      707.692711\n",
      "195      499.316974\n",
      "196      414.804251\n",
      "     Value (Actual)\n",
      "150       61.579637\n",
      "151      177.637762\n",
      "152      349.879793\n",
      "153      613.428807\n",
      "154      754.373567\n",
      "155      886.958917\n",
      "156     1022.834349\n",
      "157     1217.030020\n",
      "158     1341.590983\n",
      "159     1352.202953\n",
      "160     1207.247578\n",
      "161     1148.145081\n",
      "162      925.232201\n",
      "163      697.237618\n",
      "164      508.704388\n",
      "165      394.533006\n"
     ]
    }
   ],
   "source": [
    "DS = adjusted_2004_on[adjusted_2004_on[\"Format\"] == 'Download Single'][['Value (Actual)']]\n",
    "DA = adjusted_2004_on[adjusted_2004_on[\"Format\"] == 'Download Album'][['Value (Actual)']]\n",
    "print (DS)\n",
    "print (DA)"
   ]
  },
  {
   "cell_type": "code",
   "execution_count": 105,
   "id": "422ad2c3-79c2-4481-871d-4f6fe80140ce",
   "metadata": {},
   "outputs": [],
   "source": [
    "reg = LinearRegression().fit(DS, DA)"
   ]
  },
  {
   "cell_type": "code",
   "execution_count": 106,
   "id": "32e20c54-7c0f-4168-88c4-f791937ac1a6",
   "metadata": {},
   "outputs": [
    {
     "data": {
      "text/plain": [
       "array([[0.73282105]])"
      ]
     },
     "execution_count": 106,
     "metadata": {},
     "output_type": "execute_result"
    }
   ],
   "source": [
    "reg.coef_"
   ]
  },
  {
   "cell_type": "code",
   "execution_count": 107,
   "id": "6c793a03-b7c5-40bb-8a06-0d971fd11c54",
   "metadata": {},
   "outputs": [
    {
     "data": {
      "text/plain": [
       "array([3.42431643])"
      ]
     },
     "execution_count": 107,
     "metadata": {},
     "output_type": "execute_result"
    }
   ],
   "source": [
    "reg.intercept_"
   ]
  },
  {
   "cell_type": "code",
   "execution_count": 108,
   "id": "e4a02470-673a-4bf7-b014-a1a327c128b3",
   "metadata": {},
   "outputs": [],
   "source": [
    "ytrain = reg.intercept_ + reg.coef_ * DS"
   ]
  },
  {
   "cell_type": "code",
   "execution_count": 109,
   "id": "6baf18c9-bb6e-4270-acb2-27879fc04c47",
   "metadata": {},
   "outputs": [
    {
     "data": {
      "text/plain": [
       "Text(0, 0.5, 'Download Album')"
      ]
     },
     "execution_count": 109,
     "metadata": {},
     "output_type": "execute_result"
    },
    {
     "data": {
      "image/png": "[encoded data removed]",
      "text/plain": [
       "<Figure size 648x360 with 1 Axes>"
      ]
     },
     "metadata": {
      "needs_background": "light"
     },
     "output_type": "display_data"
    }
   ],
   "source": [
    "figure(figsize=(9, 5))\n",
    "plt.plot(DS, DA,'ro',DS,ytrain,'b-')\n",
    "\n",
    "plt.title(\"Download Single vs Download Album\")\n",
    "plt.xlabel(\"Download Single\")\n",
    "plt.ylabel(\"Download Album\")"
   ]
  },
  {
   "cell_type": "code",
   "execution_count": 110,
   "id": "f8765c40-9075-4dc4-96f7-353ad9f845d8",
   "metadata": {},
   "outputs": [
    {
     "data": {
      "text/plain": [
       "20182.09275609223"
      ]
     },
     "execution_count": 110,
     "metadata": {},
     "output_type": "execute_result"
    }
   ],
   "source": [
    "mean_squared_error(DA, ytrain)"
   ]
  },
  {
   "cell_type": "code",
   "execution_count": 111,
   "id": "f72eccd9-9fc2-486b-a190-7d4a679219bf",
   "metadata": {},
   "outputs": [
    {
     "data": {
      "text/plain": [
       "0.8739989556668669"
      ]
     },
     "execution_count": 111,
     "metadata": {},
     "output_type": "execute_result"
    }
   ],
   "source": [
    "r2_score(DA, ytrain)"
   ]
  },
  {
   "cell_type": "markdown",
   "id": "0c13e81a-08bc-4923-9b07-fa0e6d016e2b",
   "metadata": {
    "tags": []
   },
   "source": [
    "An R-squared of 0.87 indicates that the regression line sufficiently fits the data. Resultantly, **Download Single sales can be used to predict Download Album sales**."
   ]
  },
  {
   "cell_type": "markdown",
   "id": "0fec5c4e-c966-454b-94d3-626b6454fc23",
   "metadata": {},
   "source": [
    "Next, I am going to perform linear regression on the sales formats that are **negatively correlated** in order to see which sales formats can be used to accurately predict other sales formats."
   ]
  },
  {
   "cell_type": "markdown",
   "id": "87fb7497-5674-4dac-a17b-e0a4f5f679a0",
   "metadata": {},
   "source": [
    "Since Paid Subscription sales and CD sales are negatively correlated, (r=-0.57), we might be able to predict CD sales based on Paid Subscription sales using linear regression."
   ]
  },
  {
   "cell_type": "code",
   "execution_count": 157,
   "id": "d7ca3f9e-d37a-40c3-8ff0-68cfdd3076e8",
   "metadata": {
    "collapsed": true,
    "jupyter": {
     "outputs_hidden": true
    },
    "tags": []
   },
   "outputs": [
    {
     "name": "stdout",
     "output_type": "stream",
     "text": [
      "     Value (Actual)\n",
      "315      195.309905\n",
      "316      261.490444\n",
      "317      288.585326\n",
      "318      262.896754\n",
      "319      245.722059\n",
      "320      249.025694\n",
      "321      281.639932\n",
      "322      445.276306\n",
      "323      706.011657\n",
      "324      831.834028\n",
      "325     1247.676869\n",
      "326     2390.487545\n",
      "327     3651.028327\n",
      "328     4740.333581\n",
      "329     5934.397625\n",
      "    Value (Actual)\n",
      "32    13771.442760\n",
      "33    11885.767850\n",
      "34     9190.702658\n",
      "35     6496.779627\n",
      "36     5146.578220\n",
      "37     3973.859173\n",
      "38     3524.136143\n",
      "39     2767.776149\n",
      "40     2349.534897\n",
      "41     1918.215115\n",
      "42     1558.633452\n",
      "43     1204.497778\n",
      "44     1102.774352\n",
      "45      711.041239\n",
      "46      614.509780\n"
     ]
    }
   ],
   "source": [
    "PS2 = adjusted_2005_on[adjusted_2005_on[\"Format\"] == 'Paid Subscription'][['Value (Actual)']]\n",
    "CD = adjusted_2005_on[adjusted_2005_on[\"Format\"] == 'CD'][['Value (Actual)']]\n",
    "print (PS2)\n",
    "print (CD)"
   ]
  },
  {
   "cell_type": "code",
   "execution_count": 147,
   "id": "994eaa6e-605c-4bd6-a9f5-de318eb4a086",
   "metadata": {},
   "outputs": [],
   "source": [
    "reg = LinearRegression().fit(PS2, CD)"
   ]
  },
  {
   "cell_type": "code",
   "execution_count": 148,
   "id": "af9e74bf-ec3b-41d7-bd86-6c1aa167008a",
   "metadata": {},
   "outputs": [
    {
     "data": {
      "text/plain": [
       "array([[-1.27787903]])"
      ]
     },
     "execution_count": 148,
     "metadata": {},
     "output_type": "execute_result"
    }
   ],
   "source": [
    "reg.coef_"
   ]
  },
  {
   "cell_type": "code",
   "execution_count": 149,
   "id": "d79de419-0a6d-43fd-9538-8904486c831f",
   "metadata": {},
   "outputs": [
    {
     "data": {
      "text/plain": [
       "array([6265.78356157])"
      ]
     },
     "execution_count": 149,
     "metadata": {},
     "output_type": "execute_result"
    }
   ],
   "source": [
    "reg.intercept_"
   ]
  },
  {
   "cell_type": "code",
   "execution_count": 150,
   "id": "3d2ec465-37be-4efe-becc-7b4093533067",
   "metadata": {},
   "outputs": [],
   "source": [
    "ytrain = reg.intercept_ + reg.coef_ * PS2"
   ]
  },
  {
   "cell_type": "code",
   "execution_count": 153,
   "id": "3108642c-c87d-4a2d-9c43-712f2acf1432",
   "metadata": {},
   "outputs": [
    {
     "data": {
      "text/plain": [
       "Text(0, 0.5, 'CD Sales')"
      ]
     },
     "execution_count": 153,
     "metadata": {},
     "output_type": "execute_result"
    },
    {
     "data": {
      "image/png": "[encoded data removed]",
      "text/plain": [
       "<Figure size 648x360 with 1 Axes>"
      ]
     },
     "metadata": {
      "needs_background": "light"
     },
     "output_type": "display_data"
    }
   ],
   "source": [
    "figure(figsize=(9, 5))\n",
    "plt.plot(PS2,CD,'ro',PS2,ytrain,'b-')\n",
    "\n",
    "plt.title(\"Paid Subscription vs CD\")\n",
    "plt.xlabel(\"Paid Subscription Sales\")\n",
    "plt.ylabel(\"CD Sales\")"
   ]
  },
  {
   "cell_type": "code",
   "execution_count": 154,
   "id": "948ce8b6-d4b2-4658-a385-dbce46410c58",
   "metadata": {},
   "outputs": [
    {
     "data": {
      "text/plain": [
       "10892202.708141036"
      ]
     },
     "execution_count": 154,
     "metadata": {},
     "output_type": "execute_result"
    }
   ],
   "source": [
    "mean_squared_error(CD, ytrain)"
   ]
  },
  {
   "cell_type": "code",
   "execution_count": 155,
   "id": "45a07aa2-e608-4243-aea1-f45c555be518",
   "metadata": {},
   "outputs": [
    {
     "data": {
      "text/plain": [
       "0.32718062980422935"
      ]
     },
     "execution_count": 155,
     "metadata": {},
     "output_type": "execute_result"
    }
   ],
   "source": [
    "r2_score(CD, ytrain)"
   ]
  },
  {
   "cell_type": "markdown",
   "id": "77e60e6a-fa84-4e6b-af7f-1110fb40a566",
   "metadata": {},
   "source": [
    "Based on the extremely high mean squared error and low R-squared value, this regression line does not fit the data well. As a result, **CD sales cannot be predicted based on Paid Subscription sales**, as the correlation isn't high enough."
   ]
  },
  {
   "cell_type": "markdown",
   "id": "e2cd0163-2710-44aa-a6ac-8bba92d4e03a",
   "metadata": {},
   "source": [
    "Since On-Demand Streaming (Ad-Supported) sales and CD sales are negatively correlated, (r=-0.93), we might be able to predict CD sales based on On-Demand Streaming sales using linear regression."
   ]
  },
  {
   "cell_type": "code",
   "execution_count": 159,
   "id": "c2c8eae5-7dd4-40d6-8878-2fdd5f1c8fb8",
   "metadata": {
    "collapsed": true,
    "jupyter": {
     "outputs_hidden": true
    },
    "tags": []
   },
   "outputs": [
    {
     "name": "stdout",
     "output_type": "stream",
     "text": [
      "     Value (Actual)\n",
      "294      129.340695\n",
      "295      190.339616\n",
      "296      242.396098\n",
      "297      306.475448\n",
      "298      401.245264\n",
      "299      521.288175\n",
      "300      686.918081\n",
      "301      773.294917\n",
      "302      908.149331\n",
      "    Value (Actual)\n",
      "38     3524.136143\n",
      "39     2767.776149\n",
      "40     2349.534897\n",
      "41     1918.215115\n",
      "42     1558.633452\n",
      "43     1204.497778\n",
      "44     1102.774352\n",
      "45      711.041239\n",
      "46      614.509780\n"
     ]
    }
   ],
   "source": [
    "OD = adjusted_2011_on[adjusted_2011_on[\"Format\"] == 'On-Demand Streaming (Ad-Supported)'][['Value (Actual)']]\n",
    "CD2 = adjusted_2011_on[adjusted_2011_on[\"Format\"] == 'CD'][['Value (Actual)']]\n",
    "print (OD)\n",
    "print (CD2)"
   ]
  },
  {
   "cell_type": "code",
   "execution_count": 160,
   "id": "c933cbb3-4a1d-4277-8722-50be85b6a8df",
   "metadata": {},
   "outputs": [],
   "source": [
    "reg = LinearRegression().fit(OD, CD2)"
   ]
  },
  {
   "cell_type": "code",
   "execution_count": 161,
   "id": "a4dff9b2-e959-4e1a-96a0-81d73e35825a",
   "metadata": {},
   "outputs": [
    {
     "data": {
      "text/plain": [
       "array([[-3.30941107]])"
      ]
     },
     "execution_count": 161,
     "metadata": {},
     "output_type": "execute_result"
    }
   ],
   "source": [
    "reg.coef_"
   ]
  },
  {
   "cell_type": "code",
   "execution_count": 162,
   "id": "5d469790-4e54-4cc1-85cb-6d27567ca348",
   "metadata": {},
   "outputs": [
    {
     "data": {
      "text/plain": [
       "array([3279.60454803])"
      ]
     },
     "execution_count": 162,
     "metadata": {},
     "output_type": "execute_result"
    }
   ],
   "source": [
    "reg.intercept_"
   ]
  },
  {
   "cell_type": "code",
   "execution_count": 163,
   "id": "1d91ba41-e8a1-40bc-b22b-1de85898328f",
   "metadata": {},
   "outputs": [],
   "source": [
    "ytrain = reg.intercept_ + reg.coef_ * OD"
   ]
  },
  {
   "cell_type": "code",
   "execution_count": 165,
   "id": "b522fd81-4e67-4319-ba95-6a37ba86d9e8",
   "metadata": {},
   "outputs": [
    {
     "data": {
      "text/plain": [
       "Text(0, 0.5, 'CD Sales')"
      ]
     },
     "execution_count": 165,
     "metadata": {},
     "output_type": "execute_result"
    },
    {
     "data": {
      "image/png": "[encoded data removed]",
      "text/plain": [
       "<Figure size 648x360 with 1 Axes>"
      ]
     },
     "metadata": {
      "needs_background": "light"
     },
     "output_type": "display_data"
    }
   ],
   "source": [
    "figure(figsize=(9, 5))\n",
    "plt.plot(OD,CD2,'ro',OD,ytrain,'b-')\n",
    "\n",
    "plt.title(\"On-Demand Streaming vs CD\")\n",
    "plt.xlabel(\"On-Demand Streaming (Ad-Supported) Sales\")\n",
    "plt.ylabel(\"CD Sales\")"
   ]
  },
  {
   "cell_type": "code",
   "execution_count": 168,
   "id": "2fb45034-d747-4ff0-a3a4-36cbcb659451",
   "metadata": {},
   "outputs": [
    {
     "data": {
      "text/plain": [
       "111707.23908765972"
      ]
     },
     "execution_count": 168,
     "metadata": {},
     "output_type": "execute_result"
    }
   ],
   "source": [
    "mean_squared_error(CD2, ytrain)"
   ]
  },
  {
   "cell_type": "code",
   "execution_count": 169,
   "id": "32b29a65-bd46-4953-98f3-9e6018fd0c9a",
   "metadata": {},
   "outputs": [
    {
     "data": {
      "text/plain": [
       "0.8693148667917903"
      ]
     },
     "execution_count": 169,
     "metadata": {},
     "output_type": "execute_result"
    }
   ],
   "source": [
    "r2_score(CD2, ytrain)"
   ]
  },
  {
   "cell_type": "markdown",
   "id": "4ce5ca76-40f5-4c46-afd3-f0afac5add70",
   "metadata": {},
   "source": [
    "While the mean squared error value is quite high, the R-squared of 0.87 implies that the regression line sufficiently fits the data. Therefore, **we can use On-Demand Streaming Sales to predict CD Sales** using this regression line."
   ]
  },
  {
   "cell_type": "markdown",
   "id": "c1253290-1c82-4178-9e95-da1dd5edadf8",
   "metadata": {},
   "source": [
    "On-Demand Streaming (Ad-Supported) sales and Download Album sales are very negatively correlated, (r=-0.97). As a result, we might be able to use linear regression to predict On-Demand Streaming sales using Download Album sales."
   ]
  },
  {
   "cell_type": "code",
   "execution_count": 170,
   "id": "dbd4a9ea-cbdf-4294-b728-0188dbc628cc",
   "metadata": {
    "collapsed": true,
    "jupyter": {
     "outputs_hidden": true
    },
    "tags": []
   },
   "outputs": [
    {
     "name": "stdout",
     "output_type": "stream",
     "text": [
      "     Value (Actual)\n",
      "157     1217.030020\n",
      "158     1341.590983\n",
      "159     1352.202953\n",
      "160     1207.247578\n",
      "161     1148.145081\n",
      "162      925.232201\n",
      "163      697.237618\n",
      "164      508.704388\n",
      "165      394.533006\n",
      "     Value (Actual)\n",
      "294      129.340695\n",
      "295      190.339616\n",
      "296      242.396098\n",
      "297      306.475448\n",
      "298      401.245264\n",
      "299      521.288175\n",
      "300      686.918081\n",
      "301      773.294917\n",
      "302      908.149331\n"
     ]
    }
   ],
   "source": [
    "DA2 = adjusted_2011_on[adjusted_2011_on[\"Format\"] == 'Download Album'][['Value (Actual)']]\n",
    "OD = adjusted_2011_on[adjusted_2011_on[\"Format\"] == 'On-Demand Streaming (Ad-Supported)'][['Value (Actual)']]\n",
    "print (DA2)\n",
    "print (OD)"
   ]
  },
  {
   "cell_type": "code",
   "execution_count": 171,
   "id": "802f98a6-9805-49d1-973d-0549f93bfdd7",
   "metadata": {},
   "outputs": [],
   "source": [
    "reg = LinearRegression().fit(DA2, OD)"
   ]
  },
  {
   "cell_type": "code",
   "execution_count": 172,
   "id": "31459fe7-3e9e-42d3-aa72-5448dd0af9bd",
   "metadata": {},
   "outputs": [
    {
     "data": {
      "text/plain": [
       "array([[-0.73982141]])"
      ]
     },
     "execution_count": 172,
     "metadata": {},
     "output_type": "execute_result"
    }
   ],
   "source": [
    "reg.coef_"
   ]
  },
  {
   "cell_type": "code",
   "execution_count": 173,
   "id": "56e67a05-4606-4599-b59c-f8214937a0c3",
   "metadata": {},
   "outputs": [
    {
     "data": {
      "text/plain": [
       "array([1184.87789656])"
      ]
     },
     "execution_count": 173,
     "metadata": {},
     "output_type": "execute_result"
    }
   ],
   "source": [
    "reg.intercept_"
   ]
  },
  {
   "cell_type": "code",
   "execution_count": 174,
   "id": "8d14d950-29a8-473c-96c5-ac15e266420c",
   "metadata": {},
   "outputs": [],
   "source": [
    "ytrain = reg.intercept_ + reg.coef_ * DA2"
   ]
  },
  {
   "cell_type": "code",
   "execution_count": 175,
   "id": "1ebc9d59-7183-4574-be66-58fdf4ee4631",
   "metadata": {},
   "outputs": [
    {
     "data": {
      "text/plain": [
       "Text(0, 0.5, 'On-Demand Streaming (Ad-Supported) Sales')"
      ]
     },
     "execution_count": 175,
     "metadata": {},
     "output_type": "execute_result"
    },
    {
     "data": {
      "image/png": "[encoded data removed]",
      "text/plain": [
       "<Figure size 648x360 with 1 Axes>"
      ]
     },
     "metadata": {
      "needs_background": "light"
     },
     "output_type": "display_data"
    }
   ],
   "source": [
    "figure(figsize=(9, 5))\n",
    "plt.plot(DA2,OD,'ro',DA2,ytrain,'b-')\n",
    "\n",
    "plt.title(\"Download Album vs On-Demand Streaming\")\n",
    "plt.xlabel(\"Download Album Sales\")\n",
    "plt.ylabel(\"On-Demand Streaming (Ad-Supported) Sales\")"
   ]
  },
  {
   "cell_type": "code",
   "execution_count": 176,
   "id": "a500e6ca-56fb-4809-83b9-bc81649505a2",
   "metadata": {},
   "outputs": [
    {
     "data": {
      "text/plain": [
       "3800.3429942908488"
      ]
     },
     "execution_count": 176,
     "metadata": {},
     "output_type": "execute_result"
    }
   ],
   "source": [
    "mean_squared_error(OD, ytrain)"
   ]
  },
  {
   "cell_type": "code",
   "execution_count": 177,
   "id": "dc5b47f4-7bc6-4a91-b907-eff9ec2f96dc",
   "metadata": {},
   "outputs": [
    {
     "data": {
      "text/plain": [
       "0.9439865933746077"
      ]
     },
     "execution_count": 177,
     "metadata": {},
     "output_type": "execute_result"
    }
   ],
   "source": [
    "r2_score(OD, ytrain)"
   ]
  },
  {
   "cell_type": "markdown",
   "id": "fea47d53-1dc7-4293-8745-310e51e6f115",
   "metadata": {},
   "source": [
    "The high R-squared value of 0.94 demonstrates that the regression line fits the data very well. As a result, **we should be able to predict On-Demand Streaming sales by looking at Download Album sales**."
   ]
  },
  {
   "cell_type": "markdown",
   "id": "99768555-1492-4bfa-a19b-517cc351ca1c",
   "metadata": {},
   "source": [
    "Lastly, CD Single sales and Download Single sales are also negatively correlated (r=-0.4). This correlation is on the lower end, but I am still going to perform linear regression to see if we can predict Download Single sales based on CD Single sales."
   ]
  },
  {
   "cell_type": "code",
   "execution_count": 179,
   "id": "623e0ea5-c16b-413a-a753-1c8ee71f3c7a",
   "metadata": {
    "collapsed": true,
    "jupyter": {
     "outputs_hidden": true
    },
    "tags": []
   },
   "outputs": [
    {
     "name": "stdout",
     "output_type": "stream",
     "text": [
      "    Value (Actual)\n",
      "63       20.300979\n",
      "64       14.268619\n",
      "65        9.764677\n",
      "66       15.045902\n",
      "67        4.156001\n",
      "68        3.694173\n",
      "69        3.400068\n",
      "70        3.977965\n",
      "71        3.591198\n",
      "72        2.684057\n",
      "73        3.905024\n",
      "74        1.291079\n",
      "75        0.280361\n",
      "76        1.542259\n",
      "77        0.157981\n",
      "78        0.181679\n",
      "     Value (Actual)\n",
      "181      186.769010\n",
      "182      475.577000\n",
      "183      736.282015\n",
      "184     1000.182475\n",
      "185     1225.664089\n",
      "186     1396.635564\n",
      "187     1566.845282\n",
      "188     1730.301179\n",
      "189     1831.258646\n",
      "190     1726.739156\n",
      "191     1463.655387\n",
      "192     1278.449595\n",
      "193      958.879103\n",
      "194      707.692711\n",
      "195      499.316974\n",
      "196      414.804251\n"
     ]
    }
   ],
   "source": [
    "CDS = adjusted_2004_on[adjusted_2004_on[\"Format\"] == 'CD Single'][['Value (Actual)']]\n",
    "DS = adjusted_2004_on[adjusted_2004_on[\"Format\"] == 'Download Single'][['Value (Actual)']]\n",
    "print (CDS)\n",
    "print (DS)"
   ]
  },
  {
   "cell_type": "code",
   "execution_count": 180,
   "id": "1bb2e901-22fe-43bc-9bf9-4eb37f64ec95",
   "metadata": {},
   "outputs": [],
   "source": [
    "reg = LinearRegression().fit(CDS, DS)"
   ]
  },
  {
   "cell_type": "code",
   "execution_count": 181,
   "id": "74f8ae03-2885-4a6e-8adc-f9a7fac77261",
   "metadata": {},
   "outputs": [
    {
     "data": {
      "text/plain": [
       "array([[-35.51411031]])"
      ]
     },
     "execution_count": 181,
     "metadata": {},
     "output_type": "execute_result"
    }
   ],
   "source": [
    "reg.coef_"
   ]
  },
  {
   "cell_type": "code",
   "execution_count": 182,
   "id": "d974a008-bbf2-4616-a600-2a1780cefc95",
   "metadata": {},
   "outputs": [
    {
     "data": {
      "text/plain": [
       "array([1270.80558653])"
      ]
     },
     "execution_count": 182,
     "metadata": {},
     "output_type": "execute_result"
    }
   ],
   "source": [
    "reg.intercept_"
   ]
  },
  {
   "cell_type": "code",
   "execution_count": 183,
   "id": "72d99d32-e54c-4822-9b75-1efb0331d3b4",
   "metadata": {},
   "outputs": [],
   "source": [
    "ytrain = reg.intercept_ + reg.coef_ * CDS"
   ]
  },
  {
   "cell_type": "code",
   "execution_count": 185,
   "id": "76956c23-34f1-4421-94a6-d1331ceaa01d",
   "metadata": {},
   "outputs": [
    {
     "data": {
      "text/plain": [
       "Text(0, 0.5, 'Download Single Sales')"
      ]
     },
     "execution_count": 185,
     "metadata": {},
     "output_type": "execute_result"
    },
    {
     "data": {
      "image/png": "[encoded data removed]",
      "text/plain": [
       "<Figure size 648x360 with 1 Axes>"
      ]
     },
     "metadata": {
      "needs_background": "light"
     },
     "output_type": "display_data"
    }
   ],
   "source": [
    "figure(figsize=(9, 5))\n",
    "plt.plot(CDS,DS,'ro',CDS,ytrain,'b-')\n",
    "\n",
    "plt.title(\"CD Single vs Download Single\")\n",
    "plt.xlabel(\"CD Single Sales\")\n",
    "plt.ylabel(\"Download Single Sales\")"
   ]
  },
  {
   "cell_type": "code",
   "execution_count": 186,
   "id": "41f59916-f68f-4297-b0a0-ea3afbb1c076",
   "metadata": {},
   "outputs": [
    {
     "data": {
      "text/plain": [
       "217432.7641589061"
      ]
     },
     "execution_count": 186,
     "metadata": {},
     "output_type": "execute_result"
    }
   ],
   "source": [
    "mean_squared_error(DS, ytrain)"
   ]
  },
  {
   "cell_type": "code",
   "execution_count": 187,
   "id": "5022ee3a-66cc-4216-b4d2-41ff8962dd78",
   "metadata": {},
   "outputs": [
    {
     "data": {
      "text/plain": [
       "0.16590044982021035"
      ]
     },
     "execution_count": 187,
     "metadata": {},
     "output_type": "execute_result"
    }
   ],
   "source": [
    "r2_score(DS, ytrain)"
   ]
  },
  {
   "cell_type": "markdown",
   "id": "c8612d91-71a2-4c8b-9837-c70b5a9a9b5d",
   "metadata": {},
   "source": [
    "As I predicted, the correlation between CD Single sales and Download Single sales isn't strong enough to create an accurate regression line. As indicated by the high mean squared error and low R-squared value, **Download Single sales cannot be predicted based on CD Single sales**."
   ]
  },
  {
   "cell_type": "markdown",
   "id": "d0162a0e-96b2-4f02-b40b-8ed74122262d",
   "metadata": {},
   "source": [
    "In summary, the linear regression analysis revealed that a few of the sales formats have a strong enough correlation that sales of one can predict sales of the other. The results revealed that: Limited Tier Paid Subscription sales can be predicted based on Other Ad-Supported Streaming sales, On-Demand Streaming sales can be predicted based on Paid Subscription sales, and Download Album sales can be predicted by looking at Download Single sales. As a result, we can expect that if one of the sales formats sees an increase in sales and popularity, the correlated sales format will also see an increase in sales and popularity. Similarly, if one sales format sees a decrease in sales, then the correlated sales format will most likely also see a decrease in sales. \n",
    "\n",
    "For the negatively correlated formats, the linear regression analysis revealed that: CD sales can be predicted using On-Demand Streaming sales, and On-Demand Streaming sales can be predicted by looking at Download Album sales. More specifically, a decrease in CD sales can be predicted by an increase in On-Demand Streaming sales and an increase in On-Demand Streaming sales can be predicted by a decrease in Download Album sales."
   ]
  },
  {
   "cell_type": "markdown",
   "id": "5d87b55f-ee8d-405f-b224-c16dcb4c0d06",
   "metadata": {},
   "source": [
    "### Growth Rate Analysis"
   ]
  },
  {
   "cell_type": "markdown",
   "id": "fda8faac-bd03-4fb8-8820-fd46f3342b01",
   "metadata": {},
   "source": [
    "As a last step in my analysis, I am going to look at the growth rates of popular sales formats in 2019. This information will help to predict which formats might have high growth in the near future."
   ]
  },
  {
   "cell_type": "markdown",
   "id": "f3e06de0-f8af-4eca-8a3e-37ed666dc17b",
   "metadata": {},
   "source": [
    "Popular sales formats in recent years include: Other Ad-Supported Streaming, Paid Subscription, Synchronization, On-Demand Streaming (Ad-Supported), Limited Tier Paid Subscription, Other Digital Sales, SoundExchange Distributions, CDs, LP/EP, Download Single, and Download Album."
   ]
  },
  {
   "cell_type": "markdown",
   "id": "edd8617d-d34f-4c75-bac4-414c2adce8ed",
   "metadata": {},
   "source": [
    "Other Ad-Supported Streaming:"
   ]
  },
  {
   "cell_type": "code",
   "execution_count": 189,
   "id": "a070a345-1832-40f0-83f3-6cce44fd7cf7",
   "metadata": {},
   "outputs": [
    {
     "data": {
      "text/plain": [
       "303         NaN\n",
       "304    2.154362\n",
       "305   -0.062529\n",
       "306   -0.019154\n",
       "Name: Value (Actual), dtype: float64"
      ]
     },
     "execution_count": 189,
     "metadata": {},
     "output_type": "execute_result"
    }
   ],
   "source": [
    "format_dfs[2]['Value (Actual)'].pct_change(periods=1)"
   ]
  },
  {
   "cell_type": "markdown",
   "id": "013ae633-de9e-4a19-9579-d6495fc3d99b",
   "metadata": {},
   "source": [
    "In 2019, **Other Ad-Supported Streaming sales decreased by 1.9%.**"
   ]
  },
  {
   "cell_type": "markdown",
   "id": "27c3200a-9e93-4218-ba77-6fcc68c01ae5",
   "metadata": {},
   "source": [
    "Paid Subscription:"
   ]
  },
  {
   "cell_type": "code",
   "execution_count": 125,
   "id": "1b2b4d0f-2fda-4fd6-a0ab-a3d684157527",
   "metadata": {},
   "outputs": [
    {
     "data": {
      "text/plain": [
       "315         NaN\n",
       "316    0.338849\n",
       "317    0.103617\n",
       "318   -0.089016\n",
       "319   -0.065329\n",
       "320    0.013445\n",
       "321    0.130967\n",
       "322    0.581013\n",
       "323    0.585559\n",
       "324    0.178216\n",
       "325    0.499911\n",
       "326    0.915951\n",
       "327    0.527315\n",
       "328    0.298356\n",
       "329    0.251895\n",
       "Name: Value (Actual), dtype: float64"
      ]
     },
     "execution_count": 125,
     "metadata": {},
     "output_type": "execute_result"
    }
   ],
   "source": [
    "format_dfs[3]['Value (Actual)'].pct_change(periods=1)"
   ]
  },
  {
   "cell_type": "markdown",
   "id": "926c4b80-5ede-4ad5-8224-8003220c941b",
   "metadata": {},
   "source": [
    "In  2019, **Paid Subscription sales increased by 25%.**"
   ]
  },
  {
   "cell_type": "markdown",
   "id": "9dea6482-f9c4-4679-9481-2f9da6283bfb",
   "metadata": {},
   "source": [
    "Synchronization:"
   ]
  },
  {
   "cell_type": "code",
   "execution_count": 128,
   "id": "fd99568f-1360-43e9-af47-34a234d9aa7b",
   "metadata": {},
   "outputs": [
    {
     "data": {
      "text/plain": [
       "378         NaN\n",
       "379   -0.077263\n",
       "380    0.009471\n",
       "381   -0.049703\n",
       "382   -0.019185\n",
       "383   -0.015788\n",
       "384    0.068425\n",
       "385    0.045471\n",
       "386    0.057748\n",
       "387    0.200872\n",
       "388   -0.049622\n",
       "Name: Value (Actual), dtype: float64"
      ]
     },
     "execution_count": 128,
     "metadata": {},
     "output_type": "execute_result"
    }
   ],
   "source": [
    "format_dfs[4]['Value (Actual)'].pct_change(periods=1)"
   ]
  },
  {
   "cell_type": "markdown",
   "id": "aa0f6229-fa6e-41fc-a7ae-41584ad53f39",
   "metadata": {},
   "source": [
    "In 2019, **Synchronization sales decreased by 4.96%.**"
   ]
  },
  {
   "cell_type": "markdown",
   "id": "6dcf3177-4363-4366-8d2c-0237fe68a6d3",
   "metadata": {},
   "source": [
    "On-Demand Streaming (Ad-Supported):"
   ]
  },
  {
   "cell_type": "code",
   "execution_count": 191,
   "id": "60bc8c3e-ef47-4537-8c49-dc9218ae8a0a",
   "metadata": {},
   "outputs": [
    {
     "data": {
      "text/plain": [
       "294         NaN\n",
       "295    0.471614\n",
       "296    0.273493\n",
       "297    0.264358\n",
       "298    0.309225\n",
       "299    0.299176\n",
       "300    0.317732\n",
       "301    0.125745\n",
       "302    0.174389\n",
       "Name: Value (Actual), dtype: float64"
      ]
     },
     "execution_count": 191,
     "metadata": {},
     "output_type": "execute_result"
    }
   ],
   "source": [
    "format_dfs[6]['Value (Actual)'].pct_change(periods=1)"
   ]
  },
  {
   "cell_type": "markdown",
   "id": "d676f89c-a0b1-486c-bf79-744197601db5",
   "metadata": {},
   "source": [
    "In 2019, **On-Demand Streaming (Ad-Supported) sales increased by 17.4%.**"
   ]
  },
  {
   "cell_type": "markdown",
   "id": "638f583e-2ebf-42cd-9a4f-1b5b04e9e027",
   "metadata": {},
   "source": [
    "Limited Tier Paid Subscription:"
   ]
  },
  {
   "cell_type": "code",
   "execution_count": 134,
   "id": "448dae75-a661-4234-8eb8-81258ccce4c8",
   "metadata": {},
   "outputs": [
    {
     "data": {
      "text/plain": [
       "259         NaN\n",
       "260    1.199471\n",
       "261    0.232661\n",
       "262    0.090597\n",
       "Name: Value (Actual), dtype: float64"
      ]
     },
     "execution_count": 134,
     "metadata": {},
     "output_type": "execute_result"
    }
   ],
   "source": [
    "format_dfs[7]['Value (Actual)'].pct_change(periods=1)"
   ]
  },
  {
   "cell_type": "markdown",
   "id": "447ee9fa-5f32-44e6-b850-fa9f0b8b970e",
   "metadata": {},
   "source": [
    "In 2019, **Limited Tier Paid Subscription sales increased by 9.1%.**"
   ]
  },
  {
   "cell_type": "markdown",
   "id": "aa36ba89-b799-42b5-8960-0136545d809c",
   "metadata": {},
   "source": [
    "Other Digital:"
   ]
  },
  {
   "cell_type": "code",
   "execution_count": 137,
   "id": "4215bb49-0595-49a0-afee-58e72fc6beee",
   "metadata": {},
   "outputs": [
    {
     "data": {
      "text/plain": [
       "307         NaN\n",
       "308   -0.035514\n",
       "309    0.146960\n",
       "310    0.065256\n",
       "Name: Value (Actual), dtype: float64"
      ]
     },
     "execution_count": 137,
     "metadata": {},
     "output_type": "execute_result"
    }
   ],
   "source": [
    "format_dfs[16]['Value (Actual)'].pct_change(periods=1)"
   ]
  },
  {
   "cell_type": "markdown",
   "id": "b4a83261-9265-4bb4-9e0b-c45a35e41b7d",
   "metadata": {},
   "source": [
    "In 2019, **Other Digital sales increased by 6.5%.**"
   ]
  },
  {
   "cell_type": "markdown",
   "id": "38cbd140-fc5d-4d83-a0c7-26d3d88a0ccc",
   "metadata": {},
   "source": [
    "SoundExchange Distributions:"
   ]
  },
  {
   "cell_type": "code",
   "execution_count": 140,
   "id": "c9b3e055-ad44-465d-85d2-13781d479173",
   "metadata": {},
   "outputs": [
    {
     "data": {
      "text/plain": [
       "362         NaN\n",
       "363    1.859636\n",
       "364    0.557598\n",
       "365    0.073312\n",
       "366    1.659749\n",
       "367    0.560552\n",
       "368    0.576710\n",
       "369    0.135895\n",
       "370    0.550113\n",
       "371    0.259474\n",
       "372    0.289049\n",
       "373    0.036525\n",
       "374    0.087576\n",
       "375   -0.277747\n",
       "376    0.426508\n",
       "377   -0.063774\n",
       "Name: Value (Actual), dtype: float64"
      ]
     },
     "execution_count": 140,
     "metadata": {},
     "output_type": "execute_result"
    }
   ],
   "source": [
    "format_dfs[18]['Value (Actual)'].pct_change(periods=1)"
   ]
  },
  {
   "cell_type": "markdown",
   "id": "a7d826d4-be23-44af-aa2b-1cce4c064a33",
   "metadata": {},
   "source": [
    "In 2019, **SoundExchange Distributions sales decreased by 6.4%.**"
   ]
  },
  {
   "cell_type": "markdown",
   "id": "3934fb8a-40f4-4579-b2a9-d1462347cc31",
   "metadata": {},
   "source": [
    "CDs:"
   ]
  },
  {
   "cell_type": "code",
   "execution_count": 194,
   "id": "eeb07600-c9fa-46d9-b825-697770a30234",
   "metadata": {
    "collapsed": true,
    "jupyter": {
     "outputs_hidden": true
    },
    "tags": []
   },
   "outputs": [
    {
     "data": {
      "text/plain": [
       "10         NaN\n",
       "11    4.757258\n",
       "12    2.640914\n",
       "13    1.344358\n",
       "14    0.653034\n",
       "15    0.259331\n",
       "16    0.181276\n",
       "17    0.265472\n",
       "18    0.205973\n",
       "19    0.192070\n",
       "20    0.186922\n",
       "21    0.267496\n",
       "22    0.077319\n",
       "23    0.029045\n",
       "24   -0.024359\n",
       "25    0.133716\n",
       "26    0.098402\n",
       "27   -0.002461\n",
       "28   -0.050117\n",
       "29   -0.081550\n",
       "30   -0.088134\n",
       "31   -0.007417\n",
       "32   -0.111043\n",
       "33   -0.136926\n",
       "34   -0.226747\n",
       "35   -0.293114\n",
       "36   -0.207826\n",
       "37   -0.227864\n",
       "38   -0.113170\n",
       "39   -0.214623\n",
       "40   -0.151111\n",
       "41   -0.183577\n",
       "42   -0.187456\n",
       "43   -0.227209\n",
       "44   -0.084453\n",
       "45   -0.355225\n",
       "46   -0.135761\n",
       "Name: Value (Actual), dtype: float64"
      ]
     },
     "execution_count": 194,
     "metadata": {},
     "output_type": "execute_result"
    }
   ],
   "source": [
    "format_dfs[10]['Value (Actual)'].pct_change(periods=1)"
   ]
  },
  {
   "cell_type": "markdown",
   "id": "9e0ceb4e-8149-4c47-9e22-7db9458b5b84",
   "metadata": {},
   "source": [
    "In 2019, **CD sales decreased by 13.6%.**"
   ]
  },
  {
   "cell_type": "markdown",
   "id": "69609b7b-a3b9-4ba1-a26c-4a0bbeec5533",
   "metadata": {},
   "source": [
    "LP/EP:"
   ]
  },
  {
   "cell_type": "code",
   "execution_count": 195,
   "id": "38a4196a-ef23-454a-988b-6198c852f7e1",
   "metadata": {
    "collapsed": true,
    "jupyter": {
     "outputs_hidden": true
    },
    "tags": []
   },
   "outputs": [
    {
     "data": {
      "text/plain": [
       "212         NaN\n",
       "213   -0.019884\n",
       "214    0.003532\n",
       "215    0.058853\n",
       "216    0.239372\n",
       "217    0.047243\n",
       "218   -0.253090\n",
       "219   -0.057681\n",
       "220   -0.035123\n",
       "221   -0.225612\n",
       "222   -0.149950\n",
       "223   -0.120958\n",
       "224   -0.201661\n",
       "225   -0.246340\n",
       "226   -0.221593\n",
       "227   -0.355622\n",
       "228   -0.605086\n",
       "229   -0.627482\n",
       "230   -0.673841\n",
       "231   -0.554235\n",
       "232   -0.237637\n",
       "233    0.637321\n",
       "234    0.371251\n",
       "235    0.424086\n",
       "236   -0.115405\n",
       "237    0.005361\n",
       "238   -0.084916\n",
       "239   -0.157258\n",
       "240   -0.038199\n",
       "241   -0.263470\n",
       "242    0.034950\n",
       "243   -0.133670\n",
       "244   -0.288359\n",
       "245    0.071083\n",
       "246    0.418493\n",
       "247    1.383948\n",
       "248    0.129238\n",
       "249    0.370930\n",
       "250    0.301985\n",
       "251    0.318797\n",
       "252    0.292265\n",
       "253    0.138633\n",
       "254    0.365548\n",
       "255    0.052862\n",
       "256    0.070270\n",
       "257    0.053325\n",
       "258    0.165805\n",
       "Name: Value (Actual), dtype: float64"
      ]
     },
     "execution_count": 195,
     "metadata": {},
     "output_type": "execute_result"
    }
   ],
   "source": [
    "format_dfs[19]['Value (Actual)'].pct_change(periods=1)"
   ]
  },
  {
   "cell_type": "markdown",
   "id": "a7a8128a-0884-4213-a19a-ac2f44702f4f",
   "metadata": {},
   "source": [
    "In 2019, **LP/EP sales increased by 16.6%.**"
   ]
  },
  {
   "cell_type": "markdown",
   "id": "b296bb90-e90b-4ac3-a794-8d0c13c4f6ba",
   "metadata": {},
   "source": [
    "Download Single:"
   ]
  },
  {
   "cell_type": "code",
   "execution_count": 196,
   "id": "62df88a2-fc34-4920-bd5a-98602462fb29",
   "metadata": {},
   "outputs": [
    {
     "data": {
      "text/plain": [
       "181         NaN\n",
       "182    1.546338\n",
       "183    0.548187\n",
       "184    0.358423\n",
       "185    0.225440\n",
       "186    0.139493\n",
       "187    0.121871\n",
       "188    0.104322\n",
       "189    0.058347\n",
       "190   -0.057075\n",
       "191   -0.152359\n",
       "192   -0.126536\n",
       "193   -0.249967\n",
       "194   -0.261958\n",
       "195   -0.294444\n",
       "196   -0.169257\n",
       "Name: Value (Actual), dtype: float64"
      ]
     },
     "execution_count": 196,
     "metadata": {},
     "output_type": "execute_result"
    }
   ],
   "source": [
    "format_dfs[20]['Value (Actual)'].pct_change(periods=1)"
   ]
  },
  {
   "cell_type": "markdown",
   "id": "58d5e478-48a0-4858-98fc-14e2e2a36cc1",
   "metadata": {},
   "source": [
    "In 2019, **Download Single sales decreased by 16.9%.**"
   ]
  },
  {
   "cell_type": "markdown",
   "id": "ee823292-e089-4fa2-bc8c-d97c122a140e",
   "metadata": {},
   "source": [
    "Download Album:"
   ]
  },
  {
   "cell_type": "code",
   "execution_count": 199,
   "id": "4c01c96f-0fcf-4137-9a7b-f109da16f929",
   "metadata": {},
   "outputs": [
    {
     "data": {
      "text/plain": [
       "150         NaN\n",
       "151    1.884683\n",
       "152    0.969625\n",
       "153    0.753256\n",
       "154    0.229765\n",
       "155    0.175756\n",
       "156    0.153192\n",
       "157    0.189860\n",
       "158    0.102348\n",
       "159    0.007910\n",
       "160   -0.107199\n",
       "161   -0.048956\n",
       "162   -0.194150\n",
       "163   -0.246419\n",
       "164   -0.270400\n",
       "165   -0.224436\n",
       "Name: Value (Actual), dtype: float64"
      ]
     },
     "execution_count": 199,
     "metadata": {},
     "output_type": "execute_result"
    }
   ],
   "source": [
    "format_dfs[1]['Value (Actual)'].pct_change(periods=1)"
   ]
  },
  {
   "cell_type": "markdown",
   "id": "bb110f94-e0a6-4ea2-bb6d-1b10331fda39",
   "metadata": {},
   "source": [
    "In 2019, **Download Album sales decreased by 22.4%.**"
   ]
  },
  {
   "cell_type": "markdown",
   "id": "86849d26-f571-47d1-aa4c-ffb8c85b5461",
   "metadata": {},
   "source": [
    "By looking at the sales growth rates for each sales format in 2019, we are able to see which formats have increasing sales and which have decreasing sales. If we assume these trends will continue into the near future, we can predict which sales formats will be most popular going forward as well as which formats are being used less. \n",
    "\n",
    "Sales formats that saw positive growth in 2019 include Paid Subscription sales, On-Demand Streaming (Ad-Supported) sales, LP/EP sales, Limited Tier Paid Subscription sales, and Other Digital sales. As a result, I expect that these sales formats will continue to increase in the near future and they will eventually make up the majority of all music industry sales. Paid Subscription services not only had the highest sales of all the formats in 2018, but also saw the largest increase in sales in 2019, increasing 25%. Looking at the sales formats that are increasing in popularity, we can see that streaming services, both paid and free, are taking over the music industry as the most popular way to consume music. In addition to streaming services, it seems that LP albums and EP albums are also making a comeback in terms of popularity. \n",
    "\n",
    "Sales formats that saw negative growth in 2019 include Download Album sales, Download Single sales, CD sales, SoundExchange Distributions sales, Synchronization sales, and Other Ad-Supported Streaming sales. It is reasonable to assume that the majority of these formats are decreasing in popularity and thus sales in these formats will continue to decrease into the future. Download Album, Download Single, and CD sales saw the largest decrease by far, demonstrating that consumers are steering away from downloading music or buying \"hard copies\". Instead, consumers are getting their music from streaming services like Spotify, Apple Music, and Pandora or opting to buy LP/EP albums instead. "
   ]
  },
  {
   "cell_type": "markdown",
   "id": "07c155ce-a861-406a-89e2-f1685c1c726d",
   "metadata": {},
   "source": [
    "## Discussion "
   ]
  },
  {
   "cell_type": "markdown",
   "id": "0364e809-797d-468d-aa12-7318775786ba",
   "metadata": {},
   "source": [
    "Through my analysis, I revealed how music industry sales have changed since 1973 and especially throughout the 2000's. Music industry sales have been greatly affected by technology, as consumers now have access to a plethora of music formats that didn't even exist 15 years ago. My analysis revealed which music sale formats have been strongly correlated in the 2000s and which formats have been strongly anti-correlated. Since correlation doesn't imply causation, I cannot say that certain formats led to the demise of other formats. But, it is interesting to see how the rise of new formats is correlated to the decline of more traditional music formats. In my correlation analysis, I found that streaming formats were highly correlated with other streaming formats, meaning that sales of both increased similarly during the 2000s. More specifically, I found: \n",
    "\n",
    "(1) Other Ad-Supported Streaming and Limited Tier Paid Subscription sales to be highly correlated,\n",
    "\n",
    "(2) Paid Subscription and On-Demand Streaming (Ad-Supported) sales to be highly correlated,\n",
    "\n",
    "(3) On-Demand Streaming (Ad-Supported) and Other Ad-Supported Streaming sales to be highly correlated,\n",
    "\n",
    "(4) Paid Subscription and SoundExchange Distributions sales to be highly correlated, and\n",
    "\n",
    "(5) Download Album and Download Single sales to be highly correlated.\n",
    "\n",
    "In contrast, I found that streaming formats were very anti-correlated with older sales formats. While these streaming formats saw increased sales throughout the 2000's, the older sales formats had large decreases in sales. To be specific, I found: \n",
    "\n",
    "(1) Paid Subscription and CD sales to be moderately anti-correlated,\n",
    "\n",
    "(2) On-Demand Streaming (Ad-Supported) and CD sales to be very anti-correlated,\n",
    "\n",
    "(3) Paid Subscription and Cassette sales to be very anti-correlated,\n",
    "\n",
    "(4) On-Demand Streaming (Ad-Supported) and Download Album sales to be very anti-correlated, and\n",
    "\n",
    "(5) CD Single and Download Single sales to be moderately anti-correlated.\n",
    "\n",
    "My analysis also reveals where music industry sales may be focused in the future. Plotting the different sales formats revealed that a number of them have been steadily increasing in recent years. The formats that have seen increasing sales over the past few years are \n",
    "\n",
    "(1) Synchronizations, \n",
    "\n",
    "(2) Paid Subscriptions, \n",
    "\n",
    "(3) On-Demand Streaming (Ad-Supported),\n",
    "\n",
    "(4) Limited Tier Paid Subscriptions,\n",
    "\n",
    "(5) Other Digital,\n",
    "\n",
    "(6) SoundExchange Distributions, and\n",
    "\n",
    "(7) LP/EP. \n",
    "\n",
    "Formats that have seen decreasing sales over the past few years include:\n",
    "\n",
    "(1) Download Music Video,\n",
    "\n",
    "(2) Download Album,\n",
    "\n",
    "(3) Other Ad-Supported Streaming,\n",
    "\n",
    "(4) Ringtones and Ringbacks,\n",
    "\n",
    "(5) CDs,\n",
    "\n",
    "(6) Vinyl Singles,\n",
    "\n",
    "(7) CD Singles,\n",
    "\n",
    "(8) Kiosks,\n",
    "\n",
    "(9) DVD Audios,\n",
    "\n",
    "(10) SACDs,\n",
    "\n",
    "(11) Download Single, and\n",
    "\n",
    "(12) Music Video (Physical).\n",
    "\n",
    "It is clear that sales are shifting away from traditional sales formats like owning an album to technology-based formats like streaming an album. Additionally, it appears that consumers like the flexibility streaming platforms provide to jump from one artist to another, without having to commit to a whole album. As a result, I would advise artists and managers to shift away from these formats. Instead of focusing on promoting an album in order to increase album sales, artists should focus their strategy and marketing efforts on streaming platforms. By putting their music on platforms like Spotify and Apple Music, artists will not only expose their music to a wider audience but also put themselves in a better place to make sales. \n",
    "\n",
    "My analysis also demonstrated how quickly popularity of music sales formats shifts. These new sales formats that are seeing high growth now will probably continue to grow into the near future, but as even newer formats are made available, they too will begin to see decreased sales. Therefore, it is imperative that people in the music industry monitor new technologies and changes in the landscapes so they can stay on top of new trends. My correlation and linear regression analysis revealed which formats's sales are closely correlated. In the future, if we begin to see a decrease in a particular sales format, we should be cautious of a decrease in the correlated sales format as well. In conclusion, my analysis provided insight into the past and future of music industry sales. This analysis is of interest to me as I feel I now have a much stronger understanding of the music industry sales landscape and where the industry is heading in the future. With this knowledge, artists, managers, and others working in the industry can hopefully better focus their marketing and predict potential sales avenues. "
   ]
  },
  {
   "cell_type": "code",
   "execution_count": null,
   "id": "329d4d0d-eed1-49ad-bc76-8e3e85c69a0f",
   "metadata": {},
   "outputs": [],
   "source": []
  }
 ],
 "metadata": {
  "kernelspec": {
   "display_name": "Python 3 (ipykernel)",
   "language": "python",
   "name": "python3"
  },
  "language_info": {
   "codemirror_mode": {
    "name": "ipython",
    "version": 3
   },
   "file_extension": ".py",
   "mimetype": "text/x-python",
   "name": "python",
   "nbconvert_exporter": "python",
   "pygments_lexer": "ipython3",
   "version": "3.9.6"
  }
 },
 "nbformat": 4,
 "nbformat_minor": 5
}
